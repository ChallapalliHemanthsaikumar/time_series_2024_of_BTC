{
  "nbformat": 4,
  "nbformat_minor": 0,
  "metadata": {
    "colab": {
      "provenance": [],
      "machine_shape": "hm",
      "authorship_tag": "ABX9TyPSpwMJ9FrKKWVqSAJ9vfKw",
      "include_colab_link": true
    },
    "kernelspec": {
      "name": "python3",
      "display_name": "Python 3"
    },
    "language_info": {
      "name": "python"
    }
  },
  "cells": [
    {
      "cell_type": "markdown",
      "metadata": {
        "id": "view-in-github",
        "colab_type": "text"
      },
      "source": [
        "<a href=\"https://colab.research.google.com/github/ChallapalliHemanthsaikumar/time_series_2024_of_BTC/blob/main/BTC_Price.ipynb\" target=\"_parent\"><img src=\"https://colab.research.google.com/assets/colab-badge.svg\" alt=\"Open In Colab\"/></a>"
      ]
    },
    {
      "cell_type": "code",
      "execution_count": 1,
      "metadata": {
        "colab": {
          "base_uri": "https://localhost:8080/"
        },
        "id": "dAyx_9497dxT",
        "outputId": "68a8cbc8-ecc0-4982-b403-05089a590a45"
      },
      "outputs": [
        {
          "output_type": "stream",
          "name": "stdout",
          "text": [
            "Requirement already satisfied: yfinance in /usr/local/lib/python3.10/dist-packages (0.2.37)\n",
            "Requirement already satisfied: pandas>=1.3.0 in /usr/local/lib/python3.10/dist-packages (from yfinance) (2.0.3)\n",
            "Requirement already satisfied: numpy>=1.16.5 in /usr/local/lib/python3.10/dist-packages (from yfinance) (1.25.2)\n",
            "Requirement already satisfied: requests>=2.31 in /usr/local/lib/python3.10/dist-packages (from yfinance) (2.31.0)\n",
            "Requirement already satisfied: multitasking>=0.0.7 in /usr/local/lib/python3.10/dist-packages (from yfinance) (0.0.11)\n",
            "Requirement already satisfied: lxml>=4.9.1 in /usr/local/lib/python3.10/dist-packages (from yfinance) (4.9.4)\n",
            "Requirement already satisfied: appdirs>=1.4.4 in /usr/local/lib/python3.10/dist-packages (from yfinance) (1.4.4)\n",
            "Requirement already satisfied: pytz>=2022.5 in /usr/local/lib/python3.10/dist-packages (from yfinance) (2023.4)\n",
            "Requirement already satisfied: frozendict>=2.3.4 in /usr/local/lib/python3.10/dist-packages (from yfinance) (2.4.1)\n",
            "Requirement already satisfied: peewee>=3.16.2 in /usr/local/lib/python3.10/dist-packages (from yfinance) (3.17.1)\n",
            "Requirement already satisfied: beautifulsoup4>=4.11.1 in /usr/local/lib/python3.10/dist-packages (from yfinance) (4.12.3)\n",
            "Requirement already satisfied: html5lib>=1.1 in /usr/local/lib/python3.10/dist-packages (from yfinance) (1.1)\n",
            "Requirement already satisfied: soupsieve>1.2 in /usr/local/lib/python3.10/dist-packages (from beautifulsoup4>=4.11.1->yfinance) (2.5)\n",
            "Requirement already satisfied: six>=1.9 in /usr/local/lib/python3.10/dist-packages (from html5lib>=1.1->yfinance) (1.16.0)\n",
            "Requirement already satisfied: webencodings in /usr/local/lib/python3.10/dist-packages (from html5lib>=1.1->yfinance) (0.5.1)\n",
            "Requirement already satisfied: python-dateutil>=2.8.2 in /usr/local/lib/python3.10/dist-packages (from pandas>=1.3.0->yfinance) (2.8.2)\n",
            "Requirement already satisfied: tzdata>=2022.1 in /usr/local/lib/python3.10/dist-packages (from pandas>=1.3.0->yfinance) (2024.1)\n",
            "Requirement already satisfied: charset-normalizer<4,>=2 in /usr/local/lib/python3.10/dist-packages (from requests>=2.31->yfinance) (3.3.2)\n",
            "Requirement already satisfied: idna<4,>=2.5 in /usr/local/lib/python3.10/dist-packages (from requests>=2.31->yfinance) (3.6)\n",
            "Requirement already satisfied: urllib3<3,>=1.21.1 in /usr/local/lib/python3.10/dist-packages (from requests>=2.31->yfinance) (2.0.7)\n",
            "Requirement already satisfied: certifi>=2017.4.17 in /usr/local/lib/python3.10/dist-packages (from requests>=2.31->yfinance) (2024.2.2)\n"
          ]
        }
      ],
      "source": [
        "!pip install yfinance"
      ]
    },
    {
      "cell_type": "code",
      "source": [
        "import yfinance as yf\n",
        "import pandas as pd\n",
        "import numpy as np\n",
        "import matplotlib.pyplot as plt\n",
        "import seaborn as sns"
      ],
      "metadata": {
        "id": "Ld-urHTI7q7r"
      },
      "execution_count": 2,
      "outputs": []
    },
    {
      "cell_type": "markdown",
      "source": [
        "### Writing a Function that downloads Data Until Yesterday Date\n"
      ],
      "metadata": {
        "id": "dZKEXKy2034r"
      }
    },
    {
      "cell_type": "code",
      "source": [
        "import datetime\n",
        "\n",
        "def date_return():\n",
        "  today = datetime.date.today()\n",
        "  years_ago =  today - datetime.timedelta(days= 14 * 365)\n",
        "  return years_ago,today\n",
        "\n",
        "def data_download(ticker,start,end):\n",
        "  data = yf.download(ticker,start,end)\n",
        "  return data\n",
        "\n",
        "####   Downloading the data\n",
        "\n",
        "ticker = \"BTC-USD\"\n",
        "start,end = date_return()\n",
        "btc_data = data_download(ticker,start,end)\n",
        "\n",
        "\n",
        "### Saving the Data as csv File\n",
        "\n",
        "btc_data.to_csv('btc_data.csv')\n",
        "btc_data.head()"
      ],
      "metadata": {
        "colab": {
          "base_uri": "https://localhost:8080/",
          "height": 255
        },
        "id": "B8PhVJNJ00AB",
        "outputId": "84235faf-633a-448a-e576-7985c04aed4a"
      },
      "execution_count": 3,
      "outputs": [
        {
          "output_type": "stream",
          "name": "stderr",
          "text": [
            "\r[*********************100%%**********************]  1 of 1 completed\n"
          ]
        },
        {
          "output_type": "execute_result",
          "data": {
            "text/plain": [
              "                  Open        High         Low       Close   Adj Close  \\\n",
              "Date                                                                     \n",
              "2014-09-17  465.864014  468.174011  452.421997  457.334015  457.334015   \n",
              "2014-09-18  456.859985  456.859985  413.104004  424.440002  424.440002   \n",
              "2014-09-19  424.102997  427.834991  384.532013  394.795990  394.795990   \n",
              "2014-09-20  394.673004  423.295990  389.882996  408.903992  408.903992   \n",
              "2014-09-21  408.084991  412.425995  393.181000  398.821014  398.821014   \n",
              "\n",
              "              Volume  \n",
              "Date                  \n",
              "2014-09-17  21056800  \n",
              "2014-09-18  34483200  \n",
              "2014-09-19  37919700  \n",
              "2014-09-20  36863600  \n",
              "2014-09-21  26580100  "
            ],
            "text/html": [
              "\n",
              "  <div id=\"df-4abceeed-285a-491f-92d3-f2ce93102fb7\" class=\"colab-df-container\">\n",
              "    <div>\n",
              "<style scoped>\n",
              "    .dataframe tbody tr th:only-of-type {\n",
              "        vertical-align: middle;\n",
              "    }\n",
              "\n",
              "    .dataframe tbody tr th {\n",
              "        vertical-align: top;\n",
              "    }\n",
              "\n",
              "    .dataframe thead th {\n",
              "        text-align: right;\n",
              "    }\n",
              "</style>\n",
              "<table border=\"1\" class=\"dataframe\">\n",
              "  <thead>\n",
              "    <tr style=\"text-align: right;\">\n",
              "      <th></th>\n",
              "      <th>Open</th>\n",
              "      <th>High</th>\n",
              "      <th>Low</th>\n",
              "      <th>Close</th>\n",
              "      <th>Adj Close</th>\n",
              "      <th>Volume</th>\n",
              "    </tr>\n",
              "    <tr>\n",
              "      <th>Date</th>\n",
              "      <th></th>\n",
              "      <th></th>\n",
              "      <th></th>\n",
              "      <th></th>\n",
              "      <th></th>\n",
              "      <th></th>\n",
              "    </tr>\n",
              "  </thead>\n",
              "  <tbody>\n",
              "    <tr>\n",
              "      <th>2014-09-17</th>\n",
              "      <td>465.864014</td>\n",
              "      <td>468.174011</td>\n",
              "      <td>452.421997</td>\n",
              "      <td>457.334015</td>\n",
              "      <td>457.334015</td>\n",
              "      <td>21056800</td>\n",
              "    </tr>\n",
              "    <tr>\n",
              "      <th>2014-09-18</th>\n",
              "      <td>456.859985</td>\n",
              "      <td>456.859985</td>\n",
              "      <td>413.104004</td>\n",
              "      <td>424.440002</td>\n",
              "      <td>424.440002</td>\n",
              "      <td>34483200</td>\n",
              "    </tr>\n",
              "    <tr>\n",
              "      <th>2014-09-19</th>\n",
              "      <td>424.102997</td>\n",
              "      <td>427.834991</td>\n",
              "      <td>384.532013</td>\n",
              "      <td>394.795990</td>\n",
              "      <td>394.795990</td>\n",
              "      <td>37919700</td>\n",
              "    </tr>\n",
              "    <tr>\n",
              "      <th>2014-09-20</th>\n",
              "      <td>394.673004</td>\n",
              "      <td>423.295990</td>\n",
              "      <td>389.882996</td>\n",
              "      <td>408.903992</td>\n",
              "      <td>408.903992</td>\n",
              "      <td>36863600</td>\n",
              "    </tr>\n",
              "    <tr>\n",
              "      <th>2014-09-21</th>\n",
              "      <td>408.084991</td>\n",
              "      <td>412.425995</td>\n",
              "      <td>393.181000</td>\n",
              "      <td>398.821014</td>\n",
              "      <td>398.821014</td>\n",
              "      <td>26580100</td>\n",
              "    </tr>\n",
              "  </tbody>\n",
              "</table>\n",
              "</div>\n",
              "    <div class=\"colab-df-buttons\">\n",
              "\n",
              "  <div class=\"colab-df-container\">\n",
              "    <button class=\"colab-df-convert\" onclick=\"convertToInteractive('df-4abceeed-285a-491f-92d3-f2ce93102fb7')\"\n",
              "            title=\"Convert this dataframe to an interactive table.\"\n",
              "            style=\"display:none;\">\n",
              "\n",
              "  <svg xmlns=\"http://www.w3.org/2000/svg\" height=\"24px\" viewBox=\"0 -960 960 960\">\n",
              "    <path d=\"M120-120v-720h720v720H120Zm60-500h600v-160H180v160Zm220 220h160v-160H400v160Zm0 220h160v-160H400v160ZM180-400h160v-160H180v160Zm440 0h160v-160H620v160ZM180-180h160v-160H180v160Zm440 0h160v-160H620v160Z\"/>\n",
              "  </svg>\n",
              "    </button>\n",
              "\n",
              "  <style>\n",
              "    .colab-df-container {\n",
              "      display:flex;\n",
              "      gap: 12px;\n",
              "    }\n",
              "\n",
              "    .colab-df-convert {\n",
              "      background-color: #E8F0FE;\n",
              "      border: none;\n",
              "      border-radius: 50%;\n",
              "      cursor: pointer;\n",
              "      display: none;\n",
              "      fill: #1967D2;\n",
              "      height: 32px;\n",
              "      padding: 0 0 0 0;\n",
              "      width: 32px;\n",
              "    }\n",
              "\n",
              "    .colab-df-convert:hover {\n",
              "      background-color: #E2EBFA;\n",
              "      box-shadow: 0px 1px 2px rgba(60, 64, 67, 0.3), 0px 1px 3px 1px rgba(60, 64, 67, 0.15);\n",
              "      fill: #174EA6;\n",
              "    }\n",
              "\n",
              "    .colab-df-buttons div {\n",
              "      margin-bottom: 4px;\n",
              "    }\n",
              "\n",
              "    [theme=dark] .colab-df-convert {\n",
              "      background-color: #3B4455;\n",
              "      fill: #D2E3FC;\n",
              "    }\n",
              "\n",
              "    [theme=dark] .colab-df-convert:hover {\n",
              "      background-color: #434B5C;\n",
              "      box-shadow: 0px 1px 3px 1px rgba(0, 0, 0, 0.15);\n",
              "      filter: drop-shadow(0px 1px 2px rgba(0, 0, 0, 0.3));\n",
              "      fill: #FFFFFF;\n",
              "    }\n",
              "  </style>\n",
              "\n",
              "    <script>\n",
              "      const buttonEl =\n",
              "        document.querySelector('#df-4abceeed-285a-491f-92d3-f2ce93102fb7 button.colab-df-convert');\n",
              "      buttonEl.style.display =\n",
              "        google.colab.kernel.accessAllowed ? 'block' : 'none';\n",
              "\n",
              "      async function convertToInteractive(key) {\n",
              "        const element = document.querySelector('#df-4abceeed-285a-491f-92d3-f2ce93102fb7');\n",
              "        const dataTable =\n",
              "          await google.colab.kernel.invokeFunction('convertToInteractive',\n",
              "                                                    [key], {});\n",
              "        if (!dataTable) return;\n",
              "\n",
              "        const docLinkHtml = 'Like what you see? Visit the ' +\n",
              "          '<a target=\"_blank\" href=https://colab.research.google.com/notebooks/data_table.ipynb>data table notebook</a>'\n",
              "          + ' to learn more about interactive tables.';\n",
              "        element.innerHTML = '';\n",
              "        dataTable['output_type'] = 'display_data';\n",
              "        await google.colab.output.renderOutput(dataTable, element);\n",
              "        const docLink = document.createElement('div');\n",
              "        docLink.innerHTML = docLinkHtml;\n",
              "        element.appendChild(docLink);\n",
              "      }\n",
              "    </script>\n",
              "  </div>\n",
              "\n",
              "\n",
              "<div id=\"df-73912894-79fc-41c7-909a-c5e42b9132d8\">\n",
              "  <button class=\"colab-df-quickchart\" onclick=\"quickchart('df-73912894-79fc-41c7-909a-c5e42b9132d8')\"\n",
              "            title=\"Suggest charts\"\n",
              "            style=\"display:none;\">\n",
              "\n",
              "<svg xmlns=\"http://www.w3.org/2000/svg\" height=\"24px\"viewBox=\"0 0 24 24\"\n",
              "     width=\"24px\">\n",
              "    <g>\n",
              "        <path d=\"M19 3H5c-1.1 0-2 .9-2 2v14c0 1.1.9 2 2 2h14c1.1 0 2-.9 2-2V5c0-1.1-.9-2-2-2zM9 17H7v-7h2v7zm4 0h-2V7h2v10zm4 0h-2v-4h2v4z\"/>\n",
              "    </g>\n",
              "</svg>\n",
              "  </button>\n",
              "\n",
              "<style>\n",
              "  .colab-df-quickchart {\n",
              "      --bg-color: #E8F0FE;\n",
              "      --fill-color: #1967D2;\n",
              "      --hover-bg-color: #E2EBFA;\n",
              "      --hover-fill-color: #174EA6;\n",
              "      --disabled-fill-color: #AAA;\n",
              "      --disabled-bg-color: #DDD;\n",
              "  }\n",
              "\n",
              "  [theme=dark] .colab-df-quickchart {\n",
              "      --bg-color: #3B4455;\n",
              "      --fill-color: #D2E3FC;\n",
              "      --hover-bg-color: #434B5C;\n",
              "      --hover-fill-color: #FFFFFF;\n",
              "      --disabled-bg-color: #3B4455;\n",
              "      --disabled-fill-color: #666;\n",
              "  }\n",
              "\n",
              "  .colab-df-quickchart {\n",
              "    background-color: var(--bg-color);\n",
              "    border: none;\n",
              "    border-radius: 50%;\n",
              "    cursor: pointer;\n",
              "    display: none;\n",
              "    fill: var(--fill-color);\n",
              "    height: 32px;\n",
              "    padding: 0;\n",
              "    width: 32px;\n",
              "  }\n",
              "\n",
              "  .colab-df-quickchart:hover {\n",
              "    background-color: var(--hover-bg-color);\n",
              "    box-shadow: 0 1px 2px rgba(60, 64, 67, 0.3), 0 1px 3px 1px rgba(60, 64, 67, 0.15);\n",
              "    fill: var(--button-hover-fill-color);\n",
              "  }\n",
              "\n",
              "  .colab-df-quickchart-complete:disabled,\n",
              "  .colab-df-quickchart-complete:disabled:hover {\n",
              "    background-color: var(--disabled-bg-color);\n",
              "    fill: var(--disabled-fill-color);\n",
              "    box-shadow: none;\n",
              "  }\n",
              "\n",
              "  .colab-df-spinner {\n",
              "    border: 2px solid var(--fill-color);\n",
              "    border-color: transparent;\n",
              "    border-bottom-color: var(--fill-color);\n",
              "    animation:\n",
              "      spin 1s steps(1) infinite;\n",
              "  }\n",
              "\n",
              "  @keyframes spin {\n",
              "    0% {\n",
              "      border-color: transparent;\n",
              "      border-bottom-color: var(--fill-color);\n",
              "      border-left-color: var(--fill-color);\n",
              "    }\n",
              "    20% {\n",
              "      border-color: transparent;\n",
              "      border-left-color: var(--fill-color);\n",
              "      border-top-color: var(--fill-color);\n",
              "    }\n",
              "    30% {\n",
              "      border-color: transparent;\n",
              "      border-left-color: var(--fill-color);\n",
              "      border-top-color: var(--fill-color);\n",
              "      border-right-color: var(--fill-color);\n",
              "    }\n",
              "    40% {\n",
              "      border-color: transparent;\n",
              "      border-right-color: var(--fill-color);\n",
              "      border-top-color: var(--fill-color);\n",
              "    }\n",
              "    60% {\n",
              "      border-color: transparent;\n",
              "      border-right-color: var(--fill-color);\n",
              "    }\n",
              "    80% {\n",
              "      border-color: transparent;\n",
              "      border-right-color: var(--fill-color);\n",
              "      border-bottom-color: var(--fill-color);\n",
              "    }\n",
              "    90% {\n",
              "      border-color: transparent;\n",
              "      border-bottom-color: var(--fill-color);\n",
              "    }\n",
              "  }\n",
              "</style>\n",
              "\n",
              "  <script>\n",
              "    async function quickchart(key) {\n",
              "      const quickchartButtonEl =\n",
              "        document.querySelector('#' + key + ' button');\n",
              "      quickchartButtonEl.disabled = true;  // To prevent multiple clicks.\n",
              "      quickchartButtonEl.classList.add('colab-df-spinner');\n",
              "      try {\n",
              "        const charts = await google.colab.kernel.invokeFunction(\n",
              "            'suggestCharts', [key], {});\n",
              "      } catch (error) {\n",
              "        console.error('Error during call to suggestCharts:', error);\n",
              "      }\n",
              "      quickchartButtonEl.classList.remove('colab-df-spinner');\n",
              "      quickchartButtonEl.classList.add('colab-df-quickchart-complete');\n",
              "    }\n",
              "    (() => {\n",
              "      let quickchartButtonEl =\n",
              "        document.querySelector('#df-73912894-79fc-41c7-909a-c5e42b9132d8 button');\n",
              "      quickchartButtonEl.style.display =\n",
              "        google.colab.kernel.accessAllowed ? 'block' : 'none';\n",
              "    })();\n",
              "  </script>\n",
              "</div>\n",
              "\n",
              "    </div>\n",
              "  </div>\n"
            ],
            "application/vnd.google.colaboratory.intrinsic+json": {
              "type": "dataframe",
              "variable_name": "btc_data",
              "summary": "{\n  \"name\": \"btc_data\",\n  \"rows\": 3494,\n  \"fields\": [\n    {\n      \"column\": \"Date\",\n      \"properties\": {\n        \"dtype\": \"date\",\n        \"min\": \"2014-09-17 00:00:00\",\n        \"max\": \"2024-04-10 00:00:00\",\n        \"num_unique_values\": 3494,\n        \"samples\": [\n          \"2020-01-14 00:00:00\",\n          \"2023-12-02 00:00:00\",\n          \"2021-12-18 00:00:00\"\n        ],\n        \"semantic_type\": \"\",\n        \"description\": \"\"\n      }\n    },\n    {\n      \"column\": \"Open\",\n      \"properties\": {\n        \"dtype\": \"number\",\n        \"std\": 17426.2264813929,\n        \"min\": 176.89700317382812,\n        \"max\": 73079.375,\n        \"num_unique_values\": 3490,\n        \"samples\": [\n          269.156005859375,\n          26987.662109375,\n          41348.203125\n        ],\n        \"semantic_type\": \"\",\n        \"description\": \"\"\n      }\n    },\n    {\n      \"column\": \"High\",\n      \"properties\": {\n        \"dtype\": \"number\",\n        \"std\": 17848.376091415732,\n        \"min\": 211.7310028076172,\n        \"max\": 73750.0703125,\n        \"num_unique_values\": 3491,\n        \"samples\": [\n          272.3349914550781,\n          610.8300170898438,\n          1331.280029296875\n        ],\n        \"semantic_type\": \"\",\n        \"description\": \"\"\n      }\n    },\n    {\n      \"column\": \"Low\",\n      \"properties\": {\n        \"dtype\": \"number\",\n        \"std\": 16970.25845988248,\n        \"min\": 171.50999450683594,\n        \"max\": 71334.09375,\n        \"num_unique_values\": 3492,\n        \"samples\": [\n          267.08599853515625,\n          602.2420043945312,\n          1281.300048828125\n        ],\n        \"semantic_type\": \"\",\n        \"description\": \"\"\n      }\n    },\n    {\n      \"column\": \"Close\",\n      \"properties\": {\n        \"dtype\": \"number\",\n        \"std\": 17446.49642536998,\n        \"min\": 178.10299682617188,\n        \"max\": 73083.5,\n        \"num_unique_values\": 3491,\n        \"samples\": [\n          284.8940124511719,\n          606.5900268554688,\n          1316.47998046875\n        ],\n        \"semantic_type\": \"\",\n        \"description\": \"\"\n      }\n    },\n    {\n      \"column\": \"Adj Close\",\n      \"properties\": {\n        \"dtype\": \"number\",\n        \"std\": 17446.49642536998,\n        \"min\": 178.10299682617188,\n        \"max\": 73083.5,\n        \"num_unique_values\": 3491,\n        \"samples\": [\n          284.8940124511719,\n          606.5900268554688,\n          1316.47998046875\n        ],\n        \"semantic_type\": \"\",\n        \"description\": \"\"\n      }\n    },\n    {\n      \"column\": \"Volume\",\n      \"properties\": {\n        \"dtype\": \"number\",\n        \"std\": 19268631954,\n        \"min\": 5914570,\n        \"max\": 350967941479,\n        \"num_unique_values\": 3494,\n        \"samples\": [\n          44841784107,\n          15534035612,\n          26098292690\n        ],\n        \"semantic_type\": \"\",\n        \"description\": \"\"\n      }\n    }\n  ]\n}"
            }
          },
          "metadata": {},
          "execution_count": 3
        }
      ]
    },
    {
      "cell_type": "code",
      "source": [
        "btc_data.tail()"
      ],
      "metadata": {
        "colab": {
          "base_uri": "https://localhost:8080/",
          "height": 237
        },
        "id": "oQxsvmdtnQY7",
        "outputId": "4ec71f8b-5edc-4895-96a8-845af2ff9a80"
      },
      "execution_count": 69,
      "outputs": [
        {
          "output_type": "execute_result",
          "data": {
            "text/plain": [
              "                    Open          High           Low         Close  \\\n",
              "Date                                                                 \n",
              "2024-04-06  67840.570312  69629.601562  67491.718750  68896.109375   \n",
              "2024-04-07  68897.109375  70284.429688  68851.632812  69362.554688   \n",
              "2024-04-08  69362.554688  72715.359375  69064.242188  71631.359375   \n",
              "2024-04-09  71632.500000  71742.507812  68212.921875  69139.015625   \n",
              "2024-04-10  69140.242188  71093.429688  67503.562500  70587.882812   \n",
              "\n",
              "               Adj Close       Volume  \n",
              "Date                                   \n",
              "2024-04-06  68896.109375  19967785809  \n",
              "2024-04-07  69362.554688  21204930369  \n",
              "2024-04-08  71631.359375  37261432669  \n",
              "2024-04-09  69139.015625  36426900409  \n",
              "2024-04-10  70587.882812  38318601774  "
            ],
            "text/html": [
              "\n",
              "  <div id=\"df-93d3b1d0-d6cc-496c-ab81-45514f3baeef\" class=\"colab-df-container\">\n",
              "    <div>\n",
              "<style scoped>\n",
              "    .dataframe tbody tr th:only-of-type {\n",
              "        vertical-align: middle;\n",
              "    }\n",
              "\n",
              "    .dataframe tbody tr th {\n",
              "        vertical-align: top;\n",
              "    }\n",
              "\n",
              "    .dataframe thead th {\n",
              "        text-align: right;\n",
              "    }\n",
              "</style>\n",
              "<table border=\"1\" class=\"dataframe\">\n",
              "  <thead>\n",
              "    <tr style=\"text-align: right;\">\n",
              "      <th></th>\n",
              "      <th>Open</th>\n",
              "      <th>High</th>\n",
              "      <th>Low</th>\n",
              "      <th>Close</th>\n",
              "      <th>Adj Close</th>\n",
              "      <th>Volume</th>\n",
              "    </tr>\n",
              "    <tr>\n",
              "      <th>Date</th>\n",
              "      <th></th>\n",
              "      <th></th>\n",
              "      <th></th>\n",
              "      <th></th>\n",
              "      <th></th>\n",
              "      <th></th>\n",
              "    </tr>\n",
              "  </thead>\n",
              "  <tbody>\n",
              "    <tr>\n",
              "      <th>2024-04-06</th>\n",
              "      <td>67840.570312</td>\n",
              "      <td>69629.601562</td>\n",
              "      <td>67491.718750</td>\n",
              "      <td>68896.109375</td>\n",
              "      <td>68896.109375</td>\n",
              "      <td>19967785809</td>\n",
              "    </tr>\n",
              "    <tr>\n",
              "      <th>2024-04-07</th>\n",
              "      <td>68897.109375</td>\n",
              "      <td>70284.429688</td>\n",
              "      <td>68851.632812</td>\n",
              "      <td>69362.554688</td>\n",
              "      <td>69362.554688</td>\n",
              "      <td>21204930369</td>\n",
              "    </tr>\n",
              "    <tr>\n",
              "      <th>2024-04-08</th>\n",
              "      <td>69362.554688</td>\n",
              "      <td>72715.359375</td>\n",
              "      <td>69064.242188</td>\n",
              "      <td>71631.359375</td>\n",
              "      <td>71631.359375</td>\n",
              "      <td>37261432669</td>\n",
              "    </tr>\n",
              "    <tr>\n",
              "      <th>2024-04-09</th>\n",
              "      <td>71632.500000</td>\n",
              "      <td>71742.507812</td>\n",
              "      <td>68212.921875</td>\n",
              "      <td>69139.015625</td>\n",
              "      <td>69139.015625</td>\n",
              "      <td>36426900409</td>\n",
              "    </tr>\n",
              "    <tr>\n",
              "      <th>2024-04-10</th>\n",
              "      <td>69140.242188</td>\n",
              "      <td>71093.429688</td>\n",
              "      <td>67503.562500</td>\n",
              "      <td>70587.882812</td>\n",
              "      <td>70587.882812</td>\n",
              "      <td>38318601774</td>\n",
              "    </tr>\n",
              "  </tbody>\n",
              "</table>\n",
              "</div>\n",
              "    <div class=\"colab-df-buttons\">\n",
              "\n",
              "  <div class=\"colab-df-container\">\n",
              "    <button class=\"colab-df-convert\" onclick=\"convertToInteractive('df-93d3b1d0-d6cc-496c-ab81-45514f3baeef')\"\n",
              "            title=\"Convert this dataframe to an interactive table.\"\n",
              "            style=\"display:none;\">\n",
              "\n",
              "  <svg xmlns=\"http://www.w3.org/2000/svg\" height=\"24px\" viewBox=\"0 -960 960 960\">\n",
              "    <path d=\"M120-120v-720h720v720H120Zm60-500h600v-160H180v160Zm220 220h160v-160H400v160Zm0 220h160v-160H400v160ZM180-400h160v-160H180v160Zm440 0h160v-160H620v160ZM180-180h160v-160H180v160Zm440 0h160v-160H620v160Z\"/>\n",
              "  </svg>\n",
              "    </button>\n",
              "\n",
              "  <style>\n",
              "    .colab-df-container {\n",
              "      display:flex;\n",
              "      gap: 12px;\n",
              "    }\n",
              "\n",
              "    .colab-df-convert {\n",
              "      background-color: #E8F0FE;\n",
              "      border: none;\n",
              "      border-radius: 50%;\n",
              "      cursor: pointer;\n",
              "      display: none;\n",
              "      fill: #1967D2;\n",
              "      height: 32px;\n",
              "      padding: 0 0 0 0;\n",
              "      width: 32px;\n",
              "    }\n",
              "\n",
              "    .colab-df-convert:hover {\n",
              "      background-color: #E2EBFA;\n",
              "      box-shadow: 0px 1px 2px rgba(60, 64, 67, 0.3), 0px 1px 3px 1px rgba(60, 64, 67, 0.15);\n",
              "      fill: #174EA6;\n",
              "    }\n",
              "\n",
              "    .colab-df-buttons div {\n",
              "      margin-bottom: 4px;\n",
              "    }\n",
              "\n",
              "    [theme=dark] .colab-df-convert {\n",
              "      background-color: #3B4455;\n",
              "      fill: #D2E3FC;\n",
              "    }\n",
              "\n",
              "    [theme=dark] .colab-df-convert:hover {\n",
              "      background-color: #434B5C;\n",
              "      box-shadow: 0px 1px 3px 1px rgba(0, 0, 0, 0.15);\n",
              "      filter: drop-shadow(0px 1px 2px rgba(0, 0, 0, 0.3));\n",
              "      fill: #FFFFFF;\n",
              "    }\n",
              "  </style>\n",
              "\n",
              "    <script>\n",
              "      const buttonEl =\n",
              "        document.querySelector('#df-93d3b1d0-d6cc-496c-ab81-45514f3baeef button.colab-df-convert');\n",
              "      buttonEl.style.display =\n",
              "        google.colab.kernel.accessAllowed ? 'block' : 'none';\n",
              "\n",
              "      async function convertToInteractive(key) {\n",
              "        const element = document.querySelector('#df-93d3b1d0-d6cc-496c-ab81-45514f3baeef');\n",
              "        const dataTable =\n",
              "          await google.colab.kernel.invokeFunction('convertToInteractive',\n",
              "                                                    [key], {});\n",
              "        if (!dataTable) return;\n",
              "\n",
              "        const docLinkHtml = 'Like what you see? Visit the ' +\n",
              "          '<a target=\"_blank\" href=https://colab.research.google.com/notebooks/data_table.ipynb>data table notebook</a>'\n",
              "          + ' to learn more about interactive tables.';\n",
              "        element.innerHTML = '';\n",
              "        dataTable['output_type'] = 'display_data';\n",
              "        await google.colab.output.renderOutput(dataTable, element);\n",
              "        const docLink = document.createElement('div');\n",
              "        docLink.innerHTML = docLinkHtml;\n",
              "        element.appendChild(docLink);\n",
              "      }\n",
              "    </script>\n",
              "  </div>\n",
              "\n",
              "\n",
              "<div id=\"df-38281b78-215b-4ae5-aa8a-ce37164298cc\">\n",
              "  <button class=\"colab-df-quickchart\" onclick=\"quickchart('df-38281b78-215b-4ae5-aa8a-ce37164298cc')\"\n",
              "            title=\"Suggest charts\"\n",
              "            style=\"display:none;\">\n",
              "\n",
              "<svg xmlns=\"http://www.w3.org/2000/svg\" height=\"24px\"viewBox=\"0 0 24 24\"\n",
              "     width=\"24px\">\n",
              "    <g>\n",
              "        <path d=\"M19 3H5c-1.1 0-2 .9-2 2v14c0 1.1.9 2 2 2h14c1.1 0 2-.9 2-2V5c0-1.1-.9-2-2-2zM9 17H7v-7h2v7zm4 0h-2V7h2v10zm4 0h-2v-4h2v4z\"/>\n",
              "    </g>\n",
              "</svg>\n",
              "  </button>\n",
              "\n",
              "<style>\n",
              "  .colab-df-quickchart {\n",
              "      --bg-color: #E8F0FE;\n",
              "      --fill-color: #1967D2;\n",
              "      --hover-bg-color: #E2EBFA;\n",
              "      --hover-fill-color: #174EA6;\n",
              "      --disabled-fill-color: #AAA;\n",
              "      --disabled-bg-color: #DDD;\n",
              "  }\n",
              "\n",
              "  [theme=dark] .colab-df-quickchart {\n",
              "      --bg-color: #3B4455;\n",
              "      --fill-color: #D2E3FC;\n",
              "      --hover-bg-color: #434B5C;\n",
              "      --hover-fill-color: #FFFFFF;\n",
              "      --disabled-bg-color: #3B4455;\n",
              "      --disabled-fill-color: #666;\n",
              "  }\n",
              "\n",
              "  .colab-df-quickchart {\n",
              "    background-color: var(--bg-color);\n",
              "    border: none;\n",
              "    border-radius: 50%;\n",
              "    cursor: pointer;\n",
              "    display: none;\n",
              "    fill: var(--fill-color);\n",
              "    height: 32px;\n",
              "    padding: 0;\n",
              "    width: 32px;\n",
              "  }\n",
              "\n",
              "  .colab-df-quickchart:hover {\n",
              "    background-color: var(--hover-bg-color);\n",
              "    box-shadow: 0 1px 2px rgba(60, 64, 67, 0.3), 0 1px 3px 1px rgba(60, 64, 67, 0.15);\n",
              "    fill: var(--button-hover-fill-color);\n",
              "  }\n",
              "\n",
              "  .colab-df-quickchart-complete:disabled,\n",
              "  .colab-df-quickchart-complete:disabled:hover {\n",
              "    background-color: var(--disabled-bg-color);\n",
              "    fill: var(--disabled-fill-color);\n",
              "    box-shadow: none;\n",
              "  }\n",
              "\n",
              "  .colab-df-spinner {\n",
              "    border: 2px solid var(--fill-color);\n",
              "    border-color: transparent;\n",
              "    border-bottom-color: var(--fill-color);\n",
              "    animation:\n",
              "      spin 1s steps(1) infinite;\n",
              "  }\n",
              "\n",
              "  @keyframes spin {\n",
              "    0% {\n",
              "      border-color: transparent;\n",
              "      border-bottom-color: var(--fill-color);\n",
              "      border-left-color: var(--fill-color);\n",
              "    }\n",
              "    20% {\n",
              "      border-color: transparent;\n",
              "      border-left-color: var(--fill-color);\n",
              "      border-top-color: var(--fill-color);\n",
              "    }\n",
              "    30% {\n",
              "      border-color: transparent;\n",
              "      border-left-color: var(--fill-color);\n",
              "      border-top-color: var(--fill-color);\n",
              "      border-right-color: var(--fill-color);\n",
              "    }\n",
              "    40% {\n",
              "      border-color: transparent;\n",
              "      border-right-color: var(--fill-color);\n",
              "      border-top-color: var(--fill-color);\n",
              "    }\n",
              "    60% {\n",
              "      border-color: transparent;\n",
              "      border-right-color: var(--fill-color);\n",
              "    }\n",
              "    80% {\n",
              "      border-color: transparent;\n",
              "      border-right-color: var(--fill-color);\n",
              "      border-bottom-color: var(--fill-color);\n",
              "    }\n",
              "    90% {\n",
              "      border-color: transparent;\n",
              "      border-bottom-color: var(--fill-color);\n",
              "    }\n",
              "  }\n",
              "</style>\n",
              "\n",
              "  <script>\n",
              "    async function quickchart(key) {\n",
              "      const quickchartButtonEl =\n",
              "        document.querySelector('#' + key + ' button');\n",
              "      quickchartButtonEl.disabled = true;  // To prevent multiple clicks.\n",
              "      quickchartButtonEl.classList.add('colab-df-spinner');\n",
              "      try {\n",
              "        const charts = await google.colab.kernel.invokeFunction(\n",
              "            'suggestCharts', [key], {});\n",
              "      } catch (error) {\n",
              "        console.error('Error during call to suggestCharts:', error);\n",
              "      }\n",
              "      quickchartButtonEl.classList.remove('colab-df-spinner');\n",
              "      quickchartButtonEl.classList.add('colab-df-quickchart-complete');\n",
              "    }\n",
              "    (() => {\n",
              "      let quickchartButtonEl =\n",
              "        document.querySelector('#df-38281b78-215b-4ae5-aa8a-ce37164298cc button');\n",
              "      quickchartButtonEl.style.display =\n",
              "        google.colab.kernel.accessAllowed ? 'block' : 'none';\n",
              "    })();\n",
              "  </script>\n",
              "</div>\n",
              "\n",
              "    </div>\n",
              "  </div>\n"
            ],
            "application/vnd.google.colaboratory.intrinsic+json": {
              "type": "dataframe",
              "summary": "{\n  \"name\": \"btc_data\",\n  \"rows\": 5,\n  \"fields\": [\n    {\n      \"column\": \"Date\",\n      \"properties\": {\n        \"dtype\": \"date\",\n        \"min\": \"2024-04-06 00:00:00\",\n        \"max\": \"2024-04-10 00:00:00\",\n        \"num_unique_values\": 5,\n        \"samples\": [\n          \"2024-04-07 00:00:00\",\n          \"2024-04-10 00:00:00\",\n          \"2024-04-08 00:00:00\"\n        ],\n        \"semantic_type\": \"\",\n        \"description\": \"\"\n      }\n    },\n    {\n      \"column\": \"Open\",\n      \"properties\": {\n        \"dtype\": \"number\",\n        \"std\": 1390.541752592976,\n        \"min\": 67840.5703125,\n        \"max\": 71632.5,\n        \"num_unique_values\": 5,\n        \"samples\": [\n          68897.109375,\n          69140.2421875,\n          69362.5546875\n        ],\n        \"semantic_type\": \"\",\n        \"description\": \"\"\n      }\n    },\n    {\n      \"column\": \"High\",\n      \"properties\": {\n        \"dtype\": \"number\",\n        \"std\": 1209.2592195618006,\n        \"min\": 69629.6015625,\n        \"max\": 72715.359375,\n        \"num_unique_values\": 5,\n        \"samples\": [\n          70284.4296875,\n          71093.4296875,\n          72715.359375\n        ],\n        \"semantic_type\": \"\",\n        \"description\": \"\"\n      }\n    },\n    {\n      \"column\": \"Low\",\n      \"properties\": {\n        \"dtype\": \"number\",\n        \"std\": 734.0496066551071,\n        \"min\": 67491.71875,\n        \"max\": 69064.2421875,\n        \"num_unique_values\": 5,\n        \"samples\": [\n          68851.6328125,\n          67503.5625,\n          69064.2421875\n        ],\n        \"semantic_type\": \"\",\n        \"description\": \"\"\n      }\n    },\n    {\n      \"column\": \"Close\",\n      \"properties\": {\n        \"dtype\": \"number\",\n        \"std\": 1155.8324893824204,\n        \"min\": 68896.109375,\n        \"max\": 71631.359375,\n        \"num_unique_values\": 5,\n        \"samples\": [\n          69362.5546875,\n          70587.8828125,\n          71631.359375\n        ],\n        \"semantic_type\": \"\",\n        \"description\": \"\"\n      }\n    },\n    {\n      \"column\": \"Adj Close\",\n      \"properties\": {\n        \"dtype\": \"number\",\n        \"std\": 1155.8324893824204,\n        \"min\": 68896.109375,\n        \"max\": 71631.359375,\n        \"num_unique_values\": 5,\n        \"samples\": [\n          69362.5546875,\n          70587.8828125,\n          71631.359375\n        ],\n        \"semantic_type\": \"\",\n        \"description\": \"\"\n      }\n    },\n    {\n      \"column\": \"Volume\",\n      \"properties\": {\n        \"dtype\": \"number\",\n        \"std\": 9208815396,\n        \"min\": 19967785809,\n        \"max\": 38318601774,\n        \"num_unique_values\": 5,\n        \"samples\": [\n          21204930369,\n          38318601774,\n          37261432669\n        ],\n        \"semantic_type\": \"\",\n        \"description\": \"\"\n      }\n    }\n  ]\n}"
            }
          },
          "metadata": {},
          "execution_count": 69
        }
      ]
    },
    {
      "cell_type": "markdown",
      "source": [
        "### Taking Only Close and Volume Features to Develop a Model"
      ],
      "metadata": {
        "id": "YyDU1DEp2a06"
      }
    },
    {
      "cell_type": "code",
      "source": [
        "btc_data_modified = pd.DataFrame(btc_data[['Close',\"Volume\"]]).rename(columns={'Close': 'price',\"Volume\":\"Volume\"})\n",
        "btc_data_modified.head()"
      ],
      "metadata": {
        "colab": {
          "base_uri": "https://localhost:8080/",
          "height": 237
        },
        "id": "JevPfmMZ2Z1t",
        "outputId": "19cbdfac-c8be-4d13-916e-e7ae55e53a8e"
      },
      "execution_count": 4,
      "outputs": [
        {
          "output_type": "execute_result",
          "data": {
            "text/plain": [
              "                 price    Volume\n",
              "Date                            \n",
              "2014-09-17  457.334015  21056800\n",
              "2014-09-18  424.440002  34483200\n",
              "2014-09-19  394.795990  37919700\n",
              "2014-09-20  408.903992  36863600\n",
              "2014-09-21  398.821014  26580100"
            ],
            "text/html": [
              "\n",
              "  <div id=\"df-eea66aa1-a7a4-42da-b01f-ff92d984d81b\" class=\"colab-df-container\">\n",
              "    <div>\n",
              "<style scoped>\n",
              "    .dataframe tbody tr th:only-of-type {\n",
              "        vertical-align: middle;\n",
              "    }\n",
              "\n",
              "    .dataframe tbody tr th {\n",
              "        vertical-align: top;\n",
              "    }\n",
              "\n",
              "    .dataframe thead th {\n",
              "        text-align: right;\n",
              "    }\n",
              "</style>\n",
              "<table border=\"1\" class=\"dataframe\">\n",
              "  <thead>\n",
              "    <tr style=\"text-align: right;\">\n",
              "      <th></th>\n",
              "      <th>price</th>\n",
              "      <th>Volume</th>\n",
              "    </tr>\n",
              "    <tr>\n",
              "      <th>Date</th>\n",
              "      <th></th>\n",
              "      <th></th>\n",
              "    </tr>\n",
              "  </thead>\n",
              "  <tbody>\n",
              "    <tr>\n",
              "      <th>2014-09-17</th>\n",
              "      <td>457.334015</td>\n",
              "      <td>21056800</td>\n",
              "    </tr>\n",
              "    <tr>\n",
              "      <th>2014-09-18</th>\n",
              "      <td>424.440002</td>\n",
              "      <td>34483200</td>\n",
              "    </tr>\n",
              "    <tr>\n",
              "      <th>2014-09-19</th>\n",
              "      <td>394.795990</td>\n",
              "      <td>37919700</td>\n",
              "    </tr>\n",
              "    <tr>\n",
              "      <th>2014-09-20</th>\n",
              "      <td>408.903992</td>\n",
              "      <td>36863600</td>\n",
              "    </tr>\n",
              "    <tr>\n",
              "      <th>2014-09-21</th>\n",
              "      <td>398.821014</td>\n",
              "      <td>26580100</td>\n",
              "    </tr>\n",
              "  </tbody>\n",
              "</table>\n",
              "</div>\n",
              "    <div class=\"colab-df-buttons\">\n",
              "\n",
              "  <div class=\"colab-df-container\">\n",
              "    <button class=\"colab-df-convert\" onclick=\"convertToInteractive('df-eea66aa1-a7a4-42da-b01f-ff92d984d81b')\"\n",
              "            title=\"Convert this dataframe to an interactive table.\"\n",
              "            style=\"display:none;\">\n",
              "\n",
              "  <svg xmlns=\"http://www.w3.org/2000/svg\" height=\"24px\" viewBox=\"0 -960 960 960\">\n",
              "    <path d=\"M120-120v-720h720v720H120Zm60-500h600v-160H180v160Zm220 220h160v-160H400v160Zm0 220h160v-160H400v160ZM180-400h160v-160H180v160Zm440 0h160v-160H620v160ZM180-180h160v-160H180v160Zm440 0h160v-160H620v160Z\"/>\n",
              "  </svg>\n",
              "    </button>\n",
              "\n",
              "  <style>\n",
              "    .colab-df-container {\n",
              "      display:flex;\n",
              "      gap: 12px;\n",
              "    }\n",
              "\n",
              "    .colab-df-convert {\n",
              "      background-color: #E8F0FE;\n",
              "      border: none;\n",
              "      border-radius: 50%;\n",
              "      cursor: pointer;\n",
              "      display: none;\n",
              "      fill: #1967D2;\n",
              "      height: 32px;\n",
              "      padding: 0 0 0 0;\n",
              "      width: 32px;\n",
              "    }\n",
              "\n",
              "    .colab-df-convert:hover {\n",
              "      background-color: #E2EBFA;\n",
              "      box-shadow: 0px 1px 2px rgba(60, 64, 67, 0.3), 0px 1px 3px 1px rgba(60, 64, 67, 0.15);\n",
              "      fill: #174EA6;\n",
              "    }\n",
              "\n",
              "    .colab-df-buttons div {\n",
              "      margin-bottom: 4px;\n",
              "    }\n",
              "\n",
              "    [theme=dark] .colab-df-convert {\n",
              "      background-color: #3B4455;\n",
              "      fill: #D2E3FC;\n",
              "    }\n",
              "\n",
              "    [theme=dark] .colab-df-convert:hover {\n",
              "      background-color: #434B5C;\n",
              "      box-shadow: 0px 1px 3px 1px rgba(0, 0, 0, 0.15);\n",
              "      filter: drop-shadow(0px 1px 2px rgba(0, 0, 0, 0.3));\n",
              "      fill: #FFFFFF;\n",
              "    }\n",
              "  </style>\n",
              "\n",
              "    <script>\n",
              "      const buttonEl =\n",
              "        document.querySelector('#df-eea66aa1-a7a4-42da-b01f-ff92d984d81b button.colab-df-convert');\n",
              "      buttonEl.style.display =\n",
              "        google.colab.kernel.accessAllowed ? 'block' : 'none';\n",
              "\n",
              "      async function convertToInteractive(key) {\n",
              "        const element = document.querySelector('#df-eea66aa1-a7a4-42da-b01f-ff92d984d81b');\n",
              "        const dataTable =\n",
              "          await google.colab.kernel.invokeFunction('convertToInteractive',\n",
              "                                                    [key], {});\n",
              "        if (!dataTable) return;\n",
              "\n",
              "        const docLinkHtml = 'Like what you see? Visit the ' +\n",
              "          '<a target=\"_blank\" href=https://colab.research.google.com/notebooks/data_table.ipynb>data table notebook</a>'\n",
              "          + ' to learn more about interactive tables.';\n",
              "        element.innerHTML = '';\n",
              "        dataTable['output_type'] = 'display_data';\n",
              "        await google.colab.output.renderOutput(dataTable, element);\n",
              "        const docLink = document.createElement('div');\n",
              "        docLink.innerHTML = docLinkHtml;\n",
              "        element.appendChild(docLink);\n",
              "      }\n",
              "    </script>\n",
              "  </div>\n",
              "\n",
              "\n",
              "<div id=\"df-d1ab31cb-14a8-4e2f-a4e3-0fac75fb702f\">\n",
              "  <button class=\"colab-df-quickchart\" onclick=\"quickchart('df-d1ab31cb-14a8-4e2f-a4e3-0fac75fb702f')\"\n",
              "            title=\"Suggest charts\"\n",
              "            style=\"display:none;\">\n",
              "\n",
              "<svg xmlns=\"http://www.w3.org/2000/svg\" height=\"24px\"viewBox=\"0 0 24 24\"\n",
              "     width=\"24px\">\n",
              "    <g>\n",
              "        <path d=\"M19 3H5c-1.1 0-2 .9-2 2v14c0 1.1.9 2 2 2h14c1.1 0 2-.9 2-2V5c0-1.1-.9-2-2-2zM9 17H7v-7h2v7zm4 0h-2V7h2v10zm4 0h-2v-4h2v4z\"/>\n",
              "    </g>\n",
              "</svg>\n",
              "  </button>\n",
              "\n",
              "<style>\n",
              "  .colab-df-quickchart {\n",
              "      --bg-color: #E8F0FE;\n",
              "      --fill-color: #1967D2;\n",
              "      --hover-bg-color: #E2EBFA;\n",
              "      --hover-fill-color: #174EA6;\n",
              "      --disabled-fill-color: #AAA;\n",
              "      --disabled-bg-color: #DDD;\n",
              "  }\n",
              "\n",
              "  [theme=dark] .colab-df-quickchart {\n",
              "      --bg-color: #3B4455;\n",
              "      --fill-color: #D2E3FC;\n",
              "      --hover-bg-color: #434B5C;\n",
              "      --hover-fill-color: #FFFFFF;\n",
              "      --disabled-bg-color: #3B4455;\n",
              "      --disabled-fill-color: #666;\n",
              "  }\n",
              "\n",
              "  .colab-df-quickchart {\n",
              "    background-color: var(--bg-color);\n",
              "    border: none;\n",
              "    border-radius: 50%;\n",
              "    cursor: pointer;\n",
              "    display: none;\n",
              "    fill: var(--fill-color);\n",
              "    height: 32px;\n",
              "    padding: 0;\n",
              "    width: 32px;\n",
              "  }\n",
              "\n",
              "  .colab-df-quickchart:hover {\n",
              "    background-color: var(--hover-bg-color);\n",
              "    box-shadow: 0 1px 2px rgba(60, 64, 67, 0.3), 0 1px 3px 1px rgba(60, 64, 67, 0.15);\n",
              "    fill: var(--button-hover-fill-color);\n",
              "  }\n",
              "\n",
              "  .colab-df-quickchart-complete:disabled,\n",
              "  .colab-df-quickchart-complete:disabled:hover {\n",
              "    background-color: var(--disabled-bg-color);\n",
              "    fill: var(--disabled-fill-color);\n",
              "    box-shadow: none;\n",
              "  }\n",
              "\n",
              "  .colab-df-spinner {\n",
              "    border: 2px solid var(--fill-color);\n",
              "    border-color: transparent;\n",
              "    border-bottom-color: var(--fill-color);\n",
              "    animation:\n",
              "      spin 1s steps(1) infinite;\n",
              "  }\n",
              "\n",
              "  @keyframes spin {\n",
              "    0% {\n",
              "      border-color: transparent;\n",
              "      border-bottom-color: var(--fill-color);\n",
              "      border-left-color: var(--fill-color);\n",
              "    }\n",
              "    20% {\n",
              "      border-color: transparent;\n",
              "      border-left-color: var(--fill-color);\n",
              "      border-top-color: var(--fill-color);\n",
              "    }\n",
              "    30% {\n",
              "      border-color: transparent;\n",
              "      border-left-color: var(--fill-color);\n",
              "      border-top-color: var(--fill-color);\n",
              "      border-right-color: var(--fill-color);\n",
              "    }\n",
              "    40% {\n",
              "      border-color: transparent;\n",
              "      border-right-color: var(--fill-color);\n",
              "      border-top-color: var(--fill-color);\n",
              "    }\n",
              "    60% {\n",
              "      border-color: transparent;\n",
              "      border-right-color: var(--fill-color);\n",
              "    }\n",
              "    80% {\n",
              "      border-color: transparent;\n",
              "      border-right-color: var(--fill-color);\n",
              "      border-bottom-color: var(--fill-color);\n",
              "    }\n",
              "    90% {\n",
              "      border-color: transparent;\n",
              "      border-bottom-color: var(--fill-color);\n",
              "    }\n",
              "  }\n",
              "</style>\n",
              "\n",
              "  <script>\n",
              "    async function quickchart(key) {\n",
              "      const quickchartButtonEl =\n",
              "        document.querySelector('#' + key + ' button');\n",
              "      quickchartButtonEl.disabled = true;  // To prevent multiple clicks.\n",
              "      quickchartButtonEl.classList.add('colab-df-spinner');\n",
              "      try {\n",
              "        const charts = await google.colab.kernel.invokeFunction(\n",
              "            'suggestCharts', [key], {});\n",
              "      } catch (error) {\n",
              "        console.error('Error during call to suggestCharts:', error);\n",
              "      }\n",
              "      quickchartButtonEl.classList.remove('colab-df-spinner');\n",
              "      quickchartButtonEl.classList.add('colab-df-quickchart-complete');\n",
              "    }\n",
              "    (() => {\n",
              "      let quickchartButtonEl =\n",
              "        document.querySelector('#df-d1ab31cb-14a8-4e2f-a4e3-0fac75fb702f button');\n",
              "      quickchartButtonEl.style.display =\n",
              "        google.colab.kernel.accessAllowed ? 'block' : 'none';\n",
              "    })();\n",
              "  </script>\n",
              "</div>\n",
              "\n",
              "    </div>\n",
              "  </div>\n"
            ],
            "application/vnd.google.colaboratory.intrinsic+json": {
              "type": "dataframe",
              "variable_name": "btc_data_modified",
              "summary": "{\n  \"name\": \"btc_data_modified\",\n  \"rows\": 3494,\n  \"fields\": [\n    {\n      \"column\": \"Date\",\n      \"properties\": {\n        \"dtype\": \"date\",\n        \"min\": \"2014-09-17 00:00:00\",\n        \"max\": \"2024-04-10 00:00:00\",\n        \"num_unique_values\": 3494,\n        \"samples\": [\n          \"2020-01-14 00:00:00\",\n          \"2023-12-02 00:00:00\",\n          \"2021-12-18 00:00:00\"\n        ],\n        \"semantic_type\": \"\",\n        \"description\": \"\"\n      }\n    },\n    {\n      \"column\": \"price\",\n      \"properties\": {\n        \"dtype\": \"number\",\n        \"std\": 17446.49642536998,\n        \"min\": 178.10299682617188,\n        \"max\": 73083.5,\n        \"num_unique_values\": 3491,\n        \"samples\": [\n          284.8940124511719,\n          606.5900268554688,\n          1316.47998046875\n        ],\n        \"semantic_type\": \"\",\n        \"description\": \"\"\n      }\n    },\n    {\n      \"column\": \"Volume\",\n      \"properties\": {\n        \"dtype\": \"number\",\n        \"std\": 19268631954,\n        \"min\": 5914570,\n        \"max\": 350967941479,\n        \"num_unique_values\": 3494,\n        \"samples\": [\n          44841784107,\n          15534035612,\n          26098292690\n        ],\n        \"semantic_type\": \"\",\n        \"description\": \"\"\n      }\n    }\n  ]\n}"
            }
          },
          "metadata": {},
          "execution_count": 4
        }
      ]
    },
    {
      "cell_type": "markdown",
      "source": [
        "### Seeing The Correlation Between price and Volume"
      ],
      "metadata": {
        "id": "Zh7i2o9w3gbd"
      }
    },
    {
      "cell_type": "code",
      "source": [
        "corr = btc_data_modified.corr()\n",
        "corr\n",
        "plt.figure(figsize=(10, 8))\n",
        "sns.heatmap(corr, annot=True, cmap='coolwarm');"
      ],
      "metadata": {
        "colab": {
          "base_uri": "https://localhost:8080/",
          "height": 682
        },
        "id": "nz_7pYgx7w6X",
        "outputId": "79fc3739-5508-4083-c621-e2db725c4383"
      },
      "execution_count": 5,
      "outputs": [
        {
          "output_type": "display_data",
          "data": {
            "text/plain": [
              "<Figure size 1000x800 with 2 Axes>"
            ],
            "image/png": "[encoded data removed]"
          },
          "metadata": {}
        }
      ]
    },
    {
      "cell_type": "markdown",
      "source": [
        "##### Now seeing the correlation Between all the values\n"
      ],
      "metadata": {
        "id": "_b5OF-e734Y-"
      }
    },
    {
      "cell_type": "code",
      "source": [
        "corr = btc_data.corr()\n",
        "plt.figure(figsize=(10,8))\n",
        "sns.heatmap(corr, annot=True, cmap='coolwarm');"
      ],
      "metadata": {
        "colab": {
          "base_uri": "https://localhost:8080/",
          "height": 682
        },
        "id": "bChIhvM072zP",
        "outputId": "96a237c2-fa10-4015-9945-bf49106855bc"
      },
      "execution_count": 6,
      "outputs": [
        {
          "output_type": "display_data",
          "data": {
            "text/plain": [
              "<Figure size 1000x800 with 2 Axes>"
            ],
            "image/png": "[encoded data removed]"
          },
          "metadata": {}
        }
      ]
    },
    {
      "cell_type": "markdown",
      "source": [
        "###### By visualizing the Above Figure we get know that for Open and Volume there is 0.01%  correlation more than Close and Volume\n",
        "\n",
        "##### But as you all know that  we need to predict the Price of Bitcoin By the End of the Day so we will choose Volume and Close as our features"
      ],
      "metadata": {
        "id": "3waPNd7m4T-j"
      }
    },
    {
      "cell_type": "code",
      "source": [
        "import torch\n",
        "import torch.nn as nn\n",
        "import torch.optim as optim\n",
        "from torch.utils.data import DataLoader, TensorDataset"
      ],
      "metadata": {
        "id": "08HEkC5O74_m"
      },
      "execution_count": 7,
      "outputs": []
    },
    {
      "cell_type": "code",
      "source": [
        "btc_data_modified.describe()"
      ],
      "metadata": {
        "colab": {
          "base_uri": "https://localhost:8080/",
          "height": 300
        },
        "id": "c7rqqSoq8GSw",
        "outputId": "5172af86-3b1c-4c64-de46-1ac8bd5613a1"
      },
      "execution_count": 8,
      "outputs": [
        {
          "output_type": "execute_result",
          "data": {
            "text/plain": [
              "              price        Volume\n",
              "count   3494.000000  3.494000e+03\n",
              "mean   15753.615306  1.705644e+10\n",
              "std    17446.496425  1.926863e+10\n",
              "min      178.102997  5.914570e+06\n",
              "25%     1004.475006  2.042098e+08\n",
              "50%     8644.146484  1.272551e+10\n",
              "75%    26579.523926  2.743327e+10\n",
              "max    73083.500000  3.509679e+11"
            ],
            "text/html": [
              "\n",
              "  <div id=\"df-21428138-d4ea-48e5-b190-76ca7089094e\" class=\"colab-df-container\">\n",
              "    <div>\n",
              "<style scoped>\n",
              "    .dataframe tbody tr th:only-of-type {\n",
              "        vertical-align: middle;\n",
              "    }\n",
              "\n",
              "    .dataframe tbody tr th {\n",
              "        vertical-align: top;\n",
              "    }\n",
              "\n",
              "    .dataframe thead th {\n",
              "        text-align: right;\n",
              "    }\n",
              "</style>\n",
              "<table border=\"1\" class=\"dataframe\">\n",
              "  <thead>\n",
              "    <tr style=\"text-align: right;\">\n",
              "      <th></th>\n",
              "      <th>price</th>\n",
              "      <th>Volume</th>\n",
              "    </tr>\n",
              "  </thead>\n",
              "  <tbody>\n",
              "    <tr>\n",
              "      <th>count</th>\n",
              "      <td>3494.000000</td>\n",
              "      <td>3.494000e+03</td>\n",
              "    </tr>\n",
              "    <tr>\n",
              "      <th>mean</th>\n",
              "      <td>15753.615306</td>\n",
              "      <td>1.705644e+10</td>\n",
              "    </tr>\n",
              "    <tr>\n",
              "      <th>std</th>\n",
              "      <td>17446.496425</td>\n",
              "      <td>1.926863e+10</td>\n",
              "    </tr>\n",
              "    <tr>\n",
              "      <th>min</th>\n",
              "      <td>178.102997</td>\n",
              "      <td>5.914570e+06</td>\n",
              "    </tr>\n",
              "    <tr>\n",
              "      <th>25%</th>\n",
              "      <td>1004.475006</td>\n",
              "      <td>2.042098e+08</td>\n",
              "    </tr>\n",
              "    <tr>\n",
              "      <th>50%</th>\n",
              "      <td>8644.146484</td>\n",
              "      <td>1.272551e+10</td>\n",
              "    </tr>\n",
              "    <tr>\n",
              "      <th>75%</th>\n",
              "      <td>26579.523926</td>\n",
              "      <td>2.743327e+10</td>\n",
              "    </tr>\n",
              "    <tr>\n",
              "      <th>max</th>\n",
              "      <td>73083.500000</td>\n",
              "      <td>3.509679e+11</td>\n",
              "    </tr>\n",
              "  </tbody>\n",
              "</table>\n",
              "</div>\n",
              "    <div class=\"colab-df-buttons\">\n",
              "\n",
              "  <div class=\"colab-df-container\">\n",
              "    <button class=\"colab-df-convert\" onclick=\"convertToInteractive('df-21428138-d4ea-48e5-b190-76ca7089094e')\"\n",
              "            title=\"Convert this dataframe to an interactive table.\"\n",
              "            style=\"display:none;\">\n",
              "\n",
              "  <svg xmlns=\"http://www.w3.org/2000/svg\" height=\"24px\" viewBox=\"0 -960 960 960\">\n",
              "    <path d=\"M120-120v-720h720v720H120Zm60-500h600v-160H180v160Zm220 220h160v-160H400v160Zm0 220h160v-160H400v160ZM180-400h160v-160H180v160Zm440 0h160v-160H620v160ZM180-180h160v-160H180v160Zm440 0h160v-160H620v160Z\"/>\n",
              "  </svg>\n",
              "    </button>\n",
              "\n",
              "  <style>\n",
              "    .colab-df-container {\n",
              "      display:flex;\n",
              "      gap: 12px;\n",
              "    }\n",
              "\n",
              "    .colab-df-convert {\n",
              "      background-color: #E8F0FE;\n",
              "      border: none;\n",
              "      border-radius: 50%;\n",
              "      cursor: pointer;\n",
              "      display: none;\n",
              "      fill: #1967D2;\n",
              "      height: 32px;\n",
              "      padding: 0 0 0 0;\n",
              "      width: 32px;\n",
              "    }\n",
              "\n",
              "    .colab-df-convert:hover {\n",
              "      background-color: #E2EBFA;\n",
              "      box-shadow: 0px 1px 2px rgba(60, 64, 67, 0.3), 0px 1px 3px 1px rgba(60, 64, 67, 0.15);\n",
              "      fill: #174EA6;\n",
              "    }\n",
              "\n",
              "    .colab-df-buttons div {\n",
              "      margin-bottom: 4px;\n",
              "    }\n",
              "\n",
              "    [theme=dark] .colab-df-convert {\n",
              "      background-color: #3B4455;\n",
              "      fill: #D2E3FC;\n",
              "    }\n",
              "\n",
              "    [theme=dark] .colab-df-convert:hover {\n",
              "      background-color: #434B5C;\n",
              "      box-shadow: 0px 1px 3px 1px rgba(0, 0, 0, 0.15);\n",
              "      filter: drop-shadow(0px 1px 2px rgba(0, 0, 0, 0.3));\n",
              "      fill: #FFFFFF;\n",
              "    }\n",
              "  </style>\n",
              "\n",
              "    <script>\n",
              "      const buttonEl =\n",
              "        document.querySelector('#df-21428138-d4ea-48e5-b190-76ca7089094e button.colab-df-convert');\n",
              "      buttonEl.style.display =\n",
              "        google.colab.kernel.accessAllowed ? 'block' : 'none';\n",
              "\n",
              "      async function convertToInteractive(key) {\n",
              "        const element = document.querySelector('#df-21428138-d4ea-48e5-b190-76ca7089094e');\n",
              "        const dataTable =\n",
              "          await google.colab.kernel.invokeFunction('convertToInteractive',\n",
              "                                                    [key], {});\n",
              "        if (!dataTable) return;\n",
              "\n",
              "        const docLinkHtml = 'Like what you see? Visit the ' +\n",
              "          '<a target=\"_blank\" href=https://colab.research.google.com/notebooks/data_table.ipynb>data table notebook</a>'\n",
              "          + ' to learn more about interactive tables.';\n",
              "        element.innerHTML = '';\n",
              "        dataTable['output_type'] = 'display_data';\n",
              "        await google.colab.output.renderOutput(dataTable, element);\n",
              "        const docLink = document.createElement('div');\n",
              "        docLink.innerHTML = docLinkHtml;\n",
              "        element.appendChild(docLink);\n",
              "      }\n",
              "    </script>\n",
              "  </div>\n",
              "\n",
              "\n",
              "<div id=\"df-8d34a1fa-b26f-411b-bfea-f6b2c256678b\">\n",
              "  <button class=\"colab-df-quickchart\" onclick=\"quickchart('df-8d34a1fa-b26f-411b-bfea-f6b2c256678b')\"\n",
              "            title=\"Suggest charts\"\n",
              "            style=\"display:none;\">\n",
              "\n",
              "<svg xmlns=\"http://www.w3.org/2000/svg\" height=\"24px\"viewBox=\"0 0 24 24\"\n",
              "     width=\"24px\">\n",
              "    <g>\n",
              "        <path d=\"M19 3H5c-1.1 0-2 .9-2 2v14c0 1.1.9 2 2 2h14c1.1 0 2-.9 2-2V5c0-1.1-.9-2-2-2zM9 17H7v-7h2v7zm4 0h-2V7h2v10zm4 0h-2v-4h2v4z\"/>\n",
              "    </g>\n",
              "</svg>\n",
              "  </button>\n",
              "\n",
              "<style>\n",
              "  .colab-df-quickchart {\n",
              "      --bg-color: #E8F0FE;\n",
              "      --fill-color: #1967D2;\n",
              "      --hover-bg-color: #E2EBFA;\n",
              "      --hover-fill-color: #174EA6;\n",
              "      --disabled-fill-color: #AAA;\n",
              "      --disabled-bg-color: #DDD;\n",
              "  }\n",
              "\n",
              "  [theme=dark] .colab-df-quickchart {\n",
              "      --bg-color: #3B4455;\n",
              "      --fill-color: #D2E3FC;\n",
              "      --hover-bg-color: #434B5C;\n",
              "      --hover-fill-color: #FFFFFF;\n",
              "      --disabled-bg-color: #3B4455;\n",
              "      --disabled-fill-color: #666;\n",
              "  }\n",
              "\n",
              "  .colab-df-quickchart {\n",
              "    background-color: var(--bg-color);\n",
              "    border: none;\n",
              "    border-radius: 50%;\n",
              "    cursor: pointer;\n",
              "    display: none;\n",
              "    fill: var(--fill-color);\n",
              "    height: 32px;\n",
              "    padding: 0;\n",
              "    width: 32px;\n",
              "  }\n",
              "\n",
              "  .colab-df-quickchart:hover {\n",
              "    background-color: var(--hover-bg-color);\n",
              "    box-shadow: 0 1px 2px rgba(60, 64, 67, 0.3), 0 1px 3px 1px rgba(60, 64, 67, 0.15);\n",
              "    fill: var(--button-hover-fill-color);\n",
              "  }\n",
              "\n",
              "  .colab-df-quickchart-complete:disabled,\n",
              "  .colab-df-quickchart-complete:disabled:hover {\n",
              "    background-color: var(--disabled-bg-color);\n",
              "    fill: var(--disabled-fill-color);\n",
              "    box-shadow: none;\n",
              "  }\n",
              "\n",
              "  .colab-df-spinner {\n",
              "    border: 2px solid var(--fill-color);\n",
              "    border-color: transparent;\n",
              "    border-bottom-color: var(--fill-color);\n",
              "    animation:\n",
              "      spin 1s steps(1) infinite;\n",
              "  }\n",
              "\n",
              "  @keyframes spin {\n",
              "    0% {\n",
              "      border-color: transparent;\n",
              "      border-bottom-color: var(--fill-color);\n",
              "      border-left-color: var(--fill-color);\n",
              "    }\n",
              "    20% {\n",
              "      border-color: transparent;\n",
              "      border-left-color: var(--fill-color);\n",
              "      border-top-color: var(--fill-color);\n",
              "    }\n",
              "    30% {\n",
              "      border-color: transparent;\n",
              "      border-left-color: var(--fill-color);\n",
              "      border-top-color: var(--fill-color);\n",
              "      border-right-color: var(--fill-color);\n",
              "    }\n",
              "    40% {\n",
              "      border-color: transparent;\n",
              "      border-right-color: var(--fill-color);\n",
              "      border-top-color: var(--fill-color);\n",
              "    }\n",
              "    60% {\n",
              "      border-color: transparent;\n",
              "      border-right-color: var(--fill-color);\n",
              "    }\n",
              "    80% {\n",
              "      border-color: transparent;\n",
              "      border-right-color: var(--fill-color);\n",
              "      border-bottom-color: var(--fill-color);\n",
              "    }\n",
              "    90% {\n",
              "      border-color: transparent;\n",
              "      border-bottom-color: var(--fill-color);\n",
              "    }\n",
              "  }\n",
              "</style>\n",
              "\n",
              "  <script>\n",
              "    async function quickchart(key) {\n",
              "      const quickchartButtonEl =\n",
              "        document.querySelector('#' + key + ' button');\n",
              "      quickchartButtonEl.disabled = true;  // To prevent multiple clicks.\n",
              "      quickchartButtonEl.classList.add('colab-df-spinner');\n",
              "      try {\n",
              "        const charts = await google.colab.kernel.invokeFunction(\n",
              "            'suggestCharts', [key], {});\n",
              "      } catch (error) {\n",
              "        console.error('Error during call to suggestCharts:', error);\n",
              "      }\n",
              "      quickchartButtonEl.classList.remove('colab-df-spinner');\n",
              "      quickchartButtonEl.classList.add('colab-df-quickchart-complete');\n",
              "    }\n",
              "    (() => {\n",
              "      let quickchartButtonEl =\n",
              "        document.querySelector('#df-8d34a1fa-b26f-411b-bfea-f6b2c256678b button');\n",
              "      quickchartButtonEl.style.display =\n",
              "        google.colab.kernel.accessAllowed ? 'block' : 'none';\n",
              "    })();\n",
              "  </script>\n",
              "</div>\n",
              "\n",
              "    </div>\n",
              "  </div>\n"
            ],
            "application/vnd.google.colaboratory.intrinsic+json": {
              "type": "dataframe",
              "summary": "{\n  \"name\": \"btc_data_modified\",\n  \"rows\": 8,\n  \"fields\": [\n    {\n      \"column\": \"price\",\n      \"properties\": {\n        \"dtype\": \"number\",\n        \"std\": 23955.257613847272,\n        \"min\": 178.10299682617188,\n        \"max\": 73083.5,\n        \"num_unique_values\": 8,\n        \"samples\": [\n          15753.615305506984,\n          8644.146484375,\n          3494.0\n        ],\n        \"semantic_type\": \"\",\n        \"description\": \"\"\n      }\n    },\n    {\n      \"column\": \"Volume\",\n      \"properties\": {\n        \"dtype\": \"number\",\n        \"std\": 120649091192.8262,\n        \"min\": 3494.0,\n        \"max\": 350967941479.0,\n        \"num_unique_values\": 8,\n        \"samples\": [\n          17056442719.945908,\n          12725514149.0,\n          3494.0\n        ],\n        \"semantic_type\": \"\",\n        \"description\": \"\"\n      }\n    }\n  ]\n}"
            }
          },
          "metadata": {},
          "execution_count": 8
        }
      ]
    },
    {
      "cell_type": "code",
      "source": [
        "btc_data_modified.info()"
      ],
      "metadata": {
        "colab": {
          "base_uri": "https://localhost:8080/"
        },
        "id": "nt68B1Nn885r",
        "outputId": "94e25027-e506-4a5d-845b-06213794051d"
      },
      "execution_count": 9,
      "outputs": [
        {
          "output_type": "stream",
          "name": "stdout",
          "text": [
            "<class 'pandas.core.frame.DataFrame'>\n",
            "DatetimeIndex: 3494 entries, 2014-09-17 to 2024-04-10\n",
            "Data columns (total 2 columns):\n",
            " #   Column  Non-Null Count  Dtype  \n",
            "---  ------  --------------  -----  \n",
            " 0   price   3494 non-null   float64\n",
            " 1   Volume  3494 non-null   int64  \n",
            "dtypes: float64(1), int64(1)\n",
            "memory usage: 81.9 KB\n"
          ]
        }
      ]
    },
    {
      "cell_type": "markdown",
      "source": [
        "By seeing the Data there is no Null Values There is no need to drop values or rows"
      ],
      "metadata": {
        "id": "Hxfo30cC4-1n"
      }
    },
    {
      "cell_type": "code",
      "source": [],
      "metadata": {
        "id": "yWvlHANM-ByS"
      },
      "execution_count": 9,
      "outputs": []
    },
    {
      "cell_type": "code",
      "source": [
        "\n",
        "\n"
      ],
      "metadata": {
        "id": "T4rw4PIh-QlW"
      },
      "execution_count": 9,
      "outputs": []
    },
    {
      "cell_type": "markdown",
      "source": [
        "### Visualizing Bitcoin Price from 2015 to 2024"
      ],
      "metadata": {
        "id": "P-bDaqOBBHCn"
      }
    },
    {
      "cell_type": "code",
      "source": [
        "import matplotlib.pyplot as plt\n",
        "btc_data_modified.plot(figsize=(10, 7))\n",
        "plt.ylabel(\"BTC Price\")\n",
        "plt.title(\"Price of Bitcoin from 9 Sep 2014 to 06 April 2024\", fontsize=16)\n",
        "plt.legend(fontsize=14);"
      ],
      "metadata": {
        "colab": {
          "base_uri": "https://localhost:8080/",
          "height": 643
        },
        "id": "Qq8x9kWP-zyu",
        "outputId": "faac47fb-1579-45f7-8ed6-6549f473132b"
      },
      "execution_count": 10,
      "outputs": [
        {
          "output_type": "display_data",
          "data": {
            "text/plain": [
              "<Figure size 1000x700 with 1 Axes>"
            ],
            "image/png": "[encoded data removed]"
          },
          "metadata": {}
        }
      ]
    },
    {
      "cell_type": "markdown",
      "source": [
        "##### Because of the Volume is soo Large we are Seeing the Price Column where in reality it is not Flat We need to Normalize Both Them to understand using MinMaxScaler to Understand Them Well"
      ],
      "metadata": {
        "id": "cgIMsreE5d98"
      }
    },
    {
      "cell_type": "markdown",
      "source": [
        "#### MultiVariate\n",
        "\n",
        "\n",
        "\n"
      ],
      "metadata": {
        "id": "p1i2F8vsGq0G"
      }
    },
    {
      "cell_type": "code",
      "source": [
        "from sklearn.preprocessing import minmax_scale\n",
        "scaled_price_block_df = pd.DataFrame(minmax_scale(btc_data_modified[[\"price\",\"Volume\"]]), # we need to scale the data first\n",
        "                                     columns=btc_data_modified.columns,\n",
        "                                     index=btc_data_modified.index)\n",
        "scaled_price_block_df.plot(figsize=(10, 7));\n"
      ],
      "metadata": {
        "colab": {
          "base_uri": "https://localhost:8080/",
          "height": 619
        },
        "id": "R6PWUe4C-0rE",
        "outputId": "93231176-145c-4abb-a344-7bb914ee0f97"
      },
      "execution_count": 11,
      "outputs": [
        {
          "output_type": "display_data",
          "data": {
            "text/plain": [
              "<Figure size 1000x700 with 1 Axes>"
            ],
            "image/png": "[encoded data removed]"
          },
          "metadata": {}
        }
      ]
    },
    {
      "cell_type": "markdown",
      "source": [
        "#### Visualize By Seeing The Above the Plot We Know that Whenever The Price of Bitcoin Falls The Number Of People Buying it Increases"
      ],
      "metadata": {
        "id": "pzAYXJF96HI6"
      }
    },
    {
      "cell_type": "code",
      "source": [],
      "metadata": {
        "id": "RKx-SkHjVIf9"
      },
      "execution_count": 11,
      "outputs": []
    },
    {
      "cell_type": "markdown",
      "source": [
        "### Building The First Model Where\n",
        "\n",
        "#### In this Model We are Using Only Price Feature Not this Volume Feature"
      ],
      "metadata": {
        "id": "3CLMg6bm6kIi"
      }
    },
    {
      "cell_type": "code",
      "source": [],
      "metadata": {
        "id": "jvxmaYNIHTmY"
      },
      "execution_count": 11,
      "outputs": []
    },
    {
      "cell_type": "code",
      "source": [
        "# Setup dataset hyperparameters\n",
        "HORIZON = 1\n",
        "WINDOW_SIZE = 7"
      ],
      "metadata": {
        "id": "FaQZBiKiVn-I"
      },
      "execution_count": 12,
      "outputs": []
    },
    {
      "cell_type": "code",
      "source": [
        "bitcoin_prices_windowed = btc_data_modified.copy()\n",
        "\n",
        "# Add windowed columns\n",
        "for i in range(WINDOW_SIZE): # Shift values for each step in WINDOW_SIZE\n",
        "  bitcoin_prices_windowed[f\"Price+{i+1}\"] = bitcoin_prices_windowed[\"price\"].shift(periods=i+1)\n",
        "bitcoin_prices_windowed.head(10)"
      ],
      "metadata": {
        "colab": {
          "base_uri": "https://localhost:8080/",
          "height": 394
        },
        "id": "XBAOfVJeWD6h",
        "outputId": "4c397a33-5158-4a8e-843f-bd6ec0db0821"
      },
      "execution_count": 13,
      "outputs": [
        {
          "output_type": "execute_result",
          "data": {
            "text/plain": [
              "                 price    Volume     Price+1     Price+2     Price+3  \\\n",
              "Date                                                                   \n",
              "2014-09-17  457.334015  21056800         NaN         NaN         NaN   \n",
              "2014-09-18  424.440002  34483200  457.334015         NaN         NaN   \n",
              "2014-09-19  394.795990  37919700  424.440002  457.334015         NaN   \n",
              "2014-09-20  408.903992  36863600  394.795990  424.440002  457.334015   \n",
              "2014-09-21  398.821014  26580100  408.903992  394.795990  424.440002   \n",
              "2014-09-22  402.152008  24127600  398.821014  408.903992  394.795990   \n",
              "2014-09-23  435.790985  45099500  402.152008  398.821014  408.903992   \n",
              "2014-09-24  423.204987  30627700  435.790985  402.152008  398.821014   \n",
              "2014-09-25  411.574005  26814400  423.204987  435.790985  402.152008   \n",
              "2014-09-26  404.424988  21460800  411.574005  423.204987  435.790985   \n",
              "\n",
              "               Price+4     Price+5     Price+6     Price+7  \n",
              "Date                                                        \n",
              "2014-09-17         NaN         NaN         NaN         NaN  \n",
              "2014-09-18         NaN         NaN         NaN         NaN  \n",
              "2014-09-19         NaN         NaN         NaN         NaN  \n",
              "2014-09-20         NaN         NaN         NaN         NaN  \n",
              "2014-09-21  457.334015         NaN         NaN         NaN  \n",
              "2014-09-22  424.440002  457.334015         NaN         NaN  \n",
              "2014-09-23  394.795990  424.440002  457.334015         NaN  \n",
              "2014-09-24  408.903992  394.795990  424.440002  457.334015  \n",
              "2014-09-25  398.821014  408.903992  394.795990  424.440002  \n",
              "2014-09-26  402.152008  398.821014  408.903992  394.795990  "
            ],
            "text/html": [
              "\n",
              "  <div id=\"df-7b577b5a-d0ab-43a5-a766-bc049bc0e59e\" class=\"colab-df-container\">\n",
              "    <div>\n",
              "<style scoped>\n",
              "    .dataframe tbody tr th:only-of-type {\n",
              "        vertical-align: middle;\n",
              "    }\n",
              "\n",
              "    .dataframe tbody tr th {\n",
              "        vertical-align: top;\n",
              "    }\n",
              "\n",
              "    .dataframe thead th {\n",
              "        text-align: right;\n",
              "    }\n",
              "</style>\n",
              "<table border=\"1\" class=\"dataframe\">\n",
              "  <thead>\n",
              "    <tr style=\"text-align: right;\">\n",
              "      <th></th>\n",
              "      <th>price</th>\n",
              "      <th>Volume</th>\n",
              "      <th>Price+1</th>\n",
              "      <th>Price+2</th>\n",
              "      <th>Price+3</th>\n",
              "      <th>Price+4</th>\n",
              "      <th>Price+5</th>\n",
              "      <th>Price+6</th>\n",
              "      <th>Price+7</th>\n",
              "    </tr>\n",
              "    <tr>\n",
              "      <th>Date</th>\n",
              "      <th></th>\n",
              "      <th></th>\n",
              "      <th></th>\n",
              "      <th></th>\n",
              "      <th></th>\n",
              "      <th></th>\n",
              "      <th></th>\n",
              "      <th></th>\n",
              "      <th></th>\n",
              "    </tr>\n",
              "  </thead>\n",
              "  <tbody>\n",
              "    <tr>\n",
              "      <th>2014-09-17</th>\n",
              "      <td>457.334015</td>\n",
              "      <td>21056800</td>\n",
              "      <td>NaN</td>\n",
              "      <td>NaN</td>\n",
              "      <td>NaN</td>\n",
              "      <td>NaN</td>\n",
              "      <td>NaN</td>\n",
              "      <td>NaN</td>\n",
              "      <td>NaN</td>\n",
              "    </tr>\n",
              "    <tr>\n",
              "      <th>2014-09-18</th>\n",
              "      <td>424.440002</td>\n",
              "      <td>34483200</td>\n",
              "      <td>457.334015</td>\n",
              "      <td>NaN</td>\n",
              "      <td>NaN</td>\n",
              "      <td>NaN</td>\n",
              "      <td>NaN</td>\n",
              "      <td>NaN</td>\n",
              "      <td>NaN</td>\n",
              "    </tr>\n",
              "    <tr>\n",
              "      <th>2014-09-19</th>\n",
              "      <td>394.795990</td>\n",
              "      <td>37919700</td>\n",
              "      <td>424.440002</td>\n",
              "      <td>457.334015</td>\n",
              "      <td>NaN</td>\n",
              "      <td>NaN</td>\n",
              "      <td>NaN</td>\n",
              "      <td>NaN</td>\n",
              "      <td>NaN</td>\n",
              "    </tr>\n",
              "    <tr>\n",
              "      <th>2014-09-20</th>\n",
              "      <td>408.903992</td>\n",
              "      <td>36863600</td>\n",
              "      <td>394.795990</td>\n",
              "      <td>424.440002</td>\n",
              "      <td>457.334015</td>\n",
              "      <td>NaN</td>\n",
              "      <td>NaN</td>\n",
              "      <td>NaN</td>\n",
              "      <td>NaN</td>\n",
              "    </tr>\n",
              "    <tr>\n",
              "      <th>2014-09-21</th>\n",
              "      <td>398.821014</td>\n",
              "      <td>26580100</td>\n",
              "      <td>408.903992</td>\n",
              "      <td>394.795990</td>\n",
              "      <td>424.440002</td>\n",
              "      <td>457.334015</td>\n",
              "      <td>NaN</td>\n",
              "      <td>NaN</td>\n",
              "      <td>NaN</td>\n",
              "    </tr>\n",
              "    <tr>\n",
              "      <th>2014-09-22</th>\n",
              "      <td>402.152008</td>\n",
              "      <td>24127600</td>\n",
              "      <td>398.821014</td>\n",
              "      <td>408.903992</td>\n",
              "      <td>394.795990</td>\n",
              "      <td>424.440002</td>\n",
              "      <td>457.334015</td>\n",
              "      <td>NaN</td>\n",
              "      <td>NaN</td>\n",
              "    </tr>\n",
              "    <tr>\n",
              "      <th>2014-09-23</th>\n",
              "      <td>435.790985</td>\n",
              "      <td>45099500</td>\n",
              "      <td>402.152008</td>\n",
              "      <td>398.821014</td>\n",
              "      <td>408.903992</td>\n",
              "      <td>394.795990</td>\n",
              "      <td>424.440002</td>\n",
              "      <td>457.334015</td>\n",
              "      <td>NaN</td>\n",
              "    </tr>\n",
              "    <tr>\n",
              "      <th>2014-09-24</th>\n",
              "      <td>423.204987</td>\n",
              "      <td>30627700</td>\n",
              "      <td>435.790985</td>\n",
              "      <td>402.152008</td>\n",
              "      <td>398.821014</td>\n",
              "      <td>408.903992</td>\n",
              "      <td>394.795990</td>\n",
              "      <td>424.440002</td>\n",
              "      <td>457.334015</td>\n",
              "    </tr>\n",
              "    <tr>\n",
              "      <th>2014-09-25</th>\n",
              "      <td>411.574005</td>\n",
              "      <td>26814400</td>\n",
              "      <td>423.204987</td>\n",
              "      <td>435.790985</td>\n",
              "      <td>402.152008</td>\n",
              "      <td>398.821014</td>\n",
              "      <td>408.903992</td>\n",
              "      <td>394.795990</td>\n",
              "      <td>424.440002</td>\n",
              "    </tr>\n",
              "    <tr>\n",
              "      <th>2014-09-26</th>\n",
              "      <td>404.424988</td>\n",
              "      <td>21460800</td>\n",
              "      <td>411.574005</td>\n",
              "      <td>423.204987</td>\n",
              "      <td>435.790985</td>\n",
              "      <td>402.152008</td>\n",
              "      <td>398.821014</td>\n",
              "      <td>408.903992</td>\n",
              "      <td>394.795990</td>\n",
              "    </tr>\n",
              "  </tbody>\n",
              "</table>\n",
              "</div>\n",
              "    <div class=\"colab-df-buttons\">\n",
              "\n",
              "  <div class=\"colab-df-container\">\n",
              "    <button class=\"colab-df-convert\" onclick=\"convertToInteractive('df-7b577b5a-d0ab-43a5-a766-bc049bc0e59e')\"\n",
              "            title=\"Convert this dataframe to an interactive table.\"\n",
              "            style=\"display:none;\">\n",
              "\n",
              "  <svg xmlns=\"http://www.w3.org/2000/svg\" height=\"24px\" viewBox=\"0 -960 960 960\">\n",
              "    <path d=\"M120-120v-720h720v720H120Zm60-500h600v-160H180v160Zm220 220h160v-160H400v160Zm0 220h160v-160H400v160ZM180-400h160v-160H180v160Zm440 0h160v-160H620v160ZM180-180h160v-160H180v160Zm440 0h160v-160H620v160Z\"/>\n",
              "  </svg>\n",
              "    </button>\n",
              "\n",
              "  <style>\n",
              "    .colab-df-container {\n",
              "      display:flex;\n",
              "      gap: 12px;\n",
              "    }\n",
              "\n",
              "    .colab-df-convert {\n",
              "      background-color: #E8F0FE;\n",
              "      border: none;\n",
              "      border-radius: 50%;\n",
              "      cursor: pointer;\n",
              "      display: none;\n",
              "      fill: #1967D2;\n",
              "      height: 32px;\n",
              "      padding: 0 0 0 0;\n",
              "      width: 32px;\n",
              "    }\n",
              "\n",
              "    .colab-df-convert:hover {\n",
              "      background-color: #E2EBFA;\n",
              "      box-shadow: 0px 1px 2px rgba(60, 64, 67, 0.3), 0px 1px 3px 1px rgba(60, 64, 67, 0.15);\n",
              "      fill: #174EA6;\n",
              "    }\n",
              "\n",
              "    .colab-df-buttons div {\n",
              "      margin-bottom: 4px;\n",
              "    }\n",
              "\n",
              "    [theme=dark] .colab-df-convert {\n",
              "      background-color: #3B4455;\n",
              "      fill: #D2E3FC;\n",
              "    }\n",
              "\n",
              "    [theme=dark] .colab-df-convert:hover {\n",
              "      background-color: #434B5C;\n",
              "      box-shadow: 0px 1px 3px 1px rgba(0, 0, 0, 0.15);\n",
              "      filter: drop-shadow(0px 1px 2px rgba(0, 0, 0, 0.3));\n",
              "      fill: #FFFFFF;\n",
              "    }\n",
              "  </style>\n",
              "\n",
              "    <script>\n",
              "      const buttonEl =\n",
              "        document.querySelector('#df-7b577b5a-d0ab-43a5-a766-bc049bc0e59e button.colab-df-convert');\n",
              "      buttonEl.style.display =\n",
              "        google.colab.kernel.accessAllowed ? 'block' : 'none';\n",
              "\n",
              "      async function convertToInteractive(key) {\n",
              "        const element = document.querySelector('#df-7b577b5a-d0ab-43a5-a766-bc049bc0e59e');\n",
              "        const dataTable =\n",
              "          await google.colab.kernel.invokeFunction('convertToInteractive',\n",
              "                                                    [key], {});\n",
              "        if (!dataTable) return;\n",
              "\n",
              "        const docLinkHtml = 'Like what you see? Visit the ' +\n",
              "          '<a target=\"_blank\" href=https://colab.research.google.com/notebooks/data_table.ipynb>data table notebook</a>'\n",
              "          + ' to learn more about interactive tables.';\n",
              "        element.innerHTML = '';\n",
              "        dataTable['output_type'] = 'display_data';\n",
              "        await google.colab.output.renderOutput(dataTable, element);\n",
              "        const docLink = document.createElement('div');\n",
              "        docLink.innerHTML = docLinkHtml;\n",
              "        element.appendChild(docLink);\n",
              "      }\n",
              "    </script>\n",
              "  </div>\n",
              "\n",
              "\n",
              "<div id=\"df-bd095ae0-77b6-4395-8a91-5d4ddc6e0dfa\">\n",
              "  <button class=\"colab-df-quickchart\" onclick=\"quickchart('df-bd095ae0-77b6-4395-8a91-5d4ddc6e0dfa')\"\n",
              "            title=\"Suggest charts\"\n",
              "            style=\"display:none;\">\n",
              "\n",
              "<svg xmlns=\"http://www.w3.org/2000/svg\" height=\"24px\"viewBox=\"0 0 24 24\"\n",
              "     width=\"24px\">\n",
              "    <g>\n",
              "        <path d=\"M19 3H5c-1.1 0-2 .9-2 2v14c0 1.1.9 2 2 2h14c1.1 0 2-.9 2-2V5c0-1.1-.9-2-2-2zM9 17H7v-7h2v7zm4 0h-2V7h2v10zm4 0h-2v-4h2v4z\"/>\n",
              "    </g>\n",
              "</svg>\n",
              "  </button>\n",
              "\n",
              "<style>\n",
              "  .colab-df-quickchart {\n",
              "      --bg-color: #E8F0FE;\n",
              "      --fill-color: #1967D2;\n",
              "      --hover-bg-color: #E2EBFA;\n",
              "      --hover-fill-color: #174EA6;\n",
              "      --disabled-fill-color: #AAA;\n",
              "      --disabled-bg-color: #DDD;\n",
              "  }\n",
              "\n",
              "  [theme=dark] .colab-df-quickchart {\n",
              "      --bg-color: #3B4455;\n",
              "      --fill-color: #D2E3FC;\n",
              "      --hover-bg-color: #434B5C;\n",
              "      --hover-fill-color: #FFFFFF;\n",
              "      --disabled-bg-color: #3B4455;\n",
              "      --disabled-fill-color: #666;\n",
              "  }\n",
              "\n",
              "  .colab-df-quickchart {\n",
              "    background-color: var(--bg-color);\n",
              "    border: none;\n",
              "    border-radius: 50%;\n",
              "    cursor: pointer;\n",
              "    display: none;\n",
              "    fill: var(--fill-color);\n",
              "    height: 32px;\n",
              "    padding: 0;\n",
              "    width: 32px;\n",
              "  }\n",
              "\n",
              "  .colab-df-quickchart:hover {\n",
              "    background-color: var(--hover-bg-color);\n",
              "    box-shadow: 0 1px 2px rgba(60, 64, 67, 0.3), 0 1px 3px 1px rgba(60, 64, 67, 0.15);\n",
              "    fill: var(--button-hover-fill-color);\n",
              "  }\n",
              "\n",
              "  .colab-df-quickchart-complete:disabled,\n",
              "  .colab-df-quickchart-complete:disabled:hover {\n",
              "    background-color: var(--disabled-bg-color);\n",
              "    fill: var(--disabled-fill-color);\n",
              "    box-shadow: none;\n",
              "  }\n",
              "\n",
              "  .colab-df-spinner {\n",
              "    border: 2px solid var(--fill-color);\n",
              "    border-color: transparent;\n",
              "    border-bottom-color: var(--fill-color);\n",
              "    animation:\n",
              "      spin 1s steps(1) infinite;\n",
              "  }\n",
              "\n",
              "  @keyframes spin {\n",
              "    0% {\n",
              "      border-color: transparent;\n",
              "      border-bottom-color: var(--fill-color);\n",
              "      border-left-color: var(--fill-color);\n",
              "    }\n",
              "    20% {\n",
              "      border-color: transparent;\n",
              "      border-left-color: var(--fill-color);\n",
              "      border-top-color: var(--fill-color);\n",
              "    }\n",
              "    30% {\n",
              "      border-color: transparent;\n",
              "      border-left-color: var(--fill-color);\n",
              "      border-top-color: var(--fill-color);\n",
              "      border-right-color: var(--fill-color);\n",
              "    }\n",
              "    40% {\n",
              "      border-color: transparent;\n",
              "      border-right-color: var(--fill-color);\n",
              "      border-top-color: var(--fill-color);\n",
              "    }\n",
              "    60% {\n",
              "      border-color: transparent;\n",
              "      border-right-color: var(--fill-color);\n",
              "    }\n",
              "    80% {\n",
              "      border-color: transparent;\n",
              "      border-right-color: var(--fill-color);\n",
              "      border-bottom-color: var(--fill-color);\n",
              "    }\n",
              "    90% {\n",
              "      border-color: transparent;\n",
              "      border-bottom-color: var(--fill-color);\n",
              "    }\n",
              "  }\n",
              "</style>\n",
              "\n",
              "  <script>\n",
              "    async function quickchart(key) {\n",
              "      const quickchartButtonEl =\n",
              "        document.querySelector('#' + key + ' button');\n",
              "      quickchartButtonEl.disabled = true;  // To prevent multiple clicks.\n",
              "      quickchartButtonEl.classList.add('colab-df-spinner');\n",
              "      try {\n",
              "        const charts = await google.colab.kernel.invokeFunction(\n",
              "            'suggestCharts', [key], {});\n",
              "      } catch (error) {\n",
              "        console.error('Error during call to suggestCharts:', error);\n",
              "      }\n",
              "      quickchartButtonEl.classList.remove('colab-df-spinner');\n",
              "      quickchartButtonEl.classList.add('colab-df-quickchart-complete');\n",
              "    }\n",
              "    (() => {\n",
              "      let quickchartButtonEl =\n",
              "        document.querySelector('#df-bd095ae0-77b6-4395-8a91-5d4ddc6e0dfa button');\n",
              "      quickchartButtonEl.style.display =\n",
              "        google.colab.kernel.accessAllowed ? 'block' : 'none';\n",
              "    })();\n",
              "  </script>\n",
              "</div>\n",
              "\n",
              "    </div>\n",
              "  </div>\n"
            ],
            "application/vnd.google.colaboratory.intrinsic+json": {
              "type": "dataframe",
              "variable_name": "bitcoin_prices_windowed",
              "summary": "{\n  \"name\": \"bitcoin_prices_windowed\",\n  \"rows\": 3494,\n  \"fields\": [\n    {\n      \"column\": \"Date\",\n      \"properties\": {\n        \"dtype\": \"date\",\n        \"min\": \"2014-09-17 00:00:00\",\n        \"max\": \"2024-04-10 00:00:00\",\n        \"num_unique_values\": 3494,\n        \"samples\": [\n          \"2020-01-14 00:00:00\",\n          \"2023-12-02 00:00:00\",\n          \"2021-12-18 00:00:00\"\n        ],\n        \"semantic_type\": \"\",\n        \"description\": \"\"\n      }\n    },\n    {\n      \"column\": \"price\",\n      \"properties\": {\n        \"dtype\": \"number\",\n        \"std\": 17446.49642536998,\n        \"min\": 178.10299682617188,\n        \"max\": 73083.5,\n        \"num_unique_values\": 3491,\n        \"samples\": [\n          284.8940124511719,\n          606.5900268554688,\n          1316.47998046875\n        ],\n        \"semantic_type\": \"\",\n        \"description\": \"\"\n      }\n    },\n    {\n      \"column\": \"Volume\",\n      \"properties\": {\n        \"dtype\": \"number\",\n        \"std\": 19268631954,\n        \"min\": 5914570,\n        \"max\": 350967941479,\n        \"num_unique_values\": 3494,\n        \"samples\": [\n          44841784107,\n          15534035612,\n          26098292690\n        ],\n        \"semantic_type\": \"\",\n        \"description\": \"\"\n      }\n    },\n    {\n      \"column\": \"Price+1\",\n      \"properties\": {\n        \"dtype\": \"number\",\n        \"std\": 17424.296343932303,\n        \"min\": 178.10299682617188,\n        \"max\": 73083.5,\n        \"num_unique_values\": 3490,\n        \"samples\": [\n          284.8940124511719,\n          27000.7890625,\n          41364.6640625\n        ],\n        \"semantic_type\": \"\",\n        \"description\": \"\"\n      }\n    },\n    {\n      \"column\": \"Price+2\",\n      \"properties\": {\n        \"dtype\": \"number\",\n        \"std\": 17403.332207517404,\n        \"min\": 178.10299682617188,\n        \"max\": 73083.5,\n        \"num_unique_values\": 3489,\n        \"samples\": [\n          284.8940124511719,\n          23843.88671875,\n          42240.1171875\n        ],\n        \"semantic_type\": \"\",\n        \"description\": \"\"\n      }\n    },\n    {\n      \"column\": \"Price+3\",\n      \"properties\": {\n        \"dtype\": \"number\",\n        \"std\": 17380.070726166745,\n        \"min\": 178.10299682617188,\n        \"max\": 73083.5,\n        \"num_unique_values\": 3488,\n        \"samples\": [\n          284.8940124511719,\n          22930.548828125,\n          41929.7578125\n        ],\n        \"semantic_type\": \"\",\n        \"description\": \"\"\n      }\n    },\n    {\n      \"column\": \"Price+4\",\n      \"properties\": {\n        \"dtype\": \"number\",\n        \"std\": 17358.8031113329,\n        \"min\": 178.10299682617188,\n        \"max\": 73083.5,\n        \"num_unique_values\": 3487,\n        \"samples\": [\n          286.39300537109375,\n          11784.1376953125,\n          29275.30859375\n        ],\n        \"semantic_type\": \"\",\n        \"description\": \"\"\n      }\n    },\n    {\n      \"column\": \"Price+5\",\n      \"properties\": {\n        \"dtype\": \"number\",\n        \"std\": 17337.895837239037,\n        \"min\": 178.10299682617188,\n        \"max\": 73083.5,\n        \"num_unique_values\": 3486,\n        \"samples\": [\n          286.39300537109375,\n          11584.9345703125,\n          29356.91796875\n        ],\n        \"semantic_type\": \"\",\n        \"description\": \"\"\n      }\n    },\n    {\n      \"column\": \"Price+6\",\n      \"properties\": {\n        \"dtype\": \"number\",\n        \"std\": 17317.8617181216,\n        \"min\": 178.10299682617188,\n        \"max\": 73083.5,\n        \"num_unique_values\": 3485,\n        \"samples\": [\n          10214.3798828125,\n          9194.849609375,\n          428.59100341796875\n        ],\n        \"semantic_type\": \"\",\n        \"description\": \"\"\n      }\n    },\n    {\n      \"column\": \"Price+7\",\n      \"properties\": {\n        \"dtype\": \"number\",\n        \"std\": 17297.19524436369,\n        \"min\": 178.10299682617188,\n        \"max\": 73083.5,\n        \"num_unique_values\": 3484,\n        \"samples\": [\n          49150.53515625,\n          9194.849609375,\n          428.59100341796875\n        ],\n        \"semantic_type\": \"\",\n        \"description\": \"\"\n      }\n    }\n  ]\n}"
            }
          },
          "metadata": {},
          "execution_count": 13
        }
      ]
    },
    {
      "cell_type": "code",
      "source": [
        "### Seperating the Dataset"
      ],
      "metadata": {
        "id": "1kWKFk4OWNsx"
      },
      "execution_count": 14,
      "outputs": []
    },
    {
      "cell_type": "markdown",
      "source": [
        "##### Creating X and Y Files For The Price"
      ],
      "metadata": {
        "id": "BfsY7abdVVnJ"
      }
    },
    {
      "cell_type": "code",
      "source": [
        "X = bitcoin_prices_windowed.dropna().drop(\"price\", axis=1).astype(np.float32)\n",
        "y = bitcoin_prices_windowed.dropna()[\"price\"].astype(np.float32)\n",
        "X.head()"
      ],
      "metadata": {
        "colab": {
          "base_uri": "https://localhost:8080/",
          "height": 237
        },
        "id": "Yr3y865OWarh",
        "outputId": "079f630d-33c2-4bc6-e5bf-b8e1936e3e23"
      },
      "execution_count": 15,
      "outputs": [
        {
          "output_type": "execute_result",
          "data": {
            "text/plain": [
              "                Volume     Price+1     Price+2     Price+3     Price+4  \\\n",
              "Date                                                                     \n",
              "2014-09-24  30627700.0  435.790985  402.152008  398.821014  408.903992   \n",
              "2014-09-25  26814400.0  423.204987  435.790985  402.152008  398.821014   \n",
              "2014-09-26  21460800.0  411.574005  423.204987  435.790985  402.152008   \n",
              "2014-09-27  15029300.0  404.424988  411.574005  423.204987  435.790985   \n",
              "2014-09-28  23613300.0  399.519989  404.424988  411.574005  423.204987   \n",
              "\n",
              "               Price+5     Price+6     Price+7  \n",
              "Date                                            \n",
              "2014-09-24  394.795990  424.440002  457.334015  \n",
              "2014-09-25  408.903992  394.795990  424.440002  \n",
              "2014-09-26  398.821014  408.903992  394.795990  \n",
              "2014-09-27  402.152008  398.821014  408.903992  \n",
              "2014-09-28  435.790985  402.152008  398.821014  "
            ],
            "text/html": [
              "\n",
              "  <div id=\"df-8b5f1fca-a6cc-4baf-85c8-4cb4ae3c1a5a\" class=\"colab-df-container\">\n",
              "    <div>\n",
              "<style scoped>\n",
              "    .dataframe tbody tr th:only-of-type {\n",
              "        vertical-align: middle;\n",
              "    }\n",
              "\n",
              "    .dataframe tbody tr th {\n",
              "        vertical-align: top;\n",
              "    }\n",
              "\n",
              "    .dataframe thead th {\n",
              "        text-align: right;\n",
              "    }\n",
              "</style>\n",
              "<table border=\"1\" class=\"dataframe\">\n",
              "  <thead>\n",
              "    <tr style=\"text-align: right;\">\n",
              "      <th></th>\n",
              "      <th>Volume</th>\n",
              "      <th>Price+1</th>\n",
              "      <th>Price+2</th>\n",
              "      <th>Price+3</th>\n",
              "      <th>Price+4</th>\n",
              "      <th>Price+5</th>\n",
              "      <th>Price+6</th>\n",
              "      <th>Price+7</th>\n",
              "    </tr>\n",
              "    <tr>\n",
              "      <th>Date</th>\n",
              "      <th></th>\n",
              "      <th></th>\n",
              "      <th></th>\n",
              "      <th></th>\n",
              "      <th></th>\n",
              "      <th></th>\n",
              "      <th></th>\n",
              "      <th></th>\n",
              "    </tr>\n",
              "  </thead>\n",
              "  <tbody>\n",
              "    <tr>\n",
              "      <th>2014-09-24</th>\n",
              "      <td>30627700.0</td>\n",
              "      <td>435.790985</td>\n",
              "      <td>402.152008</td>\n",
              "      <td>398.821014</td>\n",
              "      <td>408.903992</td>\n",
              "      <td>394.795990</td>\n",
              "      <td>424.440002</td>\n",
              "      <td>457.334015</td>\n",
              "    </tr>\n",
              "    <tr>\n",
              "      <th>2014-09-25</th>\n",
              "      <td>26814400.0</td>\n",
              "      <td>423.204987</td>\n",
              "      <td>435.790985</td>\n",
              "      <td>402.152008</td>\n",
              "      <td>398.821014</td>\n",
              "      <td>408.903992</td>\n",
              "      <td>394.795990</td>\n",
              "      <td>424.440002</td>\n",
              "    </tr>\n",
              "    <tr>\n",
              "      <th>2014-09-26</th>\n",
              "      <td>21460800.0</td>\n",
              "      <td>411.574005</td>\n",
              "      <td>423.204987</td>\n",
              "      <td>435.790985</td>\n",
              "      <td>402.152008</td>\n",
              "      <td>398.821014</td>\n",
              "      <td>408.903992</td>\n",
              "      <td>394.795990</td>\n",
              "    </tr>\n",
              "    <tr>\n",
              "      <th>2014-09-27</th>\n",
              "      <td>15029300.0</td>\n",
              "      <td>404.424988</td>\n",
              "      <td>411.574005</td>\n",
              "      <td>423.204987</td>\n",
              "      <td>435.790985</td>\n",
              "      <td>402.152008</td>\n",
              "      <td>398.821014</td>\n",
              "      <td>408.903992</td>\n",
              "    </tr>\n",
              "    <tr>\n",
              "      <th>2014-09-28</th>\n",
              "      <td>23613300.0</td>\n",
              "      <td>399.519989</td>\n",
              "      <td>404.424988</td>\n",
              "      <td>411.574005</td>\n",
              "      <td>423.204987</td>\n",
              "      <td>435.790985</td>\n",
              "      <td>402.152008</td>\n",
              "      <td>398.821014</td>\n",
              "    </tr>\n",
              "  </tbody>\n",
              "</table>\n",
              "</div>\n",
              "    <div class=\"colab-df-buttons\">\n",
              "\n",
              "  <div class=\"colab-df-container\">\n",
              "    <button class=\"colab-df-convert\" onclick=\"convertToInteractive('df-8b5f1fca-a6cc-4baf-85c8-4cb4ae3c1a5a')\"\n",
              "            title=\"Convert this dataframe to an interactive table.\"\n",
              "            style=\"display:none;\">\n",
              "\n",
              "  <svg xmlns=\"http://www.w3.org/2000/svg\" height=\"24px\" viewBox=\"0 -960 960 960\">\n",
              "    <path d=\"M120-120v-720h720v720H120Zm60-500h600v-160H180v160Zm220 220h160v-160H400v160Zm0 220h160v-160H400v160ZM180-400h160v-160H180v160Zm440 0h160v-160H620v160ZM180-180h160v-160H180v160Zm440 0h160v-160H620v160Z\"/>\n",
              "  </svg>\n",
              "    </button>\n",
              "\n",
              "  <style>\n",
              "    .colab-df-container {\n",
              "      display:flex;\n",
              "      gap: 12px;\n",
              "    }\n",
              "\n",
              "    .colab-df-convert {\n",
              "      background-color: #E8F0FE;\n",
              "      border: none;\n",
              "      border-radius: 50%;\n",
              "      cursor: pointer;\n",
              "      display: none;\n",
              "      fill: #1967D2;\n",
              "      height: 32px;\n",
              "      padding: 0 0 0 0;\n",
              "      width: 32px;\n",
              "    }\n",
              "\n",
              "    .colab-df-convert:hover {\n",
              "      background-color: #E2EBFA;\n",
              "      box-shadow: 0px 1px 2px rgba(60, 64, 67, 0.3), 0px 1px 3px 1px rgba(60, 64, 67, 0.15);\n",
              "      fill: #174EA6;\n",
              "    }\n",
              "\n",
              "    .colab-df-buttons div {\n",
              "      margin-bottom: 4px;\n",
              "    }\n",
              "\n",
              "    [theme=dark] .colab-df-convert {\n",
              "      background-color: #3B4455;\n",
              "      fill: #D2E3FC;\n",
              "    }\n",
              "\n",
              "    [theme=dark] .colab-df-convert:hover {\n",
              "      background-color: #434B5C;\n",
              "      box-shadow: 0px 1px 3px 1px rgba(0, 0, 0, 0.15);\n",
              "      filter: drop-shadow(0px 1px 2px rgba(0, 0, 0, 0.3));\n",
              "      fill: #FFFFFF;\n",
              "    }\n",
              "  </style>\n",
              "\n",
              "    <script>\n",
              "      const buttonEl =\n",
              "        document.querySelector('#df-8b5f1fca-a6cc-4baf-85c8-4cb4ae3c1a5a button.colab-df-convert');\n",
              "      buttonEl.style.display =\n",
              "        google.colab.kernel.accessAllowed ? 'block' : 'none';\n",
              "\n",
              "      async function convertToInteractive(key) {\n",
              "        const element = document.querySelector('#df-8b5f1fca-a6cc-4baf-85c8-4cb4ae3c1a5a');\n",
              "        const dataTable =\n",
              "          await google.colab.kernel.invokeFunction('convertToInteractive',\n",
              "                                                    [key], {});\n",
              "        if (!dataTable) return;\n",
              "\n",
              "        const docLinkHtml = 'Like what you see? Visit the ' +\n",
              "          '<a target=\"_blank\" href=https://colab.research.google.com/notebooks/data_table.ipynb>data table notebook</a>'\n",
              "          + ' to learn more about interactive tables.';\n",
              "        element.innerHTML = '';\n",
              "        dataTable['output_type'] = 'display_data';\n",
              "        await google.colab.output.renderOutput(dataTable, element);\n",
              "        const docLink = document.createElement('div');\n",
              "        docLink.innerHTML = docLinkHtml;\n",
              "        element.appendChild(docLink);\n",
              "      }\n",
              "    </script>\n",
              "  </div>\n",
              "\n",
              "\n",
              "<div id=\"df-3cb0bc07-aed2-4834-80d9-de00854b7c48\">\n",
              "  <button class=\"colab-df-quickchart\" onclick=\"quickchart('df-3cb0bc07-aed2-4834-80d9-de00854b7c48')\"\n",
              "            title=\"Suggest charts\"\n",
              "            style=\"display:none;\">\n",
              "\n",
              "<svg xmlns=\"http://www.w3.org/2000/svg\" height=\"24px\"viewBox=\"0 0 24 24\"\n",
              "     width=\"24px\">\n",
              "    <g>\n",
              "        <path d=\"M19 3H5c-1.1 0-2 .9-2 2v14c0 1.1.9 2 2 2h14c1.1 0 2-.9 2-2V5c0-1.1-.9-2-2-2zM9 17H7v-7h2v7zm4 0h-2V7h2v10zm4 0h-2v-4h2v4z\"/>\n",
              "    </g>\n",
              "</svg>\n",
              "  </button>\n",
              "\n",
              "<style>\n",
              "  .colab-df-quickchart {\n",
              "      --bg-color: #E8F0FE;\n",
              "      --fill-color: #1967D2;\n",
              "      --hover-bg-color: #E2EBFA;\n",
              "      --hover-fill-color: #174EA6;\n",
              "      --disabled-fill-color: #AAA;\n",
              "      --disabled-bg-color: #DDD;\n",
              "  }\n",
              "\n",
              "  [theme=dark] .colab-df-quickchart {\n",
              "      --bg-color: #3B4455;\n",
              "      --fill-color: #D2E3FC;\n",
              "      --hover-bg-color: #434B5C;\n",
              "      --hover-fill-color: #FFFFFF;\n",
              "      --disabled-bg-color: #3B4455;\n",
              "      --disabled-fill-color: #666;\n",
              "  }\n",
              "\n",
              "  .colab-df-quickchart {\n",
              "    background-color: var(--bg-color);\n",
              "    border: none;\n",
              "    border-radius: 50%;\n",
              "    cursor: pointer;\n",
              "    display: none;\n",
              "    fill: var(--fill-color);\n",
              "    height: 32px;\n",
              "    padding: 0;\n",
              "    width: 32px;\n",
              "  }\n",
              "\n",
              "  .colab-df-quickchart:hover {\n",
              "    background-color: var(--hover-bg-color);\n",
              "    box-shadow: 0 1px 2px rgba(60, 64, 67, 0.3), 0 1px 3px 1px rgba(60, 64, 67, 0.15);\n",
              "    fill: var(--button-hover-fill-color);\n",
              "  }\n",
              "\n",
              "  .colab-df-quickchart-complete:disabled,\n",
              "  .colab-df-quickchart-complete:disabled:hover {\n",
              "    background-color: var(--disabled-bg-color);\n",
              "    fill: var(--disabled-fill-color);\n",
              "    box-shadow: none;\n",
              "  }\n",
              "\n",
              "  .colab-df-spinner {\n",
              "    border: 2px solid var(--fill-color);\n",
              "    border-color: transparent;\n",
              "    border-bottom-color: var(--fill-color);\n",
              "    animation:\n",
              "      spin 1s steps(1) infinite;\n",
              "  }\n",
              "\n",
              "  @keyframes spin {\n",
              "    0% {\n",
              "      border-color: transparent;\n",
              "      border-bottom-color: var(--fill-color);\n",
              "      border-left-color: var(--fill-color);\n",
              "    }\n",
              "    20% {\n",
              "      border-color: transparent;\n",
              "      border-left-color: var(--fill-color);\n",
              "      border-top-color: var(--fill-color);\n",
              "    }\n",
              "    30% {\n",
              "      border-color: transparent;\n",
              "      border-left-color: var(--fill-color);\n",
              "      border-top-color: var(--fill-color);\n",
              "      border-right-color: var(--fill-color);\n",
              "    }\n",
              "    40% {\n",
              "      border-color: transparent;\n",
              "      border-right-color: var(--fill-color);\n",
              "      border-top-color: var(--fill-color);\n",
              "    }\n",
              "    60% {\n",
              "      border-color: transparent;\n",
              "      border-right-color: var(--fill-color);\n",
              "    }\n",
              "    80% {\n",
              "      border-color: transparent;\n",
              "      border-right-color: var(--fill-color);\n",
              "      border-bottom-color: var(--fill-color);\n",
              "    }\n",
              "    90% {\n",
              "      border-color: transparent;\n",
              "      border-bottom-color: var(--fill-color);\n",
              "    }\n",
              "  }\n",
              "</style>\n",
              "\n",
              "  <script>\n",
              "    async function quickchart(key) {\n",
              "      const quickchartButtonEl =\n",
              "        document.querySelector('#' + key + ' button');\n",
              "      quickchartButtonEl.disabled = true;  // To prevent multiple clicks.\n",
              "      quickchartButtonEl.classList.add('colab-df-spinner');\n",
              "      try {\n",
              "        const charts = await google.colab.kernel.invokeFunction(\n",
              "            'suggestCharts', [key], {});\n",
              "      } catch (error) {\n",
              "        console.error('Error during call to suggestCharts:', error);\n",
              "      }\n",
              "      quickchartButtonEl.classList.remove('colab-df-spinner');\n",
              "      quickchartButtonEl.classList.add('colab-df-quickchart-complete');\n",
              "    }\n",
              "    (() => {\n",
              "      let quickchartButtonEl =\n",
              "        document.querySelector('#df-3cb0bc07-aed2-4834-80d9-de00854b7c48 button');\n",
              "      quickchartButtonEl.style.display =\n",
              "        google.colab.kernel.accessAllowed ? 'block' : 'none';\n",
              "    })();\n",
              "  </script>\n",
              "</div>\n",
              "\n",
              "    </div>\n",
              "  </div>\n"
            ],
            "application/vnd.google.colaboratory.intrinsic+json": {
              "type": "dataframe",
              "variable_name": "X",
              "summary": "{\n  \"name\": \"X\",\n  \"rows\": 3487,\n  \"fields\": [\n    {\n      \"column\": \"Date\",\n      \"properties\": {\n        \"dtype\": \"date\",\n        \"min\": \"2014-09-24 00:00:00\",\n        \"max\": \"2024-04-10 00:00:00\",\n        \"num_unique_values\": 3487,\n        \"samples\": [\n          \"2015-03-22 00:00:00\",\n          \"2020-08-17 00:00:00\",\n          \"2023-08-03 00:00:00\"\n        ],\n        \"semantic_type\": \"\",\n        \"description\": \"\"\n      }\n    },\n    {\n      \"column\": \"Volume\",\n      \"properties\": {\n        \"dtype\": \"float32\",\n        \"num_unique_values\": 3487,\n        \"samples\": [\n          18438100.0,\n          28227686400.0,\n          12780357632.0\n        ],\n        \"semantic_type\": \"\",\n        \"description\": \"\"\n      }\n    },\n    {\n      \"column\": \"Price+1\",\n      \"properties\": {\n        \"dtype\": \"float32\",\n        \"num_unique_values\": 3484,\n        \"samples\": [\n          42909.40234375,\n          8630.650390625,\n          458.55499267578125\n        ],\n        \"semantic_type\": \"\",\n        \"description\": \"\"\n      }\n    },\n    {\n      \"column\": \"Price+2\",\n      \"properties\": {\n        \"dtype\": \"float32\",\n        \"num_unique_values\": 3484,\n        \"samples\": [\n          43537.51171875,\n          8223.6796875,\n          450.2820129394531\n        ],\n        \"semantic_type\": \"\",\n        \"description\": \"\"\n      }\n    },\n    {\n      \"column\": \"Price+3\",\n      \"properties\": {\n        \"dtype\": \"float32\",\n        \"num_unique_values\": 3484,\n        \"samples\": [\n          46456.05859375,\n          7916.8798828125,\n          445.73699951171875\n        ],\n        \"semantic_type\": \"\",\n        \"description\": \"\"\n      }\n    },\n    {\n      \"column\": \"Price+4\",\n      \"properties\": {\n        \"dtype\": \"float32\",\n        \"num_unique_values\": 3484,\n        \"samples\": [\n          46760.1875,\n          8338.349609375,\n          449.42498779296875\n        ],\n        \"semantic_type\": \"\",\n        \"description\": \"\"\n      }\n    },\n    {\n      \"column\": \"Price+5\",\n      \"properties\": {\n        \"dtype\": \"float32\",\n        \"num_unique_values\": 3484,\n        \"samples\": [\n          49880.53515625,\n          8300.8603515625,\n          441.3890075683594\n        ],\n        \"semantic_type\": \"\",\n        \"description\": \"\"\n      }\n    },\n    {\n      \"column\": \"Price+6\",\n      \"properties\": {\n        \"dtype\": \"float32\",\n        \"num_unique_values\": 3484,\n        \"samples\": [\n          49716.19140625,\n          8269.8095703125,\n          435.5090026855469\n        ],\n        \"semantic_type\": \"\",\n        \"description\": \"\"\n      }\n    },\n    {\n      \"column\": \"Price+7\",\n      \"properties\": {\n        \"dtype\": \"float32\",\n        \"num_unique_values\": 3484,\n        \"samples\": [\n          49150.53515625,\n          9194.849609375,\n          428.59100341796875\n        ],\n        \"semantic_type\": \"\",\n        \"description\": \"\"\n      }\n    }\n  ]\n}"
            }
          },
          "metadata": {},
          "execution_count": 15
        }
      ]
    },
    {
      "cell_type": "code",
      "source": [
        "y.head()"
      ],
      "metadata": {
        "colab": {
          "base_uri": "https://localhost:8080/"
        },
        "id": "gtM_E5EhWbe3",
        "outputId": "ca6c9686-bb48-4f72-e7fc-4a75177ee3d1"
      },
      "execution_count": 16,
      "outputs": [
        {
          "output_type": "execute_result",
          "data": {
            "text/plain": [
              "Date\n",
              "2014-09-24    423.204987\n",
              "2014-09-25    411.574005\n",
              "2014-09-26    404.424988\n",
              "2014-09-27    399.519989\n",
              "2014-09-28    377.181000\n",
              "Name: price, dtype: float32"
            ]
          },
          "metadata": {},
          "execution_count": 16
        }
      ]
    },
    {
      "cell_type": "code",
      "source": [
        "split_size = int(len(X) * 0.8)\n",
        "X_train, y_train = X[:split_size], y[:split_size]\n",
        "X_test, y_test = X[split_size:], y[split_size:]\n",
        "len(X_train), len(y_train), len(X_test), len(y_test)"
      ],
      "metadata": {
        "colab": {
          "base_uri": "https://localhost:8080/"
        },
        "id": "hwFhYsvmX0qk",
        "outputId": "a23af0f0-7160-4f9a-9647-2dbfef08f2bc"
      },
      "execution_count": 17,
      "outputs": [
        {
          "output_type": "execute_result",
          "data": {
            "text/plain": [
              "(2789, 2789, 698, 698)"
            ]
          },
          "metadata": {},
          "execution_count": 17
        }
      ]
    },
    {
      "cell_type": "code",
      "source": [
        "import tensorflow as tf\n",
        "from tensorflow.keras import layers\n",
        "\n",
        "tf.random.set_seed(42)\n",
        "\n",
        "# Make multivariate time series model\n",
        "model_1 = tf.keras.Sequential([\n",
        "  layers.Dense(128, activation=\"relu\"),\n",
        "  # layers.Dense(128, activation=\"relu\"), # adding an extra layer here should lead to beating the naive model\n",
        "  layers.Dense(HORIZON)\n",
        "], name=\"model_1_dense_multivariate\")\n",
        "\n",
        "# Compile\n",
        "model_1.compile(loss=\"mae\",\n",
        "                optimizer=tf.keras.optimizers.Adam())\n",
        "\n"
      ],
      "metadata": {
        "id": "hlcZiL1tX-F3"
      },
      "execution_count": 18,
      "outputs": []
    },
    {
      "cell_type": "code",
      "source": [
        "import os\n",
        "\n",
        "# Create a function to implement a ModelCheckpoint callback with a specific filename\n",
        "def create_model_checkpoint(model_name, save_path=\"model_experiments\"):\n",
        "  return tf.keras.callbacks.ModelCheckpoint(filepath=os.path.join(save_path, model_name), # create filepath to save model\n",
        "                                            verbose=0, # only output a limited amount of text\n",
        "                                            save_best_only=True)"
      ],
      "metadata": {
        "id": "261PJq37YS8y"
      },
      "execution_count": 19,
      "outputs": []
    },
    {
      "cell_type": "code",
      "source": [
        "history = model_1.fit(X_train, y_train,\n",
        "            epochs=100,\n",
        "            batch_size=128,\n",
        "            verbose=0, # only print 1 line per epoch\n",
        "            validation_data=(X_test, y_test),\n",
        "            callbacks=[create_model_checkpoint(model_name=model_1.name)])"
      ],
      "metadata": {
        "id": "X535eoklYNfn"
      },
      "execution_count": 20,
      "outputs": []
    },
    {
      "cell_type": "markdown",
      "source": [
        "## Training and Validation Loss"
      ],
      "metadata": {
        "id": "u7BoFvZnfBaW"
      }
    },
    {
      "cell_type": "code",
      "source": [
        "\n",
        "plt.plot(history.history['loss'])\n",
        "plt.plot(history.history[\"val_loss\"])\n",
        "plt.show()\n"
      ],
      "metadata": {
        "colab": {
          "base_uri": "https://localhost:8080/",
          "height": 445
        },
        "id": "jYRef-1ieGVW",
        "outputId": "b6ba2f35-9e15-4345-c43b-cb8d43be211e"
      },
      "execution_count": 21,
      "outputs": [
        {
          "output_type": "display_data",
          "data": {
            "text/plain": [
              "<Figure size 640x480 with 1 Axes>"
            ],
            "image/png": "[encoded data removed]"
          },
          "metadata": {}
        }
      ]
    },
    {
      "cell_type": "markdown",
      "source": [
        "#### The Above Loss is the decreasing , our model is not training it is just predicting random numbers"
      ],
      "metadata": {
        "id": "NFXV4BFqVwLu"
      }
    },
    {
      "cell_type": "code",
      "source": [
        "model_1 = tf.keras.models.load_model(\"model_experiments/model_1_dense_multivariate\")\n",
        "model_1.evaluate(X_test, y_test)"
      ],
      "metadata": {
        "colab": {
          "base_uri": "https://localhost:8080/"
        },
        "id": "ligrMtsWYTeo",
        "outputId": "562b236c-cc05-4ecc-fc84-905a10a7af96"
      },
      "execution_count": 22,
      "outputs": [
        {
          "output_type": "stream",
          "name": "stdout",
          "text": [
            "22/22 [==============================] - 0s 2ms/step - loss: 435108.5000\n"
          ]
        },
        {
          "output_type": "execute_result",
          "data": {
            "text/plain": [
              "435108.5"
            ]
          },
          "metadata": {},
          "execution_count": 22
        }
      ]
    },
    {
      "cell_type": "code",
      "source": [
        "# Make predictions on multivariate data\n",
        "model_1_preds = tf.squeeze(model_1.predict(X_test))\n",
        "model_1_preds[:10]"
      ],
      "metadata": {
        "colab": {
          "base_uri": "https://localhost:8080/"
        },
        "id": "AlwZMn8WYvwS",
        "outputId": "2ea18aa4-f8e5-477b-ad19-4a14e9198e8c"
      },
      "execution_count": 23,
      "outputs": [
        {
          "output_type": "stream",
          "name": "stdout",
          "text": [
            "22/22 [==============================] - 0s 1ms/step\n"
          ]
        },
        {
          "output_type": "execute_result",
          "data": {
            "text/plain": [
              "<tf.Tensor: shape=(10,), dtype=float32, numpy=\n",
              "array([-471552., -423808., -544512., -482304., -520320., -563968.,\n",
              "       -511104., -274816., -351360., -525056.], dtype=float32)>"
            ]
          },
          "metadata": {},
          "execution_count": 23
        }
      ]
    },
    {
      "cell_type": "code",
      "source": [
        "def evaluate_preds(y_true, y_pred):\n",
        "  # Make sure float32 (for metric calculations)\n",
        "  y_true = tf.cast(y_true, dtype=tf.float32)\n",
        "  y_pred = tf.cast(y_pred, dtype=tf.float32)\n",
        "\n",
        "  # Calculate various metrics\n",
        "  mae = tf.keras.metrics.mean_absolute_error(y_true, y_pred)\n",
        "  mse = tf.keras.metrics.mean_squared_error(y_true, y_pred) # puts and emphasis on outliers (all errors get squared)\n",
        "  rmse = tf.sqrt(mse)\n",
        "  mape = tf.keras.metrics.mean_absolute_percentage_error(y_true, y_pred)\n",
        "  # mase = mean_absolute_scaled_error(y_true, y_pred)\n",
        "\n",
        "  return {\"mae\": mae.numpy(),\n",
        "          \"mse\": mse.numpy(),\n",
        "          \"rmse\": rmse.numpy(),\n",
        "          \"mape\": mape.numpy()\n",
        "          }"
      ],
      "metadata": {
        "id": "eCArAW4dbRGG"
      },
      "execution_count": 24,
      "outputs": []
    },
    {
      "cell_type": "code",
      "source": [
        "model_1_results = evaluate_preds(y_true=y_test,\n",
        "                                 y_pred=model_1_preds)\n",
        "model_1_results"
      ],
      "metadata": {
        "colab": {
          "base_uri": "https://localhost:8080/"
        },
        "id": "evLNKktwbMxw",
        "outputId": "326045f6-a722-482e-aae1-a84998885c81"
      },
      "execution_count": 25,
      "outputs": [
        {
          "output_type": "execute_result",
          "data": {
            "text/plain": [
              "{'mae': 435117.03, 'mse': 247670520000.0, 'rmse': 497665.06, 'mape': 1637.8231}"
            ]
          },
          "metadata": {},
          "execution_count": 25
        }
      ]
    },
    {
      "cell_type": "code",
      "source": [
        "tf.reduce_mean(y_test).numpy()"
      ],
      "metadata": {
        "colab": {
          "base_uri": "https://localhost:8080/"
        },
        "id": "-NQs13_dbY4X",
        "outputId": "455728ca-6c0d-4ac6-886f-83631f12a327"
      },
      "execution_count": 26,
      "outputs": [
        {
          "output_type": "execute_result",
          "data": {
            "text/plain": [
              "30062.3"
            ]
          },
          "metadata": {},
          "execution_count": 26
        }
      ]
    },
    {
      "cell_type": "markdown",
      "source": [
        "### Model 2 Using LSTM"
      ],
      "metadata": {
        "id": "R2pPIT_mfamK"
      }
    },
    {
      "cell_type": "markdown",
      "source": [
        "Trying to Use LSTM with only price columns"
      ],
      "metadata": {
        "id": "XqSXft_NWOKx"
      }
    },
    {
      "cell_type": "code",
      "source": [
        "X_train.shape, y_train.shape"
      ],
      "metadata": {
        "colab": {
          "base_uri": "https://localhost:8080/"
        },
        "id": "NWdd8_OVXBXn",
        "outputId": "c004bb71-0085-45df-e8ab-a5b148ea2298"
      },
      "execution_count": 27,
      "outputs": [
        {
          "output_type": "execute_result",
          "data": {
            "text/plain": [
              "((2789, 8), (2789,))"
            ]
          },
          "metadata": {},
          "execution_count": 27
        }
      ]
    },
    {
      "cell_type": "code",
      "source": [
        "tf.random.set_seed(42)\n",
        "\n",
        "# Let's build an LSTM model with the Functional API\n",
        "inputs = layers.Input(shape=(WINDOW_SIZE + 1))\n",
        "x = layers.Lambda(lambda x: tf.expand_dims(x, axis=1))(inputs)\n",
        "\n",
        "# x = layers.LSTM(128, activation=\"relu\", return_sequences=True)(x) # this layer will error if the inputs are not the right shape\n",
        "x = layers.LSTM(128, activation=\"relu\")(x) # using the tanh loss function results in a massive error\n",
        "# print(x.shape)\n",
        "# Add another optional dense layer (you could add more of these to see if they improve model performance)\n",
        "# x = layers.Dense(32, activation=\"relu\")(x)\n",
        "output = layers.Dense(HORIZON)(x)\n",
        "model_2 = tf.keras.Model(inputs=inputs, outputs=output, name=\"model_2_lstm\")\n",
        "\n",
        "# Compile model\n",
        "model_2.compile(loss=\"mae\",\n",
        "                optimizer=tf.keras.optimizers.Adam())\n",
        "\n",
        "# Seems when saving the model several warnings are appearing: https://github.com/tensorflow/tensorflow/issues/47554\n",
        "model_2.fit(X_train,\n",
        "            y_train,\n",
        "            epochs=100,\n",
        "            verbose=0,\n",
        "            batch_size=128,\n",
        "            validation_data=(X_test, y_test),\n",
        "            callbacks=[create_model_checkpoint(model_name=model_2.name)])"
      ],
      "metadata": {
        "colab": {
          "base_uri": "https://localhost:8080/"
        },
        "id": "l6RkuMYUbmaW",
        "outputId": "dc944370-da0f-4ba9-9b49-ca5b1ce5e627"
      },
      "execution_count": 28,
      "outputs": [
        {
          "output_type": "execute_result",
          "data": {
            "text/plain": [
              "<keras.src.callbacks.History at 0x79c834541cf0>"
            ]
          },
          "metadata": {},
          "execution_count": 28
        }
      ]
    },
    {
      "cell_type": "code",
      "source": [
        "model_2 = tf.keras.models.load_model(\"model_experiments/model_2_lstm/\")\n",
        "model_2.evaluate(X_test, y_test)"
      ],
      "metadata": {
        "colab": {
          "base_uri": "https://localhost:8080/"
        },
        "id": "MV1Rn6tRmbSP",
        "outputId": "2bf923de-4c65-41bb-e337-ff82552c8e51"
      },
      "execution_count": 29,
      "outputs": [
        {
          "output_type": "stream",
          "name": "stdout",
          "text": [
            "22/22 [==============================] - 0s 3ms/step - loss: 110632.1016\n"
          ]
        },
        {
          "output_type": "execute_result",
          "data": {
            "text/plain": [
              "110632.1015625"
            ]
          },
          "metadata": {},
          "execution_count": 29
        }
      ]
    },
    {
      "cell_type": "code",
      "source": [
        "model_2.summary()"
      ],
      "metadata": {
        "colab": {
          "base_uri": "https://localhost:8080/"
        },
        "id": "mbA3lzTRWjAN",
        "outputId": "6d69f149-10b6-466d-c468-0eed7e514996"
      },
      "execution_count": 30,
      "outputs": [
        {
          "output_type": "stream",
          "name": "stdout",
          "text": [
            "Model: \"model_2_lstm\"\n",
            "_________________________________________________________________\n",
            " Layer (type)                Output Shape              Param #   \n",
            "=================================================================\n",
            " input_1 (InputLayer)        [(None, 8)]               0         \n",
            "                                                                 \n",
            " lambda (Lambda)             (None, 1, 8)              0         \n",
            "                                                                 \n",
            " lstm (LSTM)                 (None, 128)               70144     \n",
            "                                                                 \n",
            " dense_2 (Dense)             (None, 1)                 129       \n",
            "                                                                 \n",
            "=================================================================\n",
            "Total params: 70273 (274.50 KB)\n",
            "Trainable params: 70273 (274.50 KB)\n",
            "Non-trainable params: 0 (0.00 Byte)\n",
            "_________________________________________________________________\n"
          ]
        }
      ]
    },
    {
      "cell_type": "code",
      "source": [
        "def make_preds(model, input_data):\n",
        "  \"\"\"\n",
        "  Uses model to make predictions on input_data.\n",
        "\n",
        "  Parameters\n",
        "  ----------\n",
        "  model: trained model\n",
        "  input_data: windowed input data (same kind of data model was trained on)\n",
        "\n",
        "  Returns model predictions on input_data.\n",
        "  \"\"\"\n",
        "  forecast = model.predict(input_data)\n",
        "  return tf.squeeze(forecast)"
      ],
      "metadata": {
        "id": "FmL3Pox_ne34"
      },
      "execution_count": 31,
      "outputs": []
    },
    {
      "cell_type": "code",
      "source": [
        "model_2_preds = make_preds(model_2, X_test)\n",
        "len(model_2_preds)"
      ],
      "metadata": {
        "colab": {
          "base_uri": "https://localhost:8080/"
        },
        "id": "KI5SMHgsm_8A",
        "outputId": "bb2697ce-bef2-4c0a-d65b-3276c0e9e210"
      },
      "execution_count": 32,
      "outputs": [
        {
          "output_type": "stream",
          "name": "stdout",
          "text": [
            "22/22 [==============================] - 0s 3ms/step\n"
          ]
        },
        {
          "output_type": "execute_result",
          "data": {
            "text/plain": [
              "698"
            ]
          },
          "metadata": {},
          "execution_count": 32
        }
      ]
    },
    {
      "cell_type": "code",
      "source": [
        "model_2_results = evaluate_preds(y_true=tf.squeeze(y_test),\n",
        "                                 y_pred=model_2_preds)\n",
        "model_2_results"
      ],
      "metadata": {
        "colab": {
          "base_uri": "https://localhost:8080/"
        },
        "id": "UsASQJX_nMyC",
        "outputId": "fff6cd55-6d80-4162-a689-46cb153f93a0"
      },
      "execution_count": 33,
      "outputs": [
        {
          "output_type": "execute_result",
          "data": {
            "text/plain": [
              "{'mae': 110632.12, 'mse': 14408894000.0, 'rmse': 120037.055, 'mape': 400.23557}"
            ]
          },
          "metadata": {},
          "execution_count": 33
        }
      ]
    },
    {
      "cell_type": "markdown",
      "source": [
        "### Comparing the two basic Models"
      ],
      "metadata": {
        "id": "4mR50rWBXl_4"
      }
    },
    {
      "cell_type": "code",
      "source": [
        "pd.DataFrame({\n",
        "              \"model_1\": model_1_results[\"mae\"],\n",
        "              \"model_2\": model_2_results[\"mae\"]\n",
        "              }, index=[\"mae\"]).plot(figsize=(10, 7), kind=\"bar\");"
      ],
      "metadata": {
        "colab": {
          "base_uri": "https://localhost:8080/",
          "height": 616
        },
        "id": "3X_IRq7znt0a",
        "outputId": "06acced1-2adb-4ff1-bf4e-073606a98545"
      },
      "execution_count": 34,
      "outputs": [
        {
          "output_type": "display_data",
          "data": {
            "text/plain": [
              "<Figure size 1000x700 with 1 Axes>"
            ],
            "image/png": "[encoded data removed]"
          },
          "metadata": {}
        }
      ]
    },
    {
      "cell_type": "markdown",
      "source": [
        "### Compare to model1  , model_2 error is very low\n",
        "######  As we were using LSTM in model_2"
      ],
      "metadata": {
        "id": "9tvKL4SGXvEU"
      }
    },
    {
      "cell_type": "code",
      "source": [
        "X_train.head()"
      ],
      "metadata": {
        "colab": {
          "base_uri": "https://localhost:8080/",
          "height": 237
        },
        "id": "bQH5koATn-us",
        "outputId": "d249d59c-4f52-4142-858f-55933f7508c2"
      },
      "execution_count": 35,
      "outputs": [
        {
          "output_type": "execute_result",
          "data": {
            "text/plain": [
              "                Volume     Price+1     Price+2     Price+3     Price+4  \\\n",
              "Date                                                                     \n",
              "2014-09-24  30627700.0  435.790985  402.152008  398.821014  408.903992   \n",
              "2014-09-25  26814400.0  423.204987  435.790985  402.152008  398.821014   \n",
              "2014-09-26  21460800.0  411.574005  423.204987  435.790985  402.152008   \n",
              "2014-09-27  15029300.0  404.424988  411.574005  423.204987  435.790985   \n",
              "2014-09-28  23613300.0  399.519989  404.424988  411.574005  423.204987   \n",
              "\n",
              "               Price+5     Price+6     Price+7  \n",
              "Date                                            \n",
              "2014-09-24  394.795990  424.440002  457.334015  \n",
              "2014-09-25  408.903992  394.795990  424.440002  \n",
              "2014-09-26  398.821014  408.903992  394.795990  \n",
              "2014-09-27  402.152008  398.821014  408.903992  \n",
              "2014-09-28  435.790985  402.152008  398.821014  "
            ],
            "text/html": [
              "\n",
              "  <div id=\"df-eb5ed403-9e18-45cd-9304-e31dd8f384b4\" class=\"colab-df-container\">\n",
              "    <div>\n",
              "<style scoped>\n",
              "    .dataframe tbody tr th:only-of-type {\n",
              "        vertical-align: middle;\n",
              "    }\n",
              "\n",
              "    .dataframe tbody tr th {\n",
              "        vertical-align: top;\n",
              "    }\n",
              "\n",
              "    .dataframe thead th {\n",
              "        text-align: right;\n",
              "    }\n",
              "</style>\n",
              "<table border=\"1\" class=\"dataframe\">\n",
              "  <thead>\n",
              "    <tr style=\"text-align: right;\">\n",
              "      <th></th>\n",
              "      <th>Volume</th>\n",
              "      <th>Price+1</th>\n",
              "      <th>Price+2</th>\n",
              "      <th>Price+3</th>\n",
              "      <th>Price+4</th>\n",
              "      <th>Price+5</th>\n",
              "      <th>Price+6</th>\n",
              "      <th>Price+7</th>\n",
              "    </tr>\n",
              "    <tr>\n",
              "      <th>Date</th>\n",
              "      <th></th>\n",
              "      <th></th>\n",
              "      <th></th>\n",
              "      <th></th>\n",
              "      <th></th>\n",
              "      <th></th>\n",
              "      <th></th>\n",
              "      <th></th>\n",
              "    </tr>\n",
              "  </thead>\n",
              "  <tbody>\n",
              "    <tr>\n",
              "      <th>2014-09-24</th>\n",
              "      <td>30627700.0</td>\n",
              "      <td>435.790985</td>\n",
              "      <td>402.152008</td>\n",
              "      <td>398.821014</td>\n",
              "      <td>408.903992</td>\n",
              "      <td>394.795990</td>\n",
              "      <td>424.440002</td>\n",
              "      <td>457.334015</td>\n",
              "    </tr>\n",
              "    <tr>\n",
              "      <th>2014-09-25</th>\n",
              "      <td>26814400.0</td>\n",
              "      <td>423.204987</td>\n",
              "      <td>435.790985</td>\n",
              "      <td>402.152008</td>\n",
              "      <td>398.821014</td>\n",
              "      <td>408.903992</td>\n",
              "      <td>394.795990</td>\n",
              "      <td>424.440002</td>\n",
              "    </tr>\n",
              "    <tr>\n",
              "      <th>2014-09-26</th>\n",
              "      <td>21460800.0</td>\n",
              "      <td>411.574005</td>\n",
              "      <td>423.204987</td>\n",
              "      <td>435.790985</td>\n",
              "      <td>402.152008</td>\n",
              "      <td>398.821014</td>\n",
              "      <td>408.903992</td>\n",
              "      <td>394.795990</td>\n",
              "    </tr>\n",
              "    <tr>\n",
              "      <th>2014-09-27</th>\n",
              "      <td>15029300.0</td>\n",
              "      <td>404.424988</td>\n",
              "      <td>411.574005</td>\n",
              "      <td>423.204987</td>\n",
              "      <td>435.790985</td>\n",
              "      <td>402.152008</td>\n",
              "      <td>398.821014</td>\n",
              "      <td>408.903992</td>\n",
              "    </tr>\n",
              "    <tr>\n",
              "      <th>2014-09-28</th>\n",
              "      <td>23613300.0</td>\n",
              "      <td>399.519989</td>\n",
              "      <td>404.424988</td>\n",
              "      <td>411.574005</td>\n",
              "      <td>423.204987</td>\n",
              "      <td>435.790985</td>\n",
              "      <td>402.152008</td>\n",
              "      <td>398.821014</td>\n",
              "    </tr>\n",
              "  </tbody>\n",
              "</table>\n",
              "</div>\n",
              "    <div class=\"colab-df-buttons\">\n",
              "\n",
              "  <div class=\"colab-df-container\">\n",
              "    <button class=\"colab-df-convert\" onclick=\"convertToInteractive('df-eb5ed403-9e18-45cd-9304-e31dd8f384b4')\"\n",
              "            title=\"Convert this dataframe to an interactive table.\"\n",
              "            style=\"display:none;\">\n",
              "\n",
              "  <svg xmlns=\"http://www.w3.org/2000/svg\" height=\"24px\" viewBox=\"0 -960 960 960\">\n",
              "    <path d=\"M120-120v-720h720v720H120Zm60-500h600v-160H180v160Zm220 220h160v-160H400v160Zm0 220h160v-160H400v160ZM180-400h160v-160H180v160Zm440 0h160v-160H620v160ZM180-180h160v-160H180v160Zm440 0h160v-160H620v160Z\"/>\n",
              "  </svg>\n",
              "    </button>\n",
              "\n",
              "  <style>\n",
              "    .colab-df-container {\n",
              "      display:flex;\n",
              "      gap: 12px;\n",
              "    }\n",
              "\n",
              "    .colab-df-convert {\n",
              "      background-color: #E8F0FE;\n",
              "      border: none;\n",
              "      border-radius: 50%;\n",
              "      cursor: pointer;\n",
              "      display: none;\n",
              "      fill: #1967D2;\n",
              "      height: 32px;\n",
              "      padding: 0 0 0 0;\n",
              "      width: 32px;\n",
              "    }\n",
              "\n",
              "    .colab-df-convert:hover {\n",
              "      background-color: #E2EBFA;\n",
              "      box-shadow: 0px 1px 2px rgba(60, 64, 67, 0.3), 0px 1px 3px 1px rgba(60, 64, 67, 0.15);\n",
              "      fill: #174EA6;\n",
              "    }\n",
              "\n",
              "    .colab-df-buttons div {\n",
              "      margin-bottom: 4px;\n",
              "    }\n",
              "\n",
              "    [theme=dark] .colab-df-convert {\n",
              "      background-color: #3B4455;\n",
              "      fill: #D2E3FC;\n",
              "    }\n",
              "\n",
              "    [theme=dark] .colab-df-convert:hover {\n",
              "      background-color: #434B5C;\n",
              "      box-shadow: 0px 1px 3px 1px rgba(0, 0, 0, 0.15);\n",
              "      filter: drop-shadow(0px 1px 2px rgba(0, 0, 0, 0.3));\n",
              "      fill: #FFFFFF;\n",
              "    }\n",
              "  </style>\n",
              "\n",
              "    <script>\n",
              "      const buttonEl =\n",
              "        document.querySelector('#df-eb5ed403-9e18-45cd-9304-e31dd8f384b4 button.colab-df-convert');\n",
              "      buttonEl.style.display =\n",
              "        google.colab.kernel.accessAllowed ? 'block' : 'none';\n",
              "\n",
              "      async function convertToInteractive(key) {\n",
              "        const element = document.querySelector('#df-eb5ed403-9e18-45cd-9304-e31dd8f384b4');\n",
              "        const dataTable =\n",
              "          await google.colab.kernel.invokeFunction('convertToInteractive',\n",
              "                                                    [key], {});\n",
              "        if (!dataTable) return;\n",
              "\n",
              "        const docLinkHtml = 'Like what you see? Visit the ' +\n",
              "          '<a target=\"_blank\" href=https://colab.research.google.com/notebooks/data_table.ipynb>data table notebook</a>'\n",
              "          + ' to learn more about interactive tables.';\n",
              "        element.innerHTML = '';\n",
              "        dataTable['output_type'] = 'display_data';\n",
              "        await google.colab.output.renderOutput(dataTable, element);\n",
              "        const docLink = document.createElement('div');\n",
              "        docLink.innerHTML = docLinkHtml;\n",
              "        element.appendChild(docLink);\n",
              "      }\n",
              "    </script>\n",
              "  </div>\n",
              "\n",
              "\n",
              "<div id=\"df-d6019ebe-deb6-414d-8135-7b51822e83e9\">\n",
              "  <button class=\"colab-df-quickchart\" onclick=\"quickchart('df-d6019ebe-deb6-414d-8135-7b51822e83e9')\"\n",
              "            title=\"Suggest charts\"\n",
              "            style=\"display:none;\">\n",
              "\n",
              "<svg xmlns=\"http://www.w3.org/2000/svg\" height=\"24px\"viewBox=\"0 0 24 24\"\n",
              "     width=\"24px\">\n",
              "    <g>\n",
              "        <path d=\"M19 3H5c-1.1 0-2 .9-2 2v14c0 1.1.9 2 2 2h14c1.1 0 2-.9 2-2V5c0-1.1-.9-2-2-2zM9 17H7v-7h2v7zm4 0h-2V7h2v10zm4 0h-2v-4h2v4z\"/>\n",
              "    </g>\n",
              "</svg>\n",
              "  </button>\n",
              "\n",
              "<style>\n",
              "  .colab-df-quickchart {\n",
              "      --bg-color: #E8F0FE;\n",
              "      --fill-color: #1967D2;\n",
              "      --hover-bg-color: #E2EBFA;\n",
              "      --hover-fill-color: #174EA6;\n",
              "      --disabled-fill-color: #AAA;\n",
              "      --disabled-bg-color: #DDD;\n",
              "  }\n",
              "\n",
              "  [theme=dark] .colab-df-quickchart {\n",
              "      --bg-color: #3B4455;\n",
              "      --fill-color: #D2E3FC;\n",
              "      --hover-bg-color: #434B5C;\n",
              "      --hover-fill-color: #FFFFFF;\n",
              "      --disabled-bg-color: #3B4455;\n",
              "      --disabled-fill-color: #666;\n",
              "  }\n",
              "\n",
              "  .colab-df-quickchart {\n",
              "    background-color: var(--bg-color);\n",
              "    border: none;\n",
              "    border-radius: 50%;\n",
              "    cursor: pointer;\n",
              "    display: none;\n",
              "    fill: var(--fill-color);\n",
              "    height: 32px;\n",
              "    padding: 0;\n",
              "    width: 32px;\n",
              "  }\n",
              "\n",
              "  .colab-df-quickchart:hover {\n",
              "    background-color: var(--hover-bg-color);\n",
              "    box-shadow: 0 1px 2px rgba(60, 64, 67, 0.3), 0 1px 3px 1px rgba(60, 64, 67, 0.15);\n",
              "    fill: var(--button-hover-fill-color);\n",
              "  }\n",
              "\n",
              "  .colab-df-quickchart-complete:disabled,\n",
              "  .colab-df-quickchart-complete:disabled:hover {\n",
              "    background-color: var(--disabled-bg-color);\n",
              "    fill: var(--disabled-fill-color);\n",
              "    box-shadow: none;\n",
              "  }\n",
              "\n",
              "  .colab-df-spinner {\n",
              "    border: 2px solid var(--fill-color);\n",
              "    border-color: transparent;\n",
              "    border-bottom-color: var(--fill-color);\n",
              "    animation:\n",
              "      spin 1s steps(1) infinite;\n",
              "  }\n",
              "\n",
              "  @keyframes spin {\n",
              "    0% {\n",
              "      border-color: transparent;\n",
              "      border-bottom-color: var(--fill-color);\n",
              "      border-left-color: var(--fill-color);\n",
              "    }\n",
              "    20% {\n",
              "      border-color: transparent;\n",
              "      border-left-color: var(--fill-color);\n",
              "      border-top-color: var(--fill-color);\n",
              "    }\n",
              "    30% {\n",
              "      border-color: transparent;\n",
              "      border-left-color: var(--fill-color);\n",
              "      border-top-color: var(--fill-color);\n",
              "      border-right-color: var(--fill-color);\n",
              "    }\n",
              "    40% {\n",
              "      border-color: transparent;\n",
              "      border-right-color: var(--fill-color);\n",
              "      border-top-color: var(--fill-color);\n",
              "    }\n",
              "    60% {\n",
              "      border-color: transparent;\n",
              "      border-right-color: var(--fill-color);\n",
              "    }\n",
              "    80% {\n",
              "      border-color: transparent;\n",
              "      border-right-color: var(--fill-color);\n",
              "      border-bottom-color: var(--fill-color);\n",
              "    }\n",
              "    90% {\n",
              "      border-color: transparent;\n",
              "      border-bottom-color: var(--fill-color);\n",
              "    }\n",
              "  }\n",
              "</style>\n",
              "\n",
              "  <script>\n",
              "    async function quickchart(key) {\n",
              "      const quickchartButtonEl =\n",
              "        document.querySelector('#' + key + ' button');\n",
              "      quickchartButtonEl.disabled = true;  // To prevent multiple clicks.\n",
              "      quickchartButtonEl.classList.add('colab-df-spinner');\n",
              "      try {\n",
              "        const charts = await google.colab.kernel.invokeFunction(\n",
              "            'suggestCharts', [key], {});\n",
              "      } catch (error) {\n",
              "        console.error('Error during call to suggestCharts:', error);\n",
              "      }\n",
              "      quickchartButtonEl.classList.remove('colab-df-spinner');\n",
              "      quickchartButtonEl.classList.add('colab-df-quickchart-complete');\n",
              "    }\n",
              "    (() => {\n",
              "      let quickchartButtonEl =\n",
              "        document.querySelector('#df-d6019ebe-deb6-414d-8135-7b51822e83e9 button');\n",
              "      quickchartButtonEl.style.display =\n",
              "        google.colab.kernel.accessAllowed ? 'block' : 'none';\n",
              "    })();\n",
              "  </script>\n",
              "</div>\n",
              "\n",
              "    </div>\n",
              "  </div>\n"
            ],
            "application/vnd.google.colaboratory.intrinsic+json": {
              "type": "dataframe",
              "variable_name": "X_train",
              "summary": "{\n  \"name\": \"X_train\",\n  \"rows\": 2789,\n  \"fields\": [\n    {\n      \"column\": \"Date\",\n      \"properties\": {\n        \"dtype\": \"date\",\n        \"min\": \"2014-09-24 00:00:00\",\n        \"max\": \"2022-05-13 00:00:00\",\n        \"num_unique_values\": 2789,\n        \"samples\": [\n          \"2017-09-08 00:00:00\",\n          \"2018-11-19 00:00:00\",\n          \"2018-09-30 00:00:00\"\n        ],\n        \"semantic_type\": \"\",\n        \"description\": \"\"\n      }\n    },\n    {\n      \"column\": \"Volume\",\n      \"properties\": {\n        \"dtype\": \"float32\",\n        \"num_unique_values\": 2789,\n        \"samples\": [\n          2700890112.0,\n          7039560192.0,\n          4002279936.0\n        ],\n        \"semantic_type\": \"\",\n        \"description\": \"\"\n      }\n    },\n    {\n      \"column\": \"Price+1\",\n      \"properties\": {\n        \"dtype\": \"float32\",\n        \"num_unique_values\": 2786,\n        \"samples\": [\n          9800.63671875,\n          39241.12109375,\n          6625.56005859375\n        ],\n        \"semantic_type\": \"\",\n        \"description\": \"\"\n      }\n    },\n    {\n      \"column\": \"Price+2\",\n      \"properties\": {\n        \"dtype\": \"float32\",\n        \"num_unique_values\": 2786,\n        \"samples\": [\n          9656.7177734375,\n          38117.4609375,\n          6601.9599609375\n        ],\n        \"semantic_type\": \"\",\n        \"description\": \"\"\n      }\n    },\n    {\n      \"column\": \"Price+3\",\n      \"properties\": {\n        \"dtype\": \"float32\",\n        \"num_unique_values\": 2786,\n        \"samples\": [\n          9529.8037109375,\n          40458.30859375,\n          6644.1298828125\n        ],\n        \"semantic_type\": \"\",\n        \"description\": \"\"\n      }\n    },\n    {\n      \"column\": \"Price+4\",\n      \"properties\": {\n        \"dtype\": \"float32\",\n        \"num_unique_values\": 2786,\n        \"samples\": [\n          10167.2685546875,\n          39469.29296875,\n          6676.75\n        ],\n        \"semantic_type\": \"\",\n        \"description\": \"\"\n      }\n    },\n    {\n      \"column\": \"Price+5\",\n      \"properties\": {\n        \"dtype\": \"float32\",\n        \"num_unique_values\": 2786,\n        \"samples\": [\n          9461.05859375,\n          39486.73046875,\n          6495.0\n        ],\n        \"semantic_type\": \"\",\n        \"description\": \"\"\n      }\n    },\n    {\n      \"column\": \"Price+6\",\n      \"properties\": {\n        \"dtype\": \"float32\",\n        \"num_unique_values\": 2786,\n        \"samples\": [\n          9700.4140625,\n          39740.3203125,\n          6446.47021484375\n        ],\n        \"semantic_type\": \"\",\n        \"description\": \"\"\n      }\n    },\n    {\n      \"column\": \"Price+7\",\n      \"properties\": {\n        \"dtype\": \"float32\",\n        \"num_unique_values\": 2786,\n        \"samples\": [\n          9439.1240234375,\n          40527.36328125,\n          6595.41015625\n        ],\n        \"semantic_type\": \"\",\n        \"description\": \"\"\n      }\n    }\n  ]\n}"
            }
          },
          "metadata": {},
          "execution_count": 35
        }
      ]
    },
    {
      "cell_type": "markdown",
      "source": [
        "### Creating Model in LSTM with window size 30 and normailzing data  and Volume Feature Here\n"
      ],
      "metadata": {
        "id": "KuYm5Ndgo5TL"
      }
    },
    {
      "cell_type": "code",
      "source": [],
      "metadata": {
        "id": "MCRntJAJob7S"
      },
      "execution_count": 35,
      "outputs": []
    },
    {
      "cell_type": "code",
      "source": [
        "# train_data.shape,test_data.shape"
      ],
      "metadata": {
        "id": "qDAYGNlkrlnZ"
      },
      "execution_count": 36,
      "outputs": []
    },
    {
      "cell_type": "code",
      "source": [
        "# train_data[2]"
      ],
      "metadata": {
        "id": "xlhKqtBNtr5z"
      },
      "execution_count": 37,
      "outputs": []
    },
    {
      "cell_type": "code",
      "source": [
        "import numpy as np\n",
        "from sklearn.preprocessing import MinMaxScaler\n",
        "\n",
        "# Assuming df is your DataFrame with the provided data\n",
        "# Selecting relevant columns\n",
        "data = btc_data_modified[['price']].values\n",
        "\n",
        "# Normalizing the data\n",
        "scaler = MinMaxScaler(feature_range=(0, 1))\n",
        "scaled_data = scaler.fit_transform(data)\n",
        "\n",
        "# Define the sequence length (number of time steps to consider)\n",
        "seq_length = 30\n",
        "\n",
        "# Creating sequences of data\n",
        "X = []\n",
        "y = []\n",
        "for i in range(len(scaled_data) - seq_length):\n",
        "    X.append(scaled_data[i:i+seq_length])  # Sequence of historical data\n",
        "    y.append(scaled_data[i+seq_length, 0])  # Next day's price\n",
        "\n",
        "# Convert lists to numpy arrays\n",
        "X = np.array(X)\n",
        "y = np.array(y)\n",
        "\n",
        "# Reshape X to match the input shape of LSTM (samples, timesteps, features)\n",
        "X = np.reshape(X, (X.shape[0], X.shape[1], 1))  # 2 features: Price and Volume\n"
      ],
      "metadata": {
        "id": "0oJuxPEWV2ti"
      },
      "execution_count": 38,
      "outputs": []
    },
    {
      "cell_type": "code",
      "source": [
        "train_size = int(len(X) * 0.8)\n",
        "X_train, X_test = X[:train_size], X[train_size:]\n",
        "y_train, y_test = y[:train_size], y[train_size:]"
      ],
      "metadata": {
        "id": "_Xno1STVWUYG"
      },
      "execution_count": 39,
      "outputs": []
    },
    {
      "cell_type": "code",
      "source": [
        "(len(X_train)),len(X_test)"
      ],
      "metadata": {
        "colab": {
          "base_uri": "https://localhost:8080/"
        },
        "id": "ZOgMWCW6V5bn",
        "outputId": "c4c7fcea-7db4-4b2a-9e46-29a901fe2284"
      },
      "execution_count": 40,
      "outputs": [
        {
          "output_type": "execute_result",
          "data": {
            "text/plain": [
              "(2771, 693)"
            ]
          },
          "metadata": {},
          "execution_count": 40
        }
      ]
    },
    {
      "cell_type": "code",
      "source": [
        "\n",
        "from tensorflow.keras.models import Sequential\n",
        "from tensorflow.keras.layers import LSTM, Dense\n",
        "\n",
        "\n",
        "\n",
        "model_3 = Sequential([\n",
        "    LSTM(units=50, return_sequences=True, input_shape=(30, 1)),\n",
        "    LSTM(units=50, return_sequences=False),\n",
        "    Dense(units=1)\n",
        "],name=\"model_3\")\n",
        "\n",
        "# Compile the model\n",
        "model_3.compile(optimizer='adam', loss='mean_squared_error')\n",
        "\n",
        "# Train the model\n",
        "history = model_3.fit(X_train, y_train, epochs=10, batch_size=32, validation_data=(X_test, y_test),\n",
        "                      callbacks=[create_model_checkpoint(model_name=model_3.name)])\n",
        "\n",
        "# Plot training history\n",
        "plt.plot(history.history['loss'], label='Training Loss')\n",
        "plt.plot(history.history['val_loss'], label='Validation Loss')\n",
        "plt.xlabel('Epoch')\n",
        "plt.ylabel('Loss')\n",
        "plt.legend()\n",
        "plt.show()\n",
        "\n",
        "# Make predictions\n"
      ],
      "metadata": {
        "colab": {
          "base_uri": "https://localhost:8080/",
          "height": 796
        },
        "id": "0DQyoGcGV7IY",
        "outputId": "21fd2d49-f728-4618-cc16-bc469df44f77"
      },
      "execution_count": 41,
      "outputs": [
        {
          "output_type": "stream",
          "name": "stdout",
          "text": [
            "Epoch 1/10\n",
            "87/87 [==============================] - 14s 122ms/step - loss: 0.0044 - val_loss: 0.0015\n",
            "Epoch 2/10\n",
            "87/87 [==============================] - 9s 101ms/step - loss: 7.2254e-04 - val_loss: 0.0010\n",
            "Epoch 3/10\n",
            "87/87 [==============================] - 2s 29ms/step - loss: 6.4419e-04 - val_loss: 0.0012\n",
            "Epoch 4/10\n",
            "87/87 [==============================] - 10s 111ms/step - loss: 5.3998e-04 - val_loss: 6.8519e-04\n",
            "Epoch 5/10\n",
            "87/87 [==============================] - 2s 29ms/step - loss: 5.9912e-04 - val_loss: 7.4046e-04\n",
            "Epoch 6/10\n",
            "87/87 [==============================] - 3s 29ms/step - loss: 4.5616e-04 - val_loss: 0.0016\n",
            "Epoch 7/10\n",
            "87/87 [==============================] - 9s 101ms/step - loss: 4.6162e-04 - val_loss: 4.9054e-04\n",
            "Epoch 8/10\n",
            "87/87 [==============================] - 3s 29ms/step - loss: 3.8466e-04 - val_loss: 4.9958e-04\n",
            "Epoch 9/10\n",
            "87/87 [==============================] - 3s 29ms/step - loss: 3.1346e-04 - val_loss: 4.9116e-04\n",
            "Epoch 10/10\n",
            "87/87 [==============================] - 10s 113ms/step - loss: 3.1460e-04 - val_loss: 4.6050e-04\n"
          ]
        },
        {
          "output_type": "display_data",
          "data": {
            "text/plain": [
              "<Figure size 640x480 with 1 Axes>"
            ],
            "image/png": "[encoded data removed]"
          },
          "metadata": {}
        }
      ]
    },
    {
      "cell_type": "code",
      "source": [
        "\n",
        "# predictions = model.predict(X_test)\n",
        "predictions = make_preds(model_3, X_test)\n",
        "predictions = scaler.inverse_transform(tf.expand_dims(predictions,axis=1))\n",
        "\n",
        "# Plot actual vs. predicted prices\n",
        "\n",
        "plt.plot(btc_data_modified.index[-len(y_test):], scaler.inverse_transform(y_test.reshape(-1,1)), label='Actual Price')\n",
        "plt.plot(btc_data_modified.index[-len(y_test):], predictions, label='Predicted Price')\n",
        "plt.xlabel('Date')\n",
        "plt.ylabel('Price')\n",
        "plt.legend()\n",
        "plt.show()\n",
        "# model.summary()"
      ],
      "metadata": {
        "colab": {
          "base_uri": "https://localhost:8080/",
          "height": 466
        },
        "id": "4OkV73RPeP6C",
        "outputId": "d18cd650-3e63-4ddf-d7e9-685e990ecf59"
      },
      "execution_count": 42,
      "outputs": [
        {
          "output_type": "stream",
          "name": "stdout",
          "text": [
            "22/22 [==============================] - 1s 11ms/step\n"
          ]
        },
        {
          "output_type": "display_data",
          "data": {
            "text/plain": [
              "<Figure size 640x480 with 1 Axes>"
            ],
            "image/png": "[encoded data removed]"
          },
          "metadata": {}
        }
      ]
    },
    {
      "cell_type": "markdown",
      "source": [
        "### By Visualizing\n",
        "\n",
        "Our Predicited Line is lagging behind the Predicted Line"
      ],
      "metadata": {
        "id": "pZE9P-0OZLAd"
      }
    },
    {
      "cell_type": "code",
      "source": [
        "model_3_results = evaluate_preds(y_true=tf.squeeze(y_test),\n",
        "                                 y_pred=tf.squeeze(predictions))\n",
        "model_3_results"
      ],
      "metadata": {
        "colab": {
          "base_uri": "https://localhost:8080/"
        },
        "id": "5A4UWQ8MepIu",
        "outputId": "cdca4348-9d8f-4e73-f502-33e3527f061c"
      },
      "execution_count": 43,
      "outputs": [
        {
          "output_type": "execute_result",
          "data": {
            "text/plain": [
              "{'mae': 30746.857, 'mse': 1100057200.0, 'rmse': 33167.11, 'mape': 7553718.0}"
            ]
          },
          "metadata": {},
          "execution_count": 43
        }
      ]
    },
    {
      "cell_type": "markdown",
      "source": [
        "#### Comparing the all Models Errors"
      ],
      "metadata": {
        "id": "nwt1wBEBbPKf"
      }
    },
    {
      "cell_type": "code",
      "source": [
        "models_results_list = [model_1_results, model_2_results,model_3_results]\n",
        "\n",
        "def compare_models_results(models_results_list,error_name):\n",
        "   model_values = {}\n",
        "   for i in range(1,len(models_results_list)+1):\n",
        "      key_name = f\"model_{i}\"\n",
        "      value_name = models_results_list[i-1][error_name]\n",
        "\n",
        "\n",
        "      model_values[key_name] = value_name\n",
        "\n",
        "   print(model_values)\n",
        "\n",
        "   return pd.DataFrame(model_values,index=[\"mae\"]).plot(figsize=(10, 7), kind=\"bar\");\n",
        "\n",
        "compare_models_results(models_results_list,\"mae\")\n",
        "\n",
        "\n"
      ],
      "metadata": {
        "colab": {
          "base_uri": "https://localhost:8080/",
          "height": 651
        },
        "id": "m8dhwGnMbOqq",
        "outputId": "98e7cab0-e505-47da-a726-57cb85a3499f"
      },
      "execution_count": 44,
      "outputs": [
        {
          "output_type": "stream",
          "name": "stdout",
          "text": [
            "{'model_1': 435117.03, 'model_2': 110632.12, 'model_3': 30746.857}\n"
          ]
        },
        {
          "output_type": "execute_result",
          "data": {
            "text/plain": [
              "<Axes: >"
            ]
          },
          "metadata": {},
          "execution_count": 44
        },
        {
          "output_type": "display_data",
          "data": {
            "text/plain": [
              "<Figure size 1000x700 with 1 Axes>"
            ],
            "image/png": "[encoded data removed]"
          },
          "metadata": {}
        }
      ]
    },
    {
      "cell_type": "markdown",
      "source": [
        "#### Now We are trying add One More Feature"
      ],
      "metadata": {
        "id": "R5HofkzFgkZS"
      }
    },
    {
      "cell_type": "markdown",
      "source": [],
      "metadata": {
        "id": "FxEbKOgjZqcu"
      }
    },
    {
      "cell_type": "code",
      "source": [],
      "metadata": {
        "id": "FfOfDEr5e2BX"
      },
      "execution_count": 44,
      "outputs": []
    },
    {
      "cell_type": "code",
      "source": [],
      "metadata": {
        "id": "-zrWFPtCgF7O"
      },
      "execution_count": 44,
      "outputs": []
    },
    {
      "cell_type": "markdown",
      "source": [
        "### Creating Dataset for LSTM\n",
        "\n",
        "#### with Volume and Price Feature\n"
      ],
      "metadata": {
        "id": "Bkizf1drsIKj"
      }
    },
    {
      "cell_type": "code",
      "source": [],
      "metadata": {
        "id": "skg4286MgRb2"
      },
      "execution_count": 44,
      "outputs": []
    },
    {
      "cell_type": "code",
      "source": [
        "import numpy as np\n",
        "import pandas as pd\n",
        "from sklearn.preprocessing import MinMaxScaler\n",
        "from tensorflow.keras.models import Sequential\n",
        "from tensorflow.keras.layers import LSTM, Dense\n",
        "\n",
        "price_data = btc_data_modified['price'].values\n",
        "volume_data = btc_data_modified['Volume'].values\n",
        "\n",
        "# Reshape data to make it compatible with LSTM input shape (samples, timesteps, features)\n",
        "# Here, we'll use historical prices and volumes as input features\n",
        "seq_length = 10  # Number of historical data points to consider\n",
        "X_price, X_volume, y = [], [], []\n",
        "for i in range(len(price_data) - seq_length):\n",
        "    X_price.append(price_data[i:i+seq_length])    # Sequence of historical prices\n",
        "    X_volume.append(volume_data[i:i+seq_length])  # Sequence of historical volumes\n",
        "    y.append(price_data[i+seq_length])            # Next day's price (target)\n",
        "\n",
        "X_price = np.array(X_price)\n",
        "X_volume = np.array(X_volume)\n",
        "y = np.array(y)\n",
        "\n",
        "# Reshape input data to match LSTM input shape (samples, timesteps, features)\n",
        "X_price = np.reshape(X_price, (-1, X_price.shape[-1]))  # Flatten timesteps dimension\n",
        "X_volume = np.reshape(X_volume, (-1, X_volume.shape[-1]))  # Flatten timesteps dimension\n",
        "\n",
        "# Normalize data using MinMaxScaler\n",
        "scaler_price = MinMaxScaler(feature_range=(0, 1))\n",
        "scaler_volume = MinMaxScaler(feature_range=(0, 1))\n",
        "X_price_scaled = scaler_price.fit_transform(X_price)\n",
        "X_volume_scaled = scaler_volume.fit_transform(X_volume)\n",
        "y_scaled = scaler_price.fit_transform(y.reshape(-1, 1))  # Reshape y to 2D array for scaling\n",
        "\n",
        "# Reshape input data back to original shape\n",
        "X_price_scaled = np.reshape(X_price_scaled, (X_price.shape[0], -1, X_price.shape[-1]))\n",
        "X_volume_scaled = np.reshape(X_volume_scaled, (X_volume.shape[0], -1, X_volume.shape[-1]))\n",
        "\n",
        "# Concatenate price and volume features\n",
        "X = np.concatenate((X_price_scaled, X_volume_scaled), axis=-1)\n",
        "\n",
        "# Split data into training and testing sets\n",
        "split_index = int(0.8 * len(X))\n",
        "X_train, X_test = X[:split_index], X[split_index:]\n",
        "y_train, y_test = y_scaled[:split_index], y_scaled[split_index:]\n",
        "\n",
        "# Build the LSTM model\n",
        "model_4 = Sequential([\n",
        "    LSTM(units=50, return_sequences=True, input_shape=(X_train.shape[1], X_train.shape[2])),\n",
        "    LSTM(units=50, return_sequences=False),\n",
        "    Dense(units=1)  # Output layer with 1 neuron for predicting the next day's price\n",
        "],name=\"model_4\")\n",
        "\n",
        "# Compile the model\n",
        "model_4.compile(optimizer='adam', loss='mean_squared_error')\n",
        "\n",
        "# Train the model\n",
        "history = model_4.fit(X_train, y_train, epochs=100, batch_size=32, verbose=1,validation_data=(X_test, y_test),callbacks=[create_model_checkpoint(model_name= model_4.name)])\n",
        "\n",
        "# Evaluate the model on test data\n",
        "\n",
        "\n",
        "\n",
        "plt.plot(history.history['loss'], label='Training Loss')\n",
        "plt.plot(history.history['val_loss'], label='Validation Loss')\n",
        "plt.xlabel('Epoch')\n",
        "plt.ylabel('Loss')\n",
        "plt.legend()\n",
        "plt.show()"
      ],
      "metadata": {
        "colab": {
          "base_uri": "https://localhost:8080/",
          "height": 1000
        },
        "id": "8AR7dwiHgUvH",
        "outputId": "e2e54e8f-2e43-4273-9b3d-8b5dc12c67ec"
      },
      "execution_count": 45,
      "outputs": [
        {
          "output_type": "stream",
          "name": "stdout",
          "text": [
            "Epoch 1/100\n",
            "88/88 [==============================] - 11s 88ms/step - loss: 0.0162 - val_loss: 0.0027\n",
            "Epoch 2/100\n",
            "88/88 [==============================] - 8s 88ms/step - loss: 6.8217e-04 - val_loss: 0.0013\n",
            "Epoch 3/100\n",
            "88/88 [==============================] - 7s 78ms/step - loss: 5.2880e-04 - val_loss: 0.0010\n",
            "Epoch 4/100\n",
            "88/88 [==============================] - 8s 89ms/step - loss: 4.5871e-04 - val_loss: 5.5455e-04\n",
            "Epoch 5/100\n",
            "88/88 [==============================] - 7s 78ms/step - loss: 4.0837e-04 - val_loss: 5.4817e-04\n",
            "Epoch 6/100\n",
            "88/88 [==============================] - 8s 90ms/step - loss: 4.1112e-04 - val_loss: 5.3079e-04\n",
            "Epoch 7/100\n",
            "88/88 [==============================] - 7s 79ms/step - loss: 3.5343e-04 - val_loss: 5.2650e-04\n",
            "Epoch 8/100\n",
            "88/88 [==============================] - 7s 78ms/step - loss: 3.1946e-04 - val_loss: 4.3861e-04\n",
            "Epoch 9/100\n",
            "88/88 [==============================] - 1s 6ms/step - loss: 2.9723e-04 - val_loss: 6.5793e-04\n",
            "Epoch 10/100\n",
            "88/88 [==============================] - 1s 7ms/step - loss: 2.6563e-04 - val_loss: 0.0011\n",
            "Epoch 11/100\n",
            "88/88 [==============================] - 8s 91ms/step - loss: 2.5248e-04 - val_loss: 4.0389e-04\n",
            "Epoch 12/100\n",
            "88/88 [==============================] - 0s 6ms/step - loss: 2.3397e-04 - val_loss: 4.6463e-04\n",
            "Epoch 13/100\n",
            "88/88 [==============================] - 7s 78ms/step - loss: 2.4474e-04 - val_loss: 3.1859e-04\n",
            "Epoch 14/100\n",
            "88/88 [==============================] - 8s 87ms/step - loss: 2.2566e-04 - val_loss: 3.0739e-04\n",
            "Epoch 15/100\n",
            "88/88 [==============================] - 1s 6ms/step - loss: 2.2348e-04 - val_loss: 3.2619e-04\n",
            "Epoch 16/100\n",
            "88/88 [==============================] - 7s 78ms/step - loss: 2.0596e-04 - val_loss: 2.8844e-04\n",
            "Epoch 17/100\n",
            "88/88 [==============================] - 0s 6ms/step - loss: 1.9926e-04 - val_loss: 4.0793e-04\n",
            "Epoch 18/100\n",
            "88/88 [==============================] - 1s 6ms/step - loss: 2.5831e-04 - val_loss: 3.1937e-04\n",
            "Epoch 19/100\n",
            "88/88 [==============================] - 1s 6ms/step - loss: 1.9697e-04 - val_loss: 8.1298e-04\n",
            "Epoch 20/100\n",
            "88/88 [==============================] - 1s 6ms/step - loss: 2.2803e-04 - val_loss: 3.1958e-04\n",
            "Epoch 21/100\n",
            "88/88 [==============================] - 7s 77ms/step - loss: 1.9555e-04 - val_loss: 2.7243e-04\n",
            "Epoch 22/100\n",
            "88/88 [==============================] - 1s 6ms/step - loss: 2.1949e-04 - val_loss: 3.0502e-04\n",
            "Epoch 23/100\n",
            "88/88 [==============================] - 1s 6ms/step - loss: 1.9925e-04 - val_loss: 3.3947e-04\n",
            "Epoch 24/100\n",
            "88/88 [==============================] - 1s 6ms/step - loss: 1.9819e-04 - val_loss: 3.0717e-04\n",
            "Epoch 25/100\n",
            "88/88 [==============================] - 1s 6ms/step - loss: 2.0662e-04 - val_loss: 3.0480e-04\n",
            "Epoch 26/100\n",
            "88/88 [==============================] - 1s 6ms/step - loss: 2.0162e-04 - val_loss: 5.0580e-04\n",
            "Epoch 27/100\n",
            "88/88 [==============================] - 1s 6ms/step - loss: 1.8991e-04 - val_loss: 2.9002e-04\n",
            "Epoch 28/100\n",
            "88/88 [==============================] - 0s 5ms/step - loss: 1.8753e-04 - val_loss: 3.1685e-04\n",
            "Epoch 29/100\n",
            "88/88 [==============================] - 1s 6ms/step - loss: 1.7305e-04 - val_loss: 2.7359e-04\n",
            "Epoch 30/100\n",
            "88/88 [==============================] - 1s 6ms/step - loss: 1.8737e-04 - val_loss: 2.9542e-04\n",
            "Epoch 31/100\n",
            "88/88 [==============================] - 1s 6ms/step - loss: 1.7555e-04 - val_loss: 3.4370e-04\n",
            "Epoch 32/100\n",
            "88/88 [==============================] - 1s 6ms/step - loss: 1.8320e-04 - val_loss: 3.3710e-04\n",
            "Epoch 33/100\n",
            "88/88 [==============================] - 1s 6ms/step - loss: 1.8273e-04 - val_loss: 4.9151e-04\n",
            "Epoch 34/100\n",
            "88/88 [==============================] - 1s 6ms/step - loss: 2.5727e-04 - val_loss: 5.6425e-04\n",
            "Epoch 35/100\n",
            "88/88 [==============================] - 1s 6ms/step - loss: 1.8004e-04 - val_loss: 4.0686e-04\n",
            "Epoch 36/100\n",
            "88/88 [==============================] - 8s 89ms/step - loss: 1.8406e-04 - val_loss: 2.4939e-04\n",
            "Epoch 37/100\n",
            "88/88 [==============================] - 0s 5ms/step - loss: 1.7096e-04 - val_loss: 3.3995e-04\n",
            "Epoch 38/100\n",
            "88/88 [==============================] - 0s 6ms/step - loss: 1.8859e-04 - val_loss: 2.9428e-04\n",
            "Epoch 39/100\n",
            "88/88 [==============================] - 7s 77ms/step - loss: 1.6275e-04 - val_loss: 2.3383e-04\n",
            "Epoch 40/100\n",
            "88/88 [==============================] - 1s 6ms/step - loss: 1.7774e-04 - val_loss: 2.4109e-04\n",
            "Epoch 41/100\n",
            "88/88 [==============================] - 1s 6ms/step - loss: 1.8405e-04 - val_loss: 2.5114e-04\n",
            "Epoch 42/100\n",
            "88/88 [==============================] - 1s 6ms/step - loss: 1.7022e-04 - val_loss: 2.4141e-04\n",
            "Epoch 43/100\n",
            "88/88 [==============================] - 8s 87ms/step - loss: 1.7654e-04 - val_loss: 2.1401e-04\n",
            "Epoch 44/100\n",
            "88/88 [==============================] - 0s 6ms/step - loss: 1.7493e-04 - val_loss: 2.6848e-04\n",
            "Epoch 45/100\n",
            "88/88 [==============================] - 1s 6ms/step - loss: 1.7248e-04 - val_loss: 2.4501e-04\n",
            "Epoch 46/100\n",
            "88/88 [==============================] - 1s 6ms/step - loss: 1.6537e-04 - val_loss: 2.4770e-04\n",
            "Epoch 47/100\n",
            "88/88 [==============================] - 0s 6ms/step - loss: 1.6885e-04 - val_loss: 3.1669e-04\n",
            "Epoch 48/100\n",
            "88/88 [==============================] - 1s 6ms/step - loss: 1.7155e-04 - val_loss: 2.1895e-04\n",
            "Epoch 49/100\n",
            "88/88 [==============================] - 1s 6ms/step - loss: 1.5564e-04 - val_loss: 2.2138e-04\n",
            "Epoch 50/100\n",
            "88/88 [==============================] - 1s 6ms/step - loss: 1.5412e-04 - val_loss: 2.1949e-04\n",
            "Epoch 51/100\n",
            "88/88 [==============================] - 1s 6ms/step - loss: 1.6378e-04 - val_loss: 2.3231e-04\n",
            "Epoch 52/100\n",
            "88/88 [==============================] - 1s 6ms/step - loss: 1.6531e-04 - val_loss: 2.1485e-04\n",
            "Epoch 53/100\n",
            "88/88 [==============================] - 7s 78ms/step - loss: 1.6976e-04 - val_loss: 2.0246e-04\n",
            "Epoch 54/100\n",
            "88/88 [==============================] - 0s 6ms/step - loss: 1.6743e-04 - val_loss: 2.3354e-04\n",
            "Epoch 55/100\n",
            "88/88 [==============================] - 1s 6ms/step - loss: 1.5149e-04 - val_loss: 3.5635e-04\n",
            "Epoch 56/100\n",
            "88/88 [==============================] - 1s 6ms/step - loss: 1.5648e-04 - val_loss: 2.1777e-04\n",
            "Epoch 57/100\n",
            "88/88 [==============================] - 1s 6ms/step - loss: 1.4823e-04 - val_loss: 2.1068e-04\n",
            "Epoch 58/100\n",
            "88/88 [==============================] - 1s 6ms/step - loss: 1.6260e-04 - val_loss: 2.1638e-04\n",
            "Epoch 59/100\n",
            "88/88 [==============================] - 1s 6ms/step - loss: 1.4871e-04 - val_loss: 2.2867e-04\n",
            "Epoch 60/100\n",
            "88/88 [==============================] - 1s 6ms/step - loss: 1.4846e-04 - val_loss: 7.2879e-04\n",
            "Epoch 61/100\n",
            "88/88 [==============================] - 1s 6ms/step - loss: 2.2809e-04 - val_loss: 2.2686e-04\n",
            "Epoch 62/100\n",
            "88/88 [==============================] - 1s 6ms/step - loss: 1.7367e-04 - val_loss: 2.2805e-04\n",
            "Epoch 63/100\n",
            "88/88 [==============================] - 1s 6ms/step - loss: 1.6686e-04 - val_loss: 2.1100e-04\n",
            "Epoch 64/100\n",
            "88/88 [==============================] - 0s 6ms/step - loss: 1.4446e-04 - val_loss: 3.5356e-04\n",
            "Epoch 65/100\n",
            "88/88 [==============================] - 1s 6ms/step - loss: 2.4815e-04 - val_loss: 2.3556e-04\n",
            "Epoch 66/100\n",
            "88/88 [==============================] - 0s 6ms/step - loss: 1.4997e-04 - val_loss: 2.1307e-04\n",
            "Epoch 67/100\n",
            "88/88 [==============================] - 1s 6ms/step - loss: 1.4589e-04 - val_loss: 2.2530e-04\n",
            "Epoch 68/100\n",
            "88/88 [==============================] - 8s 87ms/step - loss: 1.6423e-04 - val_loss: 1.9338e-04\n",
            "Epoch 69/100\n",
            "88/88 [==============================] - 1s 6ms/step - loss: 1.6219e-04 - val_loss: 2.9492e-04\n",
            "Epoch 70/100\n",
            "88/88 [==============================] - 0s 5ms/step - loss: 1.4092e-04 - val_loss: 2.3600e-04\n",
            "Epoch 71/100\n",
            "88/88 [==============================] - 1s 6ms/step - loss: 1.4090e-04 - val_loss: 2.1391e-04\n",
            "Epoch 72/100\n",
            "88/88 [==============================] - 1s 6ms/step - loss: 1.4433e-04 - val_loss: 3.2293e-04\n",
            "Epoch 73/100\n",
            "88/88 [==============================] - 1s 6ms/step - loss: 1.6457e-04 - val_loss: 5.0399e-04\n",
            "Epoch 74/100\n",
            "88/88 [==============================] - 1s 6ms/step - loss: 1.4580e-04 - val_loss: 2.2456e-04\n",
            "Epoch 75/100\n",
            "88/88 [==============================] - 1s 6ms/step - loss: 1.4801e-04 - val_loss: 4.1329e-04\n",
            "Epoch 76/100\n",
            "88/88 [==============================] - 1s 6ms/step - loss: 1.5398e-04 - val_loss: 1.9650e-04\n",
            "Epoch 77/100\n",
            "88/88 [==============================] - 1s 6ms/step - loss: 1.6074e-04 - val_loss: 2.3589e-04\n",
            "Epoch 78/100\n",
            "88/88 [==============================] - 1s 6ms/step - loss: 1.4747e-04 - val_loss: 2.3577e-04\n",
            "Epoch 79/100\n",
            "88/88 [==============================] - 1s 6ms/step - loss: 1.6839e-04 - val_loss: 2.9504e-04\n",
            "Epoch 80/100\n",
            "88/88 [==============================] - 1s 6ms/step - loss: 1.6561e-04 - val_loss: 2.1091e-04\n",
            "Epoch 81/100\n",
            "88/88 [==============================] - 0s 6ms/step - loss: 1.4463e-04 - val_loss: 3.6981e-04\n",
            "Epoch 82/100\n",
            "88/88 [==============================] - 7s 77ms/step - loss: 1.4791e-04 - val_loss: 1.9291e-04\n",
            "Epoch 83/100\n",
            "88/88 [==============================] - 1s 6ms/step - loss: 1.3537e-04 - val_loss: 1.9927e-04\n",
            "Epoch 84/100\n",
            "88/88 [==============================] - 0s 5ms/step - loss: 1.3831e-04 - val_loss: 2.0371e-04\n",
            "Epoch 85/100\n",
            "88/88 [==============================] - 7s 78ms/step - loss: 1.4849e-04 - val_loss: 1.9265e-04\n",
            "Epoch 86/100\n",
            "88/88 [==============================] - 1s 6ms/step - loss: 1.5246e-04 - val_loss: 1.9510e-04\n",
            "Epoch 87/100\n",
            "88/88 [==============================] - 1s 6ms/step - loss: 1.3800e-04 - val_loss: 3.7755e-04\n",
            "Epoch 88/100\n",
            "88/88 [==============================] - 1s 6ms/step - loss: 1.4736e-04 - val_loss: 2.3710e-04\n",
            "Epoch 89/100\n",
            "88/88 [==============================] - 1s 6ms/step - loss: 1.4908e-04 - val_loss: 4.3641e-04\n",
            "Epoch 90/100\n",
            "88/88 [==============================] - 1s 6ms/step - loss: 1.4319e-04 - val_loss: 2.1228e-04\n",
            "Epoch 91/100\n",
            "88/88 [==============================] - 1s 6ms/step - loss: 1.4052e-04 - val_loss: 2.0718e-04\n",
            "Epoch 92/100\n",
            "88/88 [==============================] - 1s 6ms/step - loss: 1.4735e-04 - val_loss: 1.9810e-04\n",
            "Epoch 93/100\n",
            "88/88 [==============================] - 0s 5ms/step - loss: 1.4840e-04 - val_loss: 2.0108e-04\n",
            "Epoch 94/100\n",
            "88/88 [==============================] - 0s 6ms/step - loss: 1.4619e-04 - val_loss: 2.0077e-04\n",
            "Epoch 95/100\n",
            "88/88 [==============================] - 8s 90ms/step - loss: 1.4971e-04 - val_loss: 1.8479e-04\n",
            "Epoch 96/100\n",
            "88/88 [==============================] - 0s 6ms/step - loss: 1.7630e-04 - val_loss: 2.6425e-04\n",
            "Epoch 97/100\n",
            "88/88 [==============================] - 0s 6ms/step - loss: 1.7254e-04 - val_loss: 2.2193e-04\n",
            "Epoch 98/100\n",
            "88/88 [==============================] - 0s 5ms/step - loss: 1.3200e-04 - val_loss: 2.7196e-04\n",
            "Epoch 99/100\n",
            "88/88 [==============================] - 0s 6ms/step - loss: 1.4407e-04 - val_loss: 2.0921e-04\n",
            "Epoch 100/100\n",
            "88/88 [==============================] - 1s 6ms/step - loss: 1.7307e-04 - val_loss: 3.9966e-04\n"
          ]
        },
        {
          "output_type": "display_data",
          "data": {
            "text/plain": [
              "<Figure size 640x480 with 1 Axes>"
            ],
            "image/png": "[encoded data removed]"
          },
          "metadata": {}
        }
      ]
    },
    {
      "cell_type": "code",
      "source": [],
      "metadata": {
        "id": "L95Bqs7DghPP"
      },
      "execution_count": 45,
      "outputs": []
    },
    {
      "cell_type": "code",
      "source": [
        "# predictions = model.predict(X_train)\n",
        "\n",
        "predictions = make_preds(model_4, X_test)\n",
        "predictions = scaler.inverse_transform(tf.expand_dims(predictions,axis=1))\n",
        "# Inverse transform predictions to original scale\n",
        "# predictions = scaler_price.inverse_transform(predictions)\n",
        "\n",
        "# Plot actual vs. predicted prices\n",
        "import matplotlib.pyplot as plt\n",
        "plt.plot(btc_data_modified.index[-len(y_test):], scaler_price.inverse_transform(y_test), label='Actual Price')\n",
        "plt.plot(btc_data_modified.index[-len(y_test):], predictions, label='Predicted Price')\n",
        "plt.xlabel('Date')\n",
        "plt.ylabel('Price')\n",
        "plt.title('Actual vs. Predicted Prices For Test Data ')\n",
        "plt.legend()\n",
        "plt.show()"
      ],
      "metadata": {
        "colab": {
          "base_uri": "https://localhost:8080/",
          "height": 489
        },
        "id": "h6jma_s9yvX5",
        "outputId": "3c53925b-e7e8-4cd9-dada-40dd761ae738"
      },
      "execution_count": 46,
      "outputs": [
        {
          "output_type": "stream",
          "name": "stdout",
          "text": [
            "22/22 [==============================] - 1s 3ms/step\n"
          ]
        },
        {
          "output_type": "display_data",
          "data": {
            "text/plain": [
              "<Figure size 640x480 with 1 Axes>"
            ],
            "image/png": "[encoded data removed]"
          },
          "metadata": {}
        }
      ]
    },
    {
      "cell_type": "markdown",
      "source": [
        "#### By adding Volume with Price The Actual and Predicted Line is Almost coincided"
      ],
      "metadata": {
        "id": "8Hfx1fbImF0y"
      }
    },
    {
      "cell_type": "code",
      "source": [
        "# model_4_results"
      ],
      "metadata": {
        "id": "6bhn39UOniv7"
      },
      "execution_count": 47,
      "outputs": []
    },
    {
      "cell_type": "code",
      "source": [
        "model_4_results = evaluate_preds(y_true=tf.squeeze(y_test),\n",
        "                                 y_pred=tf.squeeze(predictions))\n",
        "\n",
        "models_results_list = [model_1_results,model_2_results,model_3_results,model_4_results]\n",
        "# models_results_list.append(model_4_results)\n",
        "compare_models_results(models_results_list,error_name=\"mae\")"
      ],
      "metadata": {
        "colab": {
          "base_uri": "https://localhost:8080/",
          "height": 651
        },
        "id": "t0c3s2C2mQhU",
        "outputId": "6e9cbeea-2bff-4cbd-b7c1-9be7533e0861"
      },
      "execution_count": 48,
      "outputs": [
        {
          "output_type": "stream",
          "name": "stdout",
          "text": [
            "{'model_1': 435117.03, 'model_2': 110632.12, 'model_3': 30746.857, 'model_4': 31130.795}\n"
          ]
        },
        {
          "output_type": "execute_result",
          "data": {
            "text/plain": [
              "<Axes: >"
            ]
          },
          "metadata": {},
          "execution_count": 48
        },
        {
          "output_type": "display_data",
          "data": {
            "text/plain": [
              "<Figure size 1000x700 with 1 Axes>"
            ],
            "image/png": "[encoded data removed]"
          },
          "metadata": {}
        }
      ]
    },
    {
      "cell_type": "code",
      "source": [
        "len(models_results_list)"
      ],
      "metadata": {
        "colab": {
          "base_uri": "https://localhost:8080/"
        },
        "id": "huV2URL5nIOt",
        "outputId": "c44e5b94-37d5-4f21-cde0-9df74727bf62"
      },
      "execution_count": 49,
      "outputs": [
        {
          "output_type": "execute_result",
          "data": {
            "text/plain": [
              "4"
            ]
          },
          "metadata": {},
          "execution_count": 49
        }
      ]
    },
    {
      "cell_type": "code",
      "source": [],
      "metadata": {
        "id": "EceF3XultzYT"
      },
      "execution_count": 49,
      "outputs": []
    },
    {
      "cell_type": "code",
      "source": [
        "### Writing a Function for Getting How Much Error in Prediction\n",
        "\n"
      ],
      "metadata": {
        "id": "0SV-iB1LwImQ"
      },
      "execution_count": 50,
      "outputs": []
    },
    {
      "cell_type": "code",
      "source": [],
      "metadata": {
        "id": "mGLj1Sh1nxsP"
      },
      "execution_count": 50,
      "outputs": []
    },
    {
      "cell_type": "code",
      "source": [],
      "metadata": {
        "id": "1cVQVlU-2CWA"
      },
      "execution_count": 50,
      "outputs": []
    },
    {
      "cell_type": "code",
      "source": [
        "\n"
      ],
      "metadata": {
        "id": "QvPgPkMpwo7X"
      },
      "execution_count": 50,
      "outputs": []
    },
    {
      "cell_type": "code",
      "source": [
        "\n"
      ],
      "metadata": {
        "id": "kM7nSg8kw0aL"
      },
      "execution_count": 50,
      "outputs": []
    },
    {
      "cell_type": "code",
      "source": [
        "\n"
      ],
      "metadata": {
        "id": "PSs7D32a4ArP"
      },
      "execution_count": 50,
      "outputs": []
    },
    {
      "cell_type": "code",
      "source": [],
      "metadata": {
        "id": "jmBfpx6H4CVA"
      },
      "execution_count": 50,
      "outputs": []
    },
    {
      "cell_type": "code",
      "source": [
        "def get_prediction(date, model, bitcoin_data, seq_length=10):\n",
        "    # Convert date to datetime object\n",
        "    date = pd.to_datetime(date)\n",
        "\n",
        "    # Get the index of the date in the data\n",
        "    index = bitcoin_data.index.get_loc(date)\n",
        "\n",
        "    # Extract the last 'seq_length' days of data\n",
        "    last_days_data = bitcoin_data.iloc[index-seq_length:index]\n",
        "\n",
        "    # Extract the price and volume data\n",
        "    price_data = np.array(last_days_data['price'].values).reshape(-1, 1)\n",
        "    volume_data = np.array(last_days_data['Volume'].values).reshape(-1, 1)\n",
        "\n",
        "\n",
        "\n",
        "    scaler_price = MinMaxScaler(feature_range=(0, 1))\n",
        "    scaler_volume = MinMaxScaler(feature_range=(0, 1))\n",
        "    price_scaled = scaler_price.fit_transform(price_data)\n",
        "    volume_scaled = scaler_volume.fit_transform(volume_data)\n",
        "\n",
        "\n",
        "    X_price_scaled = np.reshape(price_scaled, (1, price_data.shape[1],price_data.shape[0]))\n",
        "    X_volume_scaled = np.reshape(volume_scaled, ( 1, volume_data.shape[1],volume_data.shape[0]))\n",
        "\n",
        "\n",
        "    X = np.concatenate((X_price_scaled, X_volume_scaled), axis=2)\n",
        "\n",
        "\n",
        "\n",
        "\n",
        "\n",
        "\n",
        "\n",
        "    prediction = model.predict(X)\n",
        "\n",
        "\n",
        "    prediction = scaler_price.inverse_transform(prediction)\n",
        "\n",
        "\n",
        "    next_day_price = prediction[0][0]\n",
        "    return next_day_price, bitcoin_data.iloc[index][\"price\"]"
      ],
      "metadata": {
        "id": "fI2u84yJ48cR"
      },
      "execution_count": 55,
      "outputs": []
    },
    {
      "cell_type": "code",
      "source": [
        "btc_data_modified.tail()"
      ],
      "metadata": {
        "colab": {
          "base_uri": "https://localhost:8080/",
          "height": 237
        },
        "id": "IWL94_G-oUN-",
        "outputId": "3b5dad04-270b-4c0d-c70c-49a8e405786b"
      },
      "execution_count": 71,
      "outputs": [
        {
          "output_type": "execute_result",
          "data": {
            "text/plain": [
              "                   price       Volume\n",
              "Date                                 \n",
              "2024-04-06  68896.109375  19967785809\n",
              "2024-04-07  69362.554688  21204930369\n",
              "2024-04-08  71631.359375  37261432669\n",
              "2024-04-09  69139.015625  36426900409\n",
              "2024-04-10  70587.882812  38318601774"
            ],
            "text/html": [
              "\n",
              "  <div id=\"df-4cb43848-c8b3-47df-8335-c9c9c478d8ba\" class=\"colab-df-container\">\n",
              "    <div>\n",
              "<style scoped>\n",
              "    .dataframe tbody tr th:only-of-type {\n",
              "        vertical-align: middle;\n",
              "    }\n",
              "\n",
              "    .dataframe tbody tr th {\n",
              "        vertical-align: top;\n",
              "    }\n",
              "\n",
              "    .dataframe thead th {\n",
              "        text-align: right;\n",
              "    }\n",
              "</style>\n",
              "<table border=\"1\" class=\"dataframe\">\n",
              "  <thead>\n",
              "    <tr style=\"text-align: right;\">\n",
              "      <th></th>\n",
              "      <th>price</th>\n",
              "      <th>Volume</th>\n",
              "    </tr>\n",
              "    <tr>\n",
              "      <th>Date</th>\n",
              "      <th></th>\n",
              "      <th></th>\n",
              "    </tr>\n",
              "  </thead>\n",
              "  <tbody>\n",
              "    <tr>\n",
              "      <th>2024-04-06</th>\n",
              "      <td>68896.109375</td>\n",
              "      <td>19967785809</td>\n",
              "    </tr>\n",
              "    <tr>\n",
              "      <th>2024-04-07</th>\n",
              "      <td>69362.554688</td>\n",
              "      <td>21204930369</td>\n",
              "    </tr>\n",
              "    <tr>\n",
              "      <th>2024-04-08</th>\n",
              "      <td>71631.359375</td>\n",
              "      <td>37261432669</td>\n",
              "    </tr>\n",
              "    <tr>\n",
              "      <th>2024-04-09</th>\n",
              "      <td>69139.015625</td>\n",
              "      <td>36426900409</td>\n",
              "    </tr>\n",
              "    <tr>\n",
              "      <th>2024-04-10</th>\n",
              "      <td>70587.882812</td>\n",
              "      <td>38318601774</td>\n",
              "    </tr>\n",
              "  </tbody>\n",
              "</table>\n",
              "</div>\n",
              "    <div class=\"colab-df-buttons\">\n",
              "\n",
              "  <div class=\"colab-df-container\">\n",
              "    <button class=\"colab-df-convert\" onclick=\"convertToInteractive('df-4cb43848-c8b3-47df-8335-c9c9c478d8ba')\"\n",
              "            title=\"Convert this dataframe to an interactive table.\"\n",
              "            style=\"display:none;\">\n",
              "\n",
              "  <svg xmlns=\"http://www.w3.org/2000/svg\" height=\"24px\" viewBox=\"0 -960 960 960\">\n",
              "    <path d=\"M120-120v-720h720v720H120Zm60-500h600v-160H180v160Zm220 220h160v-160H400v160Zm0 220h160v-160H400v160ZM180-400h160v-160H180v160Zm440 0h160v-160H620v160ZM180-180h160v-160H180v160Zm440 0h160v-160H620v160Z\"/>\n",
              "  </svg>\n",
              "    </button>\n",
              "\n",
              "  <style>\n",
              "    .colab-df-container {\n",
              "      display:flex;\n",
              "      gap: 12px;\n",
              "    }\n",
              "\n",
              "    .colab-df-convert {\n",
              "      background-color: #E8F0FE;\n",
              "      border: none;\n",
              "      border-radius: 50%;\n",
              "      cursor: pointer;\n",
              "      display: none;\n",
              "      fill: #1967D2;\n",
              "      height: 32px;\n",
              "      padding: 0 0 0 0;\n",
              "      width: 32px;\n",
              "    }\n",
              "\n",
              "    .colab-df-convert:hover {\n",
              "      background-color: #E2EBFA;\n",
              "      box-shadow: 0px 1px 2px rgba(60, 64, 67, 0.3), 0px 1px 3px 1px rgba(60, 64, 67, 0.15);\n",
              "      fill: #174EA6;\n",
              "    }\n",
              "\n",
              "    .colab-df-buttons div {\n",
              "      margin-bottom: 4px;\n",
              "    }\n",
              "\n",
              "    [theme=dark] .colab-df-convert {\n",
              "      background-color: #3B4455;\n",
              "      fill: #D2E3FC;\n",
              "    }\n",
              "\n",
              "    [theme=dark] .colab-df-convert:hover {\n",
              "      background-color: #434B5C;\n",
              "      box-shadow: 0px 1px 3px 1px rgba(0, 0, 0, 0.15);\n",
              "      filter: drop-shadow(0px 1px 2px rgba(0, 0, 0, 0.3));\n",
              "      fill: #FFFFFF;\n",
              "    }\n",
              "  </style>\n",
              "\n",
              "    <script>\n",
              "      const buttonEl =\n",
              "        document.querySelector('#df-4cb43848-c8b3-47df-8335-c9c9c478d8ba button.colab-df-convert');\n",
              "      buttonEl.style.display =\n",
              "        google.colab.kernel.accessAllowed ? 'block' : 'none';\n",
              "\n",
              "      async function convertToInteractive(key) {\n",
              "        const element = document.querySelector('#df-4cb43848-c8b3-47df-8335-c9c9c478d8ba');\n",
              "        const dataTable =\n",
              "          await google.colab.kernel.invokeFunction('convertToInteractive',\n",
              "                                                    [key], {});\n",
              "        if (!dataTable) return;\n",
              "\n",
              "        const docLinkHtml = 'Like what you see? Visit the ' +\n",
              "          '<a target=\"_blank\" href=https://colab.research.google.com/notebooks/data_table.ipynb>data table notebook</a>'\n",
              "          + ' to learn more about interactive tables.';\n",
              "        element.innerHTML = '';\n",
              "        dataTable['output_type'] = 'display_data';\n",
              "        await google.colab.output.renderOutput(dataTable, element);\n",
              "        const docLink = document.createElement('div');\n",
              "        docLink.innerHTML = docLinkHtml;\n",
              "        element.appendChild(docLink);\n",
              "      }\n",
              "    </script>\n",
              "  </div>\n",
              "\n",
              "\n",
              "<div id=\"df-9f637d08-76d5-4a91-b6cc-1eed210d7fe7\">\n",
              "  <button class=\"colab-df-quickchart\" onclick=\"quickchart('df-9f637d08-76d5-4a91-b6cc-1eed210d7fe7')\"\n",
              "            title=\"Suggest charts\"\n",
              "            style=\"display:none;\">\n",
              "\n",
              "<svg xmlns=\"http://www.w3.org/2000/svg\" height=\"24px\"viewBox=\"0 0 24 24\"\n",
              "     width=\"24px\">\n",
              "    <g>\n",
              "        <path d=\"M19 3H5c-1.1 0-2 .9-2 2v14c0 1.1.9 2 2 2h14c1.1 0 2-.9 2-2V5c0-1.1-.9-2-2-2zM9 17H7v-7h2v7zm4 0h-2V7h2v10zm4 0h-2v-4h2v4z\"/>\n",
              "    </g>\n",
              "</svg>\n",
              "  </button>\n",
              "\n",
              "<style>\n",
              "  .colab-df-quickchart {\n",
              "      --bg-color: #E8F0FE;\n",
              "      --fill-color: #1967D2;\n",
              "      --hover-bg-color: #E2EBFA;\n",
              "      --hover-fill-color: #174EA6;\n",
              "      --disabled-fill-color: #AAA;\n",
              "      --disabled-bg-color: #DDD;\n",
              "  }\n",
              "\n",
              "  [theme=dark] .colab-df-quickchart {\n",
              "      --bg-color: #3B4455;\n",
              "      --fill-color: #D2E3FC;\n",
              "      --hover-bg-color: #434B5C;\n",
              "      --hover-fill-color: #FFFFFF;\n",
              "      --disabled-bg-color: #3B4455;\n",
              "      --disabled-fill-color: #666;\n",
              "  }\n",
              "\n",
              "  .colab-df-quickchart {\n",
              "    background-color: var(--bg-color);\n",
              "    border: none;\n",
              "    border-radius: 50%;\n",
              "    cursor: pointer;\n",
              "    display: none;\n",
              "    fill: var(--fill-color);\n",
              "    height: 32px;\n",
              "    padding: 0;\n",
              "    width: 32px;\n",
              "  }\n",
              "\n",
              "  .colab-df-quickchart:hover {\n",
              "    background-color: var(--hover-bg-color);\n",
              "    box-shadow: 0 1px 2px rgba(60, 64, 67, 0.3), 0 1px 3px 1px rgba(60, 64, 67, 0.15);\n",
              "    fill: var(--button-hover-fill-color);\n",
              "  }\n",
              "\n",
              "  .colab-df-quickchart-complete:disabled,\n",
              "  .colab-df-quickchart-complete:disabled:hover {\n",
              "    background-color: var(--disabled-bg-color);\n",
              "    fill: var(--disabled-fill-color);\n",
              "    box-shadow: none;\n",
              "  }\n",
              "\n",
              "  .colab-df-spinner {\n",
              "    border: 2px solid var(--fill-color);\n",
              "    border-color: transparent;\n",
              "    border-bottom-color: var(--fill-color);\n",
              "    animation:\n",
              "      spin 1s steps(1) infinite;\n",
              "  }\n",
              "\n",
              "  @keyframes spin {\n",
              "    0% {\n",
              "      border-color: transparent;\n",
              "      border-bottom-color: var(--fill-color);\n",
              "      border-left-color: var(--fill-color);\n",
              "    }\n",
              "    20% {\n",
              "      border-color: transparent;\n",
              "      border-left-color: var(--fill-color);\n",
              "      border-top-color: var(--fill-color);\n",
              "    }\n",
              "    30% {\n",
              "      border-color: transparent;\n",
              "      border-left-color: var(--fill-color);\n",
              "      border-top-color: var(--fill-color);\n",
              "      border-right-color: var(--fill-color);\n",
              "    }\n",
              "    40% {\n",
              "      border-color: transparent;\n",
              "      border-right-color: var(--fill-color);\n",
              "      border-top-color: var(--fill-color);\n",
              "    }\n",
              "    60% {\n",
              "      border-color: transparent;\n",
              "      border-right-color: var(--fill-color);\n",
              "    }\n",
              "    80% {\n",
              "      border-color: transparent;\n",
              "      border-right-color: var(--fill-color);\n",
              "      border-bottom-color: var(--fill-color);\n",
              "    }\n",
              "    90% {\n",
              "      border-color: transparent;\n",
              "      border-bottom-color: var(--fill-color);\n",
              "    }\n",
              "  }\n",
              "</style>\n",
              "\n",
              "  <script>\n",
              "    async function quickchart(key) {\n",
              "      const quickchartButtonEl =\n",
              "        document.querySelector('#' + key + ' button');\n",
              "      quickchartButtonEl.disabled = true;  // To prevent multiple clicks.\n",
              "      quickchartButtonEl.classList.add('colab-df-spinner');\n",
              "      try {\n",
              "        const charts = await google.colab.kernel.invokeFunction(\n",
              "            'suggestCharts', [key], {});\n",
              "      } catch (error) {\n",
              "        console.error('Error during call to suggestCharts:', error);\n",
              "      }\n",
              "      quickchartButtonEl.classList.remove('colab-df-spinner');\n",
              "      quickchartButtonEl.classList.add('colab-df-quickchart-complete');\n",
              "    }\n",
              "    (() => {\n",
              "      let quickchartButtonEl =\n",
              "        document.querySelector('#df-9f637d08-76d5-4a91-b6cc-1eed210d7fe7 button');\n",
              "      quickchartButtonEl.style.display =\n",
              "        google.colab.kernel.accessAllowed ? 'block' : 'none';\n",
              "    })();\n",
              "  </script>\n",
              "</div>\n",
              "\n",
              "    </div>\n",
              "  </div>\n"
            ],
            "application/vnd.google.colaboratory.intrinsic+json": {
              "type": "dataframe",
              "summary": "{\n  \"name\": \"btc_data_modified\",\n  \"rows\": 5,\n  \"fields\": [\n    {\n      \"column\": \"Date\",\n      \"properties\": {\n        \"dtype\": \"date\",\n        \"min\": \"2024-04-06 00:00:00\",\n        \"max\": \"2024-04-10 00:00:00\",\n        \"num_unique_values\": 5,\n        \"samples\": [\n          \"2024-04-07 00:00:00\",\n          \"2024-04-10 00:00:00\",\n          \"2024-04-08 00:00:00\"\n        ],\n        \"semantic_type\": \"\",\n        \"description\": \"\"\n      }\n    },\n    {\n      \"column\": \"price\",\n      \"properties\": {\n        \"dtype\": \"number\",\n        \"std\": 1155.8324893824204,\n        \"min\": 68896.109375,\n        \"max\": 71631.359375,\n        \"num_unique_values\": 5,\n        \"samples\": [\n          69362.5546875,\n          70587.8828125,\n          71631.359375\n        ],\n        \"semantic_type\": \"\",\n        \"description\": \"\"\n      }\n    },\n    {\n      \"column\": \"Volume\",\n      \"properties\": {\n        \"dtype\": \"number\",\n        \"std\": 9208815396,\n        \"min\": 19967785809,\n        \"max\": 38318601774,\n        \"num_unique_values\": 5,\n        \"samples\": [\n          21204930369,\n          38318601774,\n          37261432669\n        ],\n        \"semantic_type\": \"\",\n        \"description\": \"\"\n      }\n    }\n  ]\n}"
            }
          },
          "metadata": {},
          "execution_count": 71
        }
      ]
    },
    {
      "cell_type": "code",
      "source": [
        "\n",
        "def day_back():\n",
        "  today = datetime.date.today()\n",
        "  date = today - datetime.timedelta(days=2)\n",
        "  return date\n",
        "\n",
        "def data_download(ticker,start,end):\n",
        "  data = yf.download(ticker,start,end)\n",
        "  return data\n",
        "\n",
        "\n",
        "def day_back_past():\n",
        "  today = datetime.date.today()\n",
        "  date = today - datetime.timedelta(days=3)\n",
        "  return date\n",
        "\n",
        "\n",
        "def get_predict_future(date, model, bitcoin_data, seq_length=10):\n",
        "\n",
        "  # Convert date to datetime object\n",
        "  date = pd.to_datetime(date)\n",
        "\n",
        "  date_past = pd.to_datetime(day_back_past())\n",
        "\n",
        "  # Get the index of the date in the data\n",
        "  index = bitcoin_data.index.get_loc(date)\n",
        "\n",
        "  past_index =  bitcoin_data.index.get_loc(date_past)\n",
        "\n",
        "  last_days_past = bitcoin_data.iloc[past_index-seq_length:past_index]\n",
        "\n",
        "  # Extract the last 'seq_length' days of data\n",
        "  last_days_data = bitcoin_data.iloc[index-seq_length:index]\n",
        "\n",
        "  # Extract the price and volume data\n",
        "  price_data = np.array(last_days_data['price'].values).reshape(-1, 1)\n",
        "  volume_data = np.array(last_days_data['Volume'].values).reshape(-1, 1)\n",
        "\n",
        "  price_data_past = np.array(last_days_past['price'].values).reshape(-1, 1)\n",
        "  volume_data_past = np.array(last_days_past['Volume'].values).reshape(-1, 1)\n",
        "\n",
        "\n",
        "\n",
        "\n",
        "  scaler_price = MinMaxScaler(feature_range=(0, 1))\n",
        "  scaler_volume = MinMaxScaler(feature_range=(0, 1))\n",
        "  price_scaled = scaler_price.fit_transform(price_data)\n",
        "  volume_scaled = scaler_volume.fit_transform(volume_data)\n",
        "\n",
        "  price_scaled_past = scaler_price.fit_transform(price_data_past)\n",
        "  volume_scaled_past = scaler_volume.fit_transform(volume_data_past)\n",
        "\n",
        "\n",
        "\n",
        "\n",
        "\n",
        "  X_price_scaled = np.reshape(price_scaled, (1, price_data.shape[1],price_data.shape[0]))\n",
        "  X_volume_scaled = np.reshape(volume_scaled, ( 1, volume_data.shape[1],volume_data.shape[0]))\n",
        "\n",
        "  X_price_scaled_past = np.reshape(price_scaled_past, (1, price_data_past.shape[1],price_data_past.shape[0]))\n",
        "  X_volume_scaled_past = np.reshape(volume_scaled_past, ( 1, volume_data_past.shape[1],volume_data_past.shape[0]))\n",
        "\n",
        "\n",
        "  X = np.concatenate((X_price_scaled, X_volume_scaled), axis=2)\n",
        "  X_past = np.concatenate((X_price_scaled_past, X_volume_scaled_past), axis=2)\n",
        "\n",
        "\n",
        "\n",
        "\n",
        "\n",
        "\n",
        "\n",
        "\n",
        "  prediction = model.predict(X)\n",
        "  prediction_past = model.predict(X_past)\n",
        "\n",
        "\n",
        "  prediction = scaler_price.inverse_transform(prediction)\n",
        "\n",
        "  prediction_past = scaler_price.inverse_transform(prediction_past)\n",
        "\n",
        "  next_day_price = prediction[0][0]\n",
        "  next_day_price_past = prediction_past[0][0]\n",
        "\n",
        "  return next_day_price,next_day_price_past, bitcoin_data.iloc[index][\"price\"], bitcoin_data.iloc[index-1][\"price\"]\n",
        "\n"
      ],
      "metadata": {
        "id": "Nt9lfN7oomdU"
      },
      "execution_count": 100,
      "outputs": []
    },
    {
      "cell_type": "code",
      "source": [
        "day_back()"
      ],
      "metadata": {
        "colab": {
          "base_uri": "https://localhost:8080/"
        },
        "id": "qMK_MXFDp05r",
        "outputId": "eb712118-a068-48d2-83a9-738258dca0f9"
      },
      "execution_count": 101,
      "outputs": [
        {
          "output_type": "execute_result",
          "data": {
            "text/plain": [
              "datetime.date(2024, 4, 10)"
            ]
          },
          "metadata": {},
          "execution_count": 101
        }
      ]
    },
    {
      "cell_type": "code",
      "source": [
        "\n",
        "\n",
        "predicition_of_future_day,prediction_of_past_day,actual_price,actual_past_price = get_predict_future(day_back(), model_4, btc_data_modified, seq_length=10)\n",
        "\n",
        "print(f\"Predicted Price: {predicition_of_future_day} Actual Price {actual_price}\")\n",
        "\n",
        "print(f\"Predicted Past Price: {prediction_of_past_day}  Actual Past day price:{actual_past_price}\")\n",
        "\n",
        "print(f\"Difference whether price goes up or not : {predicition_of_future_day-actual_past_price}\")\n",
        "print(f\"Difference whether price goes up or not : {actual_price-actual_past_price}\")\n"
      ],
      "metadata": {
        "colab": {
          "base_uri": "https://localhost:8080/"
        },
        "id": "-B-URm3pIIyH",
        "outputId": "4600da02-0d11-4a2e-ecf7-b5c2e9cf1078"
      },
      "execution_count": 107,
      "outputs": [
        {
          "output_type": "stream",
          "name": "stdout",
          "text": [
            "1/1 [==============================] - 0s 28ms/step\n",
            "1/1 [==============================] - 0s 27ms/step\n",
            "Predicted Price: 69947.7421875 Actual Price 70587.8828125\n",
            "Predicted Past Price: 71418.8984375  Actual Past day price:69139.015625\n",
            "Difference whether price goes up or not : 808.7265625\n",
            "Difference whether price goes up or not : 1448.8671875\n"
          ]
        }
      ]
    },
    {
      "cell_type": "code",
      "source": [
        "model_4.summary()"
      ],
      "metadata": {
        "colab": {
          "base_uri": "https://localhost:8080/"
        },
        "id": "V-ic7IV6IMHE",
        "outputId": "66a01483-abe8-43cd-eada-5a96dcf6d0e5"
      },
      "execution_count": 57,
      "outputs": [
        {
          "output_type": "stream",
          "name": "stdout",
          "text": [
            "Model: \"model_4\"\n",
            "_________________________________________________________________\n",
            " Layer (type)                Output Shape              Param #   \n",
            "=================================================================\n",
            " lstm_3 (LSTM)               (None, 1, 50)             14200     \n",
            "                                                                 \n",
            " lstm_4 (LSTM)               (None, 50)                20200     \n",
            "                                                                 \n",
            " dense_4 (Dense)             (None, 1)                 51        \n",
            "                                                                 \n",
            "=================================================================\n",
            "Total params: 34451 (134.57 KB)\n",
            "Trainable params: 34451 (134.57 KB)\n",
            "Non-trainable params: 0 (0.00 Byte)\n",
            "_________________________________________________________________\n"
          ]
        }
      ]
    },
    {
      "cell_type": "markdown",
      "source": [
        "### Trying Large Models for Time Series of LSTM\n"
      ],
      "metadata": {
        "id": "yHNBv5GB61Eq"
      }
    },
    {
      "cell_type": "code",
      "source": [],
      "metadata": {
        "id": "PmjHLmWRol8K"
      },
      "execution_count": 57,
      "outputs": []
    },
    {
      "cell_type": "code",
      "source": [
        "\n",
        "price_data = btc_data_modified['price'].values\n",
        "volume_data = btc_data_modified['Volume'].values\n",
        "\n",
        "# Reshape data to make it compatible with LSTM input shape (samples, timesteps, features)\n",
        "# Here, we'll use historical prices and volumes as input features\n",
        "seq_length = 30  # Number of historical data points to consider\n",
        "X_price, X_volume, y = [], [], []\n",
        "for i in range(len(price_data) - seq_length):\n",
        "    X_price.append(price_data[i:i+seq_length])    # Sequence of historical prices\n",
        "    X_volume.append(volume_data[i:i+seq_length])  # Sequence of historical volumes\n",
        "    y.append(price_data[i+seq_length])            # Next day's price (target)\n",
        "\n",
        "X_price = np.array(X_price)\n",
        "X_volume = np.array(X_volume)\n",
        "y = np.array(y)\n",
        "\n",
        "# Reshape input data to match LSTM input shape (samples, timesteps, features)\n",
        "X_price = np.reshape(X_price, (-1, X_price.shape[-1]))  # Flatten timesteps dimension\n",
        "X_volume = np.reshape(X_volume, (-1, X_volume.shape[-1]))  # Flatten timesteps dimension\n",
        "\n",
        "# Normalize data using MinMaxScaler\n",
        "scaler_price = MinMaxScaler(feature_range=(0, 1))\n",
        "scaler_volume = MinMaxScaler(feature_range=(0, 1))\n",
        "X_price_scaled = scaler_price.fit_transform(X_price)\n",
        "X_volume_scaled = scaler_volume.fit_transform(X_volume)\n",
        "y_scaled = scaler_price.fit_transform(y.reshape(-1, 1))  # Reshape y to 2D array for scaling\n",
        "\n",
        "# Reshape input data back to original shape\n",
        "X_price_scaled = np.reshape(X_price_scaled, (X_price.shape[0], -1, X_price.shape[-1]))\n",
        "X_volume_scaled = np.reshape(X_volume_scaled, (X_volume.shape[0], -1, X_volume.shape[-1]))\n",
        "\n",
        "# Concatenate price and volume features\n",
        "X = np.concatenate((X_price_scaled, X_volume_scaled), axis=-1)\n",
        "\n",
        "# Split data into training and testing sets\n",
        "split_index = int(0.8 * len(X))\n",
        "X_train, X_test = X[:split_index], X[split_index:]\n",
        "y_train, y_test = y_scaled[:split_index], y_scaled[split_index:]\n",
        "\n",
        "# Build the LSTM model\n",
        "model_5 =  Sequential([\n",
        "    LSTM(units=100, return_sequences=True, input_shape=(X_train.shape[1], X_train.shape[2])),\n",
        "    LSTM(units=50, return_sequences=True),\n",
        "\n",
        "    Dense(units=1)\n",
        "],name=\"model_5\")\n",
        "\n",
        "# Compile the model\n",
        "model_5.compile(optimizer='adam', loss='mean_squared_error')\n",
        "\n",
        "# Train the model\n",
        "history = model_5.fit(X_train, y_train, epochs=100, batch_size=32, verbose=1,validation_data=(X_test, y_test),callbacks=[create_model_checkpoint(model_name= model_5.name)])\n",
        "\n",
        "# Evaluate the model on test data\n",
        "\n",
        "\n",
        "\n",
        "plt.plot(history.history['loss'], label='Training Loss')\n",
        "plt.plot(history.history['val_loss'], label='Validation Loss')\n",
        "plt.xlabel('Epoch')\n",
        "plt.ylabel('Loss')\n",
        "plt.legend()\n",
        "plt.show()\n"
      ],
      "metadata": {
        "colab": {
          "base_uri": "https://localhost:8080/",
          "height": 1000
        },
        "id": "Dk1hXGz7pl6d",
        "outputId": "6b72ce82-0ad1-49ca-8fbe-6f4f2766fc06"
      },
      "execution_count": 58,
      "outputs": [
        {
          "output_type": "stream",
          "name": "stdout",
          "text": [
            "Epoch 1/100\n",
            "87/87 [==============================] - 12s 100ms/step - loss: 0.0099 - val_loss: 0.0026\n",
            "Epoch 2/100\n",
            "87/87 [==============================] - 1s 7ms/step - loss: 0.0012 - val_loss: 0.0027\n",
            "Epoch 3/100\n",
            "87/87 [==============================] - 7s 80ms/step - loss: 9.8091e-04 - val_loss: 0.0017\n",
            "Epoch 4/100\n",
            "87/87 [==============================] - 8s 95ms/step - loss: 7.4126e-04 - val_loss: 8.4868e-04\n",
            "Epoch 5/100\n",
            "87/87 [==============================] - 7s 83ms/step - loss: 6.1991e-04 - val_loss: 7.7723e-04\n",
            "Epoch 6/100\n",
            "87/87 [==============================] - 1s 8ms/step - loss: 4.4253e-04 - val_loss: 0.0010\n",
            "Epoch 7/100\n",
            "87/87 [==============================] - 7s 82ms/step - loss: 4.2980e-04 - val_loss: 5.0320e-04\n",
            "Epoch 8/100\n",
            "87/87 [==============================] - 1s 7ms/step - loss: 3.9951e-04 - val_loss: 5.2930e-04\n",
            "Epoch 9/100\n",
            "87/87 [==============================] - 1s 7ms/step - loss: 3.3581e-04 - val_loss: 5.3425e-04\n",
            "Epoch 10/100\n",
            "87/87 [==============================] - 1s 6ms/step - loss: 3.1351e-04 - val_loss: 6.0058e-04\n",
            "Epoch 11/100\n",
            "87/87 [==============================] - 1s 7ms/step - loss: 3.1074e-04 - val_loss: 5.6397e-04\n",
            "Epoch 12/100\n",
            "87/87 [==============================] - 1s 8ms/step - loss: 3.0629e-04 - val_loss: 7.4822e-04\n",
            "Epoch 13/100\n",
            "87/87 [==============================] - 1s 7ms/step - loss: 3.0379e-04 - val_loss: 5.8000e-04\n",
            "Epoch 14/100\n",
            "87/87 [==============================] - 8s 95ms/step - loss: 2.7766e-04 - val_loss: 4.6129e-04\n",
            "Epoch 15/100\n",
            "87/87 [==============================] - 7s 81ms/step - loss: 2.6249e-04 - val_loss: 4.0384e-04\n",
            "Epoch 16/100\n",
            "87/87 [==============================] - 7s 81ms/step - loss: 2.4347e-04 - val_loss: 4.0153e-04\n",
            "Epoch 17/100\n",
            "87/87 [==============================] - 1s 7ms/step - loss: 3.2476e-04 - val_loss: 5.9193e-04\n",
            "Epoch 18/100\n",
            "87/87 [==============================] - 1s 7ms/step - loss: 3.0006e-04 - val_loss: 6.0011e-04\n",
            "Epoch 19/100\n",
            "87/87 [==============================] - 1s 7ms/step - loss: 2.6351e-04 - val_loss: 4.9666e-04\n",
            "Epoch 20/100\n",
            "87/87 [==============================] - 1s 7ms/step - loss: 3.0093e-04 - val_loss: 4.2938e-04\n",
            "Epoch 21/100\n",
            "87/87 [==============================] - 8s 94ms/step - loss: 2.7471e-04 - val_loss: 3.8547e-04\n",
            "Epoch 22/100\n",
            "87/87 [==============================] - 7s 80ms/step - loss: 2.0639e-04 - val_loss: 3.2630e-04\n",
            "Epoch 23/100\n",
            "87/87 [==============================] - 8s 93ms/step - loss: 2.2602e-04 - val_loss: 2.9405e-04\n",
            "Epoch 24/100\n",
            "87/87 [==============================] - 1s 7ms/step - loss: 2.3085e-04 - val_loss: 3.8169e-04\n",
            "Epoch 25/100\n",
            "87/87 [==============================] - 1s 7ms/step - loss: 2.4773e-04 - val_loss: 3.5929e-04\n",
            "Epoch 26/100\n",
            "87/87 [==============================] - 1s 8ms/step - loss: 1.9850e-04 - val_loss: 3.0753e-04\n",
            "Epoch 27/100\n",
            "87/87 [==============================] - 1s 7ms/step - loss: 2.1151e-04 - val_loss: 3.3989e-04\n",
            "Epoch 28/100\n",
            "87/87 [==============================] - 1s 7ms/step - loss: 1.9926e-04 - val_loss: 3.0237e-04\n",
            "Epoch 29/100\n",
            "87/87 [==============================] - 1s 7ms/step - loss: 2.0673e-04 - val_loss: 3.3458e-04\n",
            "Epoch 30/100\n",
            "87/87 [==============================] - 1s 7ms/step - loss: 1.9658e-04 - val_loss: 5.4071e-04\n",
            "Epoch 31/100\n",
            "87/87 [==============================] - 1s 7ms/step - loss: 2.0469e-04 - val_loss: 4.2800e-04\n",
            "Epoch 32/100\n",
            "87/87 [==============================] - 1s 7ms/step - loss: 2.2189e-04 - val_loss: 3.4194e-04\n",
            "Epoch 33/100\n",
            "87/87 [==============================] - 1s 7ms/step - loss: 2.0277e-04 - val_loss: 3.6879e-04\n",
            "Epoch 34/100\n",
            "87/87 [==============================] - 7s 83ms/step - loss: 1.7495e-04 - val_loss: 2.7926e-04\n",
            "Epoch 35/100\n",
            "87/87 [==============================] - 8s 94ms/step - loss: 1.7951e-04 - val_loss: 2.5967e-04\n",
            "Epoch 36/100\n",
            "87/87 [==============================] - 1s 7ms/step - loss: 1.9554e-04 - val_loss: 4.2085e-04\n",
            "Epoch 37/100\n",
            "87/87 [==============================] - 1s 6ms/step - loss: 2.3942e-04 - val_loss: 3.9816e-04\n",
            "Epoch 38/100\n",
            "87/87 [==============================] - 1s 6ms/step - loss: 2.1378e-04 - val_loss: 3.3398e-04\n",
            "Epoch 39/100\n",
            "87/87 [==============================] - 7s 82ms/step - loss: 1.7735e-04 - val_loss: 2.3960e-04\n",
            "Epoch 40/100\n",
            "87/87 [==============================] - 1s 7ms/step - loss: 1.9718e-04 - val_loss: 3.3186e-04\n",
            "Epoch 41/100\n",
            "87/87 [==============================] - 1s 7ms/step - loss: 2.0382e-04 - val_loss: 4.9396e-04\n",
            "Epoch 42/100\n",
            "87/87 [==============================] - 1s 7ms/step - loss: 1.8074e-04 - val_loss: 4.0381e-04\n",
            "Epoch 43/100\n",
            "87/87 [==============================] - 1s 7ms/step - loss: 1.8624e-04 - val_loss: 2.7663e-04\n",
            "Epoch 44/100\n",
            "87/87 [==============================] - 1s 7ms/step - loss: 1.8741e-04 - val_loss: 4.6385e-04\n",
            "Epoch 45/100\n",
            "87/87 [==============================] - 1s 7ms/step - loss: 1.6376e-04 - val_loss: 3.5715e-04\n",
            "Epoch 46/100\n",
            "87/87 [==============================] - 1s 6ms/step - loss: 1.9804e-04 - val_loss: 2.9037e-04\n",
            "Epoch 47/100\n",
            "87/87 [==============================] - 1s 7ms/step - loss: 1.9360e-04 - val_loss: 2.4623e-04\n",
            "Epoch 48/100\n",
            "87/87 [==============================] - 1s 7ms/step - loss: 1.7247e-04 - val_loss: 7.8363e-04\n",
            "Epoch 49/100\n",
            "87/87 [==============================] - 7s 79ms/step - loss: 1.8801e-04 - val_loss: 2.3388e-04\n",
            "Epoch 50/100\n",
            "87/87 [==============================] - 1s 7ms/step - loss: 1.5616e-04 - val_loss: 3.5543e-04\n",
            "Epoch 51/100\n",
            "87/87 [==============================] - 1s 6ms/step - loss: 1.7063e-04 - val_loss: 3.7688e-04\n",
            "Epoch 52/100\n",
            "87/87 [==============================] - 1s 7ms/step - loss: 1.8405e-04 - val_loss: 2.4473e-04\n",
            "Epoch 53/100\n",
            "87/87 [==============================] - 8s 95ms/step - loss: 1.9919e-04 - val_loss: 2.2152e-04\n",
            "Epoch 54/100\n",
            "87/87 [==============================] - 1s 8ms/step - loss: 1.5361e-04 - val_loss: 3.4422e-04\n",
            "Epoch 55/100\n",
            "87/87 [==============================] - 1s 7ms/step - loss: 1.7210e-04 - val_loss: 2.6583e-04\n",
            "Epoch 56/100\n",
            "87/87 [==============================] - 1s 6ms/step - loss: 1.4883e-04 - val_loss: 5.3402e-04\n",
            "Epoch 57/100\n",
            "87/87 [==============================] - 1s 7ms/step - loss: 1.6579e-04 - val_loss: 2.3569e-04\n",
            "Epoch 58/100\n",
            "87/87 [==============================] - 1s 7ms/step - loss: 1.6840e-04 - val_loss: 2.5213e-04\n",
            "Epoch 59/100\n",
            "87/87 [==============================] - 1s 7ms/step - loss: 1.6530e-04 - val_loss: 2.5250e-04\n",
            "Epoch 60/100\n",
            "87/87 [==============================] - 1s 7ms/step - loss: 1.7585e-04 - val_loss: 3.0999e-04\n",
            "Epoch 61/100\n",
            "87/87 [==============================] - 1s 7ms/step - loss: 1.4823e-04 - val_loss: 2.4015e-04\n",
            "Epoch 62/100\n",
            "87/87 [==============================] - 1s 6ms/step - loss: 1.9345e-04 - val_loss: 3.2018e-04\n",
            "Epoch 63/100\n",
            "87/87 [==============================] - 1s 7ms/step - loss: 1.6528e-04 - val_loss: 3.7931e-04\n",
            "Epoch 64/100\n",
            "87/87 [==============================] - 1s 7ms/step - loss: 2.1311e-04 - val_loss: 3.6232e-04\n",
            "Epoch 65/100\n",
            "87/87 [==============================] - 1s 7ms/step - loss: 1.5312e-04 - val_loss: 6.3052e-04\n",
            "Epoch 66/100\n",
            "87/87 [==============================] - 1s 6ms/step - loss: 1.9608e-04 - val_loss: 2.5486e-04\n",
            "Epoch 67/100\n",
            "87/87 [==============================] - 1s 7ms/step - loss: 1.7838e-04 - val_loss: 2.5719e-04\n",
            "Epoch 68/100\n",
            "87/87 [==============================] - 1s 7ms/step - loss: 1.8065e-04 - val_loss: 2.6654e-04\n",
            "Epoch 69/100\n",
            "87/87 [==============================] - 1s 7ms/step - loss: 1.6097e-04 - val_loss: 2.5498e-04\n",
            "Epoch 70/100\n",
            "87/87 [==============================] - 1s 7ms/step - loss: 1.4153e-04 - val_loss: 2.5038e-04\n",
            "Epoch 71/100\n",
            "87/87 [==============================] - 1s 7ms/step - loss: 1.4968e-04 - val_loss: 2.2420e-04\n",
            "Epoch 72/100\n",
            "87/87 [==============================] - 1s 7ms/step - loss: 1.6276e-04 - val_loss: 2.3572e-04\n",
            "Epoch 73/100\n",
            "87/87 [==============================] - 7s 82ms/step - loss: 2.0270e-04 - val_loss: 2.1697e-04\n",
            "Epoch 74/100\n",
            "87/87 [==============================] - 1s 7ms/step - loss: 1.5916e-04 - val_loss: 2.3944e-04\n",
            "Epoch 75/100\n",
            "87/87 [==============================] - 7s 80ms/step - loss: 1.7910e-04 - val_loss: 2.1473e-04\n",
            "Epoch 76/100\n",
            "87/87 [==============================] - 1s 7ms/step - loss: 1.9105e-04 - val_loss: 2.5753e-04\n",
            "Epoch 77/100\n",
            "87/87 [==============================] - 1s 7ms/step - loss: 2.0264e-04 - val_loss: 3.6867e-04\n",
            "Epoch 78/100\n",
            "87/87 [==============================] - 1s 6ms/step - loss: 1.6937e-04 - val_loss: 5.7825e-04\n",
            "Epoch 79/100\n",
            "87/87 [==============================] - 1s 6ms/step - loss: 2.1787e-04 - val_loss: 2.3337e-04\n",
            "Epoch 80/100\n",
            "87/87 [==============================] - 1s 6ms/step - loss: 1.5369e-04 - val_loss: 5.0442e-04\n",
            "Epoch 81/100\n",
            "87/87 [==============================] - 1s 7ms/step - loss: 1.5460e-04 - val_loss: 2.9564e-04\n",
            "Epoch 82/100\n",
            "87/87 [==============================] - 1s 7ms/step - loss: 1.7257e-04 - val_loss: 2.5275e-04\n",
            "Epoch 83/100\n",
            "87/87 [==============================] - 1s 7ms/step - loss: 1.8592e-04 - val_loss: 2.5615e-04\n",
            "Epoch 84/100\n",
            "87/87 [==============================] - 8s 94ms/step - loss: 1.4959e-04 - val_loss: 2.1235e-04\n",
            "Epoch 85/100\n",
            "87/87 [==============================] - 1s 7ms/step - loss: 1.5873e-04 - val_loss: 2.7326e-04\n",
            "Epoch 86/100\n",
            "87/87 [==============================] - 1s 6ms/step - loss: 1.5683e-04 - val_loss: 2.7575e-04\n",
            "Epoch 87/100\n",
            "87/87 [==============================] - 1s 6ms/step - loss: 1.4639e-04 - val_loss: 2.1970e-04\n",
            "Epoch 88/100\n",
            "87/87 [==============================] - 7s 81ms/step - loss: 1.5514e-04 - val_loss: 2.1136e-04\n",
            "Epoch 89/100\n",
            "87/87 [==============================] - 1s 7ms/step - loss: 1.4986e-04 - val_loss: 2.7250e-04\n",
            "Epoch 90/100\n",
            "87/87 [==============================] - 1s 7ms/step - loss: 1.8046e-04 - val_loss: 3.7598e-04\n",
            "Epoch 91/100\n",
            "87/87 [==============================] - 1s 7ms/step - loss: 1.3648e-04 - val_loss: 2.2129e-04\n",
            "Epoch 92/100\n",
            "87/87 [==============================] - 1s 7ms/step - loss: 1.5400e-04 - val_loss: 3.2387e-04\n",
            "Epoch 93/100\n",
            "87/87 [==============================] - 1s 7ms/step - loss: 1.4422e-04 - val_loss: 3.3642e-04\n",
            "Epoch 94/100\n",
            "87/87 [==============================] - 1s 6ms/step - loss: 1.4795e-04 - val_loss: 4.5046e-04\n",
            "Epoch 95/100\n",
            "87/87 [==============================] - 1s 6ms/step - loss: 1.8187e-04 - val_loss: 4.4154e-04\n",
            "Epoch 96/100\n",
            "87/87 [==============================] - 1s 7ms/step - loss: 2.1754e-04 - val_loss: 3.1093e-04\n",
            "Epoch 97/100\n",
            "87/87 [==============================] - 1s 6ms/step - loss: 1.5223e-04 - val_loss: 3.3654e-04\n",
            "Epoch 98/100\n",
            "87/87 [==============================] - 1s 6ms/step - loss: 1.5079e-04 - val_loss: 2.5054e-04\n",
            "Epoch 99/100\n",
            "87/87 [==============================] - 1s 6ms/step - loss: 1.3596e-04 - val_loss: 2.1158e-04\n",
            "Epoch 100/100\n",
            "87/87 [==============================] - 1s 7ms/step - loss: 1.7201e-04 - val_loss: 4.9030e-04\n"
          ]
        },
        {
          "output_type": "display_data",
          "data": {
            "text/plain": [
              "<Figure size 640x480 with 1 Axes>"
            ],
            "image/png": "[encoded data removed]"
          },
          "metadata": {}
        }
      ]
    },
    {
      "cell_type": "code",
      "source": [
        "predictions = make_preds(model_5, X_test)\n",
        "\n",
        "\n",
        "predictions = scaler_price.inverse_transform(tf.expand_dims(predictions,axis=1))\n",
        "# Inverse transform predictions to original scale\n",
        "# predictions = scaler_price.inverse_transform(predictions)\n",
        "\n",
        "# Plot actual vs. predicted prices\n",
        "import matplotlib.pyplot as plt\n",
        "plt.plot(btc_data_modified.index[-len(y_test):], scaler_price.inverse_transform(y_test), label='Actual Price')\n",
        "plt.plot(btc_data_modified.index[-len(y_test):], predictions, label='Predicted Price')\n",
        "plt.xlabel('Date')\n",
        "plt.ylabel('Price')\n",
        "plt.title('Actual vs. Predicted Prices For Test Data ')\n",
        "plt.legend()\n",
        "plt.show()"
      ],
      "metadata": {
        "colab": {
          "base_uri": "https://localhost:8080/",
          "height": 489
        },
        "id": "YHM3iBT6qKls",
        "outputId": "367458c3-1dc3-4002-bdc5-d39fbbb737cb"
      },
      "execution_count": 59,
      "outputs": [
        {
          "output_type": "stream",
          "name": "stdout",
          "text": [
            "22/22 [==============================] - 1s 3ms/step\n"
          ]
        },
        {
          "output_type": "display_data",
          "data": {
            "text/plain": [
              "<Figure size 640x480 with 1 Axes>"
            ],
            "image/png": "[encoded data removed]"
          },
          "metadata": {}
        }
      ]
    },
    {
      "cell_type": "code",
      "source": [
        "len(X_test),len(y_test),y_test.shape"
      ],
      "metadata": {
        "colab": {
          "base_uri": "https://localhost:8080/"
        },
        "id": "15ZnfN6R309D",
        "outputId": "33f3dec7-77e1-4600-aab6-b0bce0ef9e0d"
      },
      "execution_count": 60,
      "outputs": [
        {
          "output_type": "execute_result",
          "data": {
            "text/plain": [
              "(693, 693, (693, 1))"
            ]
          },
          "metadata": {},
          "execution_count": 60
        }
      ]
    },
    {
      "cell_type": "code",
      "source": [
        "len(predictions),predictions.shape"
      ],
      "metadata": {
        "colab": {
          "base_uri": "https://localhost:8080/"
        },
        "id": "i8NRaXdW4rDQ",
        "outputId": "0dcb379c-2caa-4407-d63a-108cb813d232"
      },
      "execution_count": 61,
      "outputs": [
        {
          "output_type": "execute_result",
          "data": {
            "text/plain": [
              "(693, (693, 1))"
            ]
          },
          "metadata": {},
          "execution_count": 61
        }
      ]
    },
    {
      "cell_type": "code",
      "source": [
        "\n",
        "models_results_list = {\n",
        "\n",
        "                       model_1.name:model_1_results,\n",
        "                       model_2.name:model_2_results,\n",
        "                       model_3.name:model_3_results,\n",
        "                       model_4.name:model_4_results,\n",
        "                      #  model_5.name:model_5_results\n",
        "}\n",
        "\n",
        "\n",
        "def compare_models_results(models_results_list,error_name):\n",
        "   model_values = {}\n",
        "   for i in models_results_list.keys():\n",
        "\n",
        "      value_name = models_results_list[i][error_name]\n",
        "\n",
        "\n",
        "      model_values[i] = value_name\n",
        "\n",
        "   print(model_values)\n",
        "\n",
        "   return pd.DataFrame(model_values,index=[\"mae\"]).plot(figsize=(10, 7), kind=\"bar\");\n",
        "\n",
        "compare_models_results(models_results_list,\"mae\")"
      ],
      "metadata": {
        "colab": {
          "base_uri": "https://localhost:8080/",
          "height": 651
        },
        "id": "GWHeTwMYBgaV",
        "outputId": "42cc15cc-16fa-450a-b243-13fe67683e33"
      },
      "execution_count": 63,
      "outputs": [
        {
          "output_type": "stream",
          "name": "stdout",
          "text": [
            "{'model_1_dense_multivariate': 435117.03, 'model_2_lstm': 110632.12, 'model_3': 30746.857, 'model_4': 31130.795}\n"
          ]
        },
        {
          "output_type": "execute_result",
          "data": {
            "text/plain": [
              "<Axes: >"
            ]
          },
          "metadata": {},
          "execution_count": 63
        },
        {
          "output_type": "display_data",
          "data": {
            "text/plain": [
              "<Figure size 1000x700 with 1 Axes>"
            ],
            "image/png": "[encoded data removed]"
          },
          "metadata": {}
        }
      ]
    },
    {
      "cell_type": "code",
      "source": [],
      "metadata": {
        "id": "1l28NQNyCGzI"
      },
      "execution_count": 63,
      "outputs": []
    },
    {
      "cell_type": "code",
      "source": [
        "len(y_test),len(predictions)\n",
        "\n",
        "model_5_results = evaluate_preds(y_true=tf.squeeze(y_test),\n",
        "                                 y_pred=tf.squeeze(predictions))\n",
        "\n",
        "\n",
        "models_results_list[model_5.name] = model_5_results\n"
      ],
      "metadata": {
        "id": "bBaFzImD5OFd"
      },
      "execution_count": 64,
      "outputs": []
    },
    {
      "cell_type": "code",
      "source": [
        "def custom_results_compare(models_name,error_name):\n",
        "  models_dict = {}\n",
        "  for i  in models_name:\n",
        "    models_dict[i] = models_results_list[i]\n",
        "  print(models_dict)\n",
        "  return compare_models_results(models_dict,error_name)\n",
        "\n",
        "custom_results_compare([model_3.name,model_4.name,model_5.name],error_name=\"mae\")"
      ],
      "metadata": {
        "colab": {
          "base_uri": "https://localhost:8080/",
          "height": 688
        },
        "id": "vLwQofQ79NI4",
        "outputId": "6c75cf0b-09d5-4975-c62b-a2ca0962ce62"
      },
      "execution_count": 65,
      "outputs": [
        {
          "output_type": "stream",
          "name": "stdout",
          "text": [
            "{'model_3': {'mae': 30746.857, 'mse': 1100057200.0, 'rmse': 33167.11, 'mape': 7553718.0}, 'model_4': {'mae': 31130.795, 'mse': 1131567100.0, 'rmse': 33638.773, 'mape': 7631612.5}, 'model_5': {'mae': 31288.34, 'mse': 1136927200.0, 'rmse': 33718.35, 'mape': 7693612.5}}\n",
            "{'model_3': 30746.857, 'model_4': 31130.795, 'model_5': 31288.34}\n"
          ]
        },
        {
          "output_type": "execute_result",
          "data": {
            "text/plain": [
              "<Axes: >"
            ]
          },
          "metadata": {},
          "execution_count": 65
        },
        {
          "output_type": "display_data",
          "data": {
            "text/plain": [
              "<Figure size 1000x700 with 1 Axes>"
            ],
            "image/png": "[encoded data removed]"
          },
          "metadata": {}
        }
      ]
    },
    {
      "cell_type": "code",
      "source": [
        "models_results_list"
      ],
      "metadata": {
        "colab": {
          "base_uri": "https://localhost:8080/"
        },
        "id": "MBjjaHavD-fX",
        "outputId": "8f5dab72-65e9-40b0-ce35-c91b1fd982cf"
      },
      "execution_count": 66,
      "outputs": [
        {
          "output_type": "execute_result",
          "data": {
            "text/plain": [
              "{'model_1_dense_multivariate': {'mae': 435117.03,\n",
              "  'mse': 247670520000.0,\n",
              "  'rmse': 497665.06,\n",
              "  'mape': 1637.8231},\n",
              " 'model_2_lstm': {'mae': 110632.12,\n",
              "  'mse': 14408894000.0,\n",
              "  'rmse': 120037.055,\n",
              "  'mape': 400.23557},\n",
              " 'model_3': {'mae': 30746.857,\n",
              "  'mse': 1100057200.0,\n",
              "  'rmse': 33167.11,\n",
              "  'mape': 7553718.0},\n",
              " 'model_4': {'mae': 31130.795,\n",
              "  'mse': 1131567100.0,\n",
              "  'rmse': 33638.773,\n",
              "  'mape': 7631612.5},\n",
              " 'model_5': {'mae': 31288.34,\n",
              "  'mse': 1136927200.0,\n",
              "  'rmse': 33718.35,\n",
              "  'mape': 7693612.5}}"
            ]
          },
          "metadata": {},
          "execution_count": 66
        }
      ]
    },
    {
      "cell_type": "code",
      "source": [],
      "metadata": {
        "id": "QJrdm4cld_h0"
      },
      "execution_count": 66,
      "outputs": []
    },
    {
      "cell_type": "code",
      "source": [
        "X_test.shape"
      ],
      "metadata": {
        "colab": {
          "base_uri": "https://localhost:8080/"
        },
        "id": "RB06Up3aeiqp",
        "outputId": "c9f7dc1a-85c0-408c-9863-94ac5d2a63e3"
      },
      "execution_count": 67,
      "outputs": [
        {
          "output_type": "execute_result",
          "data": {
            "text/plain": [
              "(693, 1, 60)"
            ]
          },
          "metadata": {},
          "execution_count": 67
        }
      ]
    },
    {
      "cell_type": "code",
      "source": [
        "model_5.summary()"
      ],
      "metadata": {
        "colab": {
          "base_uri": "https://localhost:8080/"
        },
        "id": "5kKVPuDIfuSl",
        "outputId": "137e1302-aff6-442b-b1e8-494c8b7bdd8b"
      },
      "execution_count": 68,
      "outputs": [
        {
          "output_type": "stream",
          "name": "stdout",
          "text": [
            "Model: \"model_5\"\n",
            "_________________________________________________________________\n",
            " Layer (type)                Output Shape              Param #   \n",
            "=================================================================\n",
            " lstm_5 (LSTM)               (None, 1, 100)            64400     \n",
            "                                                                 \n",
            " lstm_6 (LSTM)               (None, 1, 50)             30200     \n",
            "                                                                 \n",
            " dense_5 (Dense)             (None, 1, 1)              51        \n",
            "                                                                 \n",
            "=================================================================\n",
            "Total params: 94651 (369.73 KB)\n",
            "Trainable params: 94651 (369.73 KB)\n",
            "Non-trainable params: 0 (0.00 Byte)\n",
            "_________________________________________________________________\n"
          ]
        }
      ]
    },
    {
      "cell_type": "code",
      "source": [],
      "metadata": {
        "id": "dVsqfXL6h2yd"
      },
      "execution_count": null,
      "outputs": []
    }
  ]
}