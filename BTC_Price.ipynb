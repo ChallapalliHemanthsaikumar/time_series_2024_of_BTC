{
  "nbformat": 4,
  "nbformat_minor": 0,
  "metadata": {
    "colab": {
      "provenance": [],
      "machine_shape": "hm",
      "authorship_tag": "ABX9TyOOmEXBmxb7J/3FiYw8sfSS",
      "include_colab_link": true
    },
    "kernelspec": {
      "name": "python3",
      "display_name": "Python 3"
    },
    "language_info": {
      "name": "python"
    }
  },
  "cells": [
    {
      "cell_type": "markdown",
      "metadata": {
        "id": "view-in-github",
        "colab_type": "text"
      },
      "source": [
        "<a href=\"https://colab.research.google.com/github/ChallapalliHemanthsaikumar/time_series_2024_of_BTC/blob/main/BTC_Price.ipynb\" target=\"_parent\"><img src=\"https://colab.research.google.com/assets/colab-badge.svg\" alt=\"Open In Colab\"/></a>"
      ]
    },
    {
      "cell_type": "code",
      "execution_count": 3,
      "metadata": {
        "colab": {
          "base_uri": "https://localhost:8080/"
        },
        "id": "dAyx_9497dxT",
        "outputId": "3194e3bd-0197-4907-910f-8f8a1e9f7a05"
      },
      "outputs": [
        {
          "output_type": "stream",
          "name": "stdout",
          "text": [
            "Requirement already satisfied: yfinance in /usr/local/lib/python3.10/dist-packages (0.2.37)\n",
            "Requirement already satisfied: pandas>=1.3.0 in /usr/local/lib/python3.10/dist-packages (from yfinance) (2.0.3)\n",
            "Requirement already satisfied: numpy>=1.16.5 in /usr/local/lib/python3.10/dist-packages (from yfinance) (1.25.2)\n",
            "Requirement already satisfied: requests>=2.31 in /usr/local/lib/python3.10/dist-packages (from yfinance) (2.31.0)\n",
            "Requirement already satisfied: multitasking>=0.0.7 in /usr/local/lib/python3.10/dist-packages (from yfinance) (0.0.11)\n",
            "Requirement already satisfied: lxml>=4.9.1 in /usr/local/lib/python3.10/dist-packages (from yfinance) (4.9.4)\n",
            "Requirement already satisfied: appdirs>=1.4.4 in /usr/local/lib/python3.10/dist-packages (from yfinance) (1.4.4)\n",
            "Requirement already satisfied: pytz>=2022.5 in /usr/local/lib/python3.10/dist-packages (from yfinance) (2023.4)\n",
            "Requirement already satisfied: frozendict>=2.3.4 in /usr/local/lib/python3.10/dist-packages (from yfinance) (2.4.1)\n",
            "Requirement already satisfied: peewee>=3.16.2 in /usr/local/lib/python3.10/dist-packages (from yfinance) (3.17.1)\n",
            "Requirement already satisfied: beautifulsoup4>=4.11.1 in /usr/local/lib/python3.10/dist-packages (from yfinance) (4.12.3)\n",
            "Requirement already satisfied: html5lib>=1.1 in /usr/local/lib/python3.10/dist-packages (from yfinance) (1.1)\n",
            "Requirement already satisfied: soupsieve>1.2 in /usr/local/lib/python3.10/dist-packages (from beautifulsoup4>=4.11.1->yfinance) (2.5)\n",
            "Requirement already satisfied: six>=1.9 in /usr/local/lib/python3.10/dist-packages (from html5lib>=1.1->yfinance) (1.16.0)\n",
            "Requirement already satisfied: webencodings in /usr/local/lib/python3.10/dist-packages (from html5lib>=1.1->yfinance) (0.5.1)\n",
            "Requirement already satisfied: python-dateutil>=2.8.2 in /usr/local/lib/python3.10/dist-packages (from pandas>=1.3.0->yfinance) (2.8.2)\n",
            "Requirement already satisfied: tzdata>=2022.1 in /usr/local/lib/python3.10/dist-packages (from pandas>=1.3.0->yfinance) (2024.1)\n",
            "Requirement already satisfied: charset-normalizer<4,>=2 in /usr/local/lib/python3.10/dist-packages (from requests>=2.31->yfinance) (3.3.2)\n",
            "Requirement already satisfied: idna<4,>=2.5 in /usr/local/lib/python3.10/dist-packages (from requests>=2.31->yfinance) (3.6)\n",
            "Requirement already satisfied: urllib3<3,>=1.21.1 in /usr/local/lib/python3.10/dist-packages (from requests>=2.31->yfinance) (2.0.7)\n",
            "Requirement already satisfied: certifi>=2017.4.17 in /usr/local/lib/python3.10/dist-packages (from requests>=2.31->yfinance) (2024.2.2)\n"
          ]
        }
      ],
      "source": [
        "!pip install yfinance"
      ]
    },
    {
      "cell_type": "code",
      "source": [
        "import yfinance as yf\n",
        "import pandas as pd\n",
        "import numpy as np\n",
        "import matplotlib.pyplot as plt\n",
        "import seaborn as sns"
      ],
      "metadata": {
        "id": "Ld-urHTI7q7r"
      },
      "execution_count": 4,
      "outputs": []
    },
    {
      "cell_type": "markdown",
      "source": [
        "### Writing a Function that downloads Data Until Yesterday Date\n"
      ],
      "metadata": {
        "id": "dZKEXKy2034r"
      }
    },
    {
      "cell_type": "code",
      "source": [
        "import datetime\n",
        "\n",
        "def date_return():\n",
        "  today = datetime.date.today()\n",
        "  years_ago =  today - datetime.timedelta(days= 14 * 365)\n",
        "  return years_ago,today\n",
        "\n",
        "def data_download(ticker,start,end):\n",
        "  data = yf.download(ticker,start,end)\n",
        "  return data\n",
        "\n",
        "####   Downloading the data\n",
        "\n",
        "ticker = \"BTC-USD\"\n",
        "start,end = date_return()\n",
        "btc_data = data_download(ticker,start,end)\n",
        "\n",
        "\n",
        "### Saving the Data as csv File\n",
        "\n",
        "btc_data.to_csv('btc_data.csv')\n",
        "btc_data.head()"
      ],
      "metadata": {
        "colab": {
          "base_uri": "https://localhost:8080/",
          "height": 255
        },
        "id": "B8PhVJNJ00AB",
        "outputId": "8724664f-b13c-4cca-8518-6ddc417afb6f"
      },
      "execution_count": 5,
      "outputs": [
        {
          "output_type": "stream",
          "name": "stderr",
          "text": [
            "\r[*********************100%%**********************]  1 of 1 completed\n"
          ]
        },
        {
          "output_type": "execute_result",
          "data": {
            "text/plain": [
              "                  Open        High         Low       Close   Adj Close  \\\n",
              "Date                                                                     \n",
              "2014-09-17  465.864014  468.174011  452.421997  457.334015  457.334015   \n",
              "2014-09-18  456.859985  456.859985  413.104004  424.440002  424.440002   \n",
              "2014-09-19  424.102997  427.834991  384.532013  394.795990  394.795990   \n",
              "2014-09-20  394.673004  423.295990  389.882996  408.903992  408.903992   \n",
              "2014-09-21  408.084991  412.425995  393.181000  398.821014  398.821014   \n",
              "\n",
              "              Volume  \n",
              "Date                  \n",
              "2014-09-17  21056800  \n",
              "2014-09-18  34483200  \n",
              "2014-09-19  37919700  \n",
              "2014-09-20  36863600  \n",
              "2014-09-21  26580100  "
            ],
            "text/html": [
              "\n",
              "  <div id=\"df-31dacce6-edcb-4bbd-97f8-a14bae93fcf1\" class=\"colab-df-container\">\n",
              "    <div>\n",
              "<style scoped>\n",
              "    .dataframe tbody tr th:only-of-type {\n",
              "        vertical-align: middle;\n",
              "    }\n",
              "\n",
              "    .dataframe tbody tr th {\n",
              "        vertical-align: top;\n",
              "    }\n",
              "\n",
              "    .dataframe thead th {\n",
              "        text-align: right;\n",
              "    }\n",
              "</style>\n",
              "<table border=\"1\" class=\"dataframe\">\n",
              "  <thead>\n",
              "    <tr style=\"text-align: right;\">\n",
              "      <th></th>\n",
              "      <th>Open</th>\n",
              "      <th>High</th>\n",
              "      <th>Low</th>\n",
              "      <th>Close</th>\n",
              "      <th>Adj Close</th>\n",
              "      <th>Volume</th>\n",
              "    </tr>\n",
              "    <tr>\n",
              "      <th>Date</th>\n",
              "      <th></th>\n",
              "      <th></th>\n",
              "      <th></th>\n",
              "      <th></th>\n",
              "      <th></th>\n",
              "      <th></th>\n",
              "    </tr>\n",
              "  </thead>\n",
              "  <tbody>\n",
              "    <tr>\n",
              "      <th>2014-09-17</th>\n",
              "      <td>465.864014</td>\n",
              "      <td>468.174011</td>\n",
              "      <td>452.421997</td>\n",
              "      <td>457.334015</td>\n",
              "      <td>457.334015</td>\n",
              "      <td>21056800</td>\n",
              "    </tr>\n",
              "    <tr>\n",
              "      <th>2014-09-18</th>\n",
              "      <td>456.859985</td>\n",
              "      <td>456.859985</td>\n",
              "      <td>413.104004</td>\n",
              "      <td>424.440002</td>\n",
              "      <td>424.440002</td>\n",
              "      <td>34483200</td>\n",
              "    </tr>\n",
              "    <tr>\n",
              "      <th>2014-09-19</th>\n",
              "      <td>424.102997</td>\n",
              "      <td>427.834991</td>\n",
              "      <td>384.532013</td>\n",
              "      <td>394.795990</td>\n",
              "      <td>394.795990</td>\n",
              "      <td>37919700</td>\n",
              "    </tr>\n",
              "    <tr>\n",
              "      <th>2014-09-20</th>\n",
              "      <td>394.673004</td>\n",
              "      <td>423.295990</td>\n",
              "      <td>389.882996</td>\n",
              "      <td>408.903992</td>\n",
              "      <td>408.903992</td>\n",
              "      <td>36863600</td>\n",
              "    </tr>\n",
              "    <tr>\n",
              "      <th>2014-09-21</th>\n",
              "      <td>408.084991</td>\n",
              "      <td>412.425995</td>\n",
              "      <td>393.181000</td>\n",
              "      <td>398.821014</td>\n",
              "      <td>398.821014</td>\n",
              "      <td>26580100</td>\n",
              "    </tr>\n",
              "  </tbody>\n",
              "</table>\n",
              "</div>\n",
              "    <div class=\"colab-df-buttons\">\n",
              "\n",
              "  <div class=\"colab-df-container\">\n",
              "    <button class=\"colab-df-convert\" onclick=\"convertToInteractive('df-31dacce6-edcb-4bbd-97f8-a14bae93fcf1')\"\n",
              "            title=\"Convert this dataframe to an interactive table.\"\n",
              "            style=\"display:none;\">\n",
              "\n",
              "  <svg xmlns=\"http://www.w3.org/2000/svg\" height=\"24px\" viewBox=\"0 -960 960 960\">\n",
              "    <path d=\"M120-120v-720h720v720H120Zm60-500h600v-160H180v160Zm220 220h160v-160H400v160Zm0 220h160v-160H400v160ZM180-400h160v-160H180v160Zm440 0h160v-160H620v160ZM180-180h160v-160H180v160Zm440 0h160v-160H620v160Z\"/>\n",
              "  </svg>\n",
              "    </button>\n",
              "\n",
              "  <style>\n",
              "    .colab-df-container {\n",
              "      display:flex;\n",
              "      gap: 12px;\n",
              "    }\n",
              "\n",
              "    .colab-df-convert {\n",
              "      background-color: #E8F0FE;\n",
              "      border: none;\n",
              "      border-radius: 50%;\n",
              "      cursor: pointer;\n",
              "      display: none;\n",
              "      fill: #1967D2;\n",
              "      height: 32px;\n",
              "      padding: 0 0 0 0;\n",
              "      width: 32px;\n",
              "    }\n",
              "\n",
              "    .colab-df-convert:hover {\n",
              "      background-color: #E2EBFA;\n",
              "      box-shadow: 0px 1px 2px rgba(60, 64, 67, 0.3), 0px 1px 3px 1px rgba(60, 64, 67, 0.15);\n",
              "      fill: #174EA6;\n",
              "    }\n",
              "\n",
              "    .colab-df-buttons div {\n",
              "      margin-bottom: 4px;\n",
              "    }\n",
              "\n",
              "    [theme=dark] .colab-df-convert {\n",
              "      background-color: #3B4455;\n",
              "      fill: #D2E3FC;\n",
              "    }\n",
              "\n",
              "    [theme=dark] .colab-df-convert:hover {\n",
              "      background-color: #434B5C;\n",
              "      box-shadow: 0px 1px 3px 1px rgba(0, 0, 0, 0.15);\n",
              "      filter: drop-shadow(0px 1px 2px rgba(0, 0, 0, 0.3));\n",
              "      fill: #FFFFFF;\n",
              "    }\n",
              "  </style>\n",
              "\n",
              "    <script>\n",
              "      const buttonEl =\n",
              "        document.querySelector('#df-31dacce6-edcb-4bbd-97f8-a14bae93fcf1 button.colab-df-convert');\n",
              "      buttonEl.style.display =\n",
              "        google.colab.kernel.accessAllowed ? 'block' : 'none';\n",
              "\n",
              "      async function convertToInteractive(key) {\n",
              "        const element = document.querySelector('#df-31dacce6-edcb-4bbd-97f8-a14bae93fcf1');\n",
              "        const dataTable =\n",
              "          await google.colab.kernel.invokeFunction('convertToInteractive',\n",
              "                                                    [key], {});\n",
              "        if (!dataTable) return;\n",
              "\n",
              "        const docLinkHtml = 'Like what you see? Visit the ' +\n",
              "          '<a target=\"_blank\" href=https://colab.research.google.com/notebooks/data_table.ipynb>data table notebook</a>'\n",
              "          + ' to learn more about interactive tables.';\n",
              "        element.innerHTML = '';\n",
              "        dataTable['output_type'] = 'display_data';\n",
              "        await google.colab.output.renderOutput(dataTable, element);\n",
              "        const docLink = document.createElement('div');\n",
              "        docLink.innerHTML = docLinkHtml;\n",
              "        element.appendChild(docLink);\n",
              "      }\n",
              "    </script>\n",
              "  </div>\n",
              "\n",
              "\n",
              "<div id=\"df-009daaea-c6f0-4bad-827f-d80e4b6eac1e\">\n",
              "  <button class=\"colab-df-quickchart\" onclick=\"quickchart('df-009daaea-c6f0-4bad-827f-d80e4b6eac1e')\"\n",
              "            title=\"Suggest charts\"\n",
              "            style=\"display:none;\">\n",
              "\n",
              "<svg xmlns=\"http://www.w3.org/2000/svg\" height=\"24px\"viewBox=\"0 0 24 24\"\n",
              "     width=\"24px\">\n",
              "    <g>\n",
              "        <path d=\"M19 3H5c-1.1 0-2 .9-2 2v14c0 1.1.9 2 2 2h14c1.1 0 2-.9 2-2V5c0-1.1-.9-2-2-2zM9 17H7v-7h2v7zm4 0h-2V7h2v10zm4 0h-2v-4h2v4z\"/>\n",
              "    </g>\n",
              "</svg>\n",
              "  </button>\n",
              "\n",
              "<style>\n",
              "  .colab-df-quickchart {\n",
              "      --bg-color: #E8F0FE;\n",
              "      --fill-color: #1967D2;\n",
              "      --hover-bg-color: #E2EBFA;\n",
              "      --hover-fill-color: #174EA6;\n",
              "      --disabled-fill-color: #AAA;\n",
              "      --disabled-bg-color: #DDD;\n",
              "  }\n",
              "\n",
              "  [theme=dark] .colab-df-quickchart {\n",
              "      --bg-color: #3B4455;\n",
              "      --fill-color: #D2E3FC;\n",
              "      --hover-bg-color: #434B5C;\n",
              "      --hover-fill-color: #FFFFFF;\n",
              "      --disabled-bg-color: #3B4455;\n",
              "      --disabled-fill-color: #666;\n",
              "  }\n",
              "\n",
              "  .colab-df-quickchart {\n",
              "    background-color: var(--bg-color);\n",
              "    border: none;\n",
              "    border-radius: 50%;\n",
              "    cursor: pointer;\n",
              "    display: none;\n",
              "    fill: var(--fill-color);\n",
              "    height: 32px;\n",
              "    padding: 0;\n",
              "    width: 32px;\n",
              "  }\n",
              "\n",
              "  .colab-df-quickchart:hover {\n",
              "    background-color: var(--hover-bg-color);\n",
              "    box-shadow: 0 1px 2px rgba(60, 64, 67, 0.3), 0 1px 3px 1px rgba(60, 64, 67, 0.15);\n",
              "    fill: var(--button-hover-fill-color);\n",
              "  }\n",
              "\n",
              "  .colab-df-quickchart-complete:disabled,\n",
              "  .colab-df-quickchart-complete:disabled:hover {\n",
              "    background-color: var(--disabled-bg-color);\n",
              "    fill: var(--disabled-fill-color);\n",
              "    box-shadow: none;\n",
              "  }\n",
              "\n",
              "  .colab-df-spinner {\n",
              "    border: 2px solid var(--fill-color);\n",
              "    border-color: transparent;\n",
              "    border-bottom-color: var(--fill-color);\n",
              "    animation:\n",
              "      spin 1s steps(1) infinite;\n",
              "  }\n",
              "\n",
              "  @keyframes spin {\n",
              "    0% {\n",
              "      border-color: transparent;\n",
              "      border-bottom-color: var(--fill-color);\n",
              "      border-left-color: var(--fill-color);\n",
              "    }\n",
              "    20% {\n",
              "      border-color: transparent;\n",
              "      border-left-color: var(--fill-color);\n",
              "      border-top-color: var(--fill-color);\n",
              "    }\n",
              "    30% {\n",
              "      border-color: transparent;\n",
              "      border-left-color: var(--fill-color);\n",
              "      border-top-color: var(--fill-color);\n",
              "      border-right-color: var(--fill-color);\n",
              "    }\n",
              "    40% {\n",
              "      border-color: transparent;\n",
              "      border-right-color: var(--fill-color);\n",
              "      border-top-color: var(--fill-color);\n",
              "    }\n",
              "    60% {\n",
              "      border-color: transparent;\n",
              "      border-right-color: var(--fill-color);\n",
              "    }\n",
              "    80% {\n",
              "      border-color: transparent;\n",
              "      border-right-color: var(--fill-color);\n",
              "      border-bottom-color: var(--fill-color);\n",
              "    }\n",
              "    90% {\n",
              "      border-color: transparent;\n",
              "      border-bottom-color: var(--fill-color);\n",
              "    }\n",
              "  }\n",
              "</style>\n",
              "\n",
              "  <script>\n",
              "    async function quickchart(key) {\n",
              "      const quickchartButtonEl =\n",
              "        document.querySelector('#' + key + ' button');\n",
              "      quickchartButtonEl.disabled = true;  // To prevent multiple clicks.\n",
              "      quickchartButtonEl.classList.add('colab-df-spinner');\n",
              "      try {\n",
              "        const charts = await google.colab.kernel.invokeFunction(\n",
              "            'suggestCharts', [key], {});\n",
              "      } catch (error) {\n",
              "        console.error('Error during call to suggestCharts:', error);\n",
              "      }\n",
              "      quickchartButtonEl.classList.remove('colab-df-spinner');\n",
              "      quickchartButtonEl.classList.add('colab-df-quickchart-complete');\n",
              "    }\n",
              "    (() => {\n",
              "      let quickchartButtonEl =\n",
              "        document.querySelector('#df-009daaea-c6f0-4bad-827f-d80e4b6eac1e button');\n",
              "      quickchartButtonEl.style.display =\n",
              "        google.colab.kernel.accessAllowed ? 'block' : 'none';\n",
              "    })();\n",
              "  </script>\n",
              "</div>\n",
              "\n",
              "    </div>\n",
              "  </div>\n"
            ],
            "application/vnd.google.colaboratory.intrinsic+json": {
              "type": "dataframe",
              "variable_name": "btc_data",
              "summary": "{\n  \"name\": \"btc_data\",\n  \"rows\": 3490,\n  \"fields\": [\n    {\n      \"column\": \"Date\",\n      \"properties\": {\n        \"dtype\": \"date\",\n        \"min\": \"2014-09-17 00:00:00\",\n        \"max\": \"2024-04-06 00:00:00\",\n        \"num_unique_values\": 3490,\n        \"samples\": [\n          \"2015-07-09 00:00:00\",\n          \"2023-05-08 00:00:00\",\n          \"2023-12-14 00:00:00\"\n        ],\n        \"semantic_type\": \"\",\n        \"description\": \"\"\n      }\n    },\n    {\n      \"column\": \"Open\",\n      \"properties\": {\n        \"dtype\": \"number\",\n        \"std\": 17339.848505006114,\n        \"min\": 176.89700317382812,\n        \"max\": 73079.375,\n        \"num_unique_values\": 3486,\n        \"samples\": [\n          281.42498779296875,\n          11588.4052734375,\n          29357.09375\n        ],\n        \"semantic_type\": \"\",\n        \"description\": \"\"\n      }\n    },\n    {\n      \"column\": \"High\",\n      \"properties\": {\n        \"dtype\": \"number\",\n        \"std\": 17759.83868182621,\n        \"min\": 211.7310028076172,\n        \"max\": 73750.0703125,\n        \"num_unique_values\": 3487,\n        \"samples\": [\n          286.52899169921875,\n          11796.396484375,\n          29443.169921875\n        ],\n        \"semantic_type\": \"\",\n        \"description\": \"\"\n      }\n    },\n    {\n      \"column\": \"Low\",\n      \"properties\": {\n        \"dtype\": \"number\",\n        \"std\": 16884.534797149983,\n        \"min\": 171.50999450683594,\n        \"max\": 71334.09375,\n        \"num_unique_values\": 3488,\n        \"samples\": [\n          267.08599853515625,\n          21361.642578125,\n          41767.08984375\n        ],\n        \"semantic_type\": \"\",\n        \"description\": \"\"\n      }\n    },\n    {\n      \"column\": \"Close\",\n      \"properties\": {\n        \"dtype\": \"number\",\n        \"std\": 17358.8031113329,\n        \"min\": 178.10299682617188,\n        \"max\": 73083.5,\n        \"num_unique_values\": 3487,\n        \"samples\": [\n          286.39300537109375,\n          11784.1376953125,\n          29275.30859375\n        ],\n        \"semantic_type\": \"\",\n        \"description\": \"\"\n      }\n    },\n    {\n      \"column\": \"Adj Close\",\n      \"properties\": {\n        \"dtype\": \"number\",\n        \"std\": 17358.8031113329,\n        \"min\": 178.10299682617188,\n        \"max\": 73083.5,\n        \"num_unique_values\": 3487,\n        \"samples\": [\n          286.39300537109375,\n          11784.1376953125,\n          29275.30859375\n        ],\n        \"semantic_type\": \"\",\n        \"description\": \"\"\n      }\n    },\n    {\n      \"column\": \"Volume\",\n      \"properties\": {\n        \"dtype\": \"number\",\n        \"std\": 19270351133,\n        \"min\": 5914570,\n        \"max\": 350967941479,\n        \"num_unique_values\": 3490,\n        \"samples\": [\n          40301200,\n          19122903752,\n          25578530178\n        ],\n        \"semantic_type\": \"\",\n        \"description\": \"\"\n      }\n    }\n  ]\n}"
            }
          },
          "metadata": {},
          "execution_count": 5
        }
      ]
    },
    {
      "cell_type": "markdown",
      "source": [
        "### Taking Only Close and Volume Features to Develop a Model"
      ],
      "metadata": {
        "id": "YyDU1DEp2a06"
      }
    },
    {
      "cell_type": "code",
      "source": [
        "btc_data_modified = pd.DataFrame(btc_data[['Close',\"Volume\"]]).rename(columns={'Close': 'price',\"Volume\":\"Volume\"})\n",
        "btc_data_modified.head()"
      ],
      "metadata": {
        "colab": {
          "base_uri": "https://localhost:8080/",
          "height": 238
        },
        "id": "JevPfmMZ2Z1t",
        "outputId": "0126a9d2-e741-4ef3-c041-4dbeee838055"
      },
      "execution_count": 6,
      "outputs": [
        {
          "output_type": "execute_result",
          "data": {
            "text/plain": [
              "                 price    Volume\n",
              "Date                            \n",
              "2014-09-17  457.334015  21056800\n",
              "2014-09-18  424.440002  34483200\n",
              "2014-09-19  394.795990  37919700\n",
              "2014-09-20  408.903992  36863600\n",
              "2014-09-21  398.821014  26580100"
            ],
            "text/html": [
              "\n",
              "  <div id=\"df-3f09ca9c-8a3b-422b-a8b5-3b0eff55ac70\" class=\"colab-df-container\">\n",
              "    <div>\n",
              "<style scoped>\n",
              "    .dataframe tbody tr th:only-of-type {\n",
              "        vertical-align: middle;\n",
              "    }\n",
              "\n",
              "    .dataframe tbody tr th {\n",
              "        vertical-align: top;\n",
              "    }\n",
              "\n",
              "    .dataframe thead th {\n",
              "        text-align: right;\n",
              "    }\n",
              "</style>\n",
              "<table border=\"1\" class=\"dataframe\">\n",
              "  <thead>\n",
              "    <tr style=\"text-align: right;\">\n",
              "      <th></th>\n",
              "      <th>price</th>\n",
              "      <th>Volume</th>\n",
              "    </tr>\n",
              "    <tr>\n",
              "      <th>Date</th>\n",
              "      <th></th>\n",
              "      <th></th>\n",
              "    </tr>\n",
              "  </thead>\n",
              "  <tbody>\n",
              "    <tr>\n",
              "      <th>2014-09-17</th>\n",
              "      <td>457.334015</td>\n",
              "      <td>21056800</td>\n",
              "    </tr>\n",
              "    <tr>\n",
              "      <th>2014-09-18</th>\n",
              "      <td>424.440002</td>\n",
              "      <td>34483200</td>\n",
              "    </tr>\n",
              "    <tr>\n",
              "      <th>2014-09-19</th>\n",
              "      <td>394.795990</td>\n",
              "      <td>37919700</td>\n",
              "    </tr>\n",
              "    <tr>\n",
              "      <th>2014-09-20</th>\n",
              "      <td>408.903992</td>\n",
              "      <td>36863600</td>\n",
              "    </tr>\n",
              "    <tr>\n",
              "      <th>2014-09-21</th>\n",
              "      <td>398.821014</td>\n",
              "      <td>26580100</td>\n",
              "    </tr>\n",
              "  </tbody>\n",
              "</table>\n",
              "</div>\n",
              "    <div class=\"colab-df-buttons\">\n",
              "\n",
              "  <div class=\"colab-df-container\">\n",
              "    <button class=\"colab-df-convert\" onclick=\"convertToInteractive('df-3f09ca9c-8a3b-422b-a8b5-3b0eff55ac70')\"\n",
              "            title=\"Convert this dataframe to an interactive table.\"\n",
              "            style=\"display:none;\">\n",
              "\n",
              "  <svg xmlns=\"http://www.w3.org/2000/svg\" height=\"24px\" viewBox=\"0 -960 960 960\">\n",
              "    <path d=\"M120-120v-720h720v720H120Zm60-500h600v-160H180v160Zm220 220h160v-160H400v160Zm0 220h160v-160H400v160ZM180-400h160v-160H180v160Zm440 0h160v-160H620v160ZM180-180h160v-160H180v160Zm440 0h160v-160H620v160Z\"/>\n",
              "  </svg>\n",
              "    </button>\n",
              "\n",
              "  <style>\n",
              "    .colab-df-container {\n",
              "      display:flex;\n",
              "      gap: 12px;\n",
              "    }\n",
              "\n",
              "    .colab-df-convert {\n",
              "      background-color: #E8F0FE;\n",
              "      border: none;\n",
              "      border-radius: 50%;\n",
              "      cursor: pointer;\n",
              "      display: none;\n",
              "      fill: #1967D2;\n",
              "      height: 32px;\n",
              "      padding: 0 0 0 0;\n",
              "      width: 32px;\n",
              "    }\n",
              "\n",
              "    .colab-df-convert:hover {\n",
              "      background-color: #E2EBFA;\n",
              "      box-shadow: 0px 1px 2px rgba(60, 64, 67, 0.3), 0px 1px 3px 1px rgba(60, 64, 67, 0.15);\n",
              "      fill: #174EA6;\n",
              "    }\n",
              "\n",
              "    .colab-df-buttons div {\n",
              "      margin-bottom: 4px;\n",
              "    }\n",
              "\n",
              "    [theme=dark] .colab-df-convert {\n",
              "      background-color: #3B4455;\n",
              "      fill: #D2E3FC;\n",
              "    }\n",
              "\n",
              "    [theme=dark] .colab-df-convert:hover {\n",
              "      background-color: #434B5C;\n",
              "      box-shadow: 0px 1px 3px 1px rgba(0, 0, 0, 0.15);\n",
              "      filter: drop-shadow(0px 1px 2px rgba(0, 0, 0, 0.3));\n",
              "      fill: #FFFFFF;\n",
              "    }\n",
              "  </style>\n",
              "\n",
              "    <script>\n",
              "      const buttonEl =\n",
              "        document.querySelector('#df-3f09ca9c-8a3b-422b-a8b5-3b0eff55ac70 button.colab-df-convert');\n",
              "      buttonEl.style.display =\n",
              "        google.colab.kernel.accessAllowed ? 'block' : 'none';\n",
              "\n",
              "      async function convertToInteractive(key) {\n",
              "        const element = document.querySelector('#df-3f09ca9c-8a3b-422b-a8b5-3b0eff55ac70');\n",
              "        const dataTable =\n",
              "          await google.colab.kernel.invokeFunction('convertToInteractive',\n",
              "                                                    [key], {});\n",
              "        if (!dataTable) return;\n",
              "\n",
              "        const docLinkHtml = 'Like what you see? Visit the ' +\n",
              "          '<a target=\"_blank\" href=https://colab.research.google.com/notebooks/data_table.ipynb>data table notebook</a>'\n",
              "          + ' to learn more about interactive tables.';\n",
              "        element.innerHTML = '';\n",
              "        dataTable['output_type'] = 'display_data';\n",
              "        await google.colab.output.renderOutput(dataTable, element);\n",
              "        const docLink = document.createElement('div');\n",
              "        docLink.innerHTML = docLinkHtml;\n",
              "        element.appendChild(docLink);\n",
              "      }\n",
              "    </script>\n",
              "  </div>\n",
              "\n",
              "\n",
              "<div id=\"df-221ee9f9-be52-46bd-849f-37537408d4ca\">\n",
              "  <button class=\"colab-df-quickchart\" onclick=\"quickchart('df-221ee9f9-be52-46bd-849f-37537408d4ca')\"\n",
              "            title=\"Suggest charts\"\n",
              "            style=\"display:none;\">\n",
              "\n",
              "<svg xmlns=\"http://www.w3.org/2000/svg\" height=\"24px\"viewBox=\"0 0 24 24\"\n",
              "     width=\"24px\">\n",
              "    <g>\n",
              "        <path d=\"M19 3H5c-1.1 0-2 .9-2 2v14c0 1.1.9 2 2 2h14c1.1 0 2-.9 2-2V5c0-1.1-.9-2-2-2zM9 17H7v-7h2v7zm4 0h-2V7h2v10zm4 0h-2v-4h2v4z\"/>\n",
              "    </g>\n",
              "</svg>\n",
              "  </button>\n",
              "\n",
              "<style>\n",
              "  .colab-df-quickchart {\n",
              "      --bg-color: #E8F0FE;\n",
              "      --fill-color: #1967D2;\n",
              "      --hover-bg-color: #E2EBFA;\n",
              "      --hover-fill-color: #174EA6;\n",
              "      --disabled-fill-color: #AAA;\n",
              "      --disabled-bg-color: #DDD;\n",
              "  }\n",
              "\n",
              "  [theme=dark] .colab-df-quickchart {\n",
              "      --bg-color: #3B4455;\n",
              "      --fill-color: #D2E3FC;\n",
              "      --hover-bg-color: #434B5C;\n",
              "      --hover-fill-color: #FFFFFF;\n",
              "      --disabled-bg-color: #3B4455;\n",
              "      --disabled-fill-color: #666;\n",
              "  }\n",
              "\n",
              "  .colab-df-quickchart {\n",
              "    background-color: var(--bg-color);\n",
              "    border: none;\n",
              "    border-radius: 50%;\n",
              "    cursor: pointer;\n",
              "    display: none;\n",
              "    fill: var(--fill-color);\n",
              "    height: 32px;\n",
              "    padding: 0;\n",
              "    width: 32px;\n",
              "  }\n",
              "\n",
              "  .colab-df-quickchart:hover {\n",
              "    background-color: var(--hover-bg-color);\n",
              "    box-shadow: 0 1px 2px rgba(60, 64, 67, 0.3), 0 1px 3px 1px rgba(60, 64, 67, 0.15);\n",
              "    fill: var(--button-hover-fill-color);\n",
              "  }\n",
              "\n",
              "  .colab-df-quickchart-complete:disabled,\n",
              "  .colab-df-quickchart-complete:disabled:hover {\n",
              "    background-color: var(--disabled-bg-color);\n",
              "    fill: var(--disabled-fill-color);\n",
              "    box-shadow: none;\n",
              "  }\n",
              "\n",
              "  .colab-df-spinner {\n",
              "    border: 2px solid var(--fill-color);\n",
              "    border-color: transparent;\n",
              "    border-bottom-color: var(--fill-color);\n",
              "    animation:\n",
              "      spin 1s steps(1) infinite;\n",
              "  }\n",
              "\n",
              "  @keyframes spin {\n",
              "    0% {\n",
              "      border-color: transparent;\n",
              "      border-bottom-color: var(--fill-color);\n",
              "      border-left-color: var(--fill-color);\n",
              "    }\n",
              "    20% {\n",
              "      border-color: transparent;\n",
              "      border-left-color: var(--fill-color);\n",
              "      border-top-color: var(--fill-color);\n",
              "    }\n",
              "    30% {\n",
              "      border-color: transparent;\n",
              "      border-left-color: var(--fill-color);\n",
              "      border-top-color: var(--fill-color);\n",
              "      border-right-color: var(--fill-color);\n",
              "    }\n",
              "    40% {\n",
              "      border-color: transparent;\n",
              "      border-right-color: var(--fill-color);\n",
              "      border-top-color: var(--fill-color);\n",
              "    }\n",
              "    60% {\n",
              "      border-color: transparent;\n",
              "      border-right-color: var(--fill-color);\n",
              "    }\n",
              "    80% {\n",
              "      border-color: transparent;\n",
              "      border-right-color: var(--fill-color);\n",
              "      border-bottom-color: var(--fill-color);\n",
              "    }\n",
              "    90% {\n",
              "      border-color: transparent;\n",
              "      border-bottom-color: var(--fill-color);\n",
              "    }\n",
              "  }\n",
              "</style>\n",
              "\n",
              "  <script>\n",
              "    async function quickchart(key) {\n",
              "      const quickchartButtonEl =\n",
              "        document.querySelector('#' + key + ' button');\n",
              "      quickchartButtonEl.disabled = true;  // To prevent multiple clicks.\n",
              "      quickchartButtonEl.classList.add('colab-df-spinner');\n",
              "      try {\n",
              "        const charts = await google.colab.kernel.invokeFunction(\n",
              "            'suggestCharts', [key], {});\n",
              "      } catch (error) {\n",
              "        console.error('Error during call to suggestCharts:', error);\n",
              "      }\n",
              "      quickchartButtonEl.classList.remove('colab-df-spinner');\n",
              "      quickchartButtonEl.classList.add('colab-df-quickchart-complete');\n",
              "    }\n",
              "    (() => {\n",
              "      let quickchartButtonEl =\n",
              "        document.querySelector('#df-221ee9f9-be52-46bd-849f-37537408d4ca button');\n",
              "      quickchartButtonEl.style.display =\n",
              "        google.colab.kernel.accessAllowed ? 'block' : 'none';\n",
              "    })();\n",
              "  </script>\n",
              "</div>\n",
              "\n",
              "    </div>\n",
              "  </div>\n"
            ],
            "application/vnd.google.colaboratory.intrinsic+json": {
              "type": "dataframe",
              "variable_name": "btc_data_modified",
              "summary": "{\n  \"name\": \"btc_data_modified\",\n  \"rows\": 3490,\n  \"fields\": [\n    {\n      \"column\": \"Date\",\n      \"properties\": {\n        \"dtype\": \"date\",\n        \"min\": \"2014-09-17 00:00:00\",\n        \"max\": \"2024-04-06 00:00:00\",\n        \"num_unique_values\": 3490,\n        \"samples\": [\n          \"2015-07-09 00:00:00\",\n          \"2023-05-08 00:00:00\",\n          \"2023-12-14 00:00:00\"\n        ],\n        \"semantic_type\": \"\",\n        \"description\": \"\"\n      }\n    },\n    {\n      \"column\": \"price\",\n      \"properties\": {\n        \"dtype\": \"number\",\n        \"std\": 17358.8031113329,\n        \"min\": 178.10299682617188,\n        \"max\": 73083.5,\n        \"num_unique_values\": 3487,\n        \"samples\": [\n          286.39300537109375,\n          11784.1376953125,\n          29275.30859375\n        ],\n        \"semantic_type\": \"\",\n        \"description\": \"\"\n      }\n    },\n    {\n      \"column\": \"Volume\",\n      \"properties\": {\n        \"dtype\": \"number\",\n        \"std\": 19270351133,\n        \"min\": 5914570,\n        \"max\": 350967941479,\n        \"num_unique_values\": 3490,\n        \"samples\": [\n          40301200,\n          19122903752,\n          25578530178\n        ],\n        \"semantic_type\": \"\",\n        \"description\": \"\"\n      }\n    }\n  ]\n}"
            }
          },
          "metadata": {},
          "execution_count": 6
        }
      ]
    },
    {
      "cell_type": "markdown",
      "source": [
        "### Seeing The Correlation Between price and Volume"
      ],
      "metadata": {
        "id": "Zh7i2o9w3gbd"
      }
    },
    {
      "cell_type": "code",
      "source": [
        "corr = btc_data_modified.corr()\n",
        "corr\n",
        "plt.figure(figsize=(10, 8))\n",
        "sns.heatmap(corr, annot=True, cmap='coolwarm');"
      ],
      "metadata": {
        "colab": {
          "base_uri": "https://localhost:8080/",
          "height": 682
        },
        "id": "nz_7pYgx7w6X",
        "outputId": "a8a36e2e-589d-4f4c-b831-931de95e0eb4"
      },
      "execution_count": 7,
      "outputs": [
        {
          "output_type": "display_data",
          "data": {
            "text/plain": [
              "<Figure size 1000x800 with 2 Axes>"
            ],
            "image/png": "[encoded data removed]"
          },
          "metadata": {}
        }
      ]
    },
    {
      "cell_type": "markdown",
      "source": [
        "##### Now seeing the correlation Between all the values\n"
      ],
      "metadata": {
        "id": "_b5OF-e734Y-"
      }
    },
    {
      "cell_type": "code",
      "source": [
        "corr = btc_data.corr()\n",
        "plt.figure(figsize=(10,8))\n",
        "sns.heatmap(corr, annot=True, cmap='coolwarm');"
      ],
      "metadata": {
        "colab": {
          "base_uri": "https://localhost:8080/",
          "height": 682
        },
        "id": "bChIhvM072zP",
        "outputId": "9c394e75-7f62-4ce2-9e2b-5ecc48f59800"
      },
      "execution_count": 8,
      "outputs": [
        {
          "output_type": "display_data",
          "data": {
            "text/plain": [
              "<Figure size 1000x800 with 2 Axes>"
            ],
            "image/png": "[encoded data removed]"
          },
          "metadata": {}
        }
      ]
    },
    {
      "cell_type": "markdown",
      "source": [
        "###### By visualizing the Above Figure we get know that for Open and Volume there is 0.01%  correlation more than Close and Volume\n",
        "\n",
        "##### But as you all know that  we need to predict the Price of Bitcoin By the End of the Day so we will choose Volume and Close as our features"
      ],
      "metadata": {
        "id": "3waPNd7m4T-j"
      }
    },
    {
      "cell_type": "code",
      "source": [
        "import torch\n",
        "import torch.nn as nn\n",
        "import torch.optim as optim\n",
        "from torch.utils.data import DataLoader, TensorDataset"
      ],
      "metadata": {
        "id": "08HEkC5O74_m"
      },
      "execution_count": 9,
      "outputs": []
    },
    {
      "cell_type": "code",
      "source": [
        "btc_data_modified.describe()"
      ],
      "metadata": {
        "colab": {
          "base_uri": "https://localhost:8080/",
          "height": 300
        },
        "id": "c7rqqSoq8GSw",
        "outputId": "a8e2eb0f-b61b-4d43-bac6-5564a520847b"
      },
      "execution_count": 10,
      "outputs": [
        {
          "output_type": "execute_result",
          "data": {
            "text/plain": [
              "              price        Volume\n",
              "count   3490.000000  3.490000e+03\n",
              "mean   15691.235262  1.703782e+10\n",
              "std    17358.803111  1.927035e+10\n",
              "min      178.102997  5.914570e+06\n",
              "25%     1000.498276  2.022810e+08\n",
              "50%     8621.233398  1.270920e+10\n",
              "75%    26560.643066  2.742028e+10\n",
              "max    73083.500000  3.509679e+11"
            ],
            "text/html": [
              "\n",
              "  <div id=\"df-eb5a09b0-aadc-424b-8aa1-2eaf15c11030\" class=\"colab-df-container\">\n",
              "    <div>\n",
              "<style scoped>\n",
              "    .dataframe tbody tr th:only-of-type {\n",
              "        vertical-align: middle;\n",
              "    }\n",
              "\n",
              "    .dataframe tbody tr th {\n",
              "        vertical-align: top;\n",
              "    }\n",
              "\n",
              "    .dataframe thead th {\n",
              "        text-align: right;\n",
              "    }\n",
              "</style>\n",
              "<table border=\"1\" class=\"dataframe\">\n",
              "  <thead>\n",
              "    <tr style=\"text-align: right;\">\n",
              "      <th></th>\n",
              "      <th>price</th>\n",
              "      <th>Volume</th>\n",
              "    </tr>\n",
              "  </thead>\n",
              "  <tbody>\n",
              "    <tr>\n",
              "      <th>count</th>\n",
              "      <td>3490.000000</td>\n",
              "      <td>3.490000e+03</td>\n",
              "    </tr>\n",
              "    <tr>\n",
              "      <th>mean</th>\n",
              "      <td>15691.235262</td>\n",
              "      <td>1.703782e+10</td>\n",
              "    </tr>\n",
              "    <tr>\n",
              "      <th>std</th>\n",
              "      <td>17358.803111</td>\n",
              "      <td>1.927035e+10</td>\n",
              "    </tr>\n",
              "    <tr>\n",
              "      <th>min</th>\n",
              "      <td>178.102997</td>\n",
              "      <td>5.914570e+06</td>\n",
              "    </tr>\n",
              "    <tr>\n",
              "      <th>25%</th>\n",
              "      <td>1000.498276</td>\n",
              "      <td>2.022810e+08</td>\n",
              "    </tr>\n",
              "    <tr>\n",
              "      <th>50%</th>\n",
              "      <td>8621.233398</td>\n",
              "      <td>1.270920e+10</td>\n",
              "    </tr>\n",
              "    <tr>\n",
              "      <th>75%</th>\n",
              "      <td>26560.643066</td>\n",
              "      <td>2.742028e+10</td>\n",
              "    </tr>\n",
              "    <tr>\n",
              "      <th>max</th>\n",
              "      <td>73083.500000</td>\n",
              "      <td>3.509679e+11</td>\n",
              "    </tr>\n",
              "  </tbody>\n",
              "</table>\n",
              "</div>\n",
              "    <div class=\"colab-df-buttons\">\n",
              "\n",
              "  <div class=\"colab-df-container\">\n",
              "    <button class=\"colab-df-convert\" onclick=\"convertToInteractive('df-eb5a09b0-aadc-424b-8aa1-2eaf15c11030')\"\n",
              "            title=\"Convert this dataframe to an interactive table.\"\n",
              "            style=\"display:none;\">\n",
              "\n",
              "  <svg xmlns=\"http://www.w3.org/2000/svg\" height=\"24px\" viewBox=\"0 -960 960 960\">\n",
              "    <path d=\"M120-120v-720h720v720H120Zm60-500h600v-160H180v160Zm220 220h160v-160H400v160Zm0 220h160v-160H400v160ZM180-400h160v-160H180v160Zm440 0h160v-160H620v160ZM180-180h160v-160H180v160Zm440 0h160v-160H620v160Z\"/>\n",
              "  </svg>\n",
              "    </button>\n",
              "\n",
              "  <style>\n",
              "    .colab-df-container {\n",
              "      display:flex;\n",
              "      gap: 12px;\n",
              "    }\n",
              "\n",
              "    .colab-df-convert {\n",
              "      background-color: #E8F0FE;\n",
              "      border: none;\n",
              "      border-radius: 50%;\n",
              "      cursor: pointer;\n",
              "      display: none;\n",
              "      fill: #1967D2;\n",
              "      height: 32px;\n",
              "      padding: 0 0 0 0;\n",
              "      width: 32px;\n",
              "    }\n",
              "\n",
              "    .colab-df-convert:hover {\n",
              "      background-color: #E2EBFA;\n",
              "      box-shadow: 0px 1px 2px rgba(60, 64, 67, 0.3), 0px 1px 3px 1px rgba(60, 64, 67, 0.15);\n",
              "      fill: #174EA6;\n",
              "    }\n",
              "\n",
              "    .colab-df-buttons div {\n",
              "      margin-bottom: 4px;\n",
              "    }\n",
              "\n",
              "    [theme=dark] .colab-df-convert {\n",
              "      background-color: #3B4455;\n",
              "      fill: #D2E3FC;\n",
              "    }\n",
              "\n",
              "    [theme=dark] .colab-df-convert:hover {\n",
              "      background-color: #434B5C;\n",
              "      box-shadow: 0px 1px 3px 1px rgba(0, 0, 0, 0.15);\n",
              "      filter: drop-shadow(0px 1px 2px rgba(0, 0, 0, 0.3));\n",
              "      fill: #FFFFFF;\n",
              "    }\n",
              "  </style>\n",
              "\n",
              "    <script>\n",
              "      const buttonEl =\n",
              "        document.querySelector('#df-eb5a09b0-aadc-424b-8aa1-2eaf15c11030 button.colab-df-convert');\n",
              "      buttonEl.style.display =\n",
              "        google.colab.kernel.accessAllowed ? 'block' : 'none';\n",
              "\n",
              "      async function convertToInteractive(key) {\n",
              "        const element = document.querySelector('#df-eb5a09b0-aadc-424b-8aa1-2eaf15c11030');\n",
              "        const dataTable =\n",
              "          await google.colab.kernel.invokeFunction('convertToInteractive',\n",
              "                                                    [key], {});\n",
              "        if (!dataTable) return;\n",
              "\n",
              "        const docLinkHtml = 'Like what you see? Visit the ' +\n",
              "          '<a target=\"_blank\" href=https://colab.research.google.com/notebooks/data_table.ipynb>data table notebook</a>'\n",
              "          + ' to learn more about interactive tables.';\n",
              "        element.innerHTML = '';\n",
              "        dataTable['output_type'] = 'display_data';\n",
              "        await google.colab.output.renderOutput(dataTable, element);\n",
              "        const docLink = document.createElement('div');\n",
              "        docLink.innerHTML = docLinkHtml;\n",
              "        element.appendChild(docLink);\n",
              "      }\n",
              "    </script>\n",
              "  </div>\n",
              "\n",
              "\n",
              "<div id=\"df-c39a23ee-2d9b-4404-ae16-8534592c6554\">\n",
              "  <button class=\"colab-df-quickchart\" onclick=\"quickchart('df-c39a23ee-2d9b-4404-ae16-8534592c6554')\"\n",
              "            title=\"Suggest charts\"\n",
              "            style=\"display:none;\">\n",
              "\n",
              "<svg xmlns=\"http://www.w3.org/2000/svg\" height=\"24px\"viewBox=\"0 0 24 24\"\n",
              "     width=\"24px\">\n",
              "    <g>\n",
              "        <path d=\"M19 3H5c-1.1 0-2 .9-2 2v14c0 1.1.9 2 2 2h14c1.1 0 2-.9 2-2V5c0-1.1-.9-2-2-2zM9 17H7v-7h2v7zm4 0h-2V7h2v10zm4 0h-2v-4h2v4z\"/>\n",
              "    </g>\n",
              "</svg>\n",
              "  </button>\n",
              "\n",
              "<style>\n",
              "  .colab-df-quickchart {\n",
              "      --bg-color: #E8F0FE;\n",
              "      --fill-color: #1967D2;\n",
              "      --hover-bg-color: #E2EBFA;\n",
              "      --hover-fill-color: #174EA6;\n",
              "      --disabled-fill-color: #AAA;\n",
              "      --disabled-bg-color: #DDD;\n",
              "  }\n",
              "\n",
              "  [theme=dark] .colab-df-quickchart {\n",
              "      --bg-color: #3B4455;\n",
              "      --fill-color: #D2E3FC;\n",
              "      --hover-bg-color: #434B5C;\n",
              "      --hover-fill-color: #FFFFFF;\n",
              "      --disabled-bg-color: #3B4455;\n",
              "      --disabled-fill-color: #666;\n",
              "  }\n",
              "\n",
              "  .colab-df-quickchart {\n",
              "    background-color: var(--bg-color);\n",
              "    border: none;\n",
              "    border-radius: 50%;\n",
              "    cursor: pointer;\n",
              "    display: none;\n",
              "    fill: var(--fill-color);\n",
              "    height: 32px;\n",
              "    padding: 0;\n",
              "    width: 32px;\n",
              "  }\n",
              "\n",
              "  .colab-df-quickchart:hover {\n",
              "    background-color: var(--hover-bg-color);\n",
              "    box-shadow: 0 1px 2px rgba(60, 64, 67, 0.3), 0 1px 3px 1px rgba(60, 64, 67, 0.15);\n",
              "    fill: var(--button-hover-fill-color);\n",
              "  }\n",
              "\n",
              "  .colab-df-quickchart-complete:disabled,\n",
              "  .colab-df-quickchart-complete:disabled:hover {\n",
              "    background-color: var(--disabled-bg-color);\n",
              "    fill: var(--disabled-fill-color);\n",
              "    box-shadow: none;\n",
              "  }\n",
              "\n",
              "  .colab-df-spinner {\n",
              "    border: 2px solid var(--fill-color);\n",
              "    border-color: transparent;\n",
              "    border-bottom-color: var(--fill-color);\n",
              "    animation:\n",
              "      spin 1s steps(1) infinite;\n",
              "  }\n",
              "\n",
              "  @keyframes spin {\n",
              "    0% {\n",
              "      border-color: transparent;\n",
              "      border-bottom-color: var(--fill-color);\n",
              "      border-left-color: var(--fill-color);\n",
              "    }\n",
              "    20% {\n",
              "      border-color: transparent;\n",
              "      border-left-color: var(--fill-color);\n",
              "      border-top-color: var(--fill-color);\n",
              "    }\n",
              "    30% {\n",
              "      border-color: transparent;\n",
              "      border-left-color: var(--fill-color);\n",
              "      border-top-color: var(--fill-color);\n",
              "      border-right-color: var(--fill-color);\n",
              "    }\n",
              "    40% {\n",
              "      border-color: transparent;\n",
              "      border-right-color: var(--fill-color);\n",
              "      border-top-color: var(--fill-color);\n",
              "    }\n",
              "    60% {\n",
              "      border-color: transparent;\n",
              "      border-right-color: var(--fill-color);\n",
              "    }\n",
              "    80% {\n",
              "      border-color: transparent;\n",
              "      border-right-color: var(--fill-color);\n",
              "      border-bottom-color: var(--fill-color);\n",
              "    }\n",
              "    90% {\n",
              "      border-color: transparent;\n",
              "      border-bottom-color: var(--fill-color);\n",
              "    }\n",
              "  }\n",
              "</style>\n",
              "\n",
              "  <script>\n",
              "    async function quickchart(key) {\n",
              "      const quickchartButtonEl =\n",
              "        document.querySelector('#' + key + ' button');\n",
              "      quickchartButtonEl.disabled = true;  // To prevent multiple clicks.\n",
              "      quickchartButtonEl.classList.add('colab-df-spinner');\n",
              "      try {\n",
              "        const charts = await google.colab.kernel.invokeFunction(\n",
              "            'suggestCharts', [key], {});\n",
              "      } catch (error) {\n",
              "        console.error('Error during call to suggestCharts:', error);\n",
              "      }\n",
              "      quickchartButtonEl.classList.remove('colab-df-spinner');\n",
              "      quickchartButtonEl.classList.add('colab-df-quickchart-complete');\n",
              "    }\n",
              "    (() => {\n",
              "      let quickchartButtonEl =\n",
              "        document.querySelector('#df-c39a23ee-2d9b-4404-ae16-8534592c6554 button');\n",
              "      quickchartButtonEl.style.display =\n",
              "        google.colab.kernel.accessAllowed ? 'block' : 'none';\n",
              "    })();\n",
              "  </script>\n",
              "</div>\n",
              "\n",
              "    </div>\n",
              "  </div>\n"
            ],
            "application/vnd.google.colaboratory.intrinsic+json": {
              "type": "dataframe",
              "summary": "{\n  \"name\": \"btc_data_modified\",\n  \"rows\": 8,\n  \"fields\": [\n    {\n      \"column\": \"price\",\n      \"properties\": {\n        \"dtype\": \"number\",\n        \"std\": 23957.7917676214,\n        \"min\": 178.10299682617188,\n        \"max\": 73083.5,\n        \"num_unique_values\": 8,\n        \"samples\": [\n          15691.23526216086,\n          8621.2333984375,\n          3490.0\n        ],\n        \"semantic_type\": \"\",\n        \"description\": \"\"\n      }\n    },\n    {\n      \"column\": \"Volume\",\n      \"properties\": {\n        \"dtype\": \"number\",\n        \"std\": 120651133136.47322,\n        \"min\": 3490.0,\n        \"max\": 350967941479.0,\n        \"num_unique_values\": 8,\n        \"samples\": [\n          17037822062.541548,\n          12709200597.0,\n          3490.0\n        ],\n        \"semantic_type\": \"\",\n        \"description\": \"\"\n      }\n    }\n  ]\n}"
            }
          },
          "metadata": {},
          "execution_count": 10
        }
      ]
    },
    {
      "cell_type": "code",
      "source": [
        "btc_data_modified.info()"
      ],
      "metadata": {
        "colab": {
          "base_uri": "https://localhost:8080/"
        },
        "id": "nt68B1Nn885r",
        "outputId": "9234da43-a81e-40a8-b33a-722e59d5722e"
      },
      "execution_count": 11,
      "outputs": [
        {
          "output_type": "stream",
          "name": "stdout",
          "text": [
            "<class 'pandas.core.frame.DataFrame'>\n",
            "DatetimeIndex: 3490 entries, 2014-09-17 to 2024-04-06\n",
            "Data columns (total 2 columns):\n",
            " #   Column  Non-Null Count  Dtype  \n",
            "---  ------  --------------  -----  \n",
            " 0   price   3490 non-null   float64\n",
            " 1   Volume  3490 non-null   int64  \n",
            "dtypes: float64(1), int64(1)\n",
            "memory usage: 81.8 KB\n"
          ]
        }
      ]
    },
    {
      "cell_type": "markdown",
      "source": [
        "By seeing the Data there is no Null Values There is no need to drop values or rows"
      ],
      "metadata": {
        "id": "Hxfo30cC4-1n"
      }
    },
    {
      "cell_type": "code",
      "source": [],
      "metadata": {
        "id": "yWvlHANM-ByS"
      },
      "execution_count": 72,
      "outputs": []
    },
    {
      "cell_type": "code",
      "source": [
        "\n",
        "\n"
      ],
      "metadata": {
        "id": "T4rw4PIh-QlW"
      },
      "execution_count": 72,
      "outputs": []
    },
    {
      "cell_type": "markdown",
      "source": [
        "### Visualizing Bitcoin Price from 2015 to 2024"
      ],
      "metadata": {
        "id": "P-bDaqOBBHCn"
      }
    },
    {
      "cell_type": "code",
      "source": [
        "import matplotlib.pyplot as plt\n",
        "btc_data_modified.plot(figsize=(10, 7))\n",
        "plt.ylabel(\"BTC Price\")\n",
        "plt.title(\"Price of Bitcoin from 9 Sep 2014 to 06 April 2024\", fontsize=16)\n",
        "plt.legend(fontsize=14);"
      ],
      "metadata": {
        "colab": {
          "base_uri": "https://localhost:8080/",
          "height": 643
        },
        "id": "Qq8x9kWP-zyu",
        "outputId": "64f56877-2374-4fa8-e7dd-25d0f6f17a73"
      },
      "execution_count": 73,
      "outputs": [
        {
          "output_type": "display_data",
          "data": {
            "text/plain": [
              "<Figure size 1000x700 with 1 Axes>"
            ],
            "image/png": "[encoded data removed]"
          },
          "metadata": {}
        }
      ]
    },
    {
      "cell_type": "markdown",
      "source": [
        "##### Because of the Volume is soo Large we are Seeing the Price Column where in reality it is not Flat We need to Normalize Both Them to understand using MinMaxScaler to Understand Them Well"
      ],
      "metadata": {
        "id": "cgIMsreE5d98"
      }
    },
    {
      "cell_type": "markdown",
      "source": [
        "#### MultiVariate\n",
        "\n",
        "\n",
        "\n"
      ],
      "metadata": {
        "id": "p1i2F8vsGq0G"
      }
    },
    {
      "cell_type": "code",
      "source": [
        "from sklearn.preprocessing import minmax_scale\n",
        "scaled_price_block_df = pd.DataFrame(minmax_scale(btc_data_modified[[\"price\",\"Volume\"]]), # we need to scale the data first\n",
        "                                     columns=btc_data_modified.columns,\n",
        "                                     index=btc_data_modified.index)\n",
        "scaled_price_block_df.plot(figsize=(10, 7));\n"
      ],
      "metadata": {
        "colab": {
          "base_uri": "https://localhost:8080/",
          "height": 619
        },
        "id": "R6PWUe4C-0rE",
        "outputId": "4ffd9b73-c8d2-414f-dd77-eaa39b7df516"
      },
      "execution_count": 74,
      "outputs": [
        {
          "output_type": "display_data",
          "data": {
            "text/plain": [
              "<Figure size 1000x700 with 1 Axes>"
            ],
            "image/png": "[encoded data removed]"
          },
          "metadata": {}
        }
      ]
    },
    {
      "cell_type": "markdown",
      "source": [
        "#### Visualize By Seeing The Above the Plot We Know that Whenever The Price of Bitcoin Falls The Number Of People Buying it Increases"
      ],
      "metadata": {
        "id": "pzAYXJF96HI6"
      }
    },
    {
      "cell_type": "code",
      "source": [],
      "metadata": {
        "id": "RKx-SkHjVIf9"
      },
      "execution_count": 74,
      "outputs": []
    },
    {
      "cell_type": "markdown",
      "source": [
        "### Building The First Model Where\n",
        "\n",
        "#### In this Model We are Using Only Price Feature Not this Volume Feature"
      ],
      "metadata": {
        "id": "3CLMg6bm6kIi"
      }
    },
    {
      "cell_type": "code",
      "source": [],
      "metadata": {
        "id": "jvxmaYNIHTmY"
      },
      "execution_count": 74,
      "outputs": []
    },
    {
      "cell_type": "code",
      "source": [
        "# Setup dataset hyperparameters\n",
        "HORIZON = 1\n",
        "WINDOW_SIZE = 7"
      ],
      "metadata": {
        "id": "FaQZBiKiVn-I"
      },
      "execution_count": 75,
      "outputs": []
    },
    {
      "cell_type": "code",
      "source": [
        "bitcoin_prices_windowed = btc_data_modified.copy()\n",
        "\n",
        "# Add windowed columns\n",
        "for i in range(WINDOW_SIZE): # Shift values for each step in WINDOW_SIZE\n",
        "  bitcoin_prices_windowed[f\"Price+{i+1}\"] = bitcoin_prices_windowed[\"price\"].shift(periods=i+1)\n",
        "bitcoin_prices_windowed.head(10)"
      ],
      "metadata": {
        "colab": {
          "base_uri": "https://localhost:8080/",
          "height": 394
        },
        "id": "XBAOfVJeWD6h",
        "outputId": "6bf24876-1095-4da3-b92d-a27c47d96f52"
      },
      "execution_count": 76,
      "outputs": [
        {
          "output_type": "execute_result",
          "data": {
            "text/plain": [
              "                 price    Volume     Price+1     Price+2     Price+3  \\\n",
              "Date                                                                   \n",
              "2014-09-17  457.334015  21056800         NaN         NaN         NaN   \n",
              "2014-09-18  424.440002  34483200  457.334015         NaN         NaN   \n",
              "2014-09-19  394.795990  37919700  424.440002  457.334015         NaN   \n",
              "2014-09-20  408.903992  36863600  394.795990  424.440002  457.334015   \n",
              "2014-09-21  398.821014  26580100  408.903992  394.795990  424.440002   \n",
              "2014-09-22  402.152008  24127600  398.821014  408.903992  394.795990   \n",
              "2014-09-23  435.790985  45099500  402.152008  398.821014  408.903992   \n",
              "2014-09-24  423.204987  30627700  435.790985  402.152008  398.821014   \n",
              "2014-09-25  411.574005  26814400  423.204987  435.790985  402.152008   \n",
              "2014-09-26  404.424988  21460800  411.574005  423.204987  435.790985   \n",
              "\n",
              "               Price+4     Price+5     Price+6     Price+7  \n",
              "Date                                                        \n",
              "2014-09-17         NaN         NaN         NaN         NaN  \n",
              "2014-09-18         NaN         NaN         NaN         NaN  \n",
              "2014-09-19         NaN         NaN         NaN         NaN  \n",
              "2014-09-20         NaN         NaN         NaN         NaN  \n",
              "2014-09-21  457.334015         NaN         NaN         NaN  \n",
              "2014-09-22  424.440002  457.334015         NaN         NaN  \n",
              "2014-09-23  394.795990  424.440002  457.334015         NaN  \n",
              "2014-09-24  408.903992  394.795990  424.440002  457.334015  \n",
              "2014-09-25  398.821014  408.903992  394.795990  424.440002  \n",
              "2014-09-26  402.152008  398.821014  408.903992  394.795990  "
            ],
            "text/html": [
              "\n",
              "  <div id=\"df-f38959f0-a327-4c6f-b590-c28b6cd526a4\" class=\"colab-df-container\">\n",
              "    <div>\n",
              "<style scoped>\n",
              "    .dataframe tbody tr th:only-of-type {\n",
              "        vertical-align: middle;\n",
              "    }\n",
              "\n",
              "    .dataframe tbody tr th {\n",
              "        vertical-align: top;\n",
              "    }\n",
              "\n",
              "    .dataframe thead th {\n",
              "        text-align: right;\n",
              "    }\n",
              "</style>\n",
              "<table border=\"1\" class=\"dataframe\">\n",
              "  <thead>\n",
              "    <tr style=\"text-align: right;\">\n",
              "      <th></th>\n",
              "      <th>price</th>\n",
              "      <th>Volume</th>\n",
              "      <th>Price+1</th>\n",
              "      <th>Price+2</th>\n",
              "      <th>Price+3</th>\n",
              "      <th>Price+4</th>\n",
              "      <th>Price+5</th>\n",
              "      <th>Price+6</th>\n",
              "      <th>Price+7</th>\n",
              "    </tr>\n",
              "    <tr>\n",
              "      <th>Date</th>\n",
              "      <th></th>\n",
              "      <th></th>\n",
              "      <th></th>\n",
              "      <th></th>\n",
              "      <th></th>\n",
              "      <th></th>\n",
              "      <th></th>\n",
              "      <th></th>\n",
              "      <th></th>\n",
              "    </tr>\n",
              "  </thead>\n",
              "  <tbody>\n",
              "    <tr>\n",
              "      <th>2014-09-17</th>\n",
              "      <td>457.334015</td>\n",
              "      <td>21056800</td>\n",
              "      <td>NaN</td>\n",
              "      <td>NaN</td>\n",
              "      <td>NaN</td>\n",
              "      <td>NaN</td>\n",
              "      <td>NaN</td>\n",
              "      <td>NaN</td>\n",
              "      <td>NaN</td>\n",
              "    </tr>\n",
              "    <tr>\n",
              "      <th>2014-09-18</th>\n",
              "      <td>424.440002</td>\n",
              "      <td>34483200</td>\n",
              "      <td>457.334015</td>\n",
              "      <td>NaN</td>\n",
              "      <td>NaN</td>\n",
              "      <td>NaN</td>\n",
              "      <td>NaN</td>\n",
              "      <td>NaN</td>\n",
              "      <td>NaN</td>\n",
              "    </tr>\n",
              "    <tr>\n",
              "      <th>2014-09-19</th>\n",
              "      <td>394.795990</td>\n",
              "      <td>37919700</td>\n",
              "      <td>424.440002</td>\n",
              "      <td>457.334015</td>\n",
              "      <td>NaN</td>\n",
              "      <td>NaN</td>\n",
              "      <td>NaN</td>\n",
              "      <td>NaN</td>\n",
              "      <td>NaN</td>\n",
              "    </tr>\n",
              "    <tr>\n",
              "      <th>2014-09-20</th>\n",
              "      <td>408.903992</td>\n",
              "      <td>36863600</td>\n",
              "      <td>394.795990</td>\n",
              "      <td>424.440002</td>\n",
              "      <td>457.334015</td>\n",
              "      <td>NaN</td>\n",
              "      <td>NaN</td>\n",
              "      <td>NaN</td>\n",
              "      <td>NaN</td>\n",
              "    </tr>\n",
              "    <tr>\n",
              "      <th>2014-09-21</th>\n",
              "      <td>398.821014</td>\n",
              "      <td>26580100</td>\n",
              "      <td>408.903992</td>\n",
              "      <td>394.795990</td>\n",
              "      <td>424.440002</td>\n",
              "      <td>457.334015</td>\n",
              "      <td>NaN</td>\n",
              "      <td>NaN</td>\n",
              "      <td>NaN</td>\n",
              "    </tr>\n",
              "    <tr>\n",
              "      <th>2014-09-22</th>\n",
              "      <td>402.152008</td>\n",
              "      <td>24127600</td>\n",
              "      <td>398.821014</td>\n",
              "      <td>408.903992</td>\n",
              "      <td>394.795990</td>\n",
              "      <td>424.440002</td>\n",
              "      <td>457.334015</td>\n",
              "      <td>NaN</td>\n",
              "      <td>NaN</td>\n",
              "    </tr>\n",
              "    <tr>\n",
              "      <th>2014-09-23</th>\n",
              "      <td>435.790985</td>\n",
              "      <td>45099500</td>\n",
              "      <td>402.152008</td>\n",
              "      <td>398.821014</td>\n",
              "      <td>408.903992</td>\n",
              "      <td>394.795990</td>\n",
              "      <td>424.440002</td>\n",
              "      <td>457.334015</td>\n",
              "      <td>NaN</td>\n",
              "    </tr>\n",
              "    <tr>\n",
              "      <th>2014-09-24</th>\n",
              "      <td>423.204987</td>\n",
              "      <td>30627700</td>\n",
              "      <td>435.790985</td>\n",
              "      <td>402.152008</td>\n",
              "      <td>398.821014</td>\n",
              "      <td>408.903992</td>\n",
              "      <td>394.795990</td>\n",
              "      <td>424.440002</td>\n",
              "      <td>457.334015</td>\n",
              "    </tr>\n",
              "    <tr>\n",
              "      <th>2014-09-25</th>\n",
              "      <td>411.574005</td>\n",
              "      <td>26814400</td>\n",
              "      <td>423.204987</td>\n",
              "      <td>435.790985</td>\n",
              "      <td>402.152008</td>\n",
              "      <td>398.821014</td>\n",
              "      <td>408.903992</td>\n",
              "      <td>394.795990</td>\n",
              "      <td>424.440002</td>\n",
              "    </tr>\n",
              "    <tr>\n",
              "      <th>2014-09-26</th>\n",
              "      <td>404.424988</td>\n",
              "      <td>21460800</td>\n",
              "      <td>411.574005</td>\n",
              "      <td>423.204987</td>\n",
              "      <td>435.790985</td>\n",
              "      <td>402.152008</td>\n",
              "      <td>398.821014</td>\n",
              "      <td>408.903992</td>\n",
              "      <td>394.795990</td>\n",
              "    </tr>\n",
              "  </tbody>\n",
              "</table>\n",
              "</div>\n",
              "    <div class=\"colab-df-buttons\">\n",
              "\n",
              "  <div class=\"colab-df-container\">\n",
              "    <button class=\"colab-df-convert\" onclick=\"convertToInteractive('df-f38959f0-a327-4c6f-b590-c28b6cd526a4')\"\n",
              "            title=\"Convert this dataframe to an interactive table.\"\n",
              "            style=\"display:none;\">\n",
              "\n",
              "  <svg xmlns=\"http://www.w3.org/2000/svg\" height=\"24px\" viewBox=\"0 -960 960 960\">\n",
              "    <path d=\"M120-120v-720h720v720H120Zm60-500h600v-160H180v160Zm220 220h160v-160H400v160Zm0 220h160v-160H400v160ZM180-400h160v-160H180v160Zm440 0h160v-160H620v160ZM180-180h160v-160H180v160Zm440 0h160v-160H620v160Z\"/>\n",
              "  </svg>\n",
              "    </button>\n",
              "\n",
              "  <style>\n",
              "    .colab-df-container {\n",
              "      display:flex;\n",
              "      gap: 12px;\n",
              "    }\n",
              "\n",
              "    .colab-df-convert {\n",
              "      background-color: #E8F0FE;\n",
              "      border: none;\n",
              "      border-radius: 50%;\n",
              "      cursor: pointer;\n",
              "      display: none;\n",
              "      fill: #1967D2;\n",
              "      height: 32px;\n",
              "      padding: 0 0 0 0;\n",
              "      width: 32px;\n",
              "    }\n",
              "\n",
              "    .colab-df-convert:hover {\n",
              "      background-color: #E2EBFA;\n",
              "      box-shadow: 0px 1px 2px rgba(60, 64, 67, 0.3), 0px 1px 3px 1px rgba(60, 64, 67, 0.15);\n",
              "      fill: #174EA6;\n",
              "    }\n",
              "\n",
              "    .colab-df-buttons div {\n",
              "      margin-bottom: 4px;\n",
              "    }\n",
              "\n",
              "    [theme=dark] .colab-df-convert {\n",
              "      background-color: #3B4455;\n",
              "      fill: #D2E3FC;\n",
              "    }\n",
              "\n",
              "    [theme=dark] .colab-df-convert:hover {\n",
              "      background-color: #434B5C;\n",
              "      box-shadow: 0px 1px 3px 1px rgba(0, 0, 0, 0.15);\n",
              "      filter: drop-shadow(0px 1px 2px rgba(0, 0, 0, 0.3));\n",
              "      fill: #FFFFFF;\n",
              "    }\n",
              "  </style>\n",
              "\n",
              "    <script>\n",
              "      const buttonEl =\n",
              "        document.querySelector('#df-f38959f0-a327-4c6f-b590-c28b6cd526a4 button.colab-df-convert');\n",
              "      buttonEl.style.display =\n",
              "        google.colab.kernel.accessAllowed ? 'block' : 'none';\n",
              "\n",
              "      async function convertToInteractive(key) {\n",
              "        const element = document.querySelector('#df-f38959f0-a327-4c6f-b590-c28b6cd526a4');\n",
              "        const dataTable =\n",
              "          await google.colab.kernel.invokeFunction('convertToInteractive',\n",
              "                                                    [key], {});\n",
              "        if (!dataTable) return;\n",
              "\n",
              "        const docLinkHtml = 'Like what you see? Visit the ' +\n",
              "          '<a target=\"_blank\" href=https://colab.research.google.com/notebooks/data_table.ipynb>data table notebook</a>'\n",
              "          + ' to learn more about interactive tables.';\n",
              "        element.innerHTML = '';\n",
              "        dataTable['output_type'] = 'display_data';\n",
              "        await google.colab.output.renderOutput(dataTable, element);\n",
              "        const docLink = document.createElement('div');\n",
              "        docLink.innerHTML = docLinkHtml;\n",
              "        element.appendChild(docLink);\n",
              "      }\n",
              "    </script>\n",
              "  </div>\n",
              "\n",
              "\n",
              "<div id=\"df-b1ce134a-6830-406e-b475-f8f911e929f8\">\n",
              "  <button class=\"colab-df-quickchart\" onclick=\"quickchart('df-b1ce134a-6830-406e-b475-f8f911e929f8')\"\n",
              "            title=\"Suggest charts\"\n",
              "            style=\"display:none;\">\n",
              "\n",
              "<svg xmlns=\"http://www.w3.org/2000/svg\" height=\"24px\"viewBox=\"0 0 24 24\"\n",
              "     width=\"24px\">\n",
              "    <g>\n",
              "        <path d=\"M19 3H5c-1.1 0-2 .9-2 2v14c0 1.1.9 2 2 2h14c1.1 0 2-.9 2-2V5c0-1.1-.9-2-2-2zM9 17H7v-7h2v7zm4 0h-2V7h2v10zm4 0h-2v-4h2v4z\"/>\n",
              "    </g>\n",
              "</svg>\n",
              "  </button>\n",
              "\n",
              "<style>\n",
              "  .colab-df-quickchart {\n",
              "      --bg-color: #E8F0FE;\n",
              "      --fill-color: #1967D2;\n",
              "      --hover-bg-color: #E2EBFA;\n",
              "      --hover-fill-color: #174EA6;\n",
              "      --disabled-fill-color: #AAA;\n",
              "      --disabled-bg-color: #DDD;\n",
              "  }\n",
              "\n",
              "  [theme=dark] .colab-df-quickchart {\n",
              "      --bg-color: #3B4455;\n",
              "      --fill-color: #D2E3FC;\n",
              "      --hover-bg-color: #434B5C;\n",
              "      --hover-fill-color: #FFFFFF;\n",
              "      --disabled-bg-color: #3B4455;\n",
              "      --disabled-fill-color: #666;\n",
              "  }\n",
              "\n",
              "  .colab-df-quickchart {\n",
              "    background-color: var(--bg-color);\n",
              "    border: none;\n",
              "    border-radius: 50%;\n",
              "    cursor: pointer;\n",
              "    display: none;\n",
              "    fill: var(--fill-color);\n",
              "    height: 32px;\n",
              "    padding: 0;\n",
              "    width: 32px;\n",
              "  }\n",
              "\n",
              "  .colab-df-quickchart:hover {\n",
              "    background-color: var(--hover-bg-color);\n",
              "    box-shadow: 0 1px 2px rgba(60, 64, 67, 0.3), 0 1px 3px 1px rgba(60, 64, 67, 0.15);\n",
              "    fill: var(--button-hover-fill-color);\n",
              "  }\n",
              "\n",
              "  .colab-df-quickchart-complete:disabled,\n",
              "  .colab-df-quickchart-complete:disabled:hover {\n",
              "    background-color: var(--disabled-bg-color);\n",
              "    fill: var(--disabled-fill-color);\n",
              "    box-shadow: none;\n",
              "  }\n",
              "\n",
              "  .colab-df-spinner {\n",
              "    border: 2px solid var(--fill-color);\n",
              "    border-color: transparent;\n",
              "    border-bottom-color: var(--fill-color);\n",
              "    animation:\n",
              "      spin 1s steps(1) infinite;\n",
              "  }\n",
              "\n",
              "  @keyframes spin {\n",
              "    0% {\n",
              "      border-color: transparent;\n",
              "      border-bottom-color: var(--fill-color);\n",
              "      border-left-color: var(--fill-color);\n",
              "    }\n",
              "    20% {\n",
              "      border-color: transparent;\n",
              "      border-left-color: var(--fill-color);\n",
              "      border-top-color: var(--fill-color);\n",
              "    }\n",
              "    30% {\n",
              "      border-color: transparent;\n",
              "      border-left-color: var(--fill-color);\n",
              "      border-top-color: var(--fill-color);\n",
              "      border-right-color: var(--fill-color);\n",
              "    }\n",
              "    40% {\n",
              "      border-color: transparent;\n",
              "      border-right-color: var(--fill-color);\n",
              "      border-top-color: var(--fill-color);\n",
              "    }\n",
              "    60% {\n",
              "      border-color: transparent;\n",
              "      border-right-color: var(--fill-color);\n",
              "    }\n",
              "    80% {\n",
              "      border-color: transparent;\n",
              "      border-right-color: var(--fill-color);\n",
              "      border-bottom-color: var(--fill-color);\n",
              "    }\n",
              "    90% {\n",
              "      border-color: transparent;\n",
              "      border-bottom-color: var(--fill-color);\n",
              "    }\n",
              "  }\n",
              "</style>\n",
              "\n",
              "  <script>\n",
              "    async function quickchart(key) {\n",
              "      const quickchartButtonEl =\n",
              "        document.querySelector('#' + key + ' button');\n",
              "      quickchartButtonEl.disabled = true;  // To prevent multiple clicks.\n",
              "      quickchartButtonEl.classList.add('colab-df-spinner');\n",
              "      try {\n",
              "        const charts = await google.colab.kernel.invokeFunction(\n",
              "            'suggestCharts', [key], {});\n",
              "      } catch (error) {\n",
              "        console.error('Error during call to suggestCharts:', error);\n",
              "      }\n",
              "      quickchartButtonEl.classList.remove('colab-df-spinner');\n",
              "      quickchartButtonEl.classList.add('colab-df-quickchart-complete');\n",
              "    }\n",
              "    (() => {\n",
              "      let quickchartButtonEl =\n",
              "        document.querySelector('#df-b1ce134a-6830-406e-b475-f8f911e929f8 button');\n",
              "      quickchartButtonEl.style.display =\n",
              "        google.colab.kernel.accessAllowed ? 'block' : 'none';\n",
              "    })();\n",
              "  </script>\n",
              "</div>\n",
              "\n",
              "    </div>\n",
              "  </div>\n"
            ],
            "application/vnd.google.colaboratory.intrinsic+json": {
              "type": "dataframe",
              "variable_name": "bitcoin_prices_windowed",
              "summary": "{\n  \"name\": \"bitcoin_prices_windowed\",\n  \"rows\": 3490,\n  \"fields\": [\n    {\n      \"column\": \"Date\",\n      \"properties\": {\n        \"dtype\": \"date\",\n        \"min\": \"2014-09-17 00:00:00\",\n        \"max\": \"2024-04-06 00:00:00\",\n        \"num_unique_values\": 3490,\n        \"samples\": [\n          \"2015-07-09 00:00:00\",\n          \"2023-05-08 00:00:00\",\n          \"2023-12-14 00:00:00\"\n        ],\n        \"semantic_type\": \"\",\n        \"description\": \"\"\n      }\n    },\n    {\n      \"column\": \"price\",\n      \"properties\": {\n        \"dtype\": \"number\",\n        \"std\": 17358.8031113329,\n        \"min\": 178.10299682617188,\n        \"max\": 73083.5,\n        \"num_unique_values\": 3487,\n        \"samples\": [\n          286.39300537109375,\n          11784.1376953125,\n          29275.30859375\n        ],\n        \"semantic_type\": \"\",\n        \"description\": \"\"\n      }\n    },\n    {\n      \"column\": \"Volume\",\n      \"properties\": {\n        \"dtype\": \"number\",\n        \"std\": 19270351133,\n        \"min\": 5914570,\n        \"max\": 350967941479,\n        \"num_unique_values\": 3490,\n        \"samples\": [\n          40301200,\n          19122903752,\n          25578530178\n        ],\n        \"semantic_type\": \"\",\n        \"description\": \"\"\n      }\n    },\n    {\n      \"column\": \"Price+1\",\n      \"properties\": {\n        \"dtype\": \"number\",\n        \"std\": 17337.895837239033,\n        \"min\": 178.10299682617188,\n        \"max\": 73083.5,\n        \"num_unique_values\": 3486,\n        \"samples\": [\n          286.39300537109375,\n          11584.9345703125,\n          29356.91796875\n        ],\n        \"semantic_type\": \"\",\n        \"description\": \"\"\n      }\n    },\n    {\n      \"column\": \"Price+2\",\n      \"properties\": {\n        \"dtype\": \"number\",\n        \"std\": 17317.8617181216,\n        \"min\": 178.10299682617188,\n        \"max\": 73083.5,\n        \"num_unique_values\": 3485,\n        \"samples\": [\n          10214.3798828125,\n          9194.849609375,\n          428.59100341796875\n        ],\n        \"semantic_type\": \"\",\n        \"description\": \"\"\n      }\n    },\n    {\n      \"column\": \"Price+3\",\n      \"properties\": {\n        \"dtype\": \"number\",\n        \"std\": 17297.19524436369,\n        \"min\": 178.10299682617188,\n        \"max\": 73083.5,\n        \"num_unique_values\": 3484,\n        \"samples\": [\n          49150.53515625,\n          9194.849609375,\n          428.59100341796875\n        ],\n        \"semantic_type\": \"\",\n        \"description\": \"\"\n      }\n    },\n    {\n      \"column\": \"Price+4\",\n      \"properties\": {\n        \"dtype\": \"number\",\n        \"std\": 17278.645875586066,\n        \"min\": 178.10299682617188,\n        \"max\": 73083.5,\n        \"num_unique_values\": 3483,\n        \"samples\": [\n          39097.859375,\n          4426.89013671875,\n          3753.994873046875\n        ],\n        \"semantic_type\": \"\",\n        \"description\": \"\"\n      }\n    },\n    {\n      \"column\": \"Price+5\",\n      \"properties\": {\n        \"dtype\": \"number\",\n        \"std\": 17260.4985420403,\n        \"min\": 178.10299682617188,\n        \"max\": 73083.5,\n        \"num_unique_values\": 3482,\n        \"samples\": [\n          35552.515625,\n          4426.89013671875,\n          6770.72998046875\n        ],\n        \"semantic_type\": \"\",\n        \"description\": \"\"\n      }\n    },\n    {\n      \"column\": \"Price+6\",\n      \"properties\": {\n        \"dtype\": \"number\",\n        \"std\": 17238.626931171064,\n        \"min\": 178.10299682617188,\n        \"max\": 73083.5,\n        \"num_unique_values\": 3481,\n        \"samples\": [\n          35552.515625,\n          4426.89013671875,\n          6770.72998046875\n        ],\n        \"semantic_type\": \"\",\n        \"description\": \"\"\n      }\n    },\n    {\n      \"column\": \"Price+7\",\n      \"properties\": {\n        \"dtype\": \"number\",\n        \"std\": 17215.205894474915,\n        \"min\": 178.10299682617188,\n        \"max\": 73083.5,\n        \"num_unique_values\": 3480,\n        \"samples\": [\n          35552.515625,\n          4426.89013671875,\n          6770.72998046875\n        ],\n        \"semantic_type\": \"\",\n        \"description\": \"\"\n      }\n    }\n  ]\n}"
            }
          },
          "metadata": {},
          "execution_count": 76
        }
      ]
    },
    {
      "cell_type": "code",
      "source": [
        "### Seperating the Dataset"
      ],
      "metadata": {
        "id": "1kWKFk4OWNsx"
      },
      "execution_count": 77,
      "outputs": []
    },
    {
      "cell_type": "markdown",
      "source": [
        "##### Creating X and Y Files For The Price"
      ],
      "metadata": {
        "id": "BfsY7abdVVnJ"
      }
    },
    {
      "cell_type": "code",
      "source": [
        "X = bitcoin_prices_windowed.dropna().drop(\"price\", axis=1).astype(np.float32)\n",
        "y = bitcoin_prices_windowed.dropna()[\"price\"].astype(np.float32)\n",
        "X.head()"
      ],
      "metadata": {
        "colab": {
          "base_uri": "https://localhost:8080/",
          "height": 238
        },
        "id": "Yr3y865OWarh",
        "outputId": "f0947b54-ce9e-46b3-a828-141a97febebf"
      },
      "execution_count": 78,
      "outputs": [
        {
          "output_type": "execute_result",
          "data": {
            "text/plain": [
              "                Volume     Price+1     Price+2     Price+3     Price+4  \\\n",
              "Date                                                                     \n",
              "2014-09-24  30627700.0  435.790985  402.152008  398.821014  408.903992   \n",
              "2014-09-25  26814400.0  423.204987  435.790985  402.152008  398.821014   \n",
              "2014-09-26  21460800.0  411.574005  423.204987  435.790985  402.152008   \n",
              "2014-09-27  15029300.0  404.424988  411.574005  423.204987  435.790985   \n",
              "2014-09-28  23613300.0  399.519989  404.424988  411.574005  423.204987   \n",
              "\n",
              "               Price+5     Price+6     Price+7  \n",
              "Date                                            \n",
              "2014-09-24  394.795990  424.440002  457.334015  \n",
              "2014-09-25  408.903992  394.795990  424.440002  \n",
              "2014-09-26  398.821014  408.903992  394.795990  \n",
              "2014-09-27  402.152008  398.821014  408.903992  \n",
              "2014-09-28  435.790985  402.152008  398.821014  "
            ],
            "text/html": [
              "\n",
              "  <div id=\"df-9095af37-2c17-4595-8c69-261274dd3866\" class=\"colab-df-container\">\n",
              "    <div>\n",
              "<style scoped>\n",
              "    .dataframe tbody tr th:only-of-type {\n",
              "        vertical-align: middle;\n",
              "    }\n",
              "\n",
              "    .dataframe tbody tr th {\n",
              "        vertical-align: top;\n",
              "    }\n",
              "\n",
              "    .dataframe thead th {\n",
              "        text-align: right;\n",
              "    }\n",
              "</style>\n",
              "<table border=\"1\" class=\"dataframe\">\n",
              "  <thead>\n",
              "    <tr style=\"text-align: right;\">\n",
              "      <th></th>\n",
              "      <th>Volume</th>\n",
              "      <th>Price+1</th>\n",
              "      <th>Price+2</th>\n",
              "      <th>Price+3</th>\n",
              "      <th>Price+4</th>\n",
              "      <th>Price+5</th>\n",
              "      <th>Price+6</th>\n",
              "      <th>Price+7</th>\n",
              "    </tr>\n",
              "    <tr>\n",
              "      <th>Date</th>\n",
              "      <th></th>\n",
              "      <th></th>\n",
              "      <th></th>\n",
              "      <th></th>\n",
              "      <th></th>\n",
              "      <th></th>\n",
              "      <th></th>\n",
              "      <th></th>\n",
              "    </tr>\n",
              "  </thead>\n",
              "  <tbody>\n",
              "    <tr>\n",
              "      <th>2014-09-24</th>\n",
              "      <td>30627700.0</td>\n",
              "      <td>435.790985</td>\n",
              "      <td>402.152008</td>\n",
              "      <td>398.821014</td>\n",
              "      <td>408.903992</td>\n",
              "      <td>394.795990</td>\n",
              "      <td>424.440002</td>\n",
              "      <td>457.334015</td>\n",
              "    </tr>\n",
              "    <tr>\n",
              "      <th>2014-09-25</th>\n",
              "      <td>26814400.0</td>\n",
              "      <td>423.204987</td>\n",
              "      <td>435.790985</td>\n",
              "      <td>402.152008</td>\n",
              "      <td>398.821014</td>\n",
              "      <td>408.903992</td>\n",
              "      <td>394.795990</td>\n",
              "      <td>424.440002</td>\n",
              "    </tr>\n",
              "    <tr>\n",
              "      <th>2014-09-26</th>\n",
              "      <td>21460800.0</td>\n",
              "      <td>411.574005</td>\n",
              "      <td>423.204987</td>\n",
              "      <td>435.790985</td>\n",
              "      <td>402.152008</td>\n",
              "      <td>398.821014</td>\n",
              "      <td>408.903992</td>\n",
              "      <td>394.795990</td>\n",
              "    </tr>\n",
              "    <tr>\n",
              "      <th>2014-09-27</th>\n",
              "      <td>15029300.0</td>\n",
              "      <td>404.424988</td>\n",
              "      <td>411.574005</td>\n",
              "      <td>423.204987</td>\n",
              "      <td>435.790985</td>\n",
              "      <td>402.152008</td>\n",
              "      <td>398.821014</td>\n",
              "      <td>408.903992</td>\n",
              "    </tr>\n",
              "    <tr>\n",
              "      <th>2014-09-28</th>\n",
              "      <td>23613300.0</td>\n",
              "      <td>399.519989</td>\n",
              "      <td>404.424988</td>\n",
              "      <td>411.574005</td>\n",
              "      <td>423.204987</td>\n",
              "      <td>435.790985</td>\n",
              "      <td>402.152008</td>\n",
              "      <td>398.821014</td>\n",
              "    </tr>\n",
              "  </tbody>\n",
              "</table>\n",
              "</div>\n",
              "    <div class=\"colab-df-buttons\">\n",
              "\n",
              "  <div class=\"colab-df-container\">\n",
              "    <button class=\"colab-df-convert\" onclick=\"convertToInteractive('df-9095af37-2c17-4595-8c69-261274dd3866')\"\n",
              "            title=\"Convert this dataframe to an interactive table.\"\n",
              "            style=\"display:none;\">\n",
              "\n",
              "  <svg xmlns=\"http://www.w3.org/2000/svg\" height=\"24px\" viewBox=\"0 -960 960 960\">\n",
              "    <path d=\"M120-120v-720h720v720H120Zm60-500h600v-160H180v160Zm220 220h160v-160H400v160Zm0 220h160v-160H400v160ZM180-400h160v-160H180v160Zm440 0h160v-160H620v160ZM180-180h160v-160H180v160Zm440 0h160v-160H620v160Z\"/>\n",
              "  </svg>\n",
              "    </button>\n",
              "\n",
              "  <style>\n",
              "    .colab-df-container {\n",
              "      display:flex;\n",
              "      gap: 12px;\n",
              "    }\n",
              "\n",
              "    .colab-df-convert {\n",
              "      background-color: #E8F0FE;\n",
              "      border: none;\n",
              "      border-radius: 50%;\n",
              "      cursor: pointer;\n",
              "      display: none;\n",
              "      fill: #1967D2;\n",
              "      height: 32px;\n",
              "      padding: 0 0 0 0;\n",
              "      width: 32px;\n",
              "    }\n",
              "\n",
              "    .colab-df-convert:hover {\n",
              "      background-color: #E2EBFA;\n",
              "      box-shadow: 0px 1px 2px rgba(60, 64, 67, 0.3), 0px 1px 3px 1px rgba(60, 64, 67, 0.15);\n",
              "      fill: #174EA6;\n",
              "    }\n",
              "\n",
              "    .colab-df-buttons div {\n",
              "      margin-bottom: 4px;\n",
              "    }\n",
              "\n",
              "    [theme=dark] .colab-df-convert {\n",
              "      background-color: #3B4455;\n",
              "      fill: #D2E3FC;\n",
              "    }\n",
              "\n",
              "    [theme=dark] .colab-df-convert:hover {\n",
              "      background-color: #434B5C;\n",
              "      box-shadow: 0px 1px 3px 1px rgba(0, 0, 0, 0.15);\n",
              "      filter: drop-shadow(0px 1px 2px rgba(0, 0, 0, 0.3));\n",
              "      fill: #FFFFFF;\n",
              "    }\n",
              "  </style>\n",
              "\n",
              "    <script>\n",
              "      const buttonEl =\n",
              "        document.querySelector('#df-9095af37-2c17-4595-8c69-261274dd3866 button.colab-df-convert');\n",
              "      buttonEl.style.display =\n",
              "        google.colab.kernel.accessAllowed ? 'block' : 'none';\n",
              "\n",
              "      async function convertToInteractive(key) {\n",
              "        const element = document.querySelector('#df-9095af37-2c17-4595-8c69-261274dd3866');\n",
              "        const dataTable =\n",
              "          await google.colab.kernel.invokeFunction('convertToInteractive',\n",
              "                                                    [key], {});\n",
              "        if (!dataTable) return;\n",
              "\n",
              "        const docLinkHtml = 'Like what you see? Visit the ' +\n",
              "          '<a target=\"_blank\" href=https://colab.research.google.com/notebooks/data_table.ipynb>data table notebook</a>'\n",
              "          + ' to learn more about interactive tables.';\n",
              "        element.innerHTML = '';\n",
              "        dataTable['output_type'] = 'display_data';\n",
              "        await google.colab.output.renderOutput(dataTable, element);\n",
              "        const docLink = document.createElement('div');\n",
              "        docLink.innerHTML = docLinkHtml;\n",
              "        element.appendChild(docLink);\n",
              "      }\n",
              "    </script>\n",
              "  </div>\n",
              "\n",
              "\n",
              "<div id=\"df-00a2721f-76dc-4c4c-9458-adc71e34f85a\">\n",
              "  <button class=\"colab-df-quickchart\" onclick=\"quickchart('df-00a2721f-76dc-4c4c-9458-adc71e34f85a')\"\n",
              "            title=\"Suggest charts\"\n",
              "            style=\"display:none;\">\n",
              "\n",
              "<svg xmlns=\"http://www.w3.org/2000/svg\" height=\"24px\"viewBox=\"0 0 24 24\"\n",
              "     width=\"24px\">\n",
              "    <g>\n",
              "        <path d=\"M19 3H5c-1.1 0-2 .9-2 2v14c0 1.1.9 2 2 2h14c1.1 0 2-.9 2-2V5c0-1.1-.9-2-2-2zM9 17H7v-7h2v7zm4 0h-2V7h2v10zm4 0h-2v-4h2v4z\"/>\n",
              "    </g>\n",
              "</svg>\n",
              "  </button>\n",
              "\n",
              "<style>\n",
              "  .colab-df-quickchart {\n",
              "      --bg-color: #E8F0FE;\n",
              "      --fill-color: #1967D2;\n",
              "      --hover-bg-color: #E2EBFA;\n",
              "      --hover-fill-color: #174EA6;\n",
              "      --disabled-fill-color: #AAA;\n",
              "      --disabled-bg-color: #DDD;\n",
              "  }\n",
              "\n",
              "  [theme=dark] .colab-df-quickchart {\n",
              "      --bg-color: #3B4455;\n",
              "      --fill-color: #D2E3FC;\n",
              "      --hover-bg-color: #434B5C;\n",
              "      --hover-fill-color: #FFFFFF;\n",
              "      --disabled-bg-color: #3B4455;\n",
              "      --disabled-fill-color: #666;\n",
              "  }\n",
              "\n",
              "  .colab-df-quickchart {\n",
              "    background-color: var(--bg-color);\n",
              "    border: none;\n",
              "    border-radius: 50%;\n",
              "    cursor: pointer;\n",
              "    display: none;\n",
              "    fill: var(--fill-color);\n",
              "    height: 32px;\n",
              "    padding: 0;\n",
              "    width: 32px;\n",
              "  }\n",
              "\n",
              "  .colab-df-quickchart:hover {\n",
              "    background-color: var(--hover-bg-color);\n",
              "    box-shadow: 0 1px 2px rgba(60, 64, 67, 0.3), 0 1px 3px 1px rgba(60, 64, 67, 0.15);\n",
              "    fill: var(--button-hover-fill-color);\n",
              "  }\n",
              "\n",
              "  .colab-df-quickchart-complete:disabled,\n",
              "  .colab-df-quickchart-complete:disabled:hover {\n",
              "    background-color: var(--disabled-bg-color);\n",
              "    fill: var(--disabled-fill-color);\n",
              "    box-shadow: none;\n",
              "  }\n",
              "\n",
              "  .colab-df-spinner {\n",
              "    border: 2px solid var(--fill-color);\n",
              "    border-color: transparent;\n",
              "    border-bottom-color: var(--fill-color);\n",
              "    animation:\n",
              "      spin 1s steps(1) infinite;\n",
              "  }\n",
              "\n",
              "  @keyframes spin {\n",
              "    0% {\n",
              "      border-color: transparent;\n",
              "      border-bottom-color: var(--fill-color);\n",
              "      border-left-color: var(--fill-color);\n",
              "    }\n",
              "    20% {\n",
              "      border-color: transparent;\n",
              "      border-left-color: var(--fill-color);\n",
              "      border-top-color: var(--fill-color);\n",
              "    }\n",
              "    30% {\n",
              "      border-color: transparent;\n",
              "      border-left-color: var(--fill-color);\n",
              "      border-top-color: var(--fill-color);\n",
              "      border-right-color: var(--fill-color);\n",
              "    }\n",
              "    40% {\n",
              "      border-color: transparent;\n",
              "      border-right-color: var(--fill-color);\n",
              "      border-top-color: var(--fill-color);\n",
              "    }\n",
              "    60% {\n",
              "      border-color: transparent;\n",
              "      border-right-color: var(--fill-color);\n",
              "    }\n",
              "    80% {\n",
              "      border-color: transparent;\n",
              "      border-right-color: var(--fill-color);\n",
              "      border-bottom-color: var(--fill-color);\n",
              "    }\n",
              "    90% {\n",
              "      border-color: transparent;\n",
              "      border-bottom-color: var(--fill-color);\n",
              "    }\n",
              "  }\n",
              "</style>\n",
              "\n",
              "  <script>\n",
              "    async function quickchart(key) {\n",
              "      const quickchartButtonEl =\n",
              "        document.querySelector('#' + key + ' button');\n",
              "      quickchartButtonEl.disabled = true;  // To prevent multiple clicks.\n",
              "      quickchartButtonEl.classList.add('colab-df-spinner');\n",
              "      try {\n",
              "        const charts = await google.colab.kernel.invokeFunction(\n",
              "            'suggestCharts', [key], {});\n",
              "      } catch (error) {\n",
              "        console.error('Error during call to suggestCharts:', error);\n",
              "      }\n",
              "      quickchartButtonEl.classList.remove('colab-df-spinner');\n",
              "      quickchartButtonEl.classList.add('colab-df-quickchart-complete');\n",
              "    }\n",
              "    (() => {\n",
              "      let quickchartButtonEl =\n",
              "        document.querySelector('#df-00a2721f-76dc-4c4c-9458-adc71e34f85a button');\n",
              "      quickchartButtonEl.style.display =\n",
              "        google.colab.kernel.accessAllowed ? 'block' : 'none';\n",
              "    })();\n",
              "  </script>\n",
              "</div>\n",
              "\n",
              "    </div>\n",
              "  </div>\n"
            ],
            "application/vnd.google.colaboratory.intrinsic+json": {
              "type": "dataframe",
              "variable_name": "X",
              "summary": "{\n  \"name\": \"X\",\n  \"rows\": 3483,\n  \"fields\": [\n    {\n      \"column\": \"Date\",\n      \"properties\": {\n        \"dtype\": \"date\",\n        \"min\": \"2014-09-24 00:00:00\",\n        \"max\": \"2024-04-06 00:00:00\",\n        \"num_unique_values\": 3483,\n        \"samples\": [\n          \"2021-06-17 00:00:00\",\n          \"2017-10-12 00:00:00\",\n          \"2018-12-09 00:00:00\"\n        ],\n        \"semantic_type\": \"\",\n        \"description\": \"\"\n      }\n    },\n    {\n      \"column\": \"Volume\",\n      \"properties\": {\n        \"dtype\": \"float32\",\n        \"num_unique_values\": 3483,\n        \"samples\": [\n          37096669184.0,\n          2791610112.0,\n          4947373056.0\n        ],\n        \"semantic_type\": \"\",\n        \"description\": \"\"\n      }\n    },\n    {\n      \"column\": \"Price+1\",\n      \"properties\": {\n        \"dtype\": \"float32\",\n        \"num_unique_values\": 3480,\n        \"samples\": [\n          35787.24609375,\n          5647.2099609375,\n          8329.1103515625\n        ],\n        \"semantic_type\": \"\",\n        \"description\": \"\"\n      }\n    },\n    {\n      \"column\": \"Price+2\",\n      \"properties\": {\n        \"dtype\": \"float32\",\n        \"num_unique_values\": 3480,\n        \"samples\": [\n          38053.50390625,\n          5446.91015625,\n          7986.240234375\n        ],\n        \"semantic_type\": \"\",\n        \"description\": \"\"\n      }\n    },\n    {\n      \"column\": \"Price+3\",\n      \"properties\": {\n        \"dtype\": \"float32\",\n        \"num_unique_values\": 3480,\n        \"samples\": [\n          38347.0625,\n          4826.47998046875,\n          7895.9599609375\n        ],\n        \"semantic_type\": \"\",\n        \"description\": \"\"\n      }\n    },\n    {\n      \"column\": \"Price+4\",\n      \"properties\": {\n        \"dtype\": \"float32\",\n        \"num_unique_values\": 3480,\n        \"samples\": [\n          40406.26953125,\n          4781.990234375,\n          7889.25\n        ],\n        \"semantic_type\": \"\",\n        \"description\": \"\"\n      }\n    },\n    {\n      \"column\": \"Price+5\",\n      \"properties\": {\n        \"dtype\": \"float32\",\n        \"num_unique_values\": 3480,\n        \"samples\": [\n          40218.4765625,\n          4772.02001953125,\n          6968.31982421875\n        ],\n        \"semantic_type\": \"\",\n        \"description\": \"\"\n      }\n    },\n    {\n      \"column\": \"Price+6\",\n      \"properties\": {\n        \"dtype\": \"float32\",\n        \"num_unique_values\": 3480,\n        \"samples\": [\n          39097.859375,\n          4610.47998046875,\n          6834.759765625\n        ],\n        \"semantic_type\": \"\",\n        \"description\": \"\"\n      }\n    },\n    {\n      \"column\": \"Price+7\",\n      \"properties\": {\n        \"dtype\": \"float32\",\n        \"num_unique_values\": 3480,\n        \"samples\": [\n          35552.515625,\n          4426.89013671875,\n          6770.72998046875\n        ],\n        \"semantic_type\": \"\",\n        \"description\": \"\"\n      }\n    }\n  ]\n}"
            }
          },
          "metadata": {},
          "execution_count": 78
        }
      ]
    },
    {
      "cell_type": "code",
      "source": [
        "y.head()"
      ],
      "metadata": {
        "colab": {
          "base_uri": "https://localhost:8080/"
        },
        "id": "gtM_E5EhWbe3",
        "outputId": "88046d52-8278-49de-a641-61f0a3d302cd"
      },
      "execution_count": 79,
      "outputs": [
        {
          "output_type": "execute_result",
          "data": {
            "text/plain": [
              "Date\n",
              "2014-09-24    423.204987\n",
              "2014-09-25    411.574005\n",
              "2014-09-26    404.424988\n",
              "2014-09-27    399.519989\n",
              "2014-09-28    377.181000\n",
              "Name: price, dtype: float32"
            ]
          },
          "metadata": {},
          "execution_count": 79
        }
      ]
    },
    {
      "cell_type": "code",
      "source": [
        "split_size = int(len(X) * 0.8)\n",
        "X_train, y_train = X[:split_size], y[:split_size]\n",
        "X_test, y_test = X[split_size:], y[split_size:]\n",
        "len(X_train), len(y_train), len(X_test), len(y_test)"
      ],
      "metadata": {
        "colab": {
          "base_uri": "https://localhost:8080/"
        },
        "id": "hwFhYsvmX0qk",
        "outputId": "2a848296-7b56-476e-d5c7-363b14540025"
      },
      "execution_count": 80,
      "outputs": [
        {
          "output_type": "execute_result",
          "data": {
            "text/plain": [
              "(2786, 2786, 697, 697)"
            ]
          },
          "metadata": {},
          "execution_count": 80
        }
      ]
    },
    {
      "cell_type": "code",
      "source": [
        "import tensorflow as tf\n",
        "from tensorflow.keras import layers\n",
        "\n",
        "tf.random.set_seed(42)\n",
        "\n",
        "# Make multivariate time series model\n",
        "model_1 = tf.keras.Sequential([\n",
        "  layers.Dense(128, activation=\"relu\"),\n",
        "  # layers.Dense(128, activation=\"relu\"), # adding an extra layer here should lead to beating the naive model\n",
        "  layers.Dense(HORIZON)\n",
        "], name=\"model_1_dense_multivariate\")\n",
        "\n",
        "# Compile\n",
        "model_1.compile(loss=\"mae\",\n",
        "                optimizer=tf.keras.optimizers.Adam())\n",
        "\n"
      ],
      "metadata": {
        "id": "hlcZiL1tX-F3"
      },
      "execution_count": 81,
      "outputs": []
    },
    {
      "cell_type": "code",
      "source": [
        "import os\n",
        "\n",
        "# Create a function to implement a ModelCheckpoint callback with a specific filename\n",
        "def create_model_checkpoint(model_name, save_path=\"model_experiments\"):\n",
        "  return tf.keras.callbacks.ModelCheckpoint(filepath=os.path.join(save_path, model_name), # create filepath to save model\n",
        "                                            verbose=0, # only output a limited amount of text\n",
        "                                            save_best_only=True)"
      ],
      "metadata": {
        "id": "261PJq37YS8y"
      },
      "execution_count": 82,
      "outputs": []
    },
    {
      "cell_type": "code",
      "source": [
        "history = model_1.fit(X_train, y_train,\n",
        "            epochs=100,\n",
        "            batch_size=128,\n",
        "            verbose=0, # only print 1 line per epoch\n",
        "            validation_data=(X_test, y_test),\n",
        "            callbacks=[create_model_checkpoint(model_name=model_1.name)])"
      ],
      "metadata": {
        "id": "X535eoklYNfn"
      },
      "execution_count": 83,
      "outputs": []
    },
    {
      "cell_type": "markdown",
      "source": [
        "## Training and Validation Loss"
      ],
      "metadata": {
        "id": "u7BoFvZnfBaW"
      }
    },
    {
      "cell_type": "code",
      "source": [
        "\n",
        "plt.plot(history.history['loss'])\n",
        "plt.plot(history.history[\"val_loss\"])\n",
        "plt.show()\n"
      ],
      "metadata": {
        "colab": {
          "base_uri": "https://localhost:8080/",
          "height": 445
        },
        "id": "jYRef-1ieGVW",
        "outputId": "85c69d08-5b7e-4897-89a2-0545a51514bb"
      },
      "execution_count": 84,
      "outputs": [
        {
          "output_type": "display_data",
          "data": {
            "text/plain": [
              "<Figure size 640x480 with 1 Axes>"
            ],
            "image/png": "[encoded data removed]"
          },
          "metadata": {}
        }
      ]
    },
    {
      "cell_type": "markdown",
      "source": [
        "#### The Above Loss is the decreasing , our model is not training it is just predicting random numbers"
      ],
      "metadata": {
        "id": "NFXV4BFqVwLu"
      }
    },
    {
      "cell_type": "code",
      "source": [
        "model_1 = tf.keras.models.load_model(\"model_experiments/model_1_dense_multivariate\")\n",
        "model_1.evaluate(X_test, y_test)"
      ],
      "metadata": {
        "colab": {
          "base_uri": "https://localhost:8080/"
        },
        "id": "ligrMtsWYTeo",
        "outputId": "84388266-4013-4d29-90ce-3c00e1dee27b"
      },
      "execution_count": 85,
      "outputs": [
        {
          "output_type": "stream",
          "name": "stdout",
          "text": [
            "22/22 [==============================] - 0s 2ms/step - loss: 349732.3125\n"
          ]
        },
        {
          "output_type": "execute_result",
          "data": {
            "text/plain": [
              "349732.3125"
            ]
          },
          "metadata": {},
          "execution_count": 85
        }
      ]
    },
    {
      "cell_type": "code",
      "source": [
        "# Make predictions on multivariate data\n",
        "model_1_preds = tf.squeeze(model_1.predict(X_test))\n",
        "model_1_preds[:10]"
      ],
      "metadata": {
        "colab": {
          "base_uri": "https://localhost:8080/"
        },
        "id": "AlwZMn8WYvwS",
        "outputId": "984318c9-d0e7-472e-9bf1-fb9a67328d7c"
      },
      "execution_count": 86,
      "outputs": [
        {
          "output_type": "stream",
          "name": "stdout",
          "text": [
            "22/22 [==============================] - 0s 1ms/step\n"
          ]
        },
        {
          "output_type": "execute_result",
          "data": {
            "text/plain": [
              "<tf.Tensor: shape=(10,), dtype=float32, numpy=\n",
              "array([-903168., -859136., -549888., -367232., -332672., -419712.,\n",
              "       -375040., -403200., -434560., -395776.], dtype=float32)>"
            ]
          },
          "metadata": {},
          "execution_count": 86
        }
      ]
    },
    {
      "cell_type": "code",
      "source": [
        "def evaluate_preds(y_true, y_pred):\n",
        "  # Make sure float32 (for metric calculations)\n",
        "  y_true = tf.cast(y_true, dtype=tf.float32)\n",
        "  y_pred = tf.cast(y_pred, dtype=tf.float32)\n",
        "\n",
        "  # Calculate various metrics\n",
        "  mae = tf.keras.metrics.mean_absolute_error(y_true, y_pred)\n",
        "  mse = tf.keras.metrics.mean_squared_error(y_true, y_pred) # puts and emphasis on outliers (all errors get squared)\n",
        "  rmse = tf.sqrt(mse)\n",
        "  mape = tf.keras.metrics.mean_absolute_percentage_error(y_true, y_pred)\n",
        "  # mase = mean_absolute_scaled_error(y_true, y_pred)\n",
        "\n",
        "  return {\"mae\": mae.numpy(),\n",
        "          \"mse\": mse.numpy(),\n",
        "          \"rmse\": rmse.numpy(),\n",
        "          \"mape\": mape.numpy()\n",
        "          }"
      ],
      "metadata": {
        "id": "eCArAW4dbRGG"
      },
      "execution_count": 87,
      "outputs": []
    },
    {
      "cell_type": "code",
      "source": [
        "model_1_results = evaluate_preds(y_true=y_test,\n",
        "                                 y_pred=model_1_preds)\n",
        "model_1_results"
      ],
      "metadata": {
        "colab": {
          "base_uri": "https://localhost:8080/"
        },
        "id": "evLNKktwbMxw",
        "outputId": "cd0c26d1-6852-4e79-b45a-36163dc46288"
      },
      "execution_count": 88,
      "outputs": [
        {
          "output_type": "execute_result",
          "data": {
            "text/plain": [
              "{'mae': 349716.53, 'mse': 155371450000.0, 'rmse': 394171.84, 'mape': 1308.7385}"
            ]
          },
          "metadata": {},
          "execution_count": 88
        }
      ]
    },
    {
      "cell_type": "code",
      "source": [
        "tf.reduce_mean(y_test).numpy()"
      ],
      "metadata": {
        "colab": {
          "base_uri": "https://localhost:8080/"
        },
        "id": "-NQs13_dbY4X",
        "outputId": "1404ae36-2d5b-4805-b82f-93b584c85231"
      },
      "execution_count": 89,
      "outputs": [
        {
          "output_type": "execute_result",
          "data": {
            "text/plain": [
              "29827.879"
            ]
          },
          "metadata": {},
          "execution_count": 89
        }
      ]
    },
    {
      "cell_type": "markdown",
      "source": [
        "### Model 2 Using LSTM"
      ],
      "metadata": {
        "id": "R2pPIT_mfamK"
      }
    },
    {
      "cell_type": "markdown",
      "source": [
        "Trying to Use LSTM with only price columns"
      ],
      "metadata": {
        "id": "XqSXft_NWOKx"
      }
    },
    {
      "cell_type": "code",
      "source": [
        "X_train.shape, y_train.shape"
      ],
      "metadata": {
        "colab": {
          "base_uri": "https://localhost:8080/"
        },
        "id": "NWdd8_OVXBXn",
        "outputId": "69a9c061-d149-46ae-ec39-f47fa828a52e"
      },
      "execution_count": 90,
      "outputs": [
        {
          "output_type": "execute_result",
          "data": {
            "text/plain": [
              "((2786, 8), (2786,))"
            ]
          },
          "metadata": {},
          "execution_count": 90
        }
      ]
    },
    {
      "cell_type": "code",
      "source": [
        "tf.random.set_seed(42)\n",
        "\n",
        "# Let's build an LSTM model with the Functional API\n",
        "inputs = layers.Input(shape=(WINDOW_SIZE + 1))\n",
        "x = layers.Lambda(lambda x: tf.expand_dims(x, axis=1))(inputs)\n",
        "\n",
        "# x = layers.LSTM(128, activation=\"relu\", return_sequences=True)(x) # this layer will error if the inputs are not the right shape\n",
        "x = layers.LSTM(128, activation=\"relu\")(x) # using the tanh loss function results in a massive error\n",
        "# print(x.shape)\n",
        "# Add another optional dense layer (you could add more of these to see if they improve model performance)\n",
        "# x = layers.Dense(32, activation=\"relu\")(x)\n",
        "output = layers.Dense(HORIZON)(x)\n",
        "model_2 = tf.keras.Model(inputs=inputs, outputs=output, name=\"model_2_lstm\")\n",
        "\n",
        "# Compile model\n",
        "model_2.compile(loss=\"mae\",\n",
        "                optimizer=tf.keras.optimizers.Adam())\n",
        "\n",
        "# Seems when saving the model several warnings are appearing: https://github.com/tensorflow/tensorflow/issues/47554\n",
        "model_2.fit(X_train,\n",
        "            y_train,\n",
        "            epochs=100,\n",
        "            verbose=0,\n",
        "            batch_size=128,\n",
        "            validation_data=(X_test, y_test),\n",
        "            callbacks=[create_model_checkpoint(model_name=model_2.name)])"
      ],
      "metadata": {
        "colab": {
          "base_uri": "https://localhost:8080/"
        },
        "id": "l6RkuMYUbmaW",
        "outputId": "abffa196-78c1-410c-b668-9f8ea1f88b2f"
      },
      "execution_count": 91,
      "outputs": [
        {
          "output_type": "execute_result",
          "data": {
            "text/plain": [
              "<keras.src.callbacks.History at 0x7d750ed2b130>"
            ]
          },
          "metadata": {},
          "execution_count": 91
        }
      ]
    },
    {
      "cell_type": "code",
      "source": [
        "model_2 = tf.keras.models.load_model(\"model_experiments/model_2_lstm/\")\n",
        "model_2.evaluate(X_test, y_test)"
      ],
      "metadata": {
        "colab": {
          "base_uri": "https://localhost:8080/"
        },
        "id": "MV1Rn6tRmbSP",
        "outputId": "1ddaf16a-09ee-4c71-dd48-94a26a9abe13"
      },
      "execution_count": 92,
      "outputs": [
        {
          "output_type": "stream",
          "name": "stdout",
          "text": [
            "22/22 [==============================] - 0s 2ms/step - loss: 36919.0664\n"
          ]
        },
        {
          "output_type": "execute_result",
          "data": {
            "text/plain": [
              "36919.06640625"
            ]
          },
          "metadata": {},
          "execution_count": 92
        }
      ]
    },
    {
      "cell_type": "code",
      "source": [
        "model_2.summary()"
      ],
      "metadata": {
        "colab": {
          "base_uri": "https://localhost:8080/"
        },
        "id": "mbA3lzTRWjAN",
        "outputId": "c45e285e-55e7-4a94-b4df-ba20d8417286"
      },
      "execution_count": 93,
      "outputs": [
        {
          "output_type": "stream",
          "name": "stdout",
          "text": [
            "Model: \"model_2_lstm\"\n",
            "_________________________________________________________________\n",
            " Layer (type)                Output Shape              Param #   \n",
            "=================================================================\n",
            " input_4 (InputLayer)        [(None, 8)]               0         \n",
            "                                                                 \n",
            " lambda_3 (Lambda)           (None, 1, 8)              0         \n",
            "                                                                 \n",
            " lstm_7 (LSTM)               (None, 128)               70144     \n",
            "                                                                 \n",
            " dense_11 (Dense)            (None, 1)                 129       \n",
            "                                                                 \n",
            "=================================================================\n",
            "Total params: 70273 (274.50 KB)\n",
            "Trainable params: 70273 (274.50 KB)\n",
            "Non-trainable params: 0 (0.00 Byte)\n",
            "_________________________________________________________________\n"
          ]
        }
      ]
    },
    {
      "cell_type": "code",
      "source": [
        "def make_preds(model, input_data):\n",
        "  \"\"\"\n",
        "  Uses model to make predictions on input_data.\n",
        "\n",
        "  Parameters\n",
        "  ----------\n",
        "  model: trained model\n",
        "  input_data: windowed input data (same kind of data model was trained on)\n",
        "\n",
        "  Returns model predictions on input_data.\n",
        "  \"\"\"\n",
        "  forecast = model.predict(input_data)\n",
        "  return tf.squeeze(forecast)"
      ],
      "metadata": {
        "id": "FmL3Pox_ne34"
      },
      "execution_count": 94,
      "outputs": []
    },
    {
      "cell_type": "code",
      "source": [
        "model_2_preds = make_preds(model_2, X_test)\n",
        "len(model_2_preds)"
      ],
      "metadata": {
        "colab": {
          "base_uri": "https://localhost:8080/"
        },
        "id": "KI5SMHgsm_8A",
        "outputId": "920f1f97-5a9c-4149-cbaa-373600d27706"
      },
      "execution_count": 95,
      "outputs": [
        {
          "output_type": "stream",
          "name": "stdout",
          "text": [
            "22/22 [==============================] - 0s 3ms/step\n"
          ]
        },
        {
          "output_type": "execute_result",
          "data": {
            "text/plain": [
              "697"
            ]
          },
          "metadata": {},
          "execution_count": 95
        }
      ]
    },
    {
      "cell_type": "code",
      "source": [
        "model_2_results = evaluate_preds(y_true=tf.squeeze(y_test),\n",
        "                                 y_pred=model_2_preds)\n",
        "model_2_results"
      ],
      "metadata": {
        "colab": {
          "base_uri": "https://localhost:8080/"
        },
        "id": "UsASQJX_nMyC",
        "outputId": "23a3a622-79b5-4dba-ceb9-5dd58e464c53"
      },
      "execution_count": 96,
      "outputs": [
        {
          "output_type": "execute_result",
          "data": {
            "text/plain": [
              "{'mae': 36921.086, 'mse': 1566588000.0, 'rmse': 39580.15, 'mape': 125.374374}"
            ]
          },
          "metadata": {},
          "execution_count": 96
        }
      ]
    },
    {
      "cell_type": "markdown",
      "source": [
        "### Comparing the two basic Models"
      ],
      "metadata": {
        "id": "4mR50rWBXl_4"
      }
    },
    {
      "cell_type": "code",
      "source": [
        "pd.DataFrame({\n",
        "              \"model_1\": model_1_results[\"mae\"],\n",
        "              \"model_2\": model_2_results[\"mae\"]\n",
        "              }, index=[\"mae\"]).plot(figsize=(10, 7), kind=\"bar\");"
      ],
      "metadata": {
        "colab": {
          "base_uri": "https://localhost:8080/",
          "height": 616
        },
        "id": "3X_IRq7znt0a",
        "outputId": "67a6e268-0849-43fb-8729-0dee17755704"
      },
      "execution_count": 97,
      "outputs": [
        {
          "output_type": "display_data",
          "data": {
            "text/plain": [
              "<Figure size 1000x700 with 1 Axes>"
            ],
            "image/png": "[encoded data removed]"
          },
          "metadata": {}
        }
      ]
    },
    {
      "cell_type": "markdown",
      "source": [
        "### Compare to model1  , model_2 error is very low\n",
        "######  As we were using LSTM in model_2"
      ],
      "metadata": {
        "id": "9tvKL4SGXvEU"
      }
    },
    {
      "cell_type": "code",
      "source": [
        "X_train.head()"
      ],
      "metadata": {
        "colab": {
          "base_uri": "https://localhost:8080/",
          "height": 238
        },
        "id": "bQH5koATn-us",
        "outputId": "3d96077c-ba15-4067-b6e2-fb4daa826e64"
      },
      "execution_count": 98,
      "outputs": [
        {
          "output_type": "execute_result",
          "data": {
            "text/plain": [
              "                Volume     Price+1     Price+2     Price+3     Price+4  \\\n",
              "Date                                                                     \n",
              "2014-09-24  30627700.0  435.790985  402.152008  398.821014  408.903992   \n",
              "2014-09-25  26814400.0  423.204987  435.790985  402.152008  398.821014   \n",
              "2014-09-26  21460800.0  411.574005  423.204987  435.790985  402.152008   \n",
              "2014-09-27  15029300.0  404.424988  411.574005  423.204987  435.790985   \n",
              "2014-09-28  23613300.0  399.519989  404.424988  411.574005  423.204987   \n",
              "\n",
              "               Price+5     Price+6     Price+7  \n",
              "Date                                            \n",
              "2014-09-24  394.795990  424.440002  457.334015  \n",
              "2014-09-25  408.903992  394.795990  424.440002  \n",
              "2014-09-26  398.821014  408.903992  394.795990  \n",
              "2014-09-27  402.152008  398.821014  408.903992  \n",
              "2014-09-28  435.790985  402.152008  398.821014  "
            ],
            "text/html": [
              "\n",
              "  <div id=\"df-558d825e-5a00-4426-84fc-77f65951b3a8\" class=\"colab-df-container\">\n",
              "    <div>\n",
              "<style scoped>\n",
              "    .dataframe tbody tr th:only-of-type {\n",
              "        vertical-align: middle;\n",
              "    }\n",
              "\n",
              "    .dataframe tbody tr th {\n",
              "        vertical-align: top;\n",
              "    }\n",
              "\n",
              "    .dataframe thead th {\n",
              "        text-align: right;\n",
              "    }\n",
              "</style>\n",
              "<table border=\"1\" class=\"dataframe\">\n",
              "  <thead>\n",
              "    <tr style=\"text-align: right;\">\n",
              "      <th></th>\n",
              "      <th>Volume</th>\n",
              "      <th>Price+1</th>\n",
              "      <th>Price+2</th>\n",
              "      <th>Price+3</th>\n",
              "      <th>Price+4</th>\n",
              "      <th>Price+5</th>\n",
              "      <th>Price+6</th>\n",
              "      <th>Price+7</th>\n",
              "    </tr>\n",
              "    <tr>\n",
              "      <th>Date</th>\n",
              "      <th></th>\n",
              "      <th></th>\n",
              "      <th></th>\n",
              "      <th></th>\n",
              "      <th></th>\n",
              "      <th></th>\n",
              "      <th></th>\n",
              "      <th></th>\n",
              "    </tr>\n",
              "  </thead>\n",
              "  <tbody>\n",
              "    <tr>\n",
              "      <th>2014-09-24</th>\n",
              "      <td>30627700.0</td>\n",
              "      <td>435.790985</td>\n",
              "      <td>402.152008</td>\n",
              "      <td>398.821014</td>\n",
              "      <td>408.903992</td>\n",
              "      <td>394.795990</td>\n",
              "      <td>424.440002</td>\n",
              "      <td>457.334015</td>\n",
              "    </tr>\n",
              "    <tr>\n",
              "      <th>2014-09-25</th>\n",
              "      <td>26814400.0</td>\n",
              "      <td>423.204987</td>\n",
              "      <td>435.790985</td>\n",
              "      <td>402.152008</td>\n",
              "      <td>398.821014</td>\n",
              "      <td>408.903992</td>\n",
              "      <td>394.795990</td>\n",
              "      <td>424.440002</td>\n",
              "    </tr>\n",
              "    <tr>\n",
              "      <th>2014-09-26</th>\n",
              "      <td>21460800.0</td>\n",
              "      <td>411.574005</td>\n",
              "      <td>423.204987</td>\n",
              "      <td>435.790985</td>\n",
              "      <td>402.152008</td>\n",
              "      <td>398.821014</td>\n",
              "      <td>408.903992</td>\n",
              "      <td>394.795990</td>\n",
              "    </tr>\n",
              "    <tr>\n",
              "      <th>2014-09-27</th>\n",
              "      <td>15029300.0</td>\n",
              "      <td>404.424988</td>\n",
              "      <td>411.574005</td>\n",
              "      <td>423.204987</td>\n",
              "      <td>435.790985</td>\n",
              "      <td>402.152008</td>\n",
              "      <td>398.821014</td>\n",
              "      <td>408.903992</td>\n",
              "    </tr>\n",
              "    <tr>\n",
              "      <th>2014-09-28</th>\n",
              "      <td>23613300.0</td>\n",
              "      <td>399.519989</td>\n",
              "      <td>404.424988</td>\n",
              "      <td>411.574005</td>\n",
              "      <td>423.204987</td>\n",
              "      <td>435.790985</td>\n",
              "      <td>402.152008</td>\n",
              "      <td>398.821014</td>\n",
              "    </tr>\n",
              "  </tbody>\n",
              "</table>\n",
              "</div>\n",
              "    <div class=\"colab-df-buttons\">\n",
              "\n",
              "  <div class=\"colab-df-container\">\n",
              "    <button class=\"colab-df-convert\" onclick=\"convertToInteractive('df-558d825e-5a00-4426-84fc-77f65951b3a8')\"\n",
              "            title=\"Convert this dataframe to an interactive table.\"\n",
              "            style=\"display:none;\">\n",
              "\n",
              "  <svg xmlns=\"http://www.w3.org/2000/svg\" height=\"24px\" viewBox=\"0 -960 960 960\">\n",
              "    <path d=\"M120-120v-720h720v720H120Zm60-500h600v-160H180v160Zm220 220h160v-160H400v160Zm0 220h160v-160H400v160ZM180-400h160v-160H180v160Zm440 0h160v-160H620v160ZM180-180h160v-160H180v160Zm440 0h160v-160H620v160Z\"/>\n",
              "  </svg>\n",
              "    </button>\n",
              "\n",
              "  <style>\n",
              "    .colab-df-container {\n",
              "      display:flex;\n",
              "      gap: 12px;\n",
              "    }\n",
              "\n",
              "    .colab-df-convert {\n",
              "      background-color: #E8F0FE;\n",
              "      border: none;\n",
              "      border-radius: 50%;\n",
              "      cursor: pointer;\n",
              "      display: none;\n",
              "      fill: #1967D2;\n",
              "      height: 32px;\n",
              "      padding: 0 0 0 0;\n",
              "      width: 32px;\n",
              "    }\n",
              "\n",
              "    .colab-df-convert:hover {\n",
              "      background-color: #E2EBFA;\n",
              "      box-shadow: 0px 1px 2px rgba(60, 64, 67, 0.3), 0px 1px 3px 1px rgba(60, 64, 67, 0.15);\n",
              "      fill: #174EA6;\n",
              "    }\n",
              "\n",
              "    .colab-df-buttons div {\n",
              "      margin-bottom: 4px;\n",
              "    }\n",
              "\n",
              "    [theme=dark] .colab-df-convert {\n",
              "      background-color: #3B4455;\n",
              "      fill: #D2E3FC;\n",
              "    }\n",
              "\n",
              "    [theme=dark] .colab-df-convert:hover {\n",
              "      background-color: #434B5C;\n",
              "      box-shadow: 0px 1px 3px 1px rgba(0, 0, 0, 0.15);\n",
              "      filter: drop-shadow(0px 1px 2px rgba(0, 0, 0, 0.3));\n",
              "      fill: #FFFFFF;\n",
              "    }\n",
              "  </style>\n",
              "\n",
              "    <script>\n",
              "      const buttonEl =\n",
              "        document.querySelector('#df-558d825e-5a00-4426-84fc-77f65951b3a8 button.colab-df-convert');\n",
              "      buttonEl.style.display =\n",
              "        google.colab.kernel.accessAllowed ? 'block' : 'none';\n",
              "\n",
              "      async function convertToInteractive(key) {\n",
              "        const element = document.querySelector('#df-558d825e-5a00-4426-84fc-77f65951b3a8');\n",
              "        const dataTable =\n",
              "          await google.colab.kernel.invokeFunction('convertToInteractive',\n",
              "                                                    [key], {});\n",
              "        if (!dataTable) return;\n",
              "\n",
              "        const docLinkHtml = 'Like what you see? Visit the ' +\n",
              "          '<a target=\"_blank\" href=https://colab.research.google.com/notebooks/data_table.ipynb>data table notebook</a>'\n",
              "          + ' to learn more about interactive tables.';\n",
              "        element.innerHTML = '';\n",
              "        dataTable['output_type'] = 'display_data';\n",
              "        await google.colab.output.renderOutput(dataTable, element);\n",
              "        const docLink = document.createElement('div');\n",
              "        docLink.innerHTML = docLinkHtml;\n",
              "        element.appendChild(docLink);\n",
              "      }\n",
              "    </script>\n",
              "  </div>\n",
              "\n",
              "\n",
              "<div id=\"df-2db96487-7b02-40fc-8454-7ae73b56d737\">\n",
              "  <button class=\"colab-df-quickchart\" onclick=\"quickchart('df-2db96487-7b02-40fc-8454-7ae73b56d737')\"\n",
              "            title=\"Suggest charts\"\n",
              "            style=\"display:none;\">\n",
              "\n",
              "<svg xmlns=\"http://www.w3.org/2000/svg\" height=\"24px\"viewBox=\"0 0 24 24\"\n",
              "     width=\"24px\">\n",
              "    <g>\n",
              "        <path d=\"M19 3H5c-1.1 0-2 .9-2 2v14c0 1.1.9 2 2 2h14c1.1 0 2-.9 2-2V5c0-1.1-.9-2-2-2zM9 17H7v-7h2v7zm4 0h-2V7h2v10zm4 0h-2v-4h2v4z\"/>\n",
              "    </g>\n",
              "</svg>\n",
              "  </button>\n",
              "\n",
              "<style>\n",
              "  .colab-df-quickchart {\n",
              "      --bg-color: #E8F0FE;\n",
              "      --fill-color: #1967D2;\n",
              "      --hover-bg-color: #E2EBFA;\n",
              "      --hover-fill-color: #174EA6;\n",
              "      --disabled-fill-color: #AAA;\n",
              "      --disabled-bg-color: #DDD;\n",
              "  }\n",
              "\n",
              "  [theme=dark] .colab-df-quickchart {\n",
              "      --bg-color: #3B4455;\n",
              "      --fill-color: #D2E3FC;\n",
              "      --hover-bg-color: #434B5C;\n",
              "      --hover-fill-color: #FFFFFF;\n",
              "      --disabled-bg-color: #3B4455;\n",
              "      --disabled-fill-color: #666;\n",
              "  }\n",
              "\n",
              "  .colab-df-quickchart {\n",
              "    background-color: var(--bg-color);\n",
              "    border: none;\n",
              "    border-radius: 50%;\n",
              "    cursor: pointer;\n",
              "    display: none;\n",
              "    fill: var(--fill-color);\n",
              "    height: 32px;\n",
              "    padding: 0;\n",
              "    width: 32px;\n",
              "  }\n",
              "\n",
              "  .colab-df-quickchart:hover {\n",
              "    background-color: var(--hover-bg-color);\n",
              "    box-shadow: 0 1px 2px rgba(60, 64, 67, 0.3), 0 1px 3px 1px rgba(60, 64, 67, 0.15);\n",
              "    fill: var(--button-hover-fill-color);\n",
              "  }\n",
              "\n",
              "  .colab-df-quickchart-complete:disabled,\n",
              "  .colab-df-quickchart-complete:disabled:hover {\n",
              "    background-color: var(--disabled-bg-color);\n",
              "    fill: var(--disabled-fill-color);\n",
              "    box-shadow: none;\n",
              "  }\n",
              "\n",
              "  .colab-df-spinner {\n",
              "    border: 2px solid var(--fill-color);\n",
              "    border-color: transparent;\n",
              "    border-bottom-color: var(--fill-color);\n",
              "    animation:\n",
              "      spin 1s steps(1) infinite;\n",
              "  }\n",
              "\n",
              "  @keyframes spin {\n",
              "    0% {\n",
              "      border-color: transparent;\n",
              "      border-bottom-color: var(--fill-color);\n",
              "      border-left-color: var(--fill-color);\n",
              "    }\n",
              "    20% {\n",
              "      border-color: transparent;\n",
              "      border-left-color: var(--fill-color);\n",
              "      border-top-color: var(--fill-color);\n",
              "    }\n",
              "    30% {\n",
              "      border-color: transparent;\n",
              "      border-left-color: var(--fill-color);\n",
              "      border-top-color: var(--fill-color);\n",
              "      border-right-color: var(--fill-color);\n",
              "    }\n",
              "    40% {\n",
              "      border-color: transparent;\n",
              "      border-right-color: var(--fill-color);\n",
              "      border-top-color: var(--fill-color);\n",
              "    }\n",
              "    60% {\n",
              "      border-color: transparent;\n",
              "      border-right-color: var(--fill-color);\n",
              "    }\n",
              "    80% {\n",
              "      border-color: transparent;\n",
              "      border-right-color: var(--fill-color);\n",
              "      border-bottom-color: var(--fill-color);\n",
              "    }\n",
              "    90% {\n",
              "      border-color: transparent;\n",
              "      border-bottom-color: var(--fill-color);\n",
              "    }\n",
              "  }\n",
              "</style>\n",
              "\n",
              "  <script>\n",
              "    async function quickchart(key) {\n",
              "      const quickchartButtonEl =\n",
              "        document.querySelector('#' + key + ' button');\n",
              "      quickchartButtonEl.disabled = true;  // To prevent multiple clicks.\n",
              "      quickchartButtonEl.classList.add('colab-df-spinner');\n",
              "      try {\n",
              "        const charts = await google.colab.kernel.invokeFunction(\n",
              "            'suggestCharts', [key], {});\n",
              "      } catch (error) {\n",
              "        console.error('Error during call to suggestCharts:', error);\n",
              "      }\n",
              "      quickchartButtonEl.classList.remove('colab-df-spinner');\n",
              "      quickchartButtonEl.classList.add('colab-df-quickchart-complete');\n",
              "    }\n",
              "    (() => {\n",
              "      let quickchartButtonEl =\n",
              "        document.querySelector('#df-2db96487-7b02-40fc-8454-7ae73b56d737 button');\n",
              "      quickchartButtonEl.style.display =\n",
              "        google.colab.kernel.accessAllowed ? 'block' : 'none';\n",
              "    })();\n",
              "  </script>\n",
              "</div>\n",
              "\n",
              "    </div>\n",
              "  </div>\n"
            ],
            "application/vnd.google.colaboratory.intrinsic+json": {
              "type": "dataframe",
              "variable_name": "X_train",
              "summary": "{\n  \"name\": \"X_train\",\n  \"rows\": 2786,\n  \"fields\": [\n    {\n      \"column\": \"Date\",\n      \"properties\": {\n        \"dtype\": \"date\",\n        \"min\": \"2014-09-24 00:00:00\",\n        \"max\": \"2022-05-10 00:00:00\",\n        \"num_unique_values\": 2786,\n        \"samples\": [\n          \"2020-06-02 00:00:00\",\n          \"2022-04-25 00:00:00\",\n          \"2018-09-28 00:00:00\"\n        ],\n        \"semantic_type\": \"\",\n        \"description\": \"\"\n      }\n    },\n    {\n      \"column\": \"Volume\",\n      \"properties\": {\n        \"dtype\": \"float32\",\n        \"num_unique_values\": 2786,\n        \"samples\": [\n          39137251328.0,\n          35445731328.0,\n          5014430208.0\n        ],\n        \"semantic_type\": \"\",\n        \"description\": \"\"\n      }\n    },\n    {\n      \"column\": \"Price+1\",\n      \"properties\": {\n        \"dtype\": \"float32\",\n        \"num_unique_values\": 2783,\n        \"samples\": [\n          391.8599853515625,\n          61527.48046875,\n          49631.2421875\n        ],\n        \"semantic_type\": \"\",\n        \"description\": \"\"\n      }\n    },\n    {\n      \"column\": \"Price+2\",\n      \"properties\": {\n        \"dtype\": \"float32\",\n        \"num_unique_values\": 2783,\n        \"samples\": [\n          384.26300048828125,\n          61125.67578125,\n          45137.76953125\n        ],\n        \"semantic_type\": \"\",\n        \"description\": \"\"\n      }\n    },\n    {\n      \"column\": \"Price+3\",\n      \"properties\": {\n        \"dtype\": \"float32\",\n        \"num_unique_values\": 2783,\n        \"samples\": [\n          379.65399169921875,\n          61452.23046875,\n          46188.453125\n        ],\n        \"semantic_type\": \"\",\n        \"description\": \"\"\n      }\n    },\n    {\n      \"column\": \"Price+4\",\n      \"properties\": {\n        \"dtype\": \"float32\",\n        \"num_unique_values\": 2783,\n        \"samples\": [\n          381.64898681640625,\n          62970.046875,\n          46339.76171875\n        ],\n        \"semantic_type\": \"\",\n        \"description\": \"\"\n      }\n    },\n    {\n      \"column\": \"Price+5\",\n      \"properties\": {\n        \"dtype\": \"float32\",\n        \"num_unique_values\": 2783,\n        \"samples\": [\n          376.02899169921875,\n          63226.40234375,\n          47093.8515625\n        ],\n        \"semantic_type\": \"\",\n        \"description\": \"\"\n      }\n    },\n    {\n      \"column\": \"Price+6\",\n      \"properties\": {\n        \"dtype\": \"float32\",\n        \"num_unique_values\": 2783,\n        \"samples\": [\n          373.4469909667969,\n          61004.40625,\n          49705.33203125\n        ],\n        \"semantic_type\": \"\",\n        \"description\": \"\"\n      }\n    },\n    {\n      \"column\": \"Price+7\",\n      \"properties\": {\n        \"dtype\": \"float32\",\n        \"num_unique_values\": 2783,\n        \"samples\": [\n          376.6199951171875,\n          61318.95703125,\n          48824.42578125\n        ],\n        \"semantic_type\": \"\",\n        \"description\": \"\"\n      }\n    }\n  ]\n}"
            }
          },
          "metadata": {},
          "execution_count": 98
        }
      ]
    },
    {
      "cell_type": "markdown",
      "source": [
        "### Creating Model in LSTM with window size 30 and normailzing data  and Volume Feature Here\n"
      ],
      "metadata": {
        "id": "KuYm5Ndgo5TL"
      }
    },
    {
      "cell_type": "code",
      "source": [],
      "metadata": {
        "id": "MCRntJAJob7S"
      },
      "execution_count": 98,
      "outputs": []
    },
    {
      "cell_type": "code",
      "source": [
        "# train_data.shape,test_data.shape"
      ],
      "metadata": {
        "id": "qDAYGNlkrlnZ"
      },
      "execution_count": 99,
      "outputs": []
    },
    {
      "cell_type": "code",
      "source": [
        "# train_data[2]"
      ],
      "metadata": {
        "id": "xlhKqtBNtr5z"
      },
      "execution_count": 100,
      "outputs": []
    },
    {
      "cell_type": "code",
      "source": [
        "import numpy as np\n",
        "from sklearn.preprocessing import MinMaxScaler\n",
        "\n",
        "# Assuming df is your DataFrame with the provided data\n",
        "# Selecting relevant columns\n",
        "data = btc_data_modified[['price']].values\n",
        "\n",
        "# Normalizing the data\n",
        "scaler = MinMaxScaler(feature_range=(0, 1))\n",
        "scaled_data = scaler.fit_transform(data)\n",
        "\n",
        "# Define the sequence length (number of time steps to consider)\n",
        "seq_length = 30\n",
        "\n",
        "# Creating sequences of data\n",
        "X = []\n",
        "y = []\n",
        "for i in range(len(scaled_data) - seq_length):\n",
        "    X.append(scaled_data[i:i+seq_length])  # Sequence of historical data\n",
        "    y.append(scaled_data[i+seq_length, 0])  # Next day's price\n",
        "\n",
        "# Convert lists to numpy arrays\n",
        "X = np.array(X)\n",
        "y = np.array(y)\n",
        "\n",
        "# Reshape X to match the input shape of LSTM (samples, timesteps, features)\n",
        "X = np.reshape(X, (X.shape[0], X.shape[1], 1))  # 2 features: Price and Volume\n"
      ],
      "metadata": {
        "id": "0oJuxPEWV2ti"
      },
      "execution_count": 101,
      "outputs": []
    },
    {
      "cell_type": "code",
      "source": [
        "train_size = int(len(X) * 0.8)\n",
        "X_train, X_test = X[:train_size], X[train_size:]\n",
        "y_train, y_test = y[:train_size], y[train_size:]"
      ],
      "metadata": {
        "id": "_Xno1STVWUYG"
      },
      "execution_count": 102,
      "outputs": []
    },
    {
      "cell_type": "code",
      "source": [
        "(len(X_train)),len(X_test)"
      ],
      "metadata": {
        "colab": {
          "base_uri": "https://localhost:8080/"
        },
        "id": "ZOgMWCW6V5bn",
        "outputId": "2db78922-55ff-47d0-b132-610c7659f469"
      },
      "execution_count": 103,
      "outputs": [
        {
          "output_type": "execute_result",
          "data": {
            "text/plain": [
              "(2768, 692)"
            ]
          },
          "metadata": {},
          "execution_count": 103
        }
      ]
    },
    {
      "cell_type": "code",
      "source": [
        "\n",
        "from tensorflow.keras.models import Sequential\n",
        "from tensorflow.keras.layers import LSTM, Dense\n",
        "\n",
        "\n",
        "\n",
        "model_3 = Sequential([\n",
        "    LSTM(units=50, return_sequences=True, input_shape=(30, 1)),\n",
        "    LSTM(units=50, return_sequences=False),\n",
        "    Dense(units=1)\n",
        "],name=\"model_3\")\n",
        "\n",
        "# Compile the model\n",
        "model_3.compile(optimizer='adam', loss='mean_squared_error')\n",
        "\n",
        "# Train the model\n",
        "history = model_3.fit(X_train, y_train, epochs=10, batch_size=32, validation_data=(X_test, y_test),\n",
        "                      callbacks=[create_model_checkpoint(model_name=model_3.name)])\n",
        "\n",
        "# Plot training history\n",
        "plt.plot(history.history['loss'], label='Training Loss')\n",
        "plt.plot(history.history['val_loss'], label='Validation Loss')\n",
        "plt.xlabel('Epoch')\n",
        "plt.ylabel('Loss')\n",
        "plt.legend()\n",
        "plt.show()\n",
        "\n",
        "# Make predictions\n"
      ],
      "metadata": {
        "colab": {
          "base_uri": "https://localhost:8080/",
          "height": 796
        },
        "id": "0DQyoGcGV7IY",
        "outputId": "b8edbac8-86ce-4c1a-c21c-a47d81539452"
      },
      "execution_count": 104,
      "outputs": [
        {
          "output_type": "stream",
          "name": "stdout",
          "text": [
            "Epoch 1/10\n",
            "87/87 [==============================] - 14s 109ms/step - loss: 0.0050 - val_loss: 8.8797e-04\n",
            "Epoch 2/10\n",
            "87/87 [==============================] - 2s 27ms/step - loss: 7.1565e-04 - val_loss: 8.9684e-04\n",
            "Epoch 3/10\n",
            "87/87 [==============================] - 8s 95ms/step - loss: 5.9384e-04 - val_loss: 8.5193e-04\n",
            "Epoch 4/10\n",
            "87/87 [==============================] - 9s 109ms/step - loss: 6.1227e-04 - val_loss: 7.0638e-04\n",
            "Epoch 5/10\n",
            "87/87 [==============================] - 8s 97ms/step - loss: 4.7920e-04 - val_loss: 6.8576e-04\n",
            "Epoch 6/10\n",
            "87/87 [==============================] - 9s 107ms/step - loss: 4.4405e-04 - val_loss: 5.5553e-04\n",
            "Epoch 7/10\n",
            "87/87 [==============================] - 2s 26ms/step - loss: 3.8795e-04 - val_loss: 5.9383e-04\n",
            "Epoch 8/10\n",
            "87/87 [==============================] - 8s 95ms/step - loss: 4.0346e-04 - val_loss: 4.7970e-04\n",
            "Epoch 9/10\n",
            "87/87 [==============================] - 2s 26ms/step - loss: 4.6739e-04 - val_loss: 4.8885e-04\n",
            "Epoch 10/10\n",
            "87/87 [==============================] - 8s 95ms/step - loss: 3.0606e-04 - val_loss: 3.8190e-04\n"
          ]
        },
        {
          "output_type": "display_data",
          "data": {
            "text/plain": [
              "<Figure size 640x480 with 1 Axes>"
            ],
            "image/png": "[encoded data removed]"
          },
          "metadata": {}
        }
      ]
    },
    {
      "cell_type": "code",
      "source": [
        "\n",
        "# predictions = model.predict(X_test)\n",
        "predictions = make_preds(model_3, X_test)\n",
        "predictions = scaler.inverse_transform(tf.expand_dims(predictions,axis=1))\n",
        "\n",
        "# Plot actual vs. predicted prices\n",
        "\n",
        "plt.plot(btc_data_modified.index[-len(y_test):], scaler.inverse_transform(y_test.reshape(-1,1)), label='Actual Price')\n",
        "plt.plot(btc_data_modified.index[-len(y_test):], predictions, label='Predicted Price')\n",
        "plt.xlabel('Date')\n",
        "plt.ylabel('Price')\n",
        "plt.legend()\n",
        "plt.show()\n",
        "# model.summary()"
      ],
      "metadata": {
        "colab": {
          "base_uri": "https://localhost:8080/",
          "height": 466
        },
        "id": "4OkV73RPeP6C",
        "outputId": "8cdda235-d54b-48c2-a4d3-6b20f4d1259c"
      },
      "execution_count": 105,
      "outputs": [
        {
          "output_type": "stream",
          "name": "stdout",
          "text": [
            "22/22 [==============================] - 1s 9ms/step\n"
          ]
        },
        {
          "output_type": "display_data",
          "data": {
            "text/plain": [
              "<Figure size 640x480 with 1 Axes>"
            ],
            "image/png": "[encoded data removed]"
          },
          "metadata": {}
        }
      ]
    },
    {
      "cell_type": "markdown",
      "source": [
        "### By Visualizing\n",
        "\n",
        "Our Predicited Line is lagging behind the Predicted Line"
      ],
      "metadata": {
        "id": "pZE9P-0OZLAd"
      }
    },
    {
      "cell_type": "code",
      "source": [
        "model_3_results = evaluate_preds(y_true=tf.squeeze(y_test),\n",
        "                                 y_pred=tf.squeeze(predictions))\n",
        "model_3_results"
      ],
      "metadata": {
        "colab": {
          "base_uri": "https://localhost:8080/"
        },
        "id": "5A4UWQ8MepIu",
        "outputId": "afc4095a-2399-4af9-b36c-d0dae247e000"
      },
      "execution_count": 106,
      "outputs": [
        {
          "output_type": "execute_result",
          "data": {
            "text/plain": [
              "{'mae': 29995.314, 'mse': 1043140800.0, 'rmse': 32297.69, 'mape': 7419214.0}"
            ]
          },
          "metadata": {},
          "execution_count": 106
        }
      ]
    },
    {
      "cell_type": "markdown",
      "source": [
        "#### Comparing the all Models Errors"
      ],
      "metadata": {
        "id": "nwt1wBEBbPKf"
      }
    },
    {
      "cell_type": "code",
      "source": [
        "models_results_list = [model_1_results, model_2_results,model_3_results]\n",
        "\n",
        "def compare_models_results(models_results_list,error_name):\n",
        "   model_values = {}\n",
        "   for i in range(1,len(models_results_list)+1):\n",
        "      key_name = f\"model_{i}\"\n",
        "      value_name = models_results_list[i-1][error_name]\n",
        "\n",
        "\n",
        "      model_values[key_name] = value_name\n",
        "\n",
        "   print(model_values)\n",
        "\n",
        "   return pd.DataFrame(model_values,index=[\"mae\"]).plot(figsize=(10, 7), kind=\"bar\");\n",
        "\n",
        "compare_models_results(models_results_list,\"mae\")\n",
        "\n",
        "\n"
      ],
      "metadata": {
        "colab": {
          "base_uri": "https://localhost:8080/",
          "height": 651
        },
        "id": "m8dhwGnMbOqq",
        "outputId": "ce96866c-f673-4c51-be19-3b79dc24c1ef"
      },
      "execution_count": 144,
      "outputs": [
        {
          "output_type": "stream",
          "name": "stdout",
          "text": [
            "{'model_1': 349716.53, 'model_2': 36921.086, 'model_3': 29995.314}\n"
          ]
        },
        {
          "output_type": "execute_result",
          "data": {
            "text/plain": [
              "<Axes: >"
            ]
          },
          "metadata": {},
          "execution_count": 144
        },
        {
          "output_type": "display_data",
          "data": {
            "text/plain": [
              "<Figure size 1000x700 with 1 Axes>"
            ],
            "image/png": "[encoded data removed]"
          },
          "metadata": {}
        }
      ]
    },
    {
      "cell_type": "markdown",
      "source": [
        "#### Now We are trying add One More Feature"
      ],
      "metadata": {
        "id": "R5HofkzFgkZS"
      }
    },
    {
      "cell_type": "markdown",
      "source": [],
      "metadata": {
        "id": "FxEbKOgjZqcu"
      }
    },
    {
      "cell_type": "code",
      "source": [],
      "metadata": {
        "id": "FfOfDEr5e2BX"
      },
      "execution_count": 123,
      "outputs": []
    },
    {
      "cell_type": "code",
      "source": [],
      "metadata": {
        "id": "-zrWFPtCgF7O"
      },
      "execution_count": 123,
      "outputs": []
    },
    {
      "cell_type": "markdown",
      "source": [
        "### Creating Dataset for LSTM\n",
        "\n",
        "#### with Volume and Price Feature\n"
      ],
      "metadata": {
        "id": "Bkizf1drsIKj"
      }
    },
    {
      "cell_type": "code",
      "source": [],
      "metadata": {
        "id": "skg4286MgRb2"
      },
      "execution_count": 134,
      "outputs": []
    },
    {
      "cell_type": "code",
      "source": [
        "import numpy as np\n",
        "import pandas as pd\n",
        "from sklearn.preprocessing import MinMaxScaler\n",
        "from tensorflow.keras.models import Sequential\n",
        "from tensorflow.keras.layers import LSTM, Dense\n",
        "\n",
        "price_data = btc_data_modified['price'].values\n",
        "volume_data = btc_data_modified['Volume'].values\n",
        "\n",
        "# Reshape data to make it compatible with LSTM input shape (samples, timesteps, features)\n",
        "# Here, we'll use historical prices and volumes as input features\n",
        "seq_length = 10  # Number of historical data points to consider\n",
        "X_price, X_volume, y = [], [], []\n",
        "for i in range(len(price_data) - seq_length):\n",
        "    X_price.append(price_data[i:i+seq_length])    # Sequence of historical prices\n",
        "    X_volume.append(volume_data[i:i+seq_length])  # Sequence of historical volumes\n",
        "    y.append(price_data[i+seq_length])            # Next day's price (target)\n",
        "\n",
        "X_price = np.array(X_price)\n",
        "X_volume = np.array(X_volume)\n",
        "y = np.array(y)\n",
        "\n",
        "# Reshape input data to match LSTM input shape (samples, timesteps, features)\n",
        "X_price = np.reshape(X_price, (-1, X_price.shape[-1]))  # Flatten timesteps dimension\n",
        "X_volume = np.reshape(X_volume, (-1, X_volume.shape[-1]))  # Flatten timesteps dimension\n",
        "\n",
        "# Normalize data using MinMaxScaler\n",
        "scaler_price = MinMaxScaler(feature_range=(0, 1))\n",
        "scaler_volume = MinMaxScaler(feature_range=(0, 1))\n",
        "X_price_scaled = scaler_price.fit_transform(X_price)\n",
        "X_volume_scaled = scaler_volume.fit_transform(X_volume)\n",
        "y_scaled = scaler_price.fit_transform(y.reshape(-1, 1))  # Reshape y to 2D array for scaling\n",
        "\n",
        "# Reshape input data back to original shape\n",
        "X_price_scaled = np.reshape(X_price_scaled, (X_price.shape[0], -1, X_price.shape[-1]))\n",
        "X_volume_scaled = np.reshape(X_volume_scaled, (X_volume.shape[0], -1, X_volume.shape[-1]))\n",
        "\n",
        "# Concatenate price and volume features\n",
        "X = np.concatenate((X_price_scaled, X_volume_scaled), axis=-1)\n",
        "\n",
        "# Split data into training and testing sets\n",
        "split_index = int(0.8 * len(X))\n",
        "X_train, X_test = X[:split_index], X[split_index:]\n",
        "y_train, y_test = y_scaled[:split_index], y_scaled[split_index:]\n",
        "\n",
        "# Build the LSTM model\n",
        "model_4 = Sequential([\n",
        "    LSTM(units=50, return_sequences=True, input_shape=(X_train.shape[1], X_train.shape[2])),\n",
        "    LSTM(units=50, return_sequences=False),\n",
        "    Dense(units=1)  # Output layer with 1 neuron for predicting the next day's price\n",
        "],name=\"model_4\")\n",
        "\n",
        "# Compile the model\n",
        "model_4.compile(optimizer='adam', loss='mean_squared_error')\n",
        "\n",
        "# Train the model\n",
        "history = model_4.fit(X_train, y_train, epochs=100, batch_size=32, verbose=1,validation_data=(X_test, y_test),callbacks=[create_model_checkpoint(model_name= model_4.name)])\n",
        "\n",
        "# Evaluate the model on test data\n",
        "\n",
        "\n",
        "\n",
        "plt.plot(history.history['loss'], label='Training Loss')\n",
        "plt.plot(history.history['val_loss'], label='Validation Loss')\n",
        "plt.xlabel('Epoch')\n",
        "plt.ylabel('Loss')\n",
        "plt.legend()\n",
        "plt.show()"
      ],
      "metadata": {
        "colab": {
          "base_uri": "https://localhost:8080/",
          "height": 1000
        },
        "id": "8AR7dwiHgUvH",
        "outputId": "f48e03f1-7b34-4961-fc26-2539510e4072"
      },
      "execution_count": 171,
      "outputs": [
        {
          "output_type": "stream",
          "name": "stdout",
          "text": [
            "Epoch 1/100\n",
            "87/87 [==============================] - 10s 83ms/step - loss: 0.0159 - val_loss: 0.0020\n",
            "Epoch 2/100\n",
            "87/87 [==============================] - 8s 91ms/step - loss: 6.4056e-04 - val_loss: 9.0075e-04\n",
            "Epoch 3/100\n",
            "87/87 [==============================] - 7s 84ms/step - loss: 5.1376e-04 - val_loss: 8.4101e-04\n",
            "Epoch 4/100\n",
            "87/87 [==============================] - 7s 78ms/step - loss: 4.5143e-04 - val_loss: 5.8262e-04\n",
            "Epoch 5/100\n",
            "87/87 [==============================] - 6s 75ms/step - loss: 4.1735e-04 - val_loss: 5.6737e-04\n",
            "Epoch 6/100\n",
            "87/87 [==============================] - 0s 5ms/step - loss: 3.9857e-04 - val_loss: 6.1116e-04\n",
            "Epoch 7/100\n",
            "87/87 [==============================] - 0s 5ms/step - loss: 3.6767e-04 - val_loss: 6.1565e-04\n",
            "Epoch 8/100\n",
            "87/87 [==============================] - 8s 97ms/step - loss: 3.3688e-04 - val_loss: 5.2615e-04\n",
            "Epoch 9/100\n",
            "87/87 [==============================] - 7s 76ms/step - loss: 3.2768e-04 - val_loss: 4.6699e-04\n",
            "Epoch 10/100\n",
            "87/87 [==============================] - 0s 4ms/step - loss: 3.0748e-04 - val_loss: 5.0505e-04\n",
            "Epoch 11/100\n",
            "87/87 [==============================] - 0s 4ms/step - loss: 3.2192e-04 - val_loss: 0.0011\n",
            "Epoch 12/100\n",
            "87/87 [==============================] - 6s 74ms/step - loss: 2.7100e-04 - val_loss: 3.5725e-04\n",
            "Epoch 13/100\n",
            "87/87 [==============================] - 8s 91ms/step - loss: 2.9390e-04 - val_loss: 3.5285e-04\n",
            "Epoch 14/100\n",
            "87/87 [==============================] - 6s 74ms/step - loss: 2.3380e-04 - val_loss: 3.3560e-04\n",
            "Epoch 15/100\n",
            "87/87 [==============================] - 0s 4ms/step - loss: 2.3669e-04 - val_loss: 7.2119e-04\n",
            "Epoch 16/100\n",
            "87/87 [==============================] - 6s 73ms/step - loss: 2.1346e-04 - val_loss: 2.8567e-04\n",
            "Epoch 17/100\n",
            "87/87 [==============================] - 0s 4ms/step - loss: 2.1872e-04 - val_loss: 3.0639e-04\n",
            "Epoch 18/100\n",
            "87/87 [==============================] - 6s 74ms/step - loss: 2.0697e-04 - val_loss: 2.8378e-04\n",
            "Epoch 19/100\n",
            "87/87 [==============================] - 8s 94ms/step - loss: 2.3309e-04 - val_loss: 2.7207e-04\n",
            "Epoch 20/100\n",
            "87/87 [==============================] - 6s 75ms/step - loss: 1.9338e-04 - val_loss: 2.5673e-04\n",
            "Epoch 21/100\n",
            "87/87 [==============================] - 0s 4ms/step - loss: 1.8614e-04 - val_loss: 2.5686e-04\n",
            "Epoch 22/100\n",
            "87/87 [==============================] - 0s 4ms/step - loss: 1.8831e-04 - val_loss: 3.4415e-04\n",
            "Epoch 23/100\n",
            "87/87 [==============================] - 0s 4ms/step - loss: 2.1019e-04 - val_loss: 2.6029e-04\n",
            "Epoch 24/100\n",
            "87/87 [==============================] - 0s 4ms/step - loss: 1.8811e-04 - val_loss: 5.3273e-04\n",
            "Epoch 25/100\n",
            "87/87 [==============================] - 6s 73ms/step - loss: 1.8205e-04 - val_loss: 2.5193e-04\n",
            "Epoch 26/100\n",
            "87/87 [==============================] - 0s 5ms/step - loss: 1.9135e-04 - val_loss: 2.5548e-04\n",
            "Epoch 27/100\n",
            "87/87 [==============================] - 6s 75ms/step - loss: 1.7011e-04 - val_loss: 2.4889e-04\n",
            "Epoch 28/100\n",
            "87/87 [==============================] - 0s 4ms/step - loss: 1.8142e-04 - val_loss: 2.8352e-04\n",
            "Epoch 29/100\n",
            "87/87 [==============================] - 8s 94ms/step - loss: 1.8950e-04 - val_loss: 2.4359e-04\n",
            "Epoch 30/100\n",
            "87/87 [==============================] - 0s 4ms/step - loss: 1.6887e-04 - val_loss: 2.8646e-04\n",
            "Epoch 31/100\n",
            "87/87 [==============================] - 0s 4ms/step - loss: 2.7507e-04 - val_loss: 2.8207e-04\n",
            "Epoch 32/100\n",
            "87/87 [==============================] - 0s 4ms/step - loss: 2.0389e-04 - val_loss: 2.4551e-04\n",
            "Epoch 33/100\n",
            "87/87 [==============================] - 6s 75ms/step - loss: 1.8859e-04 - val_loss: 2.3780e-04\n",
            "Epoch 34/100\n",
            "87/87 [==============================] - 0s 5ms/step - loss: 1.6820e-04 - val_loss: 4.5082e-04\n",
            "Epoch 35/100\n",
            "87/87 [==============================] - 6s 74ms/step - loss: 1.7327e-04 - val_loss: 2.3109e-04\n",
            "Epoch 36/100\n",
            "87/87 [==============================] - 0s 5ms/step - loss: 1.8330e-04 - val_loss: 2.7787e-04\n",
            "Epoch 37/100\n",
            "87/87 [==============================] - 8s 91ms/step - loss: 1.6060e-04 - val_loss: 2.2368e-04\n",
            "Epoch 38/100\n",
            "87/87 [==============================] - 0s 4ms/step - loss: 1.6419e-04 - val_loss: 5.3783e-04\n",
            "Epoch 39/100\n",
            "87/87 [==============================] - 6s 75ms/step - loss: 1.7244e-04 - val_loss: 2.1595e-04\n",
            "Epoch 40/100\n",
            "87/87 [==============================] - 0s 4ms/step - loss: 1.6064e-04 - val_loss: 2.7806e-04\n",
            "Epoch 41/100\n",
            "87/87 [==============================] - 6s 74ms/step - loss: 1.6041e-04 - val_loss: 2.0610e-04\n",
            "Epoch 42/100\n",
            "87/87 [==============================] - 0s 4ms/step - loss: 1.6770e-04 - val_loss: 3.0481e-04\n",
            "Epoch 43/100\n",
            "87/87 [==============================] - 0s 4ms/step - loss: 1.6318e-04 - val_loss: 2.2003e-04\n",
            "Epoch 44/100\n",
            "87/87 [==============================] - 0s 4ms/step - loss: 1.7676e-04 - val_loss: 2.1039e-04\n",
            "Epoch 45/100\n",
            "87/87 [==============================] - 0s 4ms/step - loss: 1.5717e-04 - val_loss: 2.1858e-04\n",
            "Epoch 46/100\n",
            "87/87 [==============================] - 6s 73ms/step - loss: 1.6076e-04 - val_loss: 2.0118e-04\n",
            "Epoch 47/100\n",
            "87/87 [==============================] - 0s 4ms/step - loss: 1.7380e-04 - val_loss: 2.7441e-04\n",
            "Epoch 48/100\n",
            "87/87 [==============================] - 0s 4ms/step - loss: 1.7045e-04 - val_loss: 2.1452e-04\n",
            "Epoch 49/100\n",
            "87/87 [==============================] - 8s 93ms/step - loss: 1.5257e-04 - val_loss: 1.9828e-04\n",
            "Epoch 50/100\n",
            "87/87 [==============================] - 6s 75ms/step - loss: 1.8262e-04 - val_loss: 1.9683e-04\n",
            "Epoch 51/100\n",
            "87/87 [==============================] - 0s 4ms/step - loss: 1.5977e-04 - val_loss: 2.1481e-04\n",
            "Epoch 52/100\n",
            "87/87 [==============================] - 0s 4ms/step - loss: 1.7992e-04 - val_loss: 2.0836e-04\n",
            "Epoch 53/100\n",
            "87/87 [==============================] - 0s 4ms/step - loss: 1.5484e-04 - val_loss: 2.3381e-04\n",
            "Epoch 54/100\n",
            "87/87 [==============================] - 0s 4ms/step - loss: 1.5191e-04 - val_loss: 3.3007e-04\n",
            "Epoch 55/100\n",
            "87/87 [==============================] - 0s 4ms/step - loss: 1.4801e-04 - val_loss: 2.2172e-04\n",
            "Epoch 56/100\n",
            "87/87 [==============================] - 0s 4ms/step - loss: 1.4752e-04 - val_loss: 2.3749e-04\n",
            "Epoch 57/100\n",
            "87/87 [==============================] - 0s 4ms/step - loss: 1.5436e-04 - val_loss: 2.4375e-04\n",
            "Epoch 58/100\n",
            "87/87 [==============================] - 0s 4ms/step - loss: 1.6785e-04 - val_loss: 3.6956e-04\n",
            "Epoch 59/100\n",
            "87/87 [==============================] - 0s 4ms/step - loss: 1.5501e-04 - val_loss: 2.1536e-04\n",
            "Epoch 60/100\n",
            "87/87 [==============================] - 0s 4ms/step - loss: 1.5893e-04 - val_loss: 2.0082e-04\n",
            "Epoch 61/100\n",
            "87/87 [==============================] - 0s 4ms/step - loss: 1.7298e-04 - val_loss: 2.6727e-04\n",
            "Epoch 62/100\n",
            "87/87 [==============================] - 0s 4ms/step - loss: 1.4809e-04 - val_loss: 3.1770e-04\n",
            "Epoch 63/100\n",
            "87/87 [==============================] - 0s 4ms/step - loss: 1.4155e-04 - val_loss: 2.0034e-04\n",
            "Epoch 64/100\n",
            "87/87 [==============================] - 6s 74ms/step - loss: 1.4130e-04 - val_loss: 1.9308e-04\n",
            "Epoch 65/100\n",
            "87/87 [==============================] - 0s 4ms/step - loss: 1.6355e-04 - val_loss: 2.0621e-04\n",
            "Epoch 66/100\n",
            "87/87 [==============================] - 0s 4ms/step - loss: 1.5302e-04 - val_loss: 2.5432e-04\n",
            "Epoch 67/100\n",
            "87/87 [==============================] - 0s 4ms/step - loss: 1.4654e-04 - val_loss: 2.2131e-04\n",
            "Epoch 68/100\n",
            "87/87 [==============================] - 0s 4ms/step - loss: 1.8886e-04 - val_loss: 7.2435e-04\n",
            "Epoch 69/100\n",
            "87/87 [==============================] - 0s 4ms/step - loss: 1.7323e-04 - val_loss: 3.7128e-04\n",
            "Epoch 70/100\n",
            "87/87 [==============================] - 6s 73ms/step - loss: 1.5375e-04 - val_loss: 1.9027e-04\n",
            "Epoch 71/100\n",
            "87/87 [==============================] - 0s 4ms/step - loss: 1.4393e-04 - val_loss: 1.9734e-04\n",
            "Epoch 72/100\n",
            "87/87 [==============================] - 0s 4ms/step - loss: 1.4931e-04 - val_loss: 2.8613e-04\n",
            "Epoch 73/100\n",
            "87/87 [==============================] - 0s 4ms/step - loss: 1.9300e-04 - val_loss: 4.8791e-04\n",
            "Epoch 74/100\n",
            "87/87 [==============================] - 0s 4ms/step - loss: 1.5335e-04 - val_loss: 2.8201e-04\n",
            "Epoch 75/100\n",
            "87/87 [==============================] - 0s 4ms/step - loss: 1.6708e-04 - val_loss: 2.2730e-04\n",
            "Epoch 76/100\n",
            "87/87 [==============================] - 0s 4ms/step - loss: 1.5079e-04 - val_loss: 1.9788e-04\n",
            "Epoch 77/100\n",
            "87/87 [==============================] - 0s 4ms/step - loss: 1.5086e-04 - val_loss: 2.7894e-04\n",
            "Epoch 78/100\n",
            "87/87 [==============================] - 8s 93ms/step - loss: 1.5927e-04 - val_loss: 1.8425e-04\n",
            "Epoch 79/100\n",
            "87/87 [==============================] - 0s 4ms/step - loss: 1.6768e-04 - val_loss: 2.8452e-04\n",
            "Epoch 80/100\n",
            "87/87 [==============================] - 0s 4ms/step - loss: 1.8074e-04 - val_loss: 2.1252e-04\n",
            "Epoch 81/100\n",
            "87/87 [==============================] - 0s 4ms/step - loss: 1.7227e-04 - val_loss: 2.1357e-04\n",
            "Epoch 82/100\n",
            "87/87 [==============================] - 0s 4ms/step - loss: 1.6284e-04 - val_loss: 1.9278e-04\n",
            "Epoch 83/100\n",
            "87/87 [==============================] - 0s 4ms/step - loss: 1.4698e-04 - val_loss: 5.4166e-04\n",
            "Epoch 84/100\n",
            "87/87 [==============================] - 0s 4ms/step - loss: 1.4721e-04 - val_loss: 2.0543e-04\n",
            "Epoch 85/100\n",
            "87/87 [==============================] - 0s 4ms/step - loss: 1.3158e-04 - val_loss: 4.5505e-04\n",
            "Epoch 86/100\n",
            "87/87 [==============================] - 0s 4ms/step - loss: 1.4900e-04 - val_loss: 2.1000e-04\n",
            "Epoch 87/100\n",
            "87/87 [==============================] - 0s 4ms/step - loss: 1.3781e-04 - val_loss: 1.9364e-04\n",
            "Epoch 88/100\n",
            "87/87 [==============================] - 0s 4ms/step - loss: 1.4168e-04 - val_loss: 1.9070e-04\n",
            "Epoch 89/100\n",
            "87/87 [==============================] - 0s 4ms/step - loss: 1.4062e-04 - val_loss: 1.9602e-04\n",
            "Epoch 90/100\n",
            "87/87 [==============================] - 0s 4ms/step - loss: 1.6458e-04 - val_loss: 1.9103e-04\n",
            "Epoch 91/100\n",
            "87/87 [==============================] - 0s 4ms/step - loss: 1.4332e-04 - val_loss: 1.9487e-04\n",
            "Epoch 92/100\n",
            "87/87 [==============================] - 0s 4ms/step - loss: 1.4681e-04 - val_loss: 1.9714e-04\n",
            "Epoch 93/100\n",
            "87/87 [==============================] - 0s 4ms/step - loss: 1.4849e-04 - val_loss: 3.7964e-04\n",
            "Epoch 94/100\n",
            "87/87 [==============================] - 0s 4ms/step - loss: 1.6089e-04 - val_loss: 3.5958e-04\n",
            "Epoch 95/100\n",
            "87/87 [==============================] - 0s 4ms/step - loss: 1.5753e-04 - val_loss: 3.8429e-04\n",
            "Epoch 96/100\n",
            "87/87 [==============================] - 0s 4ms/step - loss: 2.0507e-04 - val_loss: 2.5593e-04\n",
            "Epoch 97/100\n",
            "87/87 [==============================] - 0s 4ms/step - loss: 1.3906e-04 - val_loss: 2.1026e-04\n",
            "Epoch 98/100\n",
            "87/87 [==============================] - 0s 4ms/step - loss: 1.3683e-04 - val_loss: 2.1180e-04\n",
            "Epoch 99/100\n",
            "87/87 [==============================] - 0s 4ms/step - loss: 1.4062e-04 - val_loss: 1.8822e-04\n",
            "Epoch 100/100\n",
            "87/87 [==============================] - 6s 75ms/step - loss: 1.5358e-04 - val_loss: 1.8245e-04\n"
          ]
        },
        {
          "output_type": "display_data",
          "data": {
            "text/plain": [
              "<Figure size 640x480 with 1 Axes>"
            ],
            "image/png": "[encoded data removed]"
          },
          "metadata": {}
        }
      ]
    },
    {
      "cell_type": "code",
      "source": [],
      "metadata": {
        "id": "L95Bqs7DghPP"
      },
      "execution_count": 171,
      "outputs": []
    },
    {
      "cell_type": "code",
      "source": [
        "# predictions = model.predict(X_train)\n",
        "\n",
        "predictions = make_preds(model_4, X_test)\n",
        "predictions = scaler.inverse_transform(tf.expand_dims(predictions,axis=1))\n",
        "# Inverse transform predictions to original scale\n",
        "# predictions = scaler_price.inverse_transform(predictions)\n",
        "\n",
        "# Plot actual vs. predicted prices\n",
        "import matplotlib.pyplot as plt\n",
        "plt.plot(btc_data_modified.index[-len(y_test):], scaler_price.inverse_transform(y_test), label='Actual Price')\n",
        "plt.plot(btc_data_modified.index[-len(y_test):], predictions, label='Predicted Price')\n",
        "plt.xlabel('Date')\n",
        "plt.ylabel('Price')\n",
        "plt.title('Actual vs. Predicted Prices For Test Data ')\n",
        "plt.legend()\n",
        "plt.show()"
      ],
      "metadata": {
        "colab": {
          "base_uri": "https://localhost:8080/",
          "height": 489
        },
        "id": "h6jma_s9yvX5",
        "outputId": "32449183-3666-4623-96fb-11965f300a53"
      },
      "execution_count": 172,
      "outputs": [
        {
          "output_type": "stream",
          "name": "stdout",
          "text": [
            "22/22 [==============================] - 1s 2ms/step\n"
          ]
        },
        {
          "output_type": "display_data",
          "data": {
            "text/plain": [
              "<Figure size 640x480 with 1 Axes>"
            ],
            "image/png": "[encoded data removed]"
          },
          "metadata": {}
        }
      ]
    },
    {
      "cell_type": "markdown",
      "source": [
        "#### By adding Volume with Price The Actual and Predicted Line is Almost coincided"
      ],
      "metadata": {
        "id": "8Hfx1fbImF0y"
      }
    },
    {
      "cell_type": "code",
      "source": [
        "# model_4_results"
      ],
      "metadata": {
        "colab": {
          "base_uri": "https://localhost:8080/"
        },
        "id": "6bhn39UOniv7",
        "outputId": "2abc56c6-ea80-4dde-baf0-afe46e020936"
      },
      "execution_count": 173,
      "outputs": [
        {
          "output_type": "execute_result",
          "data": {
            "text/plain": [
              "{'mae': 29899.355, 'mse': 1040760060.0, 'rmse': 32260.812, 'mape': 7376195.5}"
            ]
          },
          "metadata": {},
          "execution_count": 173
        }
      ]
    },
    {
      "cell_type": "code",
      "source": [
        "model_4_results = evaluate_preds(y_true=tf.squeeze(y_test),\n",
        "                                 y_pred=tf.squeeze(predictions))\n",
        "\n",
        "models_results_list = [model_1_results,model_2_results,model_3_results,model_4_results]\n",
        "# models_results_list.append(model_4_results)\n",
        "compare_models_results(models_results_list,error_name=\"mae\")"
      ],
      "metadata": {
        "colab": {
          "base_uri": "https://localhost:8080/",
          "height": 651
        },
        "id": "t0c3s2C2mQhU",
        "outputId": "61e61f93-9fe3-4baf-e0ac-d3ea284dd241"
      },
      "execution_count": 174,
      "outputs": [
        {
          "output_type": "stream",
          "name": "stdout",
          "text": [
            "{'model_1': 349716.53, 'model_2': 36921.086, 'model_3': 29995.314, 'model_4': 29876.586}\n"
          ]
        },
        {
          "output_type": "execute_result",
          "data": {
            "text/plain": [
              "<Axes: >"
            ]
          },
          "metadata": {},
          "execution_count": 174
        },
        {
          "output_type": "display_data",
          "data": {
            "text/plain": [
              "<Figure size 1000x700 with 1 Axes>"
            ],
            "image/png": "[encoded data removed]"
          },
          "metadata": {}
        }
      ]
    },
    {
      "cell_type": "code",
      "source": [
        "len(models_results_list)"
      ],
      "metadata": {
        "colab": {
          "base_uri": "https://localhost:8080/"
        },
        "id": "huV2URL5nIOt",
        "outputId": "7b2715c6-964a-4feb-e01b-e04f8521ab2f"
      },
      "execution_count": 175,
      "outputs": [
        {
          "output_type": "execute_result",
          "data": {
            "text/plain": [
              "4"
            ]
          },
          "metadata": {},
          "execution_count": 175
        }
      ]
    },
    {
      "cell_type": "code",
      "source": [],
      "metadata": {
        "id": "EceF3XultzYT"
      },
      "execution_count": 175,
      "outputs": []
    },
    {
      "cell_type": "code",
      "source": [
        "### Writing a Function for Getting How Much Error in Prediction\n",
        "\n"
      ],
      "metadata": {
        "id": "0SV-iB1LwImQ"
      },
      "execution_count": 176,
      "outputs": []
    },
    {
      "cell_type": "code",
      "source": [],
      "metadata": {
        "id": "mGLj1Sh1nxsP"
      },
      "execution_count": 176,
      "outputs": []
    },
    {
      "cell_type": "code",
      "source": [],
      "metadata": {
        "id": "1cVQVlU-2CWA"
      },
      "execution_count": 176,
      "outputs": []
    },
    {
      "cell_type": "code",
      "source": [
        "\n"
      ],
      "metadata": {
        "id": "QvPgPkMpwo7X"
      },
      "execution_count": 176,
      "outputs": []
    },
    {
      "cell_type": "code",
      "source": [
        "\n"
      ],
      "metadata": {
        "id": "kM7nSg8kw0aL"
      },
      "execution_count": 176,
      "outputs": []
    },
    {
      "cell_type": "code",
      "source": [
        "\n"
      ],
      "metadata": {
        "id": "PSs7D32a4ArP"
      },
      "execution_count": 176,
      "outputs": []
    },
    {
      "cell_type": "code",
      "source": [],
      "metadata": {
        "id": "jmBfpx6H4CVA"
      },
      "execution_count": 176,
      "outputs": []
    },
    {
      "cell_type": "code",
      "source": [
        "def get_prediction(date, model, bitcoin_data, seq_length=10):\n",
        "    # Convert date to datetime object\n",
        "    date = pd.to_datetime(date)\n",
        "\n",
        "    # Get the index of the date in the data\n",
        "    index = bitcoin_data.index.get_loc(date)\n",
        "\n",
        "    # Extract the last 'seq_length' days of data\n",
        "    last_days_data = bitcoin_data.iloc[index-seq_length:index]\n",
        "\n",
        "    # Extract the price and volume data\n",
        "    price_data = np.array(last_days_data['price'].values).reshape(-1, 1)\n",
        "    volume_data = np.array(last_days_data['Volume'].values).reshape(-1, 1)\n",
        "\n",
        "\n",
        "\n",
        "    scaler_price = MinMaxScaler(feature_range=(0, 1))\n",
        "    scaler_volume = MinMaxScaler(feature_range=(0, 1))\n",
        "    price_scaled = scaler_price.fit_transform(price_data)\n",
        "    volume_scaled = scaler_volume.fit_transform(volume_data)\n",
        "\n",
        "\n",
        "    X_price_scaled = np.reshape(price_scaled, (1, price_data.shape[1],price_data.shape[0]))\n",
        "    X_volume_scaled = np.reshape(volume_scaled, ( 1, volume_data.shape[1],volume_data.shape[0]))\n",
        "\n",
        "\n",
        "    X = np.concatenate((X_price_scaled, X_volume_scaled), axis=2)\n",
        "\n",
        "\n",
        "\n",
        "\n",
        "\n",
        "\n",
        "\n",
        "    prediction = model.predict(X)\n",
        "\n",
        "\n",
        "    prediction = scaler_price.inverse_transform(prediction)\n",
        "\n",
        "\n",
        "    next_day_price = prediction[0][0]\n",
        "    return next_day_price, bitcoin_data.iloc[index][\"price\"]"
      ],
      "metadata": {
        "id": "fI2u84yJ48cR"
      },
      "execution_count": 177,
      "outputs": []
    },
    {
      "cell_type": "code",
      "source": [
        "prediction, actual = get_prediction('2024-03-21', model_4, btc_data_modified, seq_length=10)\n",
        "\n",
        "print(f\"Predicted Price: {prediction}\")\n",
        "print(f\"Actual Price: {actual}\")\n",
        "print(f\"Difference: {prediction - actual}\")\n"
      ],
      "metadata": {
        "colab": {
          "base_uri": "https://localhost:8080/"
        },
        "id": "-B-URm3pIIyH",
        "outputId": "3ec86ed9-c73a-4af8-d7f0-77ede77d0d21"
      },
      "execution_count": 178,
      "outputs": [
        {
          "output_type": "stream",
          "name": "stdout",
          "text": [
            "1/1 [==============================] - 0s 22ms/step\n",
            "Predicted Price: 65964.9765625\n",
            "Actual Price: 65491.390625\n",
            "Difference: 473.5859375\n"
          ]
        }
      ]
    },
    {
      "cell_type": "code",
      "source": [
        "model_4.summary()"
      ],
      "metadata": {
        "colab": {
          "base_uri": "https://localhost:8080/"
        },
        "id": "V-ic7IV6IMHE",
        "outputId": "79c09eb9-bd0a-4fe0-bc24-69bb0efcbe8c"
      },
      "execution_count": 179,
      "outputs": [
        {
          "output_type": "stream",
          "name": "stdout",
          "text": [
            "Model: \"model_4\"\n",
            "_________________________________________________________________\n",
            " Layer (type)                Output Shape              Param #   \n",
            "=================================================================\n",
            " lstm_25 (LSTM)              (None, 1, 50)             14200     \n",
            "                                                                 \n",
            " lstm_26 (LSTM)              (None, 50)                20200     \n",
            "                                                                 \n",
            " dense_20 (Dense)            (None, 1)                 51        \n",
            "                                                                 \n",
            "=================================================================\n",
            "Total params: 34451 (134.57 KB)\n",
            "Trainable params: 34451 (134.57 KB)\n",
            "Non-trainable params: 0 (0.00 Byte)\n",
            "_________________________________________________________________\n"
          ]
        }
      ]
    },
    {
      "cell_type": "markdown",
      "source": [
        "### Trying Large Models for Time Series of LSTM\n"
      ],
      "metadata": {
        "id": "yHNBv5GB61Eq"
      }
    },
    {
      "cell_type": "code",
      "source": [],
      "metadata": {
        "id": "PmjHLmWRol8K"
      },
      "execution_count": 155,
      "outputs": []
    },
    {
      "cell_type": "code",
      "source": [
        "\n",
        "price_data = btc_data_modified['price'].values\n",
        "volume_data = btc_data_modified['Volume'].values\n",
        "\n",
        "# Reshape data to make it compatible with LSTM input shape (samples, timesteps, features)\n",
        "# Here, we'll use historical prices and volumes as input features\n",
        "seq_length = 30  # Number of historical data points to consider\n",
        "X_price, X_volume, y = [], [], []\n",
        "for i in range(len(price_data) - seq_length):\n",
        "    X_price.append(price_data[i:i+seq_length])    # Sequence of historical prices\n",
        "    X_volume.append(volume_data[i:i+seq_length])  # Sequence of historical volumes\n",
        "    y.append(price_data[i+seq_length])            # Next day's price (target)\n",
        "\n",
        "X_price = np.array(X_price)\n",
        "X_volume = np.array(X_volume)\n",
        "y = np.array(y)\n",
        "\n",
        "# Reshape input data to match LSTM input shape (samples, timesteps, features)\n",
        "X_price = np.reshape(X_price, (-1, X_price.shape[-1]))  # Flatten timesteps dimension\n",
        "X_volume = np.reshape(X_volume, (-1, X_volume.shape[-1]))  # Flatten timesteps dimension\n",
        "\n",
        "# Normalize data using MinMaxScaler\n",
        "scaler_price = MinMaxScaler(feature_range=(0, 1))\n",
        "scaler_volume = MinMaxScaler(feature_range=(0, 1))\n",
        "X_price_scaled = scaler_price.fit_transform(X_price)\n",
        "X_volume_scaled = scaler_volume.fit_transform(X_volume)\n",
        "y_scaled = scaler_price.fit_transform(y.reshape(-1, 1))  # Reshape y to 2D array for scaling\n",
        "\n",
        "# Reshape input data back to original shape\n",
        "X_price_scaled = np.reshape(X_price_scaled, (X_price.shape[0], -1, X_price.shape[-1]))\n",
        "X_volume_scaled = np.reshape(X_volume_scaled, (X_volume.shape[0], -1, X_volume.shape[-1]))\n",
        "\n",
        "# Concatenate price and volume features\n",
        "X = np.concatenate((X_price_scaled, X_volume_scaled), axis=-1)\n",
        "\n",
        "# Split data into training and testing sets\n",
        "split_index = int(0.8 * len(X))\n",
        "X_train, X_test = X[:split_index], X[split_index:]\n",
        "y_train, y_test = y_scaled[:split_index], y_scaled[split_index:]\n",
        "\n",
        "# Build the LSTM model\n",
        "model_5 =  Sequential([\n",
        "    LSTM(units=100, return_sequences=True, input_shape=(X_train.shape[1], X_train.shape[2])),\n",
        "    LSTM(units=50, return_sequences=True),\n",
        "\n",
        "    Dense(units=1)\n",
        "],name=\"model_5\")\n",
        "\n",
        "# Compile the model\n",
        "model_5.compile(optimizer='adam', loss='mean_squared_error')\n",
        "\n",
        "# Train the model\n",
        "history = model_5.fit(X_train, y_train, epochs=100, batch_size=32, verbose=1,validation_data=(X_test, y_test),callbacks=[create_model_checkpoint(model_name= model_5.name)])\n",
        "\n",
        "# Evaluate the model on test data\n",
        "\n",
        "\n",
        "\n",
        "plt.plot(history.history['loss'], label='Training Loss')\n",
        "plt.plot(history.history['val_loss'], label='Validation Loss')\n",
        "plt.xlabel('Epoch')\n",
        "plt.ylabel('Loss')\n",
        "plt.legend()\n",
        "plt.show()\n"
      ],
      "metadata": {
        "colab": {
          "base_uri": "https://localhost:8080/",
          "height": 1000
        },
        "id": "Dk1hXGz7pl6d",
        "outputId": "03bb22d9-a330-4a11-f62e-775cd0884524"
      },
      "execution_count": 180,
      "outputs": [
        {
          "output_type": "stream",
          "name": "stdout",
          "text": [
            "Epoch 1/100\n",
            "87/87 [==============================] - 11s 86ms/step - loss: 0.0099 - val_loss: 0.0023\n",
            "Epoch 2/100\n",
            "87/87 [==============================] - 0s 5ms/step - loss: 0.0012 - val_loss: 0.0024\n",
            "Epoch 3/100\n",
            "87/87 [==============================] - 8s 95ms/step - loss: 9.2601e-04 - val_loss: 0.0014\n",
            "Epoch 4/100\n",
            "87/87 [==============================] - 7s 76ms/step - loss: 7.8101e-04 - val_loss: 9.2145e-04\n",
            "Epoch 5/100\n",
            "87/87 [==============================] - 7s 76ms/step - loss: 4.9164e-04 - val_loss: 5.7802e-04\n",
            "Epoch 6/100\n",
            "87/87 [==============================] - 6s 75ms/step - loss: 4.4009e-04 - val_loss: 5.4009e-04\n",
            "Epoch 7/100\n",
            "87/87 [==============================] - 0s 5ms/step - loss: 3.8111e-04 - val_loss: 9.0321e-04\n",
            "Epoch 8/100\n",
            "87/87 [==============================] - 8s 97ms/step - loss: 4.0078e-04 - val_loss: 4.6384e-04\n",
            "Epoch 9/100\n",
            "87/87 [==============================] - 0s 5ms/step - loss: 5.0766e-04 - val_loss: 5.6658e-04\n",
            "Epoch 10/100\n",
            "87/87 [==============================] - 7s 77ms/step - loss: 3.1752e-04 - val_loss: 3.9076e-04\n",
            "Epoch 11/100\n",
            "87/87 [==============================] - 7s 76ms/step - loss: 2.7708e-04 - val_loss: 3.6581e-04\n",
            "Epoch 12/100\n",
            "87/87 [==============================] - 0s 6ms/step - loss: 2.8110e-04 - val_loss: 6.3042e-04\n",
            "Epoch 13/100\n",
            "87/87 [==============================] - 0s 6ms/step - loss: 3.4145e-04 - val_loss: 3.7897e-04\n",
            "Epoch 14/100\n",
            "87/87 [==============================] - 8s 93ms/step - loss: 2.6200e-04 - val_loss: 3.4177e-04\n",
            "Epoch 15/100\n",
            "87/87 [==============================] - 7s 77ms/step - loss: 2.6461e-04 - val_loss: 3.3717e-04\n",
            "Epoch 16/100\n",
            "87/87 [==============================] - 6s 75ms/step - loss: 2.6453e-04 - val_loss: 3.2911e-04\n",
            "Epoch 17/100\n",
            "87/87 [==============================] - 0s 6ms/step - loss: 2.2438e-04 - val_loss: 3.4845e-04\n",
            "Epoch 18/100\n",
            "87/87 [==============================] - 6s 75ms/step - loss: 2.1393e-04 - val_loss: 3.1044e-04\n",
            "Epoch 19/100\n",
            "87/87 [==============================] - 0s 6ms/step - loss: 2.3727e-04 - val_loss: 4.2710e-04\n",
            "Epoch 20/100\n",
            "87/87 [==============================] - 0s 5ms/step - loss: 2.5188e-04 - val_loss: 6.0668e-04\n",
            "Epoch 21/100\n",
            "87/87 [==============================] - 0s 5ms/step - loss: 2.8163e-04 - val_loss: 3.8853e-04\n",
            "Epoch 22/100\n",
            "87/87 [==============================] - 8s 99ms/step - loss: 2.1742e-04 - val_loss: 3.0358e-04\n",
            "Epoch 23/100\n",
            "87/87 [==============================] - 0s 6ms/step - loss: 2.1448e-04 - val_loss: 4.8619e-04\n",
            "Epoch 24/100\n",
            "87/87 [==============================] - 0s 5ms/step - loss: 2.2378e-04 - val_loss: 5.2337e-04\n",
            "Epoch 25/100\n",
            "87/87 [==============================] - 0s 6ms/step - loss: 2.1395e-04 - val_loss: 3.1971e-04\n",
            "Epoch 26/100\n",
            "87/87 [==============================] - 7s 78ms/step - loss: 1.9698e-04 - val_loss: 2.9087e-04\n",
            "Epoch 27/100\n",
            "87/87 [==============================] - 0s 5ms/step - loss: 1.8005e-04 - val_loss: 2.9624e-04\n",
            "Epoch 28/100\n",
            "87/87 [==============================] - 7s 76ms/step - loss: 1.8311e-04 - val_loss: 2.8147e-04\n",
            "Epoch 29/100\n",
            "87/87 [==============================] - 0s 5ms/step - loss: 2.6848e-04 - val_loss: 4.2172e-04\n",
            "Epoch 30/100\n",
            "87/87 [==============================] - 0s 5ms/step - loss: 1.9122e-04 - val_loss: 4.4393e-04\n",
            "Epoch 31/100\n",
            "87/87 [==============================] - 0s 5ms/step - loss: 2.0367e-04 - val_loss: 4.9615e-04\n",
            "Epoch 32/100\n",
            "87/87 [==============================] - 0s 5ms/step - loss: 2.2514e-04 - val_loss: 9.0762e-04\n",
            "Epoch 33/100\n",
            "87/87 [==============================] - 0s 5ms/step - loss: 2.0052e-04 - val_loss: 4.0541e-04\n",
            "Epoch 34/100\n",
            "87/87 [==============================] - 7s 77ms/step - loss: 1.7421e-04 - val_loss: 2.5110e-04\n",
            "Epoch 35/100\n",
            "87/87 [==============================] - 8s 95ms/step - loss: 1.8126e-04 - val_loss: 2.4782e-04\n",
            "Epoch 36/100\n",
            "87/87 [==============================] - 7s 77ms/step - loss: 2.0697e-04 - val_loss: 2.3743e-04\n",
            "Epoch 37/100\n",
            "87/87 [==============================] - 0s 5ms/step - loss: 1.8544e-04 - val_loss: 2.6317e-04\n",
            "Epoch 38/100\n",
            "87/87 [==============================] - 0s 5ms/step - loss: 2.2255e-04 - val_loss: 3.0112e-04\n",
            "Epoch 39/100\n",
            "87/87 [==============================] - 0s 5ms/step - loss: 2.2130e-04 - val_loss: 0.0011\n",
            "Epoch 40/100\n",
            "87/87 [==============================] - 0s 5ms/step - loss: 2.9409e-04 - val_loss: 4.9935e-04\n",
            "Epoch 41/100\n",
            "87/87 [==============================] - 0s 5ms/step - loss: 1.9374e-04 - val_loss: 2.7218e-04\n",
            "Epoch 42/100\n",
            "87/87 [==============================] - 0s 6ms/step - loss: 2.2337e-04 - val_loss: 2.9261e-04\n",
            "Epoch 43/100\n",
            "87/87 [==============================] - 0s 5ms/step - loss: 1.9470e-04 - val_loss: 3.3910e-04\n",
            "Epoch 44/100\n",
            "87/87 [==============================] - 0s 5ms/step - loss: 2.0810e-04 - val_loss: 2.9108e-04\n",
            "Epoch 45/100\n",
            "87/87 [==============================] - 0s 5ms/step - loss: 1.9581e-04 - val_loss: 3.3886e-04\n",
            "Epoch 46/100\n",
            "87/87 [==============================] - 0s 5ms/step - loss: 1.6681e-04 - val_loss: 2.4760e-04\n",
            "Epoch 47/100\n",
            "87/87 [==============================] - 0s 5ms/step - loss: 1.8229e-04 - val_loss: 3.2923e-04\n",
            "Epoch 48/100\n",
            "87/87 [==============================] - 0s 5ms/step - loss: 1.7627e-04 - val_loss: 3.0219e-04\n",
            "Epoch 49/100\n",
            "87/87 [==============================] - 7s 76ms/step - loss: 1.6754e-04 - val_loss: 2.2789e-04\n",
            "Epoch 50/100\n",
            "87/87 [==============================] - 6s 75ms/step - loss: 1.6637e-04 - val_loss: 2.2694e-04\n",
            "Epoch 51/100\n",
            "87/87 [==============================] - 0s 5ms/step - loss: 1.7851e-04 - val_loss: 3.3000e-04\n",
            "Epoch 52/100\n",
            "87/87 [==============================] - 0s 5ms/step - loss: 1.8172e-04 - val_loss: 2.3343e-04\n",
            "Epoch 53/100\n",
            "87/87 [==============================] - 0s 5ms/step - loss: 1.7849e-04 - val_loss: 4.6591e-04\n",
            "Epoch 54/100\n",
            "87/87 [==============================] - 0s 5ms/step - loss: 2.2823e-04 - val_loss: 2.6252e-04\n",
            "Epoch 55/100\n",
            "87/87 [==============================] - 0s 6ms/step - loss: 1.5056e-04 - val_loss: 2.4985e-04\n",
            "Epoch 56/100\n",
            "87/87 [==============================] - 1s 6ms/step - loss: 2.0362e-04 - val_loss: 2.3837e-04\n",
            "Epoch 57/100\n",
            "87/87 [==============================] - 8s 95ms/step - loss: 1.5327e-04 - val_loss: 2.1963e-04\n",
            "Epoch 58/100\n",
            "87/87 [==============================] - 0s 5ms/step - loss: 1.9056e-04 - val_loss: 2.3430e-04\n",
            "Epoch 59/100\n",
            "87/87 [==============================] - 0s 5ms/step - loss: 2.2539e-04 - val_loss: 3.6834e-04\n",
            "Epoch 60/100\n",
            "87/87 [==============================] - 0s 6ms/step - loss: 1.7204e-04 - val_loss: 2.8058e-04\n",
            "Epoch 61/100\n",
            "87/87 [==============================] - 0s 6ms/step - loss: 1.4204e-04 - val_loss: 2.4894e-04\n",
            "Epoch 62/100\n",
            "87/87 [==============================] - 0s 5ms/step - loss: 1.5581e-04 - val_loss: 2.5118e-04\n",
            "Epoch 63/100\n",
            "87/87 [==============================] - 7s 76ms/step - loss: 1.6098e-04 - val_loss: 2.0507e-04\n",
            "Epoch 64/100\n",
            "87/87 [==============================] - 0s 5ms/step - loss: 1.5774e-04 - val_loss: 4.3330e-04\n",
            "Epoch 65/100\n",
            "87/87 [==============================] - 0s 5ms/step - loss: 1.6467e-04 - val_loss: 4.5936e-04\n",
            "Epoch 66/100\n",
            "87/87 [==============================] - 0s 5ms/step - loss: 1.5794e-04 - val_loss: 2.3016e-04\n",
            "Epoch 67/100\n",
            "87/87 [==============================] - 0s 5ms/step - loss: 1.4797e-04 - val_loss: 2.5428e-04\n",
            "Epoch 68/100\n",
            "87/87 [==============================] - 0s 5ms/step - loss: 1.5597e-04 - val_loss: 2.4986e-04\n",
            "Epoch 69/100\n",
            "87/87 [==============================] - 0s 5ms/step - loss: 1.7414e-04 - val_loss: 2.9126e-04\n",
            "Epoch 70/100\n",
            "87/87 [==============================] - 0s 5ms/step - loss: 2.0297e-04 - val_loss: 3.0880e-04\n",
            "Epoch 71/100\n",
            "87/87 [==============================] - 0s 5ms/step - loss: 1.6587e-04 - val_loss: 3.0580e-04\n",
            "Epoch 72/100\n",
            "87/87 [==============================] - 0s 5ms/step - loss: 1.5939e-04 - val_loss: 3.0110e-04\n",
            "Epoch 73/100\n",
            "87/87 [==============================] - 0s 5ms/step - loss: 1.6084e-04 - val_loss: 3.8429e-04\n",
            "Epoch 74/100\n",
            "87/87 [==============================] - 0s 5ms/step - loss: 1.4909e-04 - val_loss: 2.2192e-04\n",
            "Epoch 75/100\n",
            "87/87 [==============================] - 0s 5ms/step - loss: 1.8847e-04 - val_loss: 2.1158e-04\n",
            "Epoch 76/100\n",
            "87/87 [==============================] - 0s 5ms/step - loss: 1.5823e-04 - val_loss: 2.0651e-04\n",
            "Epoch 77/100\n",
            "87/87 [==============================] - 0s 5ms/step - loss: 1.5475e-04 - val_loss: 2.3282e-04\n",
            "Epoch 78/100\n",
            "87/87 [==============================] - 0s 5ms/step - loss: 1.4832e-04 - val_loss: 3.4258e-04\n",
            "Epoch 79/100\n",
            "87/87 [==============================] - 0s 5ms/step - loss: 1.5033e-04 - val_loss: 2.2525e-04\n",
            "Epoch 80/100\n",
            "87/87 [==============================] - 0s 6ms/step - loss: 1.7359e-04 - val_loss: 2.2430e-04\n",
            "Epoch 81/100\n",
            "87/87 [==============================] - 0s 5ms/step - loss: 1.6165e-04 - val_loss: 2.0649e-04\n",
            "Epoch 82/100\n",
            "87/87 [==============================] - 0s 5ms/step - loss: 1.7323e-04 - val_loss: 2.6786e-04\n",
            "Epoch 83/100\n",
            "87/87 [==============================] - 0s 6ms/step - loss: 1.9073e-04 - val_loss: 2.3106e-04\n",
            "Epoch 84/100\n",
            "87/87 [==============================] - 0s 6ms/step - loss: 1.7039e-04 - val_loss: 2.3306e-04\n",
            "Epoch 85/100\n",
            "87/87 [==============================] - 1s 6ms/step - loss: 1.5973e-04 - val_loss: 4.8664e-04\n",
            "Epoch 86/100\n",
            "87/87 [==============================] - 0s 5ms/step - loss: 1.6698e-04 - val_loss: 3.3420e-04\n",
            "Epoch 87/100\n",
            "87/87 [==============================] - 0s 5ms/step - loss: 1.6899e-04 - val_loss: 0.0012\n",
            "Epoch 88/100\n",
            "87/87 [==============================] - 0s 5ms/step - loss: 1.7568e-04 - val_loss: 2.2500e-04\n",
            "Epoch 89/100\n",
            "87/87 [==============================] - 0s 5ms/step - loss: 1.5444e-04 - val_loss: 2.8763e-04\n",
            "Epoch 90/100\n",
            "87/87 [==============================] - 6s 75ms/step - loss: 1.5410e-04 - val_loss: 1.9756e-04\n",
            "Epoch 91/100\n",
            "87/87 [==============================] - 0s 5ms/step - loss: 1.5126e-04 - val_loss: 2.1942e-04\n",
            "Epoch 92/100\n",
            "87/87 [==============================] - 0s 5ms/step - loss: 1.6442e-04 - val_loss: 6.6492e-04\n",
            "Epoch 93/100\n",
            "87/87 [==============================] - 0s 5ms/step - loss: 1.6254e-04 - val_loss: 2.5647e-04\n",
            "Epoch 94/100\n",
            "87/87 [==============================] - 0s 6ms/step - loss: 1.9935e-04 - val_loss: 4.6776e-04\n",
            "Epoch 95/100\n",
            "87/87 [==============================] - 0s 6ms/step - loss: 1.5072e-04 - val_loss: 2.9166e-04\n",
            "Epoch 96/100\n",
            "87/87 [==============================] - 0s 5ms/step - loss: 1.6072e-04 - val_loss: 4.7643e-04\n",
            "Epoch 97/100\n",
            "87/87 [==============================] - 0s 6ms/step - loss: 1.5870e-04 - val_loss: 2.0859e-04\n",
            "Epoch 98/100\n",
            "87/87 [==============================] - 0s 5ms/step - loss: 1.7193e-04 - val_loss: 2.2840e-04\n",
            "Epoch 99/100\n",
            "87/87 [==============================] - 0s 5ms/step - loss: 1.4550e-04 - val_loss: 2.5460e-04\n",
            "Epoch 100/100\n",
            "87/87 [==============================] - 0s 5ms/step - loss: 1.5621e-04 - val_loss: 4.4961e-04\n"
          ]
        },
        {
          "output_type": "display_data",
          "data": {
            "text/plain": [
              "<Figure size 640x480 with 1 Axes>"
            ],
            "image/png": "[encoded data removed]"
          },
          "metadata": {}
        }
      ]
    },
    {
      "cell_type": "code",
      "source": [
        "predictions = make_preds(model_5, X_test)\n",
        "predictions = scaler_price.inverse_transform(tf.expand_dims(predictions,axis=1))\n",
        "# Inverse transform predictions to original scale\n",
        "# predictions = scaler_price.inverse_transform(predictions)\n",
        "\n",
        "# Plot actual vs. predicted prices\n",
        "import matplotlib.pyplot as plt\n",
        "plt.plot(btc_data_modified.index[-len(y_test):], scaler_price.inverse_transform(y_test), label='Actual Price')\n",
        "plt.plot(btc_data_modified.index[-len(y_test):], predictions, label='Predicted Price')\n",
        "plt.xlabel('Date')\n",
        "plt.ylabel('Price')\n",
        "plt.title('Actual vs. Predicted Prices For Test Data ')\n",
        "plt.legend()\n",
        "plt.show()"
      ],
      "metadata": {
        "colab": {
          "base_uri": "https://localhost:8080/",
          "height": 489
        },
        "id": "YHM3iBT6qKls",
        "outputId": "24fb3551-aa1b-48c7-c593-87930fc223eb"
      },
      "execution_count": 187,
      "outputs": [
        {
          "output_type": "stream",
          "name": "stdout",
          "text": [
            "22/22 [==============================] - 1s 2ms/step\n"
          ]
        },
        {
          "output_type": "display_data",
          "data": {
            "text/plain": [
              "<Figure size 640x480 with 1 Axes>"
            ],
            "image/png": "[encoded data removed]"
          },
          "metadata": {}
        }
      ]
    },
    {
      "cell_type": "code",
      "source": [
        "len(X_test),len(y_test),y_test.shape"
      ],
      "metadata": {
        "colab": {
          "base_uri": "https://localhost:8080/"
        },
        "id": "15ZnfN6R309D",
        "outputId": "255de205-3b3a-4c5a-9d5c-8f18685c3b2f"
      },
      "execution_count": 188,
      "outputs": [
        {
          "output_type": "execute_result",
          "data": {
            "text/plain": [
              "(692, 692, (692, 1))"
            ]
          },
          "metadata": {},
          "execution_count": 188
        }
      ]
    },
    {
      "cell_type": "code",
      "source": [
        "len(predictions),predictions.shape"
      ],
      "metadata": {
        "colab": {
          "base_uri": "https://localhost:8080/"
        },
        "id": "i8NRaXdW4rDQ",
        "outputId": "d215ef60-6872-4395-85f0-10684b70b69a"
      },
      "execution_count": 189,
      "outputs": [
        {
          "output_type": "execute_result",
          "data": {
            "text/plain": [
              "(692, (692, 1))"
            ]
          },
          "metadata": {},
          "execution_count": 189
        }
      ]
    },
    {
      "cell_type": "code",
      "source": [
        "\n",
        "models_results_list = {\n",
        "\n",
        "                       model_1.name:model_1_results,\n",
        "                       model_2.name:model_2_results,\n",
        "                       model_3.name:model_3_results,\n",
        "                       model_4.name:model_4_results,\n",
        "                       model_5.name:model_5_results\n",
        "}\n",
        "\n",
        "\n",
        "def compare_models_results(models_results_list,error_name):\n",
        "   model_values = {}\n",
        "   for i in models_results_list.keys():\n",
        "\n",
        "      value_name = models_results_list[i][error_name]\n",
        "\n",
        "\n",
        "      model_values[i] = value_name\n",
        "\n",
        "   print(model_values)\n",
        "\n",
        "   return pd.DataFrame(model_values,index=[\"mae\"]).plot(figsize=(10, 7), kind=\"bar\");\n",
        "\n",
        "compare_models_results(models_results_list,\"mae\")"
      ],
      "metadata": {
        "colab": {
          "base_uri": "https://localhost:8080/",
          "height": 671
        },
        "id": "GWHeTwMYBgaV",
        "outputId": "2b3cfc4a-b268-4a2e-ba5f-16c2bc1215fc"
      },
      "execution_count": 199,
      "outputs": [
        {
          "output_type": "stream",
          "name": "stdout",
          "text": [
            "{'model_1_dense_multivariate': 349716.53, 'model_2_lstm': 36921.086, 'model_3': 29995.314, 'model_4': 29876.586, 'model_5': 28783.26}\n"
          ]
        },
        {
          "output_type": "execute_result",
          "data": {
            "text/plain": [
              "<Axes: >"
            ]
          },
          "metadata": {},
          "execution_count": 199
        },
        {
          "output_type": "display_data",
          "data": {
            "text/plain": [
              "<Figure size 1000x700 with 1 Axes>"
            ],
            "image/png": "[encoded data removed]"
          },
          "metadata": {}
        }
      ]
    },
    {
      "cell_type": "code",
      "source": [],
      "metadata": {
        "id": "1l28NQNyCGzI"
      },
      "execution_count": 199,
      "outputs": []
    },
    {
      "cell_type": "code",
      "source": [
        "len(y_test),len(predictions)\n",
        "\n",
        "model_5_results = evaluate_preds(y_true=tf.squeeze(y_test),\n",
        "                                 y_pred=tf.squeeze(predictions))\n",
        "\n",
        "\n",
        "models_results_list[model_5.name] = model_5_results\n"
      ],
      "metadata": {
        "id": "bBaFzImD5OFd"
      },
      "execution_count": 211,
      "outputs": []
    },
    {
      "cell_type": "code",
      "source": [
        "def custom_results_compare(models_name,error_name):\n",
        "  models_dict = {}\n",
        "  for i  in models_name:\n",
        "    models_dict[i] = models_results_list[i]\n",
        "  print(models_dict)\n",
        "  return compare_models_results(models_dict,error_name)\n",
        "\n",
        "custom_results_compare([model_3.name,model_4.name,model_5.name],error_name=\"mae\")"
      ],
      "metadata": {
        "colab": {
          "base_uri": "https://localhost:8080/",
          "height": 688
        },
        "id": "vLwQofQ79NI4",
        "outputId": "cd0d9dc9-35fd-4588-f543-391c47dc9935"
      },
      "execution_count": 212,
      "outputs": [
        {
          "output_type": "stream",
          "name": "stdout",
          "text": [
            "{'model_3': {'mae': 29995.314, 'mse': 1043140800.0, 'rmse': 32297.69, 'mape': 7419214.0}, 'model_4': {'mae': 29876.586, 'mse': 1039248800.0, 'rmse': 32237.38, 'mape': 7370748.5}, 'model_5': {'mae': 28783.26, 'mse': 967605300.0, 'rmse': 31106.355, 'mape': 7093364.0}}\n",
            "{'model_3': 29995.314, 'model_4': 29876.586, 'model_5': 28783.26}\n"
          ]
        },
        {
          "output_type": "execute_result",
          "data": {
            "text/plain": [
              "<Axes: >"
            ]
          },
          "metadata": {},
          "execution_count": 212
        },
        {
          "output_type": "display_data",
          "data": {
            "text/plain": [
              "<Figure size 1000x700 with 1 Axes>"
            ],
            "image/png": "[encoded data removed]"
          },
          "metadata": {}
        }
      ]
    },
    {
      "cell_type": "code",
      "source": [],
      "metadata": {
        "id": "MBjjaHavD-fX"
      },
      "execution_count": null,
      "outputs": []
    }
  ]
}